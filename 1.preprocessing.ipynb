{
 "cells": [
  {
   "cell_type": "code",
   "execution_count": 52,
   "metadata": {},
   "outputs": [],
   "source": [
    "import pandas as pd\n",
    "import numpy as np\n",
    "from matplotlib import pyplot as plt\n",
    "import seaborn as sns"
   ]
  },
  {
   "cell_type": "markdown",
   "metadata": {},
   "source": [
    "#### Data loading"
   ]
  },
  {
   "cell_type": "code",
   "execution_count": null,
   "metadata": {},
   "outputs": [
    {
     "name": "stderr",
     "output_type": "stream",
     "text": [
      "/var/folders/rn/9h9wnd_x13930h39r4t9tt_w0000gr/T/ipykernel_79971/32431068.py:1: DtypeWarning: Columns (51,52,53,54,55,56,57,58,59,60,61,62,63,64,65,66,67,145,150,151,156,157,158,159,160,161,162,163,164,165,166,167,174,175,176,181,184,209,210,211,212,213,214,215,238,241,261,262,263,264,265,266,287,289,290,299,300) have mixed types. Specify dtype option on import or set low_memory=False.\n",
      "  df = pd.read_csv(\"/Users/mahdie/Documents/1.PhysioAi/6. Functional test/2.My_script/data/main_df_after_merging.csv\")\n"
     ]
    },
    {
     "data": {
      "text/plain": [
       "(37143, 315)"
      ]
     },
     "execution_count": 53,
     "metadata": {},
     "output_type": "execute_result"
    }
   ],
   "source": [
    "df = pd.read_csv(\"main_df_after_merging.csv\")\n",
    "df.shape"
   ]
  },
  {
   "cell_type": "markdown",
   "metadata": {},
   "source": [
    "All variables\n",
    "| variable name  | meaning |\n",
    "|---|---|\n",
    "|ws010_ |\tfirst walking speed result|\n",
    "|ws011_ |\tfirst walking speed time|\n",
    "|ws012_ |\tsecond walking speed result|\n",
    "|ws013_ |\tsecond walking speed time|\n",
    "|cs004_ |\tchair rise result|\n",
    "|cs008_ |\ttime 5 chair rise|\n",
    "|gs006_|\tmaxgrip left one|\n",
    "|gs007_|\tmaxgrip left two|\n",
    "|gs008_|\tmaxgrip right one|\n",
    "|gs009_|\tmaxgrip right two|\n",
    "|dn002_|    MOB|\n",
    "|dn003_|    YOB|\n",
    "|dn042_|    female|\n",
    "|ph006d8| OA|\n",
    "|ph010d1| pain joint|\n",
    "|ph012_ | weight|\n",
    "|ph013_ | height|\n",
    "|ph044_ | eyesight_close |\n",
    "|ph046_ | hearing |"
   ]
  },
  {
   "cell_type": "markdown",
   "metadata": {},
   "source": [
    "##### Create variable \"age\""
   ]
  },
  {
   "cell_type": "code",
   "execution_count": 54,
   "metadata": {},
   "outputs": [],
   "source": [
    "# Wave 2 is 2007\n",
    "reference_year = 2007\n",
    "df['age'] = reference_year - df['YOB']"
   ]
  },
  {
   "cell_type": "markdown",
   "metadata": {},
   "source": [
    "##### Plausible Height and Weight"
   ]
  },
  {
   "cell_type": "markdown",
   "metadata": {},
   "source": [
    "Consider weight > 10 and height > 100"
   ]
  },
  {
   "cell_type": "code",
   "execution_count": 55,
   "metadata": {},
   "outputs": [
    {
     "name": "stdout",
     "output_type": "stream",
     "text": [
      "Initial dataset size: 37143\n",
      "After filtering plausible weight: 36504\n",
      "After filtering and correcting height: 15864\n"
     ]
    }
   ],
   "source": [
    "def clean_height_weight(df):\n",
    "    print(\"Initial dataset size:\", len(df))\n",
    "    \n",
    "    df = df.loc[df['weight'] > 10.0]\n",
    "    print(\"After filtering plausible weight:\", len(df))\n",
    "    \n",
    "\n",
    "    df = df.loc[df['height'] > 100.0]\n",
    "    \n",
    "    df.loc[(df['height'] > 1.0) & (df['height'] < 2.0), 'height'] *= 100\n",
    "    print(\"After filtering and correcting height:\", len(df))\n",
    "    \n",
    "    return df\n",
    "df_raw = df.copy()\n",
    "df = clean_height_weight(df)"
   ]
  },
  {
   "cell_type": "code",
   "execution_count": 56,
   "metadata": {},
   "outputs": [
    {
     "name": "stdout",
     "output_type": "stream",
     "text": [
      "Excluded due to implausible/missing weight or height: (21279, 316)\n"
     ]
    }
   ],
   "source": [
    "excluded_hw = df_raw[~df_raw['mergeid'].isin(df['mergeid'])]\n",
    "print(\"Excluded due to implausible/missing weight or height:\", excluded_hw.shape)"
   ]
  },
  {
   "cell_type": "markdown",
   "metadata": {},
   "source": [
    "##### Create variable \"bmi\""
   ]
  },
  {
   "cell_type": "code",
   "execution_count": 57,
   "metadata": {},
   "outputs": [],
   "source": [
    "df['bmi'] = df['weight'] / ((df['height'] / 100) ** 2)"
   ]
  },
  {
   "cell_type": "markdown",
   "metadata": {},
   "source": [
    "##### Compute the maximum grip strength across all measurements"
   ]
  },
  {
   "cell_type": "code",
   "execution_count": 58,
   "metadata": {},
   "outputs": [],
   "source": [
    "df['maxgrip'] = df[['maxgrip_left_one', 'maxgrip_left_two', 'maxgrip_right_one', 'maxgrip_right_two']].max(axis=1)"
   ]
  },
  {
   "cell_type": "markdown",
   "metadata": {},
   "source": [
    "##### Compute the average walking speed across two attempts"
   ]
  },
  {
   "cell_type": "code",
   "execution_count": 59,
   "metadata": {},
   "outputs": [],
   "source": [
    "df['walking'] = df[['first_walking_speed_time', 'second_walking_speed_time']].mean(axis=1)"
   ]
  },
  {
   "cell_type": "markdown",
   "metadata": {},
   "source": [
    "##### Other variables"
   ]
  },
  {
   "cell_type": "code",
   "execution_count": 60,
   "metadata": {},
   "outputs": [],
   "source": [
    "df['chair'] = df['time_5_chair_rise']\n",
    "df['OA_conserv'] = np.logical_and(df['OA'], df['pain_joint'].astype(bool)).astype(np.int8)\n",
    "df['activity'] = 2 * (4 - df['br015_']) + (4 - df['br016_'])\n",
    "df['female'] = df['female'].astype(int)"
   ]
  },
  {
   "cell_type": "code",
   "execution_count": 61,
   "metadata": {},
   "outputs": [
    {
     "data": {
      "text/plain": [
       "(15864,)"
      ]
     },
     "execution_count": 61,
     "metadata": {},
     "output_type": "execute_result"
    }
   ],
   "source": [
    "df['chair'].sort_values(ascending=False).shape"
   ]
  },
  {
   "cell_type": "markdown",
   "metadata": {},
   "source": [
    "##### Create df_anno"
   ]
  },
  {
   "cell_type": "code",
   "execution_count": 62,
   "metadata": {},
   "outputs": [],
   "source": [
    "df_anno = df.drop_duplicates(subset='mergeid', keep='first')\n",
    "df_anno.set_index('mergeid', inplace=True, drop=True)\n",
    "\n",
    "df_anno_raw = df_anno.copy()"
   ]
  },
  {
   "cell_type": "code",
   "execution_count": 63,
   "metadata": {},
   "outputs": [
    {
     "name": "stdout",
     "output_type": "stream",
     "text": [
      "df: (15864, 322) df_anno: (15864, 321)\n"
     ]
    }
   ],
   "source": [
    "print(\"df:\", df.shape, \"df_anno:\", df_anno.shape)"
   ]
  },
  {
   "cell_type": "markdown",
   "metadata": {},
   "source": [
    "##### Categorizing & Identifying Control Groups; OA, diabetes, hypertension"
   ]
  },
  {
   "cell_type": "code",
   "execution_count": 64,
   "metadata": {},
   "outputs": [],
   "source": [
    "df_anno['Hypertension'] = pd.to_numeric(df_anno['ph006d2'])\n",
    "df_anno['Diabetes'] = pd.to_numeric(df_anno['ph006d5'])"
   ]
  },
  {
   "cell_type": "code",
   "execution_count": 65,
   "metadata": {},
   "outputs": [],
   "source": [
    "df_anno[\"control\"] = 0\n",
    "df_anno.loc[(df_anno[\"OA_conserv\"] == 0) & (df_anno[\"Hypertension\"] == 0) & (df_anno[\"Diabetes\"] == 0), \"control\"] = 1"
   ]
  },
  {
   "cell_type": "code",
   "execution_count": 66,
   "metadata": {},
   "outputs": [
    {
     "data": {
      "text/plain": [
       "Hypertension\n",
       "0.0    10340\n",
       "1.0     5496\n",
       "Name: count, dtype: int64"
      ]
     },
     "metadata": {},
     "output_type": "display_data"
    },
    {
     "data": {
      "text/plain": [
       "Diabetes\n",
       "0.0    14169\n",
       "1.0     1667\n",
       "Name: count, dtype: int64"
      ]
     },
     "metadata": {},
     "output_type": "display_data"
    },
    {
     "data": {
      "text/plain": [
       "OA_conserv\n",
       "0    12988\n",
       "1     2876\n",
       "Name: count, dtype: int64"
      ]
     },
     "metadata": {},
     "output_type": "display_data"
    }
   ],
   "source": [
    "display(df_anno['Hypertension'].value_counts())\n",
    "display(df_anno['Diabetes'].value_counts())\n",
    "display(df_anno['OA_conserv'].value_counts())"
   ]
  },
  {
   "cell_type": "code",
   "execution_count": 67,
   "metadata": {},
   "outputs": [
    {
     "data": {
      "text/plain": [
       "Hypertension  OA_conserv  Diabetes\n",
       "0.0           0           0.0         8294\n",
       "                          1.0          535\n",
       "              1           0.0         1367\n",
       "                          1.0          144\n",
       "1.0           0           0.0         3450\n",
       "                          1.0          702\n",
       "              1           0.0         1058\n",
       "                          1.0          286\n",
       "Name: count, dtype: int64"
      ]
     },
     "metadata": {},
     "output_type": "display_data"
    }
   ],
   "source": [
    "display(df_anno[['Hypertension', 'OA_conserv', 'Diabetes']].value_counts(sort=False))"
   ]
  },
  {
   "cell_type": "markdown",
   "metadata": {},
   "source": [
    "## data exploration"
   ]
  },
  {
   "cell_type": "markdown",
   "metadata": {},
   "source": [
    "##### Select features"
   ]
  },
  {
   "cell_type": "code",
   "execution_count": 68,
   "metadata": {},
   "outputs": [
    {
     "data": {
      "text/plain": [
       "(15864, 324)"
      ]
     },
     "execution_count": 68,
     "metadata": {},
     "output_type": "execute_result"
    }
   ],
   "source": [
    "df_anno.shape"
   ]
  },
  {
   "cell_type": "code",
   "execution_count": 69,
   "metadata": {},
   "outputs": [
    {
     "name": "stdout",
     "output_type": "stream",
     "text": [
      "(15864, 324)\n"
     ]
    }
   ],
   "source": [
    "df_anno = df_anno.drop_duplicates()\n",
    "print(df_anno.shape)\n",
    "_df_anno = df_anno.copy()"
   ]
  },
  {
   "cell_type": "markdown",
   "metadata": {},
   "source": [
    "##### Create df_feature"
   ]
  },
  {
   "cell_type": "code",
   "execution_count": 70,
   "metadata": {},
   "outputs": [],
   "source": [
    "# features = ['bmi', 'weight', 'age', 'OA_conserv', 'female', 'hearing', 'eyesight_close', 'Hypertension', 'Diabetes']\n",
    "features = ['age', 'bmi', 'female', 'educational_level', 'OA_conserv', 'Hypertension', 'Diabetes']\n",
    "df_features = df_anno.loc[:, features].copy()\n",
    "df_features = df_features.dropna(axis=0)"
   ]
  },
  {
   "cell_type": "code",
   "execution_count": 71,
   "metadata": {},
   "outputs": [
    {
     "name": "stdout",
     "output_type": "stream",
     "text": [
      "Excluded due to missing features: (43, 324)\n"
     ]
    }
   ],
   "source": [
    "excluded_features = df_anno[~df_anno.index.isin(df_features.index)]\n",
    "print(\"Excluded due to missing features:\", excluded_features.shape)\n"
   ]
  },
  {
   "cell_type": "code",
   "execution_count": 72,
   "metadata": {},
   "outputs": [
    {
     "data": {
      "text/plain": [
       "(15821, 7)"
      ]
     },
     "execution_count": 72,
     "metadata": {},
     "output_type": "execute_result"
    }
   ],
   "source": [
    "df_features.shape"
   ]
  },
  {
   "cell_type": "code",
   "execution_count": 73,
   "metadata": {},
   "outputs": [
    {
     "data": {
      "text/plain": [
       "age                  0\n",
       "bmi                  0\n",
       "female               0\n",
       "educational_level    0\n",
       "OA_conserv           0\n",
       "Hypertension         0\n",
       "Diabetes             0\n",
       "dtype: int64"
      ]
     },
     "execution_count": 73,
     "metadata": {},
     "output_type": "execute_result"
    }
   ],
   "source": [
    "df_features.isna().sum()"
   ]
  },
  {
   "cell_type": "code",
   "execution_count": 74,
   "metadata": {},
   "outputs": [
    {
     "name": "stdout",
     "output_type": "stream",
     "text": [
      "Total excluded cases: (21322, 316)\n"
     ]
    }
   ],
   "source": [
    "excluded_all = df_raw[~df_raw['mergeid'].isin(df_features.index)]\n",
    "print(\"Total excluded cases:\", excluded_all.shape)"
   ]
  },
  {
   "cell_type": "code",
   "execution_count": 75,
   "metadata": {},
   "outputs": [],
   "source": [
    "excluded_all.to_csv(\"excluded_cases.csv\")\n",
    "df_features.to_csv(\"included_cases.csv\")"
   ]
  },
  {
   "cell_type": "markdown",
   "metadata": {},
   "source": [
    "##### Create data with outcomes and features"
   ]
  },
  {
   "cell_type": "code",
   "execution_count": 76,
   "metadata": {},
   "outputs": [],
   "source": [
    "data = pd.concat([df_features, df_anno.loc[:, ['maxgrip', 'chair', 'walking',]]], axis=1)"
   ]
  },
  {
   "cell_type": "code",
   "execution_count": 77,
   "metadata": {},
   "outputs": [
    {
     "data": {
      "text/plain": [
       "(15864, 10)"
      ]
     },
     "execution_count": 77,
     "metadata": {},
     "output_type": "execute_result"
    }
   ],
   "source": [
    "data.shape"
   ]
  },
  {
   "cell_type": "code",
   "execution_count": 78,
   "metadata": {},
   "outputs": [],
   "source": [
    "data = data.dropna(subset=features)"
   ]
  },
  {
   "cell_type": "code",
   "execution_count": 79,
   "metadata": {},
   "outputs": [
    {
     "data": {
      "text/plain": [
       "(15821, 10)"
      ]
     },
     "execution_count": 79,
     "metadata": {},
     "output_type": "execute_result"
    }
   ],
   "source": [
    "data.shape"
   ]
  },
  {
   "cell_type": "code",
   "execution_count": 80,
   "metadata": {},
   "outputs": [
    {
     "data": {
      "text/plain": [
       "age                      0\n",
       "bmi                      0\n",
       "female                   0\n",
       "educational_level        0\n",
       "OA_conserv               0\n",
       "Hypertension             0\n",
       "Diabetes                 0\n",
       "maxgrip               1407\n",
       "chair                 5308\n",
       "walking              14396\n",
       "dtype: int64"
      ]
     },
     "execution_count": 80,
     "metadata": {},
     "output_type": "execute_result"
    }
   ],
   "source": [
    "data.isna().sum()"
   ]
  },
  {
   "cell_type": "code",
   "execution_count": 81,
   "metadata": {},
   "outputs": [
    {
     "name": "stdout",
     "output_type": "stream",
     "text": [
      "df: (15864, 322)\n",
      "df_anno: (15864, 324)\n",
      "df_features: (15821, 7)\n",
      "data: (15821, 10)\n"
     ]
    }
   ],
   "source": [
    "print(\"df:\", df.shape)\n",
    "print(\"df_anno:\", df_anno.shape)\n",
    "print(\"df_features:\", df_features.shape)\n",
    "print(\"data:\", data.shape)"
   ]
  },
  {
   "cell_type": "code",
   "execution_count": 82,
   "metadata": {},
   "outputs": [
    {
     "name": "stdout",
     "output_type": "stream",
     "text": [
      "(15821, 10)\n"
     ]
    }
   ],
   "source": [
    "features = ['age', 'bmi', 'female', 'educational_level', 'OA_conserv', 'Hypertension', 'Diabetes']\n",
    "outcomes = ['maxgrip', 'chair', 'walking']\n",
    "print(data.shape)"
   ]
  },
  {
   "cell_type": "code",
   "execution_count": 83,
   "metadata": {},
   "outputs": [
    {
     "name": "stdout",
     "output_type": "stream",
     "text": [
      "female\n",
      "1.0    8716\n",
      "0.0    7105\n",
      "Name: count, dtype: int64\n",
      "------------------------------------------------------------\n",
      "OA_conserv\n",
      "0.0    12970\n",
      "1.0     2851\n",
      "Name: count, dtype: int64\n",
      "------------------------------------------------------------\n",
      "Hypertension\n",
      "0.0    10335\n",
      "1.0     5486\n",
      "Name: count, dtype: int64\n",
      "------------------------------------------------------------\n",
      "Diabetes\n",
      "0.0    14158\n",
      "1.0     1663\n",
      "Name: count, dtype: int64\n"
     ]
    }
   ],
   "source": [
    "print(data['female'].value_counts())\n",
    "print(\"------------------------------------------------------------\")\n",
    "print(data['OA_conserv'].value_counts())\n",
    "print(\"------------------------------------------------------------\")\n",
    "print(data['Hypertension'].value_counts())\n",
    "print(\"------------------------------------------------------------\")\n",
    "print(data['Diabetes'].value_counts())"
   ]
  },
  {
   "cell_type": "code",
   "execution_count": 84,
   "metadata": {},
   "outputs": [
    {
     "data": {
      "text/plain": [
       "chair\n",
       "10.000000    272\n",
       "9.000000     212\n",
       "8.000000     208\n",
       "12.000000    207\n",
       "11.000000    176\n",
       "            ... \n",
       "9.140000       1\n",
       "16.040001      1\n",
       "15.320000      1\n",
       "24.580000      1\n",
       "2.650000       1\n",
       "Name: count, Length: 2552, dtype: int64"
      ]
     },
     "execution_count": 84,
     "metadata": {},
     "output_type": "execute_result"
    }
   ],
   "source": [
    "data.chair.value_counts()"
   ]
  },
  {
   "cell_type": "code",
   "execution_count": 85,
   "metadata": {},
   "outputs": [
    {
     "name": "stdout",
     "output_type": "stream",
     "text": [
      "chair\n",
      "0.000000     55.000000\n",
      "0.050000     46.500000\n",
      "0.060000     61.666667\n",
      "0.060000     57.000000\n",
      "0.070000     61.000000\n",
      "               ...    \n",
      "89.000000    56.000000\n",
      "90.000000    73.000000\n",
      "91.000000    65.000000\n",
      "91.150002    72.000000\n",
      "98.000000    65.000000\n",
      "Name: age, Length: 2552, dtype: float64\n"
     ]
    }
   ],
   "source": [
    "mean_age_per_chair = data.groupby('chair')['age'].mean()\n",
    "print(mean_age_per_chair)\n"
   ]
  },
  {
   "cell_type": "markdown",
   "metadata": {},
   "source": [
    "#### Summery table"
   ]
  },
  {
   "cell_type": "code",
   "execution_count": 86,
   "metadata": {},
   "outputs": [
    {
     "name": "stdout",
     "output_type": "stream",
     "text": [
      "Dataset for maxgrip: (14414, 8)\n",
      "Dataset for chair: (10513, 8)\n",
      "Dataset for walking: (1425, 8)\n"
     ]
    }
   ],
   "source": [
    "features = ['age', 'bmi', 'female', 'educational_level', 'OA_conserv', 'Hypertension', 'Diabetes']\n",
    "outcomes = ['maxgrip', 'chair', 'walking']\n",
    "\n",
    "# Create separate datasets for each outcome\n",
    "datasets = {outcome: data[features + [outcome]].dropna() for outcome in outcomes}\n",
    "\n",
    "for outcome, df_outcome in datasets.items():\n",
    "    print(f\"Dataset for {outcome}: {df_outcome.shape}\")\n"
   ]
  },
  {
   "cell_type": "code",
   "execution_count": 87,
   "metadata": {},
   "outputs": [
    {
     "name": "stdout",
     "output_type": "stream",
     "text": [
      "Valid samples per dataset:\n",
      "data Maxgrip: (14414, 8)\n",
      "data Chair Stand: (10513, 8)\n",
      "data Walking Speed: (1425, 8)\n"
     ]
    }
   ],
   "source": [
    "df_maxgrip = datasets['maxgrip']\n",
    "df_chair = datasets['chair']\n",
    "df_walking = datasets['walking']\n",
    "\n",
    "print(\"Valid samples per dataset:\")\n",
    "print(\"data Maxgrip:\", df_maxgrip.shape)\n",
    "print(\"data Chair Stand:\", df_chair.shape)\n",
    "print(\"data Walking Speed:\", df_walking.shape)"
   ]
  },
  {
   "cell_type": "code",
   "execution_count": 88,
   "metadata": {},
   "outputs": [
    {
     "data": {
      "text/plain": [
       "count    14414.000000\n",
       "mean        62.993270\n",
       "std         10.068992\n",
       "min         15.000000\n",
       "25%         55.000000\n",
       "50%         61.000000\n",
       "75%         70.000000\n",
       "max         99.000000\n",
       "Name: age, dtype: float64"
      ]
     },
     "execution_count": 88,
     "metadata": {},
     "output_type": "execute_result"
    }
   ],
   "source": [
    "df_maxgrip.age.describe()"
   ]
  },
  {
   "cell_type": "code",
   "execution_count": 89,
   "metadata": {},
   "outputs": [
    {
     "data": {
      "text/plain": [
       "count    10513.000000\n",
       "mean        59.708266\n",
       "std          7.457453\n",
       "min         15.000000\n",
       "25%         54.000000\n",
       "50%         59.000000\n",
       "75%         65.000000\n",
       "max         96.000000\n",
       "Name: age, dtype: float64"
      ]
     },
     "execution_count": 89,
     "metadata": {},
     "output_type": "execute_result"
    }
   ],
   "source": [
    "df_chair.age.describe()"
   ]
  },
  {
   "cell_type": "code",
   "execution_count": 90,
   "metadata": {},
   "outputs": [
    {
     "data": {
      "text/plain": [
       "count    1425.000000\n",
       "mean       80.066667\n",
       "std         3.985813\n",
       "min        60.000000\n",
       "25%        77.000000\n",
       "50%        79.000000\n",
       "75%        82.000000\n",
       "max        98.000000\n",
       "Name: age, dtype: float64"
      ]
     },
     "execution_count": 90,
     "metadata": {},
     "output_type": "execute_result"
    }
   ],
   "source": [
    "df_walking.age.describe()"
   ]
  },
  {
   "cell_type": "markdown",
   "metadata": {},
   "source": [
    "##### disease_group"
   ]
  },
  {
   "cell_type": "markdown",
   "metadata": {},
   "source": [
    "- **0**: No disease  \n",
    "- **1**:  \n",
    "  - Diabetes only  \n",
    "  - Hypertension only  \n",
    "  - OA only  \n",
    "- **2**:  \n",
    "  - Diabetes + Hypertension  \n",
    "  - Diabetes + OA  \n",
    "  - Hypertension + OA  \n",
    "- **3**: Diabetes + Hypertension + OA \n"
   ]
  },
  {
   "cell_type": "code",
   "execution_count": 91,
   "metadata": {},
   "outputs": [],
   "source": [
    "# Create a new categorical variable 'disease_group' based on conditions in 'data'\n",
    "data['disease_group'] = 0  # Default: No disease\n",
    "\n",
    "# Assign groups based on disease conditions\n",
    "data.loc[(data['Diabetes'] == 1) & (data['Hypertension'] == 0) & (data['OA_conserv'] == 0), 'disease_group'] = 1\n",
    "data.loc[(data['Diabetes'] == 0) & (data['Hypertension'] == 1) & (data['OA_conserv'] == 0), 'disease_group'] = 1\n",
    "data.loc[(data['Diabetes'] == 0) & (data['Hypertension'] == 0) & (data['OA_conserv'] == 1), 'disease_group'] = 1\n",
    "\n",
    "data.loc[(data['Diabetes'] == 1) & (data['Hypertension'] == 1) & (data['OA_conserv'] == 0), 'disease_group'] = 2\n",
    "data.loc[(data['Diabetes'] == 1) & (data['Hypertension'] == 0) & (data['OA_conserv'] == 1), 'disease_group'] = 2\n",
    "data.loc[(data['Diabetes'] == 0) & (data['Hypertension'] == 1) & (data['OA_conserv'] == 1), 'disease_group'] = 2\n",
    "\n",
    "data.loc[(data['Diabetes'] == 1) & (data['Hypertension'] == 1) & (data['OA_conserv'] == 1), 'disease_group'] = 3\n",
    "\n",
    "# Convert disease_group to categorical\n",
    "data['disease_group'] = data['disease_group'].astype(int)"
   ]
  },
  {
   "cell_type": "code",
   "execution_count": 92,
   "metadata": {},
   "outputs": [
    {
     "name": "stdout",
     "output_type": "stream",
     "text": [
      "disease_group\n",
      "0    8290\n",
      "1    5347\n",
      "2    1899\n",
      "3     285\n",
      "Name: count, dtype: int64\n"
     ]
    }
   ],
   "source": [
    "disease_counts = data['disease_group'].value_counts()\n",
    "print(disease_counts)"
   ]
  },
  {
   "cell_type": "code",
   "execution_count": 93,
   "metadata": {},
   "outputs": [
    {
     "data": {
      "text/html": [
       "<div>\n",
       "<style scoped>\n",
       "    .dataframe tbody tr th:only-of-type {\n",
       "        vertical-align: middle;\n",
       "    }\n",
       "\n",
       "    .dataframe tbody tr th {\n",
       "        vertical-align: top;\n",
       "    }\n",
       "\n",
       "    .dataframe thead th {\n",
       "        text-align: right;\n",
       "    }\n",
       "</style>\n",
       "<table border=\"1\" class=\"dataframe\">\n",
       "  <thead>\n",
       "    <tr style=\"text-align: right;\">\n",
       "      <th></th>\n",
       "      <th>Maxgrip</th>\n",
       "      <th>Chair Stand</th>\n",
       "      <th>Walking Speed</th>\n",
       "    </tr>\n",
       "    <tr>\n",
       "      <th>disease_group</th>\n",
       "      <th></th>\n",
       "      <th></th>\n",
       "      <th></th>\n",
       "    </tr>\n",
       "  </thead>\n",
       "  <tbody>\n",
       "    <tr>\n",
       "      <th>0</th>\n",
       "      <td>7612</td>\n",
       "      <td>6117</td>\n",
       "      <td>533</td>\n",
       "    </tr>\n",
       "    <tr>\n",
       "      <th>1</th>\n",
       "      <td>4896</td>\n",
       "      <td>3314</td>\n",
       "      <td>619</td>\n",
       "    </tr>\n",
       "    <tr>\n",
       "      <th>2</th>\n",
       "      <td>1681</td>\n",
       "      <td>991</td>\n",
       "      <td>231</td>\n",
       "    </tr>\n",
       "    <tr>\n",
       "      <th>3</th>\n",
       "      <td>225</td>\n",
       "      <td>91</td>\n",
       "      <td>42</td>\n",
       "    </tr>\n",
       "  </tbody>\n",
       "</table>\n",
       "</div>"
      ],
      "text/plain": [
       "               Maxgrip  Chair Stand  Walking Speed\n",
       "disease_group                                     \n",
       "0                 7612         6117            533\n",
       "1                 4896         3314            619\n",
       "2                 1681          991            231\n",
       "3                  225           91             42"
      ]
     },
     "execution_count": 93,
     "metadata": {},
     "output_type": "execute_result"
    }
   ],
   "source": [
    "valid_samples = {\n",
    "    \"Maxgrip\": data.dropna(subset=['maxgrip'])['disease_group'].value_counts(),\n",
    "    \"Chair Stand\": data.dropna(subset=['chair'])['disease_group'].value_counts(),\n",
    "    \"Walking Speed\": data.dropna(subset=['walking'])['disease_group'].value_counts()\n",
    "}\n",
    "\n",
    "valid_samples_df = pd.DataFrame(valid_samples)\n",
    "valid_samples_df"
   ]
  },
  {
   "cell_type": "markdown",
   "metadata": {},
   "source": [
    "##### Summery"
   ]
  },
  {
   "cell_type": "code",
   "execution_count": 94,
   "metadata": {},
   "outputs": [
    {
     "name": "stdout",
     "output_type": "stream",
     "text": [
      "data:  (15821, 11)\n",
      "maxgrip:  (14414, 8)\n",
      "chair:  (10513, 8)\n",
      "walking:  (1425, 8)\n"
     ]
    }
   ],
   "source": [
    "print(\"data: \", data.shape)\n",
    "print(\"maxgrip: \", df_maxgrip.shape)\n",
    "print(\"chair: \", df_chair.shape)\n",
    "print(\"walking: \", df_walking.shape)"
   ]
  },
  {
   "cell_type": "code",
   "execution_count": 95,
   "metadata": {},
   "outputs": [
    {
     "data": {
      "text/html": [
       "<div>\n",
       "<style scoped>\n",
       "    .dataframe tbody tr th:only-of-type {\n",
       "        vertical-align: middle;\n",
       "    }\n",
       "\n",
       "    .dataframe tbody tr th {\n",
       "        vertical-align: top;\n",
       "    }\n",
       "\n",
       "    .dataframe thead th {\n",
       "        text-align: right;\n",
       "    }\n",
       "</style>\n",
       "<table border=\"1\" class=\"dataframe\">\n",
       "  <thead>\n",
       "    <tr style=\"text-align: right;\">\n",
       "      <th></th>\n",
       "      <th>age</th>\n",
       "      <th>bmi</th>\n",
       "      <th>female</th>\n",
       "      <th>educational_level</th>\n",
       "      <th>OA_conserv</th>\n",
       "      <th>Hypertension</th>\n",
       "      <th>Diabetes</th>\n",
       "      <th>maxgrip</th>\n",
       "      <th>chair</th>\n",
       "      <th>walking</th>\n",
       "      <th>disease_group</th>\n",
       "    </tr>\n",
       "    <tr>\n",
       "      <th>mergeid</th>\n",
       "      <th></th>\n",
       "      <th></th>\n",
       "      <th></th>\n",
       "      <th></th>\n",
       "      <th></th>\n",
       "      <th></th>\n",
       "      <th></th>\n",
       "      <th></th>\n",
       "      <th></th>\n",
       "      <th></th>\n",
       "      <th></th>\n",
       "    </tr>\n",
       "  </thead>\n",
       "  <tbody>\n",
       "    <tr>\n",
       "      <th>AT-004234-02</th>\n",
       "      <td>53.0</td>\n",
       "      <td>30.717400</td>\n",
       "      <td>1.0</td>\n",
       "      <td>1.0</td>\n",
       "      <td>0.0</td>\n",
       "      <td>0.0</td>\n",
       "      <td>1.0</td>\n",
       "      <td>37.0</td>\n",
       "      <td>6.00</td>\n",
       "      <td>NaN</td>\n",
       "      <td>1</td>\n",
       "    </tr>\n",
       "    <tr>\n",
       "      <th>AT-016392-01</th>\n",
       "      <td>61.0</td>\n",
       "      <td>23.588329</td>\n",
       "      <td>1.0</td>\n",
       "      <td>1.0</td>\n",
       "      <td>0.0</td>\n",
       "      <td>0.0</td>\n",
       "      <td>0.0</td>\n",
       "      <td>34.0</td>\n",
       "      <td>13.20</td>\n",
       "      <td>NaN</td>\n",
       "      <td>0</td>\n",
       "    </tr>\n",
       "    <tr>\n",
       "      <th>AT-017298-01</th>\n",
       "      <td>64.0</td>\n",
       "      <td>25.381469</td>\n",
       "      <td>0.0</td>\n",
       "      <td>2.0</td>\n",
       "      <td>0.0</td>\n",
       "      <td>1.0</td>\n",
       "      <td>0.0</td>\n",
       "      <td>55.0</td>\n",
       "      <td>9.40</td>\n",
       "      <td>NaN</td>\n",
       "      <td>1</td>\n",
       "    </tr>\n",
       "    <tr>\n",
       "      <th>AT-026212-02</th>\n",
       "      <td>59.0</td>\n",
       "      <td>24.337480</td>\n",
       "      <td>0.0</td>\n",
       "      <td>1.0</td>\n",
       "      <td>0.0</td>\n",
       "      <td>0.0</td>\n",
       "      <td>0.0</td>\n",
       "      <td>52.0</td>\n",
       "      <td>22.00</td>\n",
       "      <td>NaN</td>\n",
       "      <td>0</td>\n",
       "    </tr>\n",
       "    <tr>\n",
       "      <th>AT-057442-01</th>\n",
       "      <td>66.0</td>\n",
       "      <td>31.221304</td>\n",
       "      <td>1.0</td>\n",
       "      <td>1.0</td>\n",
       "      <td>0.0</td>\n",
       "      <td>1.0</td>\n",
       "      <td>0.0</td>\n",
       "      <td>NaN</td>\n",
       "      <td>10.84</td>\n",
       "      <td>NaN</td>\n",
       "      <td>1</td>\n",
       "    </tr>\n",
       "    <tr>\n",
       "      <th>...</th>\n",
       "      <td>...</td>\n",
       "      <td>...</td>\n",
       "      <td>...</td>\n",
       "      <td>...</td>\n",
       "      <td>...</td>\n",
       "      <td>...</td>\n",
       "      <td>...</td>\n",
       "      <td>...</td>\n",
       "      <td>...</td>\n",
       "      <td>...</td>\n",
       "      <td>...</td>\n",
       "    </tr>\n",
       "    <tr>\n",
       "      <th>SE-994503-02</th>\n",
       "      <td>77.0</td>\n",
       "      <td>24.056935</td>\n",
       "      <td>0.0</td>\n",
       "      <td>2.0</td>\n",
       "      <td>0.0</td>\n",
       "      <td>0.0</td>\n",
       "      <td>0.0</td>\n",
       "      <td>43.0</td>\n",
       "      <td>NaN</td>\n",
       "      <td>2.105</td>\n",
       "      <td>0</td>\n",
       "    </tr>\n",
       "    <tr>\n",
       "      <th>SE-996850-01</th>\n",
       "      <td>61.0</td>\n",
       "      <td>26.827421</td>\n",
       "      <td>0.0</td>\n",
       "      <td>1.0</td>\n",
       "      <td>0.0</td>\n",
       "      <td>0.0</td>\n",
       "      <td>0.0</td>\n",
       "      <td>61.0</td>\n",
       "      <td>7.03</td>\n",
       "      <td>NaN</td>\n",
       "      <td>0</td>\n",
       "    </tr>\n",
       "    <tr>\n",
       "      <th>SE-996850-02</th>\n",
       "      <td>61.0</td>\n",
       "      <td>23.323418</td>\n",
       "      <td>1.0</td>\n",
       "      <td>1.0</td>\n",
       "      <td>0.0</td>\n",
       "      <td>1.0</td>\n",
       "      <td>0.0</td>\n",
       "      <td>32.0</td>\n",
       "      <td>13.94</td>\n",
       "      <td>NaN</td>\n",
       "      <td>1</td>\n",
       "    </tr>\n",
       "    <tr>\n",
       "      <th>SE-996868-01</th>\n",
       "      <td>58.0</td>\n",
       "      <td>35.492158</td>\n",
       "      <td>0.0</td>\n",
       "      <td>1.0</td>\n",
       "      <td>0.0</td>\n",
       "      <td>1.0</td>\n",
       "      <td>0.0</td>\n",
       "      <td>58.0</td>\n",
       "      <td>10.38</td>\n",
       "      <td>NaN</td>\n",
       "      <td>1</td>\n",
       "    </tr>\n",
       "    <tr>\n",
       "      <th>SE-996868-02</th>\n",
       "      <td>54.0</td>\n",
       "      <td>24.910767</td>\n",
       "      <td>1.0</td>\n",
       "      <td>1.0</td>\n",
       "      <td>0.0</td>\n",
       "      <td>0.0</td>\n",
       "      <td>0.0</td>\n",
       "      <td>NaN</td>\n",
       "      <td>NaN</td>\n",
       "      <td>NaN</td>\n",
       "      <td>0</td>\n",
       "    </tr>\n",
       "  </tbody>\n",
       "</table>\n",
       "<p>15821 rows × 11 columns</p>\n",
       "</div>"
      ],
      "text/plain": [
       "               age        bmi  female  educational_level  OA_conserv  \\\n",
       "mergeid                                                                \n",
       "AT-004234-02  53.0  30.717400     1.0                1.0         0.0   \n",
       "AT-016392-01  61.0  23.588329     1.0                1.0         0.0   \n",
       "AT-017298-01  64.0  25.381469     0.0                2.0         0.0   \n",
       "AT-026212-02  59.0  24.337480     0.0                1.0         0.0   \n",
       "AT-057442-01  66.0  31.221304     1.0                1.0         0.0   \n",
       "...            ...        ...     ...                ...         ...   \n",
       "SE-994503-02  77.0  24.056935     0.0                2.0         0.0   \n",
       "SE-996850-01  61.0  26.827421     0.0                1.0         0.0   \n",
       "SE-996850-02  61.0  23.323418     1.0                1.0         0.0   \n",
       "SE-996868-01  58.0  35.492158     0.0                1.0         0.0   \n",
       "SE-996868-02  54.0  24.910767     1.0                1.0         0.0   \n",
       "\n",
       "              Hypertension  Diabetes  maxgrip  chair  walking  disease_group  \n",
       "mergeid                                                                       \n",
       "AT-004234-02           0.0       1.0     37.0   6.00      NaN              1  \n",
       "AT-016392-01           0.0       0.0     34.0  13.20      NaN              0  \n",
       "AT-017298-01           1.0       0.0     55.0   9.40      NaN              1  \n",
       "AT-026212-02           0.0       0.0     52.0  22.00      NaN              0  \n",
       "AT-057442-01           1.0       0.0      NaN  10.84      NaN              1  \n",
       "...                    ...       ...      ...    ...      ...            ...  \n",
       "SE-994503-02           0.0       0.0     43.0    NaN    2.105              0  \n",
       "SE-996850-01           0.0       0.0     61.0   7.03      NaN              0  \n",
       "SE-996850-02           1.0       0.0     32.0  13.94      NaN              1  \n",
       "SE-996868-01           1.0       0.0     58.0  10.38      NaN              1  \n",
       "SE-996868-02           0.0       0.0      NaN    NaN      NaN              0  \n",
       "\n",
       "[15821 rows x 11 columns]"
      ]
     },
     "execution_count": 95,
     "metadata": {},
     "output_type": "execute_result"
    }
   ],
   "source": [
    "data"
   ]
  },
  {
   "cell_type": "markdown",
   "metadata": {},
   "source": [
    "##### Remove ages under 50"
   ]
  },
  {
   "cell_type": "code",
   "execution_count": 96,
   "metadata": {},
   "outputs": [
    {
     "data": {
      "text/plain": [
       "(15285, 11)"
      ]
     },
     "execution_count": 96,
     "metadata": {},
     "output_type": "execute_result"
    }
   ],
   "source": [
    "data = data[data['age'] >= 50].copy()\n",
    "data.shape"
   ]
  },
  {
   "cell_type": "markdown",
   "metadata": {},
   "source": [
    "##### Create maxchair and maxwalk"
   ]
  },
  {
   "cell_type": "code",
   "execution_count": 97,
   "metadata": {},
   "outputs": [
    {
     "data": {
      "text/plain": [
       "age                      0\n",
       "bmi                      0\n",
       "female                   0\n",
       "educational_level        0\n",
       "OA_conserv               0\n",
       "Hypertension             0\n",
       "Diabetes                 0\n",
       "maxgrip               1363\n",
       "chair                 5224\n",
       "walking              13860\n",
       "disease_group            0\n",
       "dtype: int64"
      ]
     },
     "execution_count": 97,
     "metadata": {},
     "output_type": "execute_result"
    }
   ],
   "source": [
    "data.isna().sum()"
   ]
  },
  {
   "cell_type": "code",
   "execution_count": 98,
   "metadata": {},
   "outputs": [
    {
     "name": "stdout",
     "output_type": "stream",
     "text": [
      "Dataset maxchair (Age 50–74, Maxgrip + Chair): (9753, 9)\n",
      "Dataset maxwalk (Age ≥75, Maxgrip + Walking): (1331, 9)\n"
     ]
    }
   ],
   "source": [
    "features = ['age', 'bmi', 'female', 'educational_level', 'OA_conserv', 'Hypertension', 'Diabetes']\n",
    "outcomes = ['maxgrip', 'chair', 'walking']\n",
    "\n",
    "# Create maxchair dataset: Includes maxgrip and chair outcomes, restricted to age < 75\n",
    "maxchair = data[\n",
    "    (data['age'] < 75) & \n",
    "    data[['maxgrip', 'chair'] + features].notnull().all(axis=1)\n",
    "][features + ['maxgrip', 'chair']]\n",
    "\n",
    "# Create maxwalk dataset: Includes maxgrip and walking outcomes, restricted to age ≥ 75\n",
    "maxwalk = data[\n",
    "    (data['age'] >= 75) & \n",
    "    data[['maxgrip', 'walking'] + features].notnull().all(axis=1)\n",
    "][features + ['maxgrip', 'walking']]\n",
    "\n",
    "print(\"Dataset maxchair (Age 50–74, Maxgrip + Chair):\", maxchair.shape)\n",
    "print(\"Dataset maxwalk (Age ≥75, Maxgrip + Walking):\", maxwalk.shape)"
   ]
  },
  {
   "cell_type": "code",
   "execution_count": 99,
   "metadata": {},
   "outputs": [
    {
     "data": {
      "text/plain": [
       "(9753, 9)"
      ]
     },
     "execution_count": 99,
     "metadata": {},
     "output_type": "execute_result"
    }
   ],
   "source": [
    "maxchair.shape"
   ]
  },
  {
   "cell_type": "markdown",
   "metadata": {},
   "source": [
    "##### Overlap between maxchair and maxwalk:"
   ]
  },
  {
   "cell_type": "code",
   "execution_count": 100,
   "metadata": {},
   "outputs": [
    {
     "name": "stdout",
     "output_type": "stream",
     "text": [
      "Number of overlapping cases between maxchair and maxwalk: 0\n"
     ]
    }
   ],
   "source": [
    "overlap_cases_max = maxchair.index.intersection(maxwalk.index)\n",
    "print(f\"Number of overlapping cases between maxchair and maxwalk: {len(overlap_cases_max)}\")"
   ]
  },
  {
   "cell_type": "markdown",
   "metadata": {},
   "source": [
    "##### Overlap between Chair and Walk:"
   ]
  },
  {
   "cell_type": "code",
   "execution_count": 101,
   "metadata": {},
   "outputs": [
    {
     "name": "stdout",
     "output_type": "stream",
     "text": [
      "Number of overlapping cases: 0\n"
     ]
    }
   ],
   "source": [
    "overlap_cases = df_chair.index.intersection(df_walking.index)\n",
    "print(f\"Number of overlapping cases: {len(overlap_cases)}\")"
   ]
  },
  {
   "cell_type": "markdown",
   "metadata": {},
   "source": [
    "##### Create csv from maxchair and maxwalk"
   ]
  },
  {
   "cell_type": "code",
   "execution_count": 102,
   "metadata": {},
   "outputs": [],
   "source": [
    "maxchair.to_csv(\"maxchair.csv\")\n",
    "maxwalk.to_csv(\"maxwalk.csv\")"
   ]
  },
  {
   "cell_type": "markdown",
   "metadata": {},
   "source": [
    "##### Comparison between disease:"
   ]
  },
  {
   "cell_type": "code",
   "execution_count": 103,
   "metadata": {},
   "outputs": [
    {
     "data": {
      "text/html": [
       "<div>\n",
       "<style scoped>\n",
       "    .dataframe tbody tr th:only-of-type {\n",
       "        vertical-align: middle;\n",
       "    }\n",
       "\n",
       "    .dataframe tbody tr th {\n",
       "        vertical-align: top;\n",
       "    }\n",
       "\n",
       "    .dataframe thead th {\n",
       "        text-align: right;\n",
       "    }\n",
       "</style>\n",
       "<table border=\"1\" class=\"dataframe\">\n",
       "  <thead>\n",
       "    <tr style=\"text-align: right;\">\n",
       "      <th></th>\n",
       "      <th>n</th>\n",
       "      <th>grip_strength_mean</th>\n",
       "      <th>chair_stand_mean</th>\n",
       "    </tr>\n",
       "    <tr>\n",
       "      <th>disease_count</th>\n",
       "      <th></th>\n",
       "      <th></th>\n",
       "      <th></th>\n",
       "    </tr>\n",
       "  </thead>\n",
       "  <tbody>\n",
       "    <tr>\n",
       "      <th>0.0</th>\n",
       "      <td>5617</td>\n",
       "      <td>38.2</td>\n",
       "      <td>10.9</td>\n",
       "    </tr>\n",
       "    <tr>\n",
       "      <th>1.0</th>\n",
       "      <td>3125</td>\n",
       "      <td>36.8</td>\n",
       "      <td>11.3</td>\n",
       "    </tr>\n",
       "    <tr>\n",
       "      <th>2.0</th>\n",
       "      <td>923</td>\n",
       "      <td>34.3</td>\n",
       "      <td>12.4</td>\n",
       "    </tr>\n",
       "    <tr>\n",
       "      <th>3.0</th>\n",
       "      <td>88</td>\n",
       "      <td>31.7</td>\n",
       "      <td>12.7</td>\n",
       "    </tr>\n",
       "  </tbody>\n",
       "</table>\n",
       "</div>"
      ],
      "text/plain": [
       "                  n  grip_strength_mean  chair_stand_mean\n",
       "disease_count                                            \n",
       "0.0            5617                38.2              10.9\n",
       "1.0            3125                36.8              11.3\n",
       "2.0             923                34.3              12.4\n",
       "3.0              88                31.7              12.7"
      ]
     },
     "execution_count": 103,
     "metadata": {},
     "output_type": "execute_result"
    }
   ],
   "source": [
    "maxchair['disease_count'] = maxchair[['OA_conserv', 'Diabetes', 'Hypertension']].sum(axis=1)\n",
    "\n",
    "summary_chair = maxchair.groupby('disease_count').agg(\n",
    "    n=('disease_count', 'count'),\n",
    "    grip_strength_mean=('maxgrip', 'mean'),\n",
    "    chair_stand_mean=('chair', 'mean')\n",
    ").round(1)\n",
    "\n",
    "summary_chair\n"
   ]
  },
  {
   "cell_type": "code",
   "execution_count": 104,
   "metadata": {},
   "outputs": [
    {
     "data": {
      "text/html": [
       "<div>\n",
       "<style scoped>\n",
       "    .dataframe tbody tr th:only-of-type {\n",
       "        vertical-align: middle;\n",
       "    }\n",
       "\n",
       "    .dataframe tbody tr th {\n",
       "        vertical-align: top;\n",
       "    }\n",
       "\n",
       "    .dataframe thead th {\n",
       "        text-align: right;\n",
       "    }\n",
       "</style>\n",
       "<table border=\"1\" class=\"dataframe\">\n",
       "  <thead>\n",
       "    <tr style=\"text-align: right;\">\n",
       "      <th></th>\n",
       "      <th>n</th>\n",
       "      <th>grip_strength_mean</th>\n",
       "      <th>walking_mean</th>\n",
       "    </tr>\n",
       "    <tr>\n",
       "      <th>disease_count</th>\n",
       "      <th></th>\n",
       "      <th></th>\n",
       "      <th></th>\n",
       "    </tr>\n",
       "  </thead>\n",
       "  <tbody>\n",
       "    <tr>\n",
       "      <th>0.0</th>\n",
       "      <td>507</td>\n",
       "      <td>29.2</td>\n",
       "      <td>4.8</td>\n",
       "    </tr>\n",
       "    <tr>\n",
       "      <th>1.0</th>\n",
       "      <td>578</td>\n",
       "      <td>26.7</td>\n",
       "      <td>5.1</td>\n",
       "    </tr>\n",
       "    <tr>\n",
       "      <th>2.0</th>\n",
       "      <td>211</td>\n",
       "      <td>26.3</td>\n",
       "      <td>5.4</td>\n",
       "    </tr>\n",
       "    <tr>\n",
       "      <th>3.0</th>\n",
       "      <td>35</td>\n",
       "      <td>24.9</td>\n",
       "      <td>5.3</td>\n",
       "    </tr>\n",
       "  </tbody>\n",
       "</table>\n",
       "</div>"
      ],
      "text/plain": [
       "                 n  grip_strength_mean  walking_mean\n",
       "disease_count                                       \n",
       "0.0            507                29.2           4.8\n",
       "1.0            578                26.7           5.1\n",
       "2.0            211                26.3           5.4\n",
       "3.0             35                24.9           5.3"
      ]
     },
     "execution_count": 104,
     "metadata": {},
     "output_type": "execute_result"
    }
   ],
   "source": [
    "maxwalk['disease_count'] = maxwalk[['OA_conserv', 'Diabetes', 'Hypertension']].sum(axis=1)\n",
    "\n",
    "summary_walk = maxwalk.groupby('disease_count').agg(\n",
    "    n=('disease_count', 'count'),\n",
    "    grip_strength_mean=('maxgrip', 'mean'),\n",
    "    walking_mean=('walking', 'mean')\n",
    ").round(1)\n",
    "\n",
    "summary_walk "
   ]
  },
  {
   "cell_type": "code",
   "execution_count": null,
   "metadata": {},
   "outputs": [],
   "source": []
  }
 ],
 "metadata": {
  "kernelspec": {
   "display_name": "physioai",
   "language": "python",
   "name": "python3"
  },
  "language_info": {
   "codemirror_mode": {
    "name": "ipython",
    "version": 3
   },
   "file_extension": ".py",
   "mimetype": "text/x-python",
   "name": "python",
   "nbconvert_exporter": "python",
   "pygments_lexer": "ipython3",
   "version": "3.10.13"
  }
 },
 "nbformat": 4,
 "nbformat_minor": 2
}
