{
 "cells": [
  {
   "cell_type": "code",
   "execution_count": null,
   "metadata": {},
   "outputs": [],
   "source": [
    "import pandas as pd\n",
    "import numpy as np\n",
    "from matplotlib import pyplot as plt\n",
    "import seaborn as sns"
   ]
  },
  {
   "cell_type": "markdown",
   "metadata": {},
   "source": [
    "#### Data loading"
   ]
  },
  {
   "cell_type": "code",
   "execution_count": null,
   "metadata": {},
   "outputs": [],
   "source": [
    "df = pd.read_csv(\"data/main_df_after_merging.csv\")\n",
    "df.shape"
   ]
  },
  {
   "cell_type": "markdown",
   "metadata": {},
   "source": [
    "All variables\n",
    "| variable name  | meaning |\n",
    "|---|---|\n",
    "|ws010_ |\tfirst walking speed result|\n",
    "|ws011_ |\tfirst walking speed time|\n",
    "|ws012_ |\tsecond walking speed result|\n",
    "|ws013_ |\tsecond walking speed time|\n",
    "|cs004_ |\tchair rise result|\n",
    "|cs008_ |\ttime 5 chair rise|\n",
    "|gs006_|\tmaxgrip left one|\n",
    "|gs007_|\tmaxgrip left two|\n",
    "|gs008_|\tmaxgrip right one|\n",
    "|gs009_|\tmaxgrip right two|\n",
    "|dn002_|    MOB|\n",
    "|dn003_|    YOB|\n",
    "|dn042_|    female|\n",
    "|ph006d8| OA|\n",
    "|ph010d1| pain joint|\n",
    "|ph012_ | weight|\n",
    "|ph013_ | height|\n",
    "|ph044_ | eyesight_close |\n",
    "|ph046_ | hearing |"
   ]
  },
  {
   "cell_type": "markdown",
   "metadata": {},
   "source": [
    "##### Create variable \"age\""
   ]
  },
  {
   "cell_type": "code",
   "execution_count": null,
   "metadata": {},
   "outputs": [],
   "source": [
    "# Wave 2 is 2007\n",
    "reference_year = 2007\n",
    "df['age'] = reference_year - df['YOB']"
   ]
  },
  {
   "cell_type": "markdown",
   "metadata": {},
   "source": [
    "##### Plausible Height and Weight"
   ]
  },
  {
   "cell_type": "markdown",
   "metadata": {},
   "source": [
    "Consider weight > 10 and height > 100"
   ]
  },
  {
   "cell_type": "code",
   "execution_count": null,
   "metadata": {},
   "outputs": [],
   "source": [
    "def clean_height_weight(df):\n",
    "    print(\"Initial dataset size:\", len(df))\n",
    "    \n",
    "    df = df.loc[df['weight'] > 10.0]\n",
    "    print(\"After filtering plausible weight:\", len(df))\n",
    "    \n",
    "\n",
    "    df = df.loc[df['height'] > 100.0]\n",
    "    \n",
    "    df.loc[(df['height'] > 1.0) & (df['height'] < 2.0), 'height'] *= 100\n",
    "    print(\"After filtering and correcting height:\", len(df))\n",
    "    \n",
    "    return df\n",
    "df_raw = df.copy()\n",
    "df = clean_height_weight(df)"
   ]
  },
  {
   "cell_type": "code",
   "execution_count": null,
   "metadata": {},
   "outputs": [],
   "source": [
    "excluded_hw = df_raw[~df_raw['mergeid'].isin(df['mergeid'])]\n",
    "print(\"Excluded due to implausible/missing weight or height:\", excluded_hw.shape)"
   ]
  },
  {
   "cell_type": "markdown",
   "metadata": {},
   "source": [
    "##### Create variable \"bmi\""
   ]
  },
  {
   "cell_type": "code",
   "execution_count": null,
   "metadata": {},
   "outputs": [],
   "source": [
    "df['bmi'] = df['weight'] / ((df['height'] / 100) ** 2)"
   ]
  },
  {
   "cell_type": "markdown",
   "metadata": {},
   "source": [
    "##### Compute the maximum grip strength across all measurements"
   ]
  },
  {
   "cell_type": "code",
   "execution_count": null,
   "metadata": {},
   "outputs": [],
   "source": [
    "df['maxgrip'] = df[['maxgrip_left_one', 'maxgrip_left_two', 'maxgrip_right_one', 'maxgrip_right_two']].max(axis=1)"
   ]
  },
  {
   "cell_type": "markdown",
   "metadata": {},
   "source": [
    "##### Compute the average walking speed across two attempts"
   ]
  },
  {
   "cell_type": "code",
   "execution_count": null,
   "metadata": {},
   "outputs": [],
   "source": [
    "df['walking'] = df[['first_walking_speed_time', 'second_walking_speed_time']].mean(axis=1)"
   ]
  },
  {
   "cell_type": "markdown",
   "metadata": {},
   "source": [
    "##### Other variables"
   ]
  },
  {
   "cell_type": "code",
   "execution_count": null,
   "metadata": {},
   "outputs": [],
   "source": [
    "df['chair'] = df['time_5_chair_rise']\n",
    "df['OA_conserv'] = np.logical_and(df['OA'], df['pain_joint'].astype(bool)).astype(np.int8)\n",
    "df['activity'] = 2 * (4 - df['br015_']) + (4 - df['br016_'])\n",
    "df['female'] = df['female'].astype(int)"
   ]
  },
  {
   "cell_type": "code",
   "execution_count": null,
   "metadata": {},
   "outputs": [],
   "source": [
    "df['chair'].sort_values(ascending=False).shape"
   ]
  },
  {
   "cell_type": "markdown",
   "metadata": {},
   "source": [
    "##### Create df_anno"
   ]
  },
  {
   "cell_type": "code",
   "execution_count": null,
   "metadata": {},
   "outputs": [],
   "source": [
    "df_anno = df.drop_duplicates(subset='mergeid', keep='first')\n",
    "df_anno.set_index('mergeid', inplace=True, drop=True)\n",
    "\n",
    "df_anno_raw = df_anno.copy()"
   ]
  },
  {
   "cell_type": "code",
   "execution_count": null,
   "metadata": {},
   "outputs": [],
   "source": [
    "print(\"df:\", df.shape, \"df_anno:\", df_anno.shape)"
   ]
  },
  {
   "cell_type": "markdown",
   "metadata": {},
   "source": [
    "##### Categorizing & Identifying Control Groups; OA, diabetes, hypertension"
   ]
  },
  {
   "cell_type": "code",
   "execution_count": null,
   "metadata": {},
   "outputs": [],
   "source": [
    "df_anno['Hypertension'] = pd.to_numeric(df_anno['ph006d2'])\n",
    "df_anno['Diabetes'] = pd.to_numeric(df_anno['ph006d5'])"
   ]
  },
  {
   "cell_type": "code",
   "execution_count": null,
   "metadata": {},
   "outputs": [],
   "source": [
    "df_anno[\"control\"] = 0\n",
    "df_anno.loc[(df_anno[\"OA_conserv\"] == 0) & (df_anno[\"Hypertension\"] == 0) & (df_anno[\"Diabetes\"] == 0), \"control\"] = 1"
   ]
  },
  {
   "cell_type": "code",
   "execution_count": null,
   "metadata": {},
   "outputs": [],
   "source": [
    "display(df_anno['Hypertension'].value_counts())\n",
    "display(df_anno['Diabetes'].value_counts())\n",
    "display(df_anno['OA_conserv'].value_counts())"
   ]
  },
  {
   "cell_type": "code",
   "execution_count": null,
   "metadata": {},
   "outputs": [],
   "source": [
    "display(df_anno[['Hypertension', 'OA_conserv', 'Diabetes']].value_counts(sort=False))"
   ]
  },
  {
   "cell_type": "markdown",
   "metadata": {},
   "source": [
    "## data exploration"
   ]
  },
  {
   "cell_type": "markdown",
   "metadata": {},
   "source": [
    "##### Select features"
   ]
  },
  {
   "cell_type": "code",
   "execution_count": null,
   "metadata": {},
   "outputs": [],
   "source": [
    "df_anno.shape"
   ]
  },
  {
   "cell_type": "code",
   "execution_count": null,
   "metadata": {},
   "outputs": [],
   "source": [
    "df_anno = df_anno.drop_duplicates()\n",
    "print(df_anno.shape)\n",
    "_df_anno = df_anno.copy()"
   ]
  },
  {
   "cell_type": "markdown",
   "metadata": {},
   "source": [
    "##### Create df_feature"
   ]
  },
  {
   "cell_type": "code",
   "execution_count": null,
   "metadata": {},
   "outputs": [],
   "source": [
    "# features = ['bmi', 'weight', 'age', 'OA_conserv', 'female', 'hearing', 'eyesight_close', 'Hypertension', 'Diabetes']\n",
    "features = ['age', 'bmi', 'female', 'educational_level', 'OA_conserv', 'Hypertension', 'Diabetes']\n",
    "df_features = df_anno.loc[:, features].copy()\n",
    "df_features = df_features.dropna(axis=0)"
   ]
  },
  {
   "cell_type": "code",
   "execution_count": null,
   "metadata": {},
   "outputs": [],
   "source": [
    "excluded_features = df_anno[~df_anno.index.isin(df_features.index)]\n",
    "print(\"Excluded due to missing features:\", excluded_features.shape)\n"
   ]
  },
  {
   "cell_type": "code",
   "execution_count": null,
   "metadata": {},
   "outputs": [],
   "source": [
    "df_features.shape"
   ]
  },
  {
   "cell_type": "code",
   "execution_count": null,
   "metadata": {},
   "outputs": [],
   "source": [
    "df_features.isna().sum()"
   ]
  },
  {
   "cell_type": "code",
   "execution_count": null,
   "metadata": {},
   "outputs": [],
   "source": [
    "excluded_all = df_raw[~df_raw['mergeid'].isin(df_features.index)]\n",
    "print(\"Total excluded cases:\", excluded_all.shape)"
   ]
  },
  {
   "cell_type": "code",
   "execution_count": null,
   "metadata": {},
   "outputs": [],
   "source": [
    "excluded_all.to_csv(\"data/excluded_cases.csv\")\n",
    "df_features.to_csv(\"data/included_cases.csv\")"
   ]
  },
  {
   "cell_type": "markdown",
   "metadata": {},
   "source": [
    "##### Create data with outcomes and features"
   ]
  },
  {
   "cell_type": "code",
   "execution_count": null,
   "metadata": {},
   "outputs": [],
   "source": [
    "data = pd.concat([df_features, df_anno.loc[:, ['maxgrip', 'chair', 'walking',]]], axis=1)"
   ]
  },
  {
   "cell_type": "code",
   "execution_count": null,
   "metadata": {},
   "outputs": [],
   "source": [
    "data.shape"
   ]
  },
  {
   "cell_type": "code",
   "execution_count": null,
   "metadata": {},
   "outputs": [],
   "source": [
    "data = data.dropna(subset=features)"
   ]
  },
  {
   "cell_type": "code",
   "execution_count": null,
   "metadata": {},
   "outputs": [],
   "source": [
    "data.shape"
   ]
  },
  {
   "cell_type": "code",
   "execution_count": null,
   "metadata": {},
   "outputs": [],
   "source": [
    "data.isna().sum()"
   ]
  },
  {
   "cell_type": "code",
   "execution_count": null,
   "metadata": {},
   "outputs": [],
   "source": [
    "print(\"df:\", df.shape)\n",
    "print(\"df_anno:\", df_anno.shape)\n",
    "print(\"df_features:\", df_features.shape)\n",
    "print(\"data:\", data.shape)"
   ]
  },
  {
   "cell_type": "code",
   "execution_count": null,
   "metadata": {},
   "outputs": [],
   "source": [
    "features = ['age', 'bmi', 'female', 'educational_level', 'OA_conserv', 'Hypertension', 'Diabetes']\n",
    "outcomes = ['maxgrip', 'chair', 'walking']\n",
    "print(data.shape)"
   ]
  },
  {
   "cell_type": "code",
   "execution_count": null,
   "metadata": {},
   "outputs": [],
   "source": [
    "print(data['female'].value_counts())\n",
    "print(\"------------------------------------------------------------\")\n",
    "print(data['OA_conserv'].value_counts())\n",
    "print(\"------------------------------------------------------------\")\n",
    "print(data['Hypertension'].value_counts())\n",
    "print(\"------------------------------------------------------------\")\n",
    "print(data['Diabetes'].value_counts())"
   ]
  },
  {
   "cell_type": "code",
   "execution_count": null,
   "metadata": {},
   "outputs": [],
   "source": [
    "data.chair.value_counts()"
   ]
  },
  {
   "cell_type": "code",
   "execution_count": null,
   "metadata": {},
   "outputs": [],
   "source": [
    "mean_age_per_chair = data.groupby('chair')['age'].mean()\n",
    "print(mean_age_per_chair)\n"
   ]
  },
  {
   "cell_type": "markdown",
   "metadata": {},
   "source": [
    "#### Summery table"
   ]
  },
  {
   "cell_type": "code",
   "execution_count": null,
   "metadata": {},
   "outputs": [],
   "source": [
    "features = ['age', 'bmi', 'female', 'educational_level', 'OA_conserv', 'Hypertension', 'Diabetes']\n",
    "outcomes = ['maxgrip', 'chair', 'walking']\n",
    "\n",
    "# Create separate datasets for each outcome\n",
    "datasets = {outcome: data[features + [outcome]].dropna() for outcome in outcomes}\n",
    "\n",
    "for outcome, df_outcome in datasets.items():\n",
    "    print(f\"Dataset for {outcome}: {df_outcome.shape}\")\n"
   ]
  },
  {
   "cell_type": "code",
   "execution_count": null,
   "metadata": {},
   "outputs": [],
   "source": [
    "df_maxgrip = datasets['maxgrip']\n",
    "df_chair = datasets['chair']\n",
    "df_walking = datasets['walking']\n",
    "\n",
    "print(\"Valid samples per dataset:\")\n",
    "print(\"data Maxgrip:\", df_maxgrip.shape)\n",
    "print(\"data Chair Stand:\", df_chair.shape)\n",
    "print(\"data Walking Speed:\", df_walking.shape)"
   ]
  },
  {
   "cell_type": "code",
   "execution_count": null,
   "metadata": {},
   "outputs": [],
   "source": [
    "df_maxgrip.age.describe()"
   ]
  },
  {
   "cell_type": "code",
   "execution_count": null,
   "metadata": {},
   "outputs": [],
   "source": [
    "df_chair.age.describe()"
   ]
  },
  {
   "cell_type": "code",
   "execution_count": null,
   "metadata": {},
   "outputs": [],
   "source": [
    "df_walking.age.describe()"
   ]
  },
  {
   "cell_type": "markdown",
   "metadata": {},
   "source": [
    "##### disease_group"
   ]
  },
  {
   "cell_type": "markdown",
   "metadata": {},
   "source": [
    "- **0**: No disease  \n",
    "- **1**:  \n",
    "  - Diabetes only  \n",
    "  - Hypertension only  \n",
    "  - OA only  \n",
    "- **2**:  \n",
    "  - Diabetes + Hypertension  \n",
    "  - Diabetes + OA  \n",
    "  - Hypertension + OA  \n",
    "- **3**: Diabetes + Hypertension + OA \n"
   ]
  },
  {
   "cell_type": "code",
   "execution_count": null,
   "metadata": {},
   "outputs": [],
   "source": [
    "# Create a new categorical variable 'disease_group' based on conditions in 'data'\n",
    "data['disease_group'] = 0  # Default: No disease\n",
    "\n",
    "# Assign groups based on disease conditions\n",
    "data.loc[(data['Diabetes'] == 1) & (data['Hypertension'] == 0) & (data['OA_conserv'] == 0), 'disease_group'] = 1\n",
    "data.loc[(data['Diabetes'] == 0) & (data['Hypertension'] == 1) & (data['OA_conserv'] == 0), 'disease_group'] = 1\n",
    "data.loc[(data['Diabetes'] == 0) & (data['Hypertension'] == 0) & (data['OA_conserv'] == 1), 'disease_group'] = 1\n",
    "\n",
    "data.loc[(data['Diabetes'] == 1) & (data['Hypertension'] == 1) & (data['OA_conserv'] == 0), 'disease_group'] = 2\n",
    "data.loc[(data['Diabetes'] == 1) & (data['Hypertension'] == 0) & (data['OA_conserv'] == 1), 'disease_group'] = 2\n",
    "data.loc[(data['Diabetes'] == 0) & (data['Hypertension'] == 1) & (data['OA_conserv'] == 1), 'disease_group'] = 2\n",
    "\n",
    "data.loc[(data['Diabetes'] == 1) & (data['Hypertension'] == 1) & (data['OA_conserv'] == 1), 'disease_group'] = 3\n",
    "\n",
    "# Convert disease_group to categorical\n",
    "data['disease_group'] = data['disease_group'].astype(int)"
   ]
  },
  {
   "cell_type": "code",
   "execution_count": null,
   "metadata": {},
   "outputs": [],
   "source": [
    "disease_counts = data['disease_group'].value_counts()\n",
    "print(disease_counts)"
   ]
  },
  {
   "cell_type": "code",
   "execution_count": null,
   "metadata": {},
   "outputs": [],
   "source": [
    "valid_samples = {\n",
    "    \"Maxgrip\": data.dropna(subset=['maxgrip'])['disease_group'].value_counts(),\n",
    "    \"Chair Stand\": data.dropna(subset=['chair'])['disease_group'].value_counts(),\n",
    "    \"Walking Speed\": data.dropna(subset=['walking'])['disease_group'].value_counts()\n",
    "}\n",
    "\n",
    "valid_samples_df = pd.DataFrame(valid_samples)\n",
    "valid_samples_df"
   ]
  },
  {
   "cell_type": "markdown",
   "metadata": {},
   "source": [
    "##### Summery"
   ]
  },
  {
   "cell_type": "code",
   "execution_count": null,
   "metadata": {},
   "outputs": [],
   "source": [
    "print(\"data: \", data.shape)\n",
    "print(\"maxgrip: \", df_maxgrip.shape)\n",
    "print(\"chair: \", df_chair.shape)\n",
    "print(\"walking: \", df_walking.shape)"
   ]
  },
  {
   "cell_type": "code",
   "execution_count": null,
   "metadata": {},
   "outputs": [],
   "source": [
    "data"
   ]
  },
  {
   "cell_type": "code",
   "execution_count": null,
   "metadata": {},
   "outputs": [],
   "source": [
    "data.isna().sum()"
   ]
  },
  {
   "cell_type": "code",
   "execution_count": null,
   "metadata": {},
   "outputs": [],
   "source": [
    "# value count of ech columns in data\n",
    "features = ['age', 'bmi', 'female', 'educational_level', 'OA_conserv', 'Hypertension', 'Diabetes']\n",
    "for i in features: \n",
    "    print(data[i].value_counts())\n",
    "    print(\"------------------------------------------------------------\")\n"
   ]
  },
  {
   "cell_type": "code",
   "execution_count": null,
   "metadata": {},
   "outputs": [],
   "source": [
    "# value count of ech columns in data\n",
    "features = ['age', 'bmi', 'female', 'educational_level', 'OA_conserv', 'Hypertension', 'Diabetes']\n",
    "for i in features:     \n",
    "    print(data[i].describe())\n",
    "    print(\"------------------------------------------------------------\")"
   ]
  },
  {
   "cell_type": "markdown",
   "metadata": {},
   "source": [
    "##### Create maxchair and maxwalk"
   ]
  },
  {
   "cell_type": "code",
   "execution_count": null,
   "metadata": {},
   "outputs": [],
   "source": [
    "data.isna().sum()"
   ]
  },
  {
   "cell_type": "code",
   "execution_count": null,
   "metadata": {},
   "outputs": [],
   "source": [
    "features = ['age', 'bmi', 'female', 'educational_level', 'OA_conserv', 'Hypertension', 'Diabetes']\n",
    "outcomes = ['maxgrip', 'chair', 'walking']\n",
    "\n",
    "maxchair = data[features + ['maxgrip', 'chair']].dropna()\n",
    "\n",
    "maxwalk = data[features + ['maxgrip', 'walking']].dropna()\n",
    "\n",
    "print(\"Dataset maxchair (Maxgrip + Chair):\", maxchair.shape)\n",
    "print(\"Dataset maxwalk (Maxgrip + Walking):\", maxwalk.shape)\n"
   ]
  },
  {
   "cell_type": "markdown",
   "metadata": {},
   "source": [
    "##### Overlap between maxchair and maxwalk:"
   ]
  },
  {
   "cell_type": "code",
   "execution_count": null,
   "metadata": {},
   "outputs": [],
   "source": [
    "overlap_cases_max = maxchair.index.intersection(maxwalk.index)\n",
    "print(f\"Number of overlapping cases between maxchair and maxwalk: {len(overlap_cases_max)}\")"
   ]
  },
  {
   "cell_type": "markdown",
   "metadata": {},
   "source": [
    "##### Overlap between Chair and Walk:"
   ]
  },
  {
   "cell_type": "code",
   "execution_count": null,
   "metadata": {},
   "outputs": [],
   "source": [
    "overlap_cases = df_chair.index.intersection(df_walking.index)\n",
    "print(f\"Number of overlapping cases: {len(overlap_cases)}\")"
   ]
  },
  {
   "cell_type": "markdown",
   "metadata": {},
   "source": [
    "##### Describe of Age:"
   ]
  },
  {
   "cell_type": "code",
   "execution_count": null,
   "metadata": {},
   "outputs": [],
   "source": [
    "datasets = {\n",
    "    \"Maxgrip\": df_maxgrip,\n",
    "    \"Chair\": df_chair,\n",
    "    \"Walking\": df_walking,\n",
    "    \"Maxchair\": maxchair,\n",
    "    \"Maxwalk\": maxwalk\n",
    "}\n",
    "\n",
    "for name, df in datasets.items():\n",
    "    print(f\"\\nAge Statistics for {name}:\\n{df.age.describe()}\")\n",
    "    print(\"-\" * 50)\n"
   ]
  },
  {
   "cell_type": "markdown",
   "metadata": {},
   "source": [
    "#### Summery for paper:"
   ]
  },
  {
   "cell_type": "markdown",
   "metadata": {},
   "source": [
    "##### maxchair:"
   ]
  },
  {
   "cell_type": "code",
   "execution_count": null,
   "metadata": {},
   "outputs": [],
   "source": [
    "maxchair.shape"
   ]
  },
  {
   "cell_type": "code",
   "execution_count": null,
   "metadata": {},
   "outputs": [],
   "source": [
    "maxchair['disease_category'] = 'No disease'\n",
    "maxchair.loc[(maxchair['OA_conserv'] == 1) & (maxchair['Hypertension'] == 0) & (maxchair['Diabetes'] == 0), 'disease_category'] = 'Only OA'\n",
    "maxchair.loc[(maxchair['OA_conserv'] == 0) & (maxchair['Hypertension'] == 1) & (maxchair['Diabetes'] == 0), 'disease_category'] = 'Only HT'\n",
    "maxchair.loc[(maxchair['OA_conserv'] == 0) & (maxchair['Hypertension'] == 0) & (maxchair['Diabetes'] == 1), 'disease_category'] = 'Only Diabetes'\n",
    "maxchair.loc[(maxchair['OA_conserv'] == 1) & (maxchair['Hypertension'] == 1) & (maxchair['Diabetes'] == 0), 'disease_category'] = 'OA and HT'\n",
    "maxchair.loc[(maxchair['OA_conserv'] == 1) & (maxchair['Hypertension'] == 0) & (maxchair['Diabetes'] == 1), 'disease_category'] = 'OA and Diab'\n",
    "maxchair.loc[(maxchair['OA_conserv'] == 0) & (maxchair['Hypertension'] == 1) & (maxchair['Diabetes'] == 1), 'disease_category'] = 'HT and Diab'\n",
    "maxchair.loc[(maxchair['OA_conserv'] == 1) & (maxchair['Hypertension'] == 1) & (maxchair['Diabetes'] == 1), 'disease_category'] = 'All three diseases'\n",
    "\n",
    "\n",
    "summary_dict = {\n",
    "    'Variable': ['Number of cases', 'Age; mean (SD)', 'Age; n (%)', 'Sex; n, (%)', 'BMI; mean (SD)',\n",
    "                 'Educational Level - Low (%)', 'Educational Level - Medium (%)',\n",
    "                 'Educational Level - High (%)', 'Educational Level - Other (%)',\n",
    "                 'Grip strength (kg); mean (SD)', 'Maxgrip; n (%)', 'Missing grip strength (n)',\n",
    "                 '5 Chairs stands (sec); mean (SD)', 'Chair stand; n (%)', 'Missing 5 Chairs stands (n)',\n",
    "                 'Total missing values (n)']\n",
    "}\n",
    "\n",
    "\n",
    "disease_groups = maxchair['disease_category'].unique()\n",
    "\n",
    "\n",
    "for group in disease_groups:\n",
    "    subset = maxchair[maxchair['disease_category'] == group]\n",
    "    num_cases = len(subset)\n",
    "\n",
    "    # Age \n",
    "    age_mean_sd = f\"{subset['age'].mean():.1f} ± {subset['age'].std():.1f}\" if num_cases > 0 else \"NaN\"\n",
    "    age_n = f\"{num_cases - subset['age'].isna().sum()} ({((num_cases - subset['age'].isna().sum()) / num_cases) * 100:.1f}%)\" if num_cases > 0 else \"NaN\"\n",
    "\n",
    "    # Female\n",
    "    female_n = f\"{subset['female'].sum()} ({(subset['female'].sum() / num_cases) * 100:.1f}%)\" if num_cases > 0 else \"NaN\"\n",
    "\n",
    "    # BMI\n",
    "    bmi_mean_sd = f\"{subset['bmi'].mean():.1f} ± {subset['bmi'].std():.1f}\" if num_cases > 0 else \"NaN\"\n",
    "\n",
    "    # Educational level counts (%)\n",
    "    def edu_percent(level):\n",
    "        count = (subset['educational_level'] == level).sum()\n",
    "        return f\"{count} ({(count / num_cases) * 100:.1f}%)\" if num_cases > 0 else \"NaN\"\n",
    "\n",
    "    edu_low = edu_percent(0)\n",
    "    edu_medium = edu_percent(1)\n",
    "    edu_high = edu_percent(2)\n",
    "    edu_other = edu_percent(3)\n",
    "\n",
    "    # Grip strength\n",
    "    maxgrip_mean_sd = f\"{subset['maxgrip'].mean():.1f} ± {subset['maxgrip'].std():.1f}\" if num_cases > 0 else \"NaN\"\n",
    "    missing_maxgrip = subset['maxgrip'].isna().sum()\n",
    "    maxgrip_n = f\"{num_cases - missing_maxgrip} ({((num_cases - missing_maxgrip) / num_cases) * 100:.1f}%)\" if num_cases > 0 else \"NaN\"\n",
    "\n",
    "    # Chair stand\n",
    "    chair_mean_sd = f\"{subset['chair'].mean():.1f} ± {subset['chair'].std():.1f}\" if num_cases > 0 else \"NaN\"\n",
    "    missing_chair = subset['chair'].isna().sum()\n",
    "    chair_n = f\"{num_cases - missing_chair} ({((num_cases - missing_chair) / num_cases) * 100:.1f}%)\" if num_cases > 0 else \"NaN\"\n",
    "\n",
    "    total_missing = missing_maxgrip + missing_chair\n",
    "\n",
    "    summary_dict[group] = [\n",
    "        num_cases, age_mean_sd, age_n, female_n, bmi_mean_sd,\n",
    "        edu_low, edu_medium, edu_high, edu_other,\n",
    "        maxgrip_mean_sd, maxgrip_n, missing_maxgrip,\n",
    "        chair_mean_sd, chair_n, missing_chair,\n",
    "        total_missing\n",
    "    ]\n",
    "\n",
    "\n",
    "max_len = max(len(v) for v in summary_dict.values())\n",
    "for k in summary_dict:\n",
    "    summary_dict[k] += [\"\"] * (max_len - len(summary_dict[k]))\n",
    "\n",
    "summary_table_maxchair = pd.DataFrame(summary_dict)\n",
    "summary_table_maxchair\n"
   ]
  },
  {
   "cell_type": "markdown",
   "metadata": {},
   "source": [
    "##### maxwalk"
   ]
  },
  {
   "cell_type": "code",
   "execution_count": null,
   "metadata": {},
   "outputs": [],
   "source": [
    "maxwalk.shape"
   ]
  },
  {
   "cell_type": "code",
   "execution_count": null,
   "metadata": {},
   "outputs": [],
   "source": [
    "only_maxgrip = maxwalk[(maxwalk['maxgrip'].notna()) & (maxwalk['walking'].isna())]\n",
    "only_walking = maxwalk[(maxwalk['walking'].notna()) & (maxwalk['maxgrip'].isna())]\n",
    "\n",
    "print(f\"Cases with Maxgrip but missing Walking speed: {len(only_maxgrip)}\")\n",
    "print(f\"Cases with Walking speed but missing Maxgrip: {len(only_walking)}\")\n"
   ]
  },
  {
   "cell_type": "code",
   "execution_count": null,
   "metadata": {},
   "outputs": [],
   "source": [
    "maxwalk['disease_category'] = 'No disease'\n",
    "maxwalk.loc[(maxwalk['OA_conserv'] == 1) & (maxwalk['Hypertension'] == 0) & (maxwalk['Diabetes'] == 0), 'disease_category'] = 'Only OA'\n",
    "maxwalk.loc[(maxwalk['OA_conserv'] == 0) & (maxwalk['Hypertension'] == 1) & (maxwalk['Diabetes'] == 0), 'disease_category'] = 'Only HT'\n",
    "maxwalk.loc[(maxwalk['OA_conserv'] == 0) & (maxwalk['Hypertension'] == 0) & (maxwalk['Diabetes'] == 1), 'disease_category'] = 'Only Diabetes'\n",
    "maxwalk.loc[(maxwalk['OA_conserv'] == 1) & (maxwalk['Hypertension'] == 1) & (maxwalk['Diabetes'] == 0), 'disease_category'] = 'OA and HT'\n",
    "maxwalk.loc[(maxwalk['OA_conserv'] == 1) & (maxwalk['Hypertension'] == 0) & (maxwalk['Diabetes'] == 1), 'disease_category'] = 'OA and Diab'\n",
    "maxwalk.loc[(maxwalk['OA_conserv'] == 0) & (maxwalk['Hypertension'] == 1) & (maxwalk['Diabetes'] == 1), 'disease_category'] = 'HT and Diab'\n",
    "maxwalk.loc[(maxwalk['OA_conserv'] == 1) & (maxwalk['Hypertension'] == 1) & (maxwalk['Diabetes'] == 1), 'disease_category'] = 'All three diseases'\n",
    "\n",
    "\n",
    "summary_dict = {\n",
    "    'Variable': ['Number of cases', 'Age; mean (SD)', 'Age; n (%)', 'Sex; n, (%)', 'BMI; mean (SD)',\n",
    "                 'Educational Level - Low (%)', 'Educational Level - Medium (%)',\n",
    "                 'Educational Level - High (%)', 'Educational Level - Other (%)',\n",
    "                 'Grip strength (kg); mean (SD)', 'Maxgrip; n (%)', 'Missing grip strength (n)',\n",
    "                 'Walking speed (sec); mean (SD)', 'Walking speed; n (%)', 'Missing walking speed (n)',\n",
    "                 'Total missing values (n)']\n",
    "}\n",
    "\n",
    "\n",
    "disease_groups = maxwalk['disease_category'].unique()\n",
    "\n",
    "\n",
    "for group in disease_groups:\n",
    "    subset = maxwalk[maxwalk['disease_category'] == group]\n",
    "    num_cases = len(subset)\n",
    "\n",
    "    # Age \n",
    "    age_mean_sd = f\"{subset['age'].mean():.1f} ± {subset['age'].std():.1f}\" if num_cases > 0 else \"NaN\"\n",
    "    age_n = f\"{num_cases - subset['age'].isna().sum()} ({((num_cases - subset['age'].isna().sum()) / num_cases) * 100:.1f}%)\" if num_cases > 0 else \"NaN\"\n",
    "\n",
    "    # Female\n",
    "    female_n = f\"{subset['female'].sum()} ({(subset['female'].sum() / num_cases) * 100:.1f}%)\" if num_cases > 0 else \"NaN\"\n",
    "\n",
    "    # BMI\n",
    "    bmi_mean_sd = f\"{subset['bmi'].mean():.1f} ± {subset['bmi'].std():.1f}\" if num_cases > 0 else \"NaN\"\n",
    "\n",
    "    # Educational level counts (%)\n",
    "    def edu_percent(level):\n",
    "        count = (subset['educational_level'] == level).sum()\n",
    "        return f\"{count} ({(count / num_cases) * 100:.1f}%)\" if num_cases > 0 else \"NaN\"\n",
    "\n",
    "    edu_low = edu_percent(0)\n",
    "    edu_medium = edu_percent(1)\n",
    "    edu_high = edu_percent(2)\n",
    "    edu_other = edu_percent(3)\n",
    "\n",
    "    # Grip strength\n",
    "    maxgrip_mean_sd = f\"{subset['maxgrip'].mean():.1f} ± {subset['maxgrip'].std():.1f}\" if num_cases > 0 else \"NaN\"\n",
    "    missing_maxgrip = subset['maxgrip'].isna().sum()\n",
    "    maxgrip_n = f\"{num_cases - missing_maxgrip} ({((num_cases - missing_maxgrip) / num_cases) * 100:.1f}%)\" if num_cases > 0 else \"NaN\"\n",
    "\n",
    "    # Walking speed\n",
    "    walking_mean_sd = f\"{subset['walking'].mean():.1f} ± {subset['walking'].std():.1f}\" if num_cases > 0 else \"NaN\"\n",
    "    missing_walking = subset['walking'].isna().sum()\n",
    "    valid_walking = num_cases - missing_walking\n",
    "    walking_n = f\"{valid_walking} ({(valid_walking / num_cases) * 100:.1f}%)\" if num_cases > 0 else \"NaN\"\n",
    "\n",
    "    total_missing = missing_maxgrip + missing_walking\n",
    "\n",
    "\n",
    "    summary_dict[group] = [\n",
    "        num_cases, age_mean_sd, age_n, female_n, bmi_mean_sd,\n",
    "        edu_low, edu_medium, edu_high, edu_other,\n",
    "        maxgrip_mean_sd, maxgrip_n, missing_maxgrip,\n",
    "        walking_mean_sd, walking_n, missing_walking,\n",
    "        total_missing\n",
    "    ]\n",
    "\n",
    "\n",
    "max_len = max(len(v) for v in summary_dict.values())\n",
    "for k in summary_dict:\n",
    "    summary_dict[k] += [\"\"] * (max_len - len(summary_dict[k]))\n",
    "\n",
    "summary_table_maxwalk = pd.DataFrame(summary_dict)\n",
    "summary_table_maxwalk\n"
   ]
  },
  {
   "cell_type": "markdown",
   "metadata": {},
   "source": [
    "##### Create csv from maxchair and maxwalk"
   ]
  },
  {
   "cell_type": "code",
   "execution_count": null,
   "metadata": {},
   "outputs": [],
   "source": [
    "maxchair.to_csv(\"data/maxchair.csv\")\n",
    "maxwalk.to_csv(\"data/maxwalk.csv\")"
   ]
  },
  {
   "cell_type": "code",
   "execution_count": null,
   "metadata": {},
   "outputs": [],
   "source": [
    "maxchair.describe()"
   ]
  },
  {
   "cell_type": "code",
   "execution_count": null,
   "metadata": {},
   "outputs": [],
   "source": [
    "maxwalk.describe()"
   ]
  },
  {
   "cell_type": "code",
   "execution_count": null,
   "metadata": {},
   "outputs": [],
   "source": [
    "data.describe()"
   ]
  },
  {
   "cell_type": "markdown",
   "metadata": {},
   "source": [
    "##### Comparison between disease:"
   ]
  },
  {
   "cell_type": "code",
   "execution_count": null,
   "metadata": {},
   "outputs": [],
   "source": [
    "maxchair['disease_count'] = maxchair[['OA_conserv', 'Diabetes', 'Hypertension']].sum(axis=1)\n",
    "\n",
    "summary_chair = maxchair.groupby('disease_count').agg(\n",
    "    n=('disease_count', 'count'),\n",
    "    grip_strength_mean=('maxgrip', 'mean'),\n",
    "    chair_stand_mean=('chair', 'mean')\n",
    ").round(1)\n",
    "\n",
    "summary_chair\n"
   ]
  },
  {
   "cell_type": "code",
   "execution_count": null,
   "metadata": {},
   "outputs": [],
   "source": [
    "maxwalk['disease_count'] = maxwalk[['OA_conserv', 'Diabetes', 'Hypertension']].sum(axis=1)\n",
    "\n",
    "summary_walk = maxwalk.groupby('disease_count').agg(\n",
    "    n=('disease_count', 'count'),\n",
    "    grip_strength_mean=('maxgrip', 'mean'),\n",
    "    walking_mean=('walking', 'mean')\n",
    ").round(1)\n",
    "\n",
    "summary_walk "
   ]
  },
  {
   "cell_type": "code",
   "execution_count": null,
   "metadata": {},
   "outputs": [],
   "source": []
  }
 ],
 "metadata": {
  "kernelspec": {
   "display_name": "physioai",
   "language": "python",
   "name": "python3"
  },
  "language_info": {
   "codemirror_mode": {
    "name": "ipython",
    "version": 3
   },
   "file_extension": ".py",
   "mimetype": "text/x-python",
   "name": "python",
   "nbconvert_exporter": "python",
   "pygments_lexer": "ipython3",
   "version": "3.10.13"
  }
 },
 "nbformat": 4,
 "nbformat_minor": 2
}
