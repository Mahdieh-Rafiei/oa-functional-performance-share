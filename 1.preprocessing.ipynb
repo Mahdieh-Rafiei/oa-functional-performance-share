{
 "cells": [
  {
   "cell_type": "code",
   "execution_count": 1,
   "metadata": {},
   "outputs": [
    {
     "name": "stderr",
     "output_type": "stream",
     "text": [
      "/Users/mahdie/opt/anaconda3/envs/physioai/lib/python3.10/site-packages/pandas/core/arrays/masked.py:60: UserWarning: Pandas requires version '1.3.6' or newer of 'bottleneck' (version '1.3.5' currently installed).\n",
      "  from pandas.core import (\n"
     ]
    }
   ],
   "source": [
    "import pandas as pd\n",
    "import numpy as np\n",
    "from matplotlib import pyplot as plt\n",
    "import seaborn as sns"
   ]
  },
  {
   "cell_type": "markdown",
   "metadata": {},
   "source": [
    "#### Data loading"
   ]
  },
  {
   "cell_type": "code",
   "execution_count": 2,
   "metadata": {},
   "outputs": [
    {
     "name": "stderr",
     "output_type": "stream",
     "text": [
      "/var/folders/rn/9h9wnd_x13930h39r4t9tt_w0000gr/T/ipykernel_89462/338867297.py:1: DtypeWarning: Columns (51,52,53,54,55,56,57,58,59,60,61,62,63,64,65,66,67,145,150,151,156,157,158,159,160,161,162,163,164,165,166,167,174,175,176,181,184,209,210,211,212,213,214,215,238,241,261,262,263,264,265,266,287,289,290,299,300) have mixed types. Specify dtype option on import or set low_memory=False.\n",
      "  df = pd.read_csv(\"data/main_df_after_merging.csv\")\n"
     ]
    },
    {
     "data": {
      "text/plain": [
       "(37143, 315)"
      ]
     },
     "execution_count": 2,
     "metadata": {},
     "output_type": "execute_result"
    }
   ],
   "source": [
    "df = pd.read_csv(\"data/main_df_after_merging.csv\")\n",
    "df.shape"
   ]
  },
  {
   "cell_type": "markdown",
   "metadata": {},
   "source": [
    "All variables\n",
    "| variable name  | meaning |\n",
    "|---|---|\n",
    "|ws010_ |\tfirst walking speed result|\n",
    "|ws011_ |\tfirst walking speed time|\n",
    "|ws012_ |\tsecond walking speed result|\n",
    "|ws013_ |\tsecond walking speed time|\n",
    "|cs004_ |\tchair rise result|\n",
    "|cs008_ |\ttime 5 chair rise|\n",
    "|gs006_|\tmaxgrip left one|\n",
    "|gs007_|\tmaxgrip left two|\n",
    "|gs008_|\tmaxgrip right one|\n",
    "|gs009_|\tmaxgrip right two|\n",
    "|dn002_|    MOB|\n",
    "|dn003_|    YOB|\n",
    "|dn042_|    female|\n",
    "|ph006d8| OA|\n",
    "|ph010d1| pain joint|\n",
    "|ph012_ | weight|\n",
    "|ph013_ | height|\n",
    "|ph044_ | eyesight_close |\n",
    "|ph046_ | hearing |"
   ]
  },
  {
   "cell_type": "markdown",
   "metadata": {},
   "source": [
    "##### Create variable \"age\""
   ]
  },
  {
   "cell_type": "code",
   "execution_count": 3,
   "metadata": {},
   "outputs": [],
   "source": [
    "# Wave 2 is 2007\n",
    "reference_year = 2007\n",
    "df['age'] = reference_year - df['YOB']"
   ]
  },
  {
   "cell_type": "markdown",
   "metadata": {},
   "source": [
    "##### Plausible Height and Weight"
   ]
  },
  {
   "cell_type": "markdown",
   "metadata": {},
   "source": [
    "Consider weight > 10 and height > 100"
   ]
  },
  {
   "cell_type": "code",
   "execution_count": 4,
   "metadata": {},
   "outputs": [
    {
     "name": "stdout",
     "output_type": "stream",
     "text": [
      "Initial dataset size: 37143\n",
      "After filtering plausible weight: 36504\n",
      "After filtering and correcting height: 15864\n"
     ]
    }
   ],
   "source": [
    "def clean_height_weight(df):\n",
    "    print(\"Initial dataset size:\", len(df))\n",
    "    \n",
    "    df = df.loc[df['weight'] > 10.0]\n",
    "    print(\"After filtering plausible weight:\", len(df))\n",
    "    \n",
    "\n",
    "    df = df.loc[df['height'] > 100.0]\n",
    "    \n",
    "    df.loc[(df['height'] > 1.0) & (df['height'] < 2.0), 'height'] *= 100\n",
    "    print(\"After filtering and correcting height:\", len(df))\n",
    "    \n",
    "    return df\n",
    "df_raw = df.copy()\n",
    "df = clean_height_weight(df)"
   ]
  },
  {
   "cell_type": "code",
   "execution_count": 5,
   "metadata": {},
   "outputs": [
    {
     "name": "stdout",
     "output_type": "stream",
     "text": [
      "Excluded due to implausible/missing weight or height: (21279, 316)\n"
     ]
    }
   ],
   "source": [
    "excluded_hw = df_raw[~df_raw['mergeid'].isin(df['mergeid'])]\n",
    "print(\"Excluded due to implausible/missing weight or height:\", excluded_hw.shape)"
   ]
  },
  {
   "cell_type": "markdown",
   "metadata": {},
   "source": [
    "##### Create variable \"bmi\""
   ]
  },
  {
   "cell_type": "code",
   "execution_count": 6,
   "metadata": {},
   "outputs": [],
   "source": [
    "df['bmi'] = df['weight'] / ((df['height'] / 100) ** 2)"
   ]
  },
  {
   "cell_type": "markdown",
   "metadata": {},
   "source": [
    "##### Compute the maximum grip strength across all measurements"
   ]
  },
  {
   "cell_type": "code",
   "execution_count": 7,
   "metadata": {},
   "outputs": [],
   "source": [
    "df['maxgrip'] = df[['maxgrip_left_one', 'maxgrip_left_two', 'maxgrip_right_one', 'maxgrip_right_two']].max(axis=1)"
   ]
  },
  {
   "cell_type": "markdown",
   "metadata": {},
   "source": [
    "##### Compute the average walking speed across two attempts"
   ]
  },
  {
   "cell_type": "code",
   "execution_count": 8,
   "metadata": {},
   "outputs": [],
   "source": [
    "df['walking'] = df[['first_walking_speed_time', 'second_walking_speed_time']].mean(axis=1)"
   ]
  },
  {
   "cell_type": "markdown",
   "metadata": {},
   "source": [
    "##### Other variables"
   ]
  },
  {
   "cell_type": "code",
   "execution_count": 9,
   "metadata": {},
   "outputs": [],
   "source": [
    "df['chair'] = df['time_5_chair_rise']\n",
    "df['OA_conserv'] = np.logical_and(df['OA'], df['pain_joint'].astype(bool)).astype(np.int8)\n",
    "df['activity'] = 2 * (4 - df['br015_']) + (4 - df['br016_'])\n",
    "df['female'] = df['female'].astype(int)"
   ]
  },
  {
   "cell_type": "code",
   "execution_count": 10,
   "metadata": {},
   "outputs": [
    {
     "data": {
      "text/plain": [
       "(15864,)"
      ]
     },
     "execution_count": 10,
     "metadata": {},
     "output_type": "execute_result"
    }
   ],
   "source": [
    "df['chair'].sort_values(ascending=False).shape"
   ]
  },
  {
   "cell_type": "markdown",
   "metadata": {},
   "source": [
    "##### Create df_anno"
   ]
  },
  {
   "cell_type": "code",
   "execution_count": 11,
   "metadata": {},
   "outputs": [],
   "source": [
    "df_anno = df.drop_duplicates(subset='mergeid', keep='first')\n",
    "df_anno.set_index('mergeid', inplace=True, drop=True)\n",
    "\n",
    "df_anno_raw = df_anno.copy()"
   ]
  },
  {
   "cell_type": "code",
   "execution_count": 12,
   "metadata": {},
   "outputs": [
    {
     "name": "stdout",
     "output_type": "stream",
     "text": [
      "df: (15864, 322) df_anno: (15864, 321)\n"
     ]
    }
   ],
   "source": [
    "print(\"df:\", df.shape, \"df_anno:\", df_anno.shape)"
   ]
  },
  {
   "cell_type": "markdown",
   "metadata": {},
   "source": [
    "##### Categorizing & Identifying Control Groups; OA, diabetes, hypertension"
   ]
  },
  {
   "cell_type": "code",
   "execution_count": 13,
   "metadata": {},
   "outputs": [],
   "source": [
    "df_anno['Hypertension'] = pd.to_numeric(df_anno['ph006d2'])\n",
    "df_anno['Diabetes'] = pd.to_numeric(df_anno['ph006d5'])"
   ]
  },
  {
   "cell_type": "code",
   "execution_count": 14,
   "metadata": {},
   "outputs": [],
   "source": [
    "df_anno[\"control\"] = 0\n",
    "df_anno.loc[(df_anno[\"OA_conserv\"] == 0) & (df_anno[\"Hypertension\"] == 0) & (df_anno[\"Diabetes\"] == 0), \"control\"] = 1"
   ]
  },
  {
   "cell_type": "code",
   "execution_count": 15,
   "metadata": {},
   "outputs": [
    {
     "data": {
      "text/plain": [
       "Hypertension\n",
       "0.0    10340\n",
       "1.0     5496\n",
       "Name: count, dtype: int64"
      ]
     },
     "metadata": {},
     "output_type": "display_data"
    },
    {
     "data": {
      "text/plain": [
       "Diabetes\n",
       "0.0    14169\n",
       "1.0     1667\n",
       "Name: count, dtype: int64"
      ]
     },
     "metadata": {},
     "output_type": "display_data"
    },
    {
     "data": {
      "text/plain": [
       "OA_conserv\n",
       "0    12988\n",
       "1     2876\n",
       "Name: count, dtype: int64"
      ]
     },
     "metadata": {},
     "output_type": "display_data"
    }
   ],
   "source": [
    "display(df_anno['Hypertension'].value_counts())\n",
    "display(df_anno['Diabetes'].value_counts())\n",
    "display(df_anno['OA_conserv'].value_counts())"
   ]
  },
  {
   "cell_type": "code",
   "execution_count": 16,
   "metadata": {},
   "outputs": [
    {
     "data": {
      "text/plain": [
       "Hypertension  OA_conserv  Diabetes\n",
       "0.0           0           0.0         8294\n",
       "                          1.0          535\n",
       "              1           0.0         1367\n",
       "                          1.0          144\n",
       "1.0           0           0.0         3450\n",
       "                          1.0          702\n",
       "              1           0.0         1058\n",
       "                          1.0          286\n",
       "Name: count, dtype: int64"
      ]
     },
     "metadata": {},
     "output_type": "display_data"
    }
   ],
   "source": [
    "display(df_anno[['Hypertension', 'OA_conserv', 'Diabetes']].value_counts(sort=False))"
   ]
  },
  {
   "cell_type": "markdown",
   "metadata": {},
   "source": [
    "## data exploration"
   ]
  },
  {
   "cell_type": "markdown",
   "metadata": {},
   "source": [
    "##### Select features"
   ]
  },
  {
   "cell_type": "code",
   "execution_count": 17,
   "metadata": {},
   "outputs": [
    {
     "data": {
      "text/plain": [
       "(15864, 324)"
      ]
     },
     "execution_count": 17,
     "metadata": {},
     "output_type": "execute_result"
    }
   ],
   "source": [
    "df_anno.shape"
   ]
  },
  {
   "cell_type": "code",
   "execution_count": 18,
   "metadata": {},
   "outputs": [
    {
     "name": "stdout",
     "output_type": "stream",
     "text": [
      "(15864, 324)\n"
     ]
    }
   ],
   "source": [
    "df_anno = df_anno.drop_duplicates()\n",
    "print(df_anno.shape)\n",
    "_df_anno = df_anno.copy()"
   ]
  },
  {
   "cell_type": "markdown",
   "metadata": {},
   "source": [
    "##### Create df_feature"
   ]
  },
  {
   "cell_type": "code",
   "execution_count": 19,
   "metadata": {},
   "outputs": [],
   "source": [
    "# features = ['bmi', 'weight', 'age', 'OA_conserv', 'female', 'hearing', 'eyesight_close', 'Hypertension', 'Diabetes']\n",
    "features = ['age', 'bmi', 'female', 'educational_level', 'OA_conserv', 'Hypertension', 'Diabetes']\n",
    "df_features = df_anno.loc[:, features].copy()\n",
    "df_features = df_features.dropna(axis=0)"
   ]
  },
  {
   "cell_type": "code",
   "execution_count": 20,
   "metadata": {},
   "outputs": [
    {
     "name": "stdout",
     "output_type": "stream",
     "text": [
      "Excluded due to missing features: (43, 324)\n"
     ]
    }
   ],
   "source": [
    "excluded_features = df_anno[~df_anno.index.isin(df_features.index)]\n",
    "print(\"Excluded due to missing features:\", excluded_features.shape)\n"
   ]
  },
  {
   "cell_type": "code",
   "execution_count": 21,
   "metadata": {},
   "outputs": [
    {
     "data": {
      "text/plain": [
       "(15821, 7)"
      ]
     },
     "execution_count": 21,
     "metadata": {},
     "output_type": "execute_result"
    }
   ],
   "source": [
    "df_features.shape"
   ]
  },
  {
   "cell_type": "code",
   "execution_count": 22,
   "metadata": {},
   "outputs": [
    {
     "data": {
      "text/plain": [
       "age                  0\n",
       "bmi                  0\n",
       "female               0\n",
       "educational_level    0\n",
       "OA_conserv           0\n",
       "Hypertension         0\n",
       "Diabetes             0\n",
       "dtype: int64"
      ]
     },
     "execution_count": 22,
     "metadata": {},
     "output_type": "execute_result"
    }
   ],
   "source": [
    "df_features.isna().sum()"
   ]
  },
  {
   "cell_type": "code",
   "execution_count": 23,
   "metadata": {},
   "outputs": [
    {
     "name": "stdout",
     "output_type": "stream",
     "text": [
      "Total excluded cases: (21322, 316)\n"
     ]
    }
   ],
   "source": [
    "excluded_all = df_raw[~df_raw['mergeid'].isin(df_features.index)]\n",
    "print(\"Total excluded cases:\", excluded_all.shape)"
   ]
  },
  {
   "cell_type": "code",
   "execution_count": 24,
   "metadata": {},
   "outputs": [],
   "source": [
    "excluded_all.to_csv(\"data/excluded_cases.csv\")\n",
    "df_features.to_csv(\"data/included_cases.csv\")"
   ]
  },
  {
   "cell_type": "markdown",
   "metadata": {},
   "source": [
    "##### Create data with outcomes and features"
   ]
  },
  {
   "cell_type": "code",
   "execution_count": 25,
   "metadata": {},
   "outputs": [],
   "source": [
    "data = pd.concat([df_features, df_anno.loc[:, ['maxgrip', 'chair', 'walking',]]], axis=1)"
   ]
  },
  {
   "cell_type": "code",
   "execution_count": 26,
   "metadata": {},
   "outputs": [
    {
     "data": {
      "text/plain": [
       "(15864, 10)"
      ]
     },
     "execution_count": 26,
     "metadata": {},
     "output_type": "execute_result"
    }
   ],
   "source": [
    "data.shape"
   ]
  },
  {
   "cell_type": "code",
   "execution_count": 27,
   "metadata": {},
   "outputs": [],
   "source": [
    "data = data.dropna(subset=features)"
   ]
  },
  {
   "cell_type": "code",
   "execution_count": 28,
   "metadata": {},
   "outputs": [
    {
     "data": {
      "text/plain": [
       "(15821, 10)"
      ]
     },
     "execution_count": 28,
     "metadata": {},
     "output_type": "execute_result"
    }
   ],
   "source": [
    "data.shape"
   ]
  },
  {
   "cell_type": "code",
   "execution_count": 29,
   "metadata": {},
   "outputs": [
    {
     "data": {
      "text/plain": [
       "age                      0\n",
       "bmi                      0\n",
       "female                   0\n",
       "educational_level        0\n",
       "OA_conserv               0\n",
       "Hypertension             0\n",
       "Diabetes                 0\n",
       "maxgrip               1407\n",
       "chair                 5308\n",
       "walking              14396\n",
       "dtype: int64"
      ]
     },
     "execution_count": 29,
     "metadata": {},
     "output_type": "execute_result"
    }
   ],
   "source": [
    "data.isna().sum()"
   ]
  },
  {
   "cell_type": "code",
   "execution_count": 30,
   "metadata": {},
   "outputs": [
    {
     "name": "stdout",
     "output_type": "stream",
     "text": [
      "df: (15864, 322)\n",
      "df_anno: (15864, 324)\n",
      "df_features: (15821, 7)\n",
      "data: (15821, 10)\n"
     ]
    }
   ],
   "source": [
    "print(\"df:\", df.shape)\n",
    "print(\"df_anno:\", df_anno.shape)\n",
    "print(\"df_features:\", df_features.shape)\n",
    "print(\"data:\", data.shape)"
   ]
  },
  {
   "cell_type": "code",
   "execution_count": 31,
   "metadata": {},
   "outputs": [
    {
     "name": "stdout",
     "output_type": "stream",
     "text": [
      "(15821, 10)\n"
     ]
    }
   ],
   "source": [
    "features = ['age', 'bmi', 'female', 'educational_level', 'OA_conserv', 'Hypertension', 'Diabetes']\n",
    "outcomes = ['maxgrip', 'chair', 'walking']\n",
    "print(data.shape)"
   ]
  },
  {
   "cell_type": "code",
   "execution_count": 32,
   "metadata": {},
   "outputs": [
    {
     "name": "stdout",
     "output_type": "stream",
     "text": [
      "female\n",
      "1.0    8716\n",
      "0.0    7105\n",
      "Name: count, dtype: int64\n",
      "------------------------------------------------------------\n",
      "OA_conserv\n",
      "0.0    12970\n",
      "1.0     2851\n",
      "Name: count, dtype: int64\n",
      "------------------------------------------------------------\n",
      "Hypertension\n",
      "0.0    10335\n",
      "1.0     5486\n",
      "Name: count, dtype: int64\n",
      "------------------------------------------------------------\n",
      "Diabetes\n",
      "0.0    14158\n",
      "1.0     1663\n",
      "Name: count, dtype: int64\n"
     ]
    }
   ],
   "source": [
    "print(data['female'].value_counts())\n",
    "print(\"------------------------------------------------------------\")\n",
    "print(data['OA_conserv'].value_counts())\n",
    "print(\"------------------------------------------------------------\")\n",
    "print(data['Hypertension'].value_counts())\n",
    "print(\"------------------------------------------------------------\")\n",
    "print(data['Diabetes'].value_counts())"
   ]
  },
  {
   "cell_type": "code",
   "execution_count": 33,
   "metadata": {},
   "outputs": [
    {
     "data": {
      "text/plain": [
       "chair\n",
       "10.000000    272\n",
       "9.000000     212\n",
       "8.000000     208\n",
       "12.000000    207\n",
       "11.000000    176\n",
       "            ... \n",
       "9.140000       1\n",
       "16.040001      1\n",
       "15.320000      1\n",
       "24.580000      1\n",
       "2.650000       1\n",
       "Name: count, Length: 2552, dtype: int64"
      ]
     },
     "execution_count": 33,
     "metadata": {},
     "output_type": "execute_result"
    }
   ],
   "source": [
    "data.chair.value_counts()"
   ]
  },
  {
   "cell_type": "code",
   "execution_count": 34,
   "metadata": {},
   "outputs": [
    {
     "name": "stdout",
     "output_type": "stream",
     "text": [
      "chair\n",
      "0.000000     55.000000\n",
      "0.050000     46.500000\n",
      "0.060000     61.666667\n",
      "0.060000     57.000000\n",
      "0.070000     61.000000\n",
      "               ...    \n",
      "89.000000    56.000000\n",
      "90.000000    73.000000\n",
      "91.000000    65.000000\n",
      "91.150002    72.000000\n",
      "98.000000    65.000000\n",
      "Name: age, Length: 2552, dtype: float64\n"
     ]
    }
   ],
   "source": [
    "mean_age_per_chair = data.groupby('chair')['age'].mean()\n",
    "print(mean_age_per_chair)\n"
   ]
  },
  {
   "cell_type": "markdown",
   "metadata": {},
   "source": [
    "#### Summery table"
   ]
  },
  {
   "cell_type": "code",
   "execution_count": 35,
   "metadata": {},
   "outputs": [
    {
     "name": "stdout",
     "output_type": "stream",
     "text": [
      "Dataset for maxgrip: (14414, 8)\n",
      "Dataset for chair: (10513, 8)\n",
      "Dataset for walking: (1425, 8)\n"
     ]
    }
   ],
   "source": [
    "features = ['age', 'bmi', 'female', 'educational_level', 'OA_conserv', 'Hypertension', 'Diabetes']\n",
    "outcomes = ['maxgrip', 'chair', 'walking']\n",
    "\n",
    "# Create separate datasets for each outcome\n",
    "datasets = {outcome: data[features + [outcome]].dropna() for outcome in outcomes}\n",
    "\n",
    "for outcome, df_outcome in datasets.items():\n",
    "    print(f\"Dataset for {outcome}: {df_outcome.shape}\")\n"
   ]
  },
  {
   "cell_type": "code",
   "execution_count": 36,
   "metadata": {},
   "outputs": [
    {
     "name": "stdout",
     "output_type": "stream",
     "text": [
      "Valid samples per dataset:\n",
      "data Maxgrip: (14414, 8)\n",
      "data Chair Stand: (10513, 8)\n",
      "data Walking Speed: (1425, 8)\n"
     ]
    }
   ],
   "source": [
    "df_maxgrip = datasets['maxgrip']\n",
    "df_chair = datasets['chair']\n",
    "df_walking = datasets['walking']\n",
    "\n",
    "print(\"Valid samples per dataset:\")\n",
    "print(\"data Maxgrip:\", df_maxgrip.shape)\n",
    "print(\"data Chair Stand:\", df_chair.shape)\n",
    "print(\"data Walking Speed:\", df_walking.shape)"
   ]
  },
  {
   "cell_type": "code",
   "execution_count": 37,
   "metadata": {},
   "outputs": [
    {
     "data": {
      "text/plain": [
       "count    14414.000000\n",
       "mean        62.993270\n",
       "std         10.068992\n",
       "min         15.000000\n",
       "25%         55.000000\n",
       "50%         61.000000\n",
       "75%         70.000000\n",
       "max         99.000000\n",
       "Name: age, dtype: float64"
      ]
     },
     "execution_count": 37,
     "metadata": {},
     "output_type": "execute_result"
    }
   ],
   "source": [
    "df_maxgrip.age.describe()"
   ]
  },
  {
   "cell_type": "code",
   "execution_count": 38,
   "metadata": {},
   "outputs": [
    {
     "data": {
      "text/plain": [
       "count    10513.000000\n",
       "mean        59.708266\n",
       "std          7.457453\n",
       "min         15.000000\n",
       "25%         54.000000\n",
       "50%         59.000000\n",
       "75%         65.000000\n",
       "max         96.000000\n",
       "Name: age, dtype: float64"
      ]
     },
     "execution_count": 38,
     "metadata": {},
     "output_type": "execute_result"
    }
   ],
   "source": [
    "df_chair.age.describe()"
   ]
  },
  {
   "cell_type": "code",
   "execution_count": 39,
   "metadata": {},
   "outputs": [
    {
     "data": {
      "text/plain": [
       "count    1425.000000\n",
       "mean       80.066667\n",
       "std         3.985813\n",
       "min        60.000000\n",
       "25%        77.000000\n",
       "50%        79.000000\n",
       "75%        82.000000\n",
       "max        98.000000\n",
       "Name: age, dtype: float64"
      ]
     },
     "execution_count": 39,
     "metadata": {},
     "output_type": "execute_result"
    }
   ],
   "source": [
    "df_walking.age.describe()"
   ]
  },
  {
   "cell_type": "markdown",
   "metadata": {},
   "source": [
    "##### disease_group"
   ]
  },
  {
   "cell_type": "markdown",
   "metadata": {},
   "source": [
    "- **0**: No disease  \n",
    "- **1**:  \n",
    "  - Diabetes only  \n",
    "  - Hypertension only  \n",
    "  - OA only  \n",
    "- **2**:  \n",
    "  - Diabetes + Hypertension  \n",
    "  - Diabetes + OA  \n",
    "  - Hypertension + OA  \n",
    "- **3**: Diabetes + Hypertension + OA \n"
   ]
  },
  {
   "cell_type": "code",
   "execution_count": 40,
   "metadata": {},
   "outputs": [],
   "source": [
    "# Create a new categorical variable 'disease_group' based on conditions in 'data'\n",
    "data['disease_group'] = 0  # Default: No disease\n",
    "\n",
    "# Assign groups based on disease conditions\n",
    "data.loc[(data['Diabetes'] == 1) & (data['Hypertension'] == 0) & (data['OA_conserv'] == 0), 'disease_group'] = 1\n",
    "data.loc[(data['Diabetes'] == 0) & (data['Hypertension'] == 1) & (data['OA_conserv'] == 0), 'disease_group'] = 1\n",
    "data.loc[(data['Diabetes'] == 0) & (data['Hypertension'] == 0) & (data['OA_conserv'] == 1), 'disease_group'] = 1\n",
    "\n",
    "data.loc[(data['Diabetes'] == 1) & (data['Hypertension'] == 1) & (data['OA_conserv'] == 0), 'disease_group'] = 2\n",
    "data.loc[(data['Diabetes'] == 1) & (data['Hypertension'] == 0) & (data['OA_conserv'] == 1), 'disease_group'] = 2\n",
    "data.loc[(data['Diabetes'] == 0) & (data['Hypertension'] == 1) & (data['OA_conserv'] == 1), 'disease_group'] = 2\n",
    "\n",
    "data.loc[(data['Diabetes'] == 1) & (data['Hypertension'] == 1) & (data['OA_conserv'] == 1), 'disease_group'] = 3\n",
    "\n",
    "# Convert disease_group to categorical\n",
    "data['disease_group'] = data['disease_group'].astype(int)"
   ]
  },
  {
   "cell_type": "code",
   "execution_count": 41,
   "metadata": {},
   "outputs": [
    {
     "name": "stdout",
     "output_type": "stream",
     "text": [
      "disease_group\n",
      "0    8290\n",
      "1    5347\n",
      "2    1899\n",
      "3     285\n",
      "Name: count, dtype: int64\n"
     ]
    }
   ],
   "source": [
    "disease_counts = data['disease_group'].value_counts()\n",
    "print(disease_counts)"
   ]
  },
  {
   "cell_type": "code",
   "execution_count": 42,
   "metadata": {},
   "outputs": [
    {
     "data": {
      "text/html": [
       "<div>\n",
       "<style scoped>\n",
       "    .dataframe tbody tr th:only-of-type {\n",
       "        vertical-align: middle;\n",
       "    }\n",
       "\n",
       "    .dataframe tbody tr th {\n",
       "        vertical-align: top;\n",
       "    }\n",
       "\n",
       "    .dataframe thead th {\n",
       "        text-align: right;\n",
       "    }\n",
       "</style>\n",
       "<table border=\"1\" class=\"dataframe\">\n",
       "  <thead>\n",
       "    <tr style=\"text-align: right;\">\n",
       "      <th></th>\n",
       "      <th>Maxgrip</th>\n",
       "      <th>Chair Stand</th>\n",
       "      <th>Walking Speed</th>\n",
       "    </tr>\n",
       "    <tr>\n",
       "      <th>disease_group</th>\n",
       "      <th></th>\n",
       "      <th></th>\n",
       "      <th></th>\n",
       "    </tr>\n",
       "  </thead>\n",
       "  <tbody>\n",
       "    <tr>\n",
       "      <th>0</th>\n",
       "      <td>7612</td>\n",
       "      <td>6117</td>\n",
       "      <td>533</td>\n",
       "    </tr>\n",
       "    <tr>\n",
       "      <th>1</th>\n",
       "      <td>4896</td>\n",
       "      <td>3314</td>\n",
       "      <td>619</td>\n",
       "    </tr>\n",
       "    <tr>\n",
       "      <th>2</th>\n",
       "      <td>1681</td>\n",
       "      <td>991</td>\n",
       "      <td>231</td>\n",
       "    </tr>\n",
       "    <tr>\n",
       "      <th>3</th>\n",
       "      <td>225</td>\n",
       "      <td>91</td>\n",
       "      <td>42</td>\n",
       "    </tr>\n",
       "  </tbody>\n",
       "</table>\n",
       "</div>"
      ],
      "text/plain": [
       "               Maxgrip  Chair Stand  Walking Speed\n",
       "disease_group                                     \n",
       "0                 7612         6117            533\n",
       "1                 4896         3314            619\n",
       "2                 1681          991            231\n",
       "3                  225           91             42"
      ]
     },
     "execution_count": 42,
     "metadata": {},
     "output_type": "execute_result"
    }
   ],
   "source": [
    "valid_samples = {\n",
    "    \"Maxgrip\": data.dropna(subset=['maxgrip'])['disease_group'].value_counts(),\n",
    "    \"Chair Stand\": data.dropna(subset=['chair'])['disease_group'].value_counts(),\n",
    "    \"Walking Speed\": data.dropna(subset=['walking'])['disease_group'].value_counts()\n",
    "}\n",
    "\n",
    "valid_samples_df = pd.DataFrame(valid_samples)\n",
    "valid_samples_df"
   ]
  },
  {
   "cell_type": "markdown",
   "metadata": {},
   "source": [
    "##### Summery"
   ]
  },
  {
   "cell_type": "code",
   "execution_count": 43,
   "metadata": {},
   "outputs": [
    {
     "name": "stdout",
     "output_type": "stream",
     "text": [
      "data:  (15821, 11)\n",
      "maxgrip:  (14414, 8)\n",
      "chair:  (10513, 8)\n",
      "walking:  (1425, 8)\n"
     ]
    }
   ],
   "source": [
    "print(\"data: \", data.shape)\n",
    "print(\"maxgrip: \", df_maxgrip.shape)\n",
    "print(\"chair: \", df_chair.shape)\n",
    "print(\"walking: \", df_walking.shape)"
   ]
  },
  {
   "cell_type": "code",
   "execution_count": 44,
   "metadata": {},
   "outputs": [
    {
     "data": {
      "text/html": [
       "<div>\n",
       "<style scoped>\n",
       "    .dataframe tbody tr th:only-of-type {\n",
       "        vertical-align: middle;\n",
       "    }\n",
       "\n",
       "    .dataframe tbody tr th {\n",
       "        vertical-align: top;\n",
       "    }\n",
       "\n",
       "    .dataframe thead th {\n",
       "        text-align: right;\n",
       "    }\n",
       "</style>\n",
       "<table border=\"1\" class=\"dataframe\">\n",
       "  <thead>\n",
       "    <tr style=\"text-align: right;\">\n",
       "      <th></th>\n",
       "      <th>age</th>\n",
       "      <th>bmi</th>\n",
       "      <th>female</th>\n",
       "      <th>educational_level</th>\n",
       "      <th>OA_conserv</th>\n",
       "      <th>Hypertension</th>\n",
       "      <th>Diabetes</th>\n",
       "      <th>maxgrip</th>\n",
       "      <th>chair</th>\n",
       "      <th>walking</th>\n",
       "      <th>disease_group</th>\n",
       "    </tr>\n",
       "    <tr>\n",
       "      <th>mergeid</th>\n",
       "      <th></th>\n",
       "      <th></th>\n",
       "      <th></th>\n",
       "      <th></th>\n",
       "      <th></th>\n",
       "      <th></th>\n",
       "      <th></th>\n",
       "      <th></th>\n",
       "      <th></th>\n",
       "      <th></th>\n",
       "      <th></th>\n",
       "    </tr>\n",
       "  </thead>\n",
       "  <tbody>\n",
       "    <tr>\n",
       "      <th>AT-004234-02</th>\n",
       "      <td>53.0</td>\n",
       "      <td>30.717400</td>\n",
       "      <td>1.0</td>\n",
       "      <td>1.0</td>\n",
       "      <td>0.0</td>\n",
       "      <td>0.0</td>\n",
       "      <td>1.0</td>\n",
       "      <td>37.0</td>\n",
       "      <td>6.00</td>\n",
       "      <td>NaN</td>\n",
       "      <td>1</td>\n",
       "    </tr>\n",
       "    <tr>\n",
       "      <th>AT-016392-01</th>\n",
       "      <td>61.0</td>\n",
       "      <td>23.588329</td>\n",
       "      <td>1.0</td>\n",
       "      <td>1.0</td>\n",
       "      <td>0.0</td>\n",
       "      <td>0.0</td>\n",
       "      <td>0.0</td>\n",
       "      <td>34.0</td>\n",
       "      <td>13.20</td>\n",
       "      <td>NaN</td>\n",
       "      <td>0</td>\n",
       "    </tr>\n",
       "    <tr>\n",
       "      <th>AT-017298-01</th>\n",
       "      <td>64.0</td>\n",
       "      <td>25.381469</td>\n",
       "      <td>0.0</td>\n",
       "      <td>2.0</td>\n",
       "      <td>0.0</td>\n",
       "      <td>1.0</td>\n",
       "      <td>0.0</td>\n",
       "      <td>55.0</td>\n",
       "      <td>9.40</td>\n",
       "      <td>NaN</td>\n",
       "      <td>1</td>\n",
       "    </tr>\n",
       "    <tr>\n",
       "      <th>AT-026212-02</th>\n",
       "      <td>59.0</td>\n",
       "      <td>24.337480</td>\n",
       "      <td>0.0</td>\n",
       "      <td>1.0</td>\n",
       "      <td>0.0</td>\n",
       "      <td>0.0</td>\n",
       "      <td>0.0</td>\n",
       "      <td>52.0</td>\n",
       "      <td>22.00</td>\n",
       "      <td>NaN</td>\n",
       "      <td>0</td>\n",
       "    </tr>\n",
       "    <tr>\n",
       "      <th>AT-057442-01</th>\n",
       "      <td>66.0</td>\n",
       "      <td>31.221304</td>\n",
       "      <td>1.0</td>\n",
       "      <td>1.0</td>\n",
       "      <td>0.0</td>\n",
       "      <td>1.0</td>\n",
       "      <td>0.0</td>\n",
       "      <td>NaN</td>\n",
       "      <td>10.84</td>\n",
       "      <td>NaN</td>\n",
       "      <td>1</td>\n",
       "    </tr>\n",
       "    <tr>\n",
       "      <th>...</th>\n",
       "      <td>...</td>\n",
       "      <td>...</td>\n",
       "      <td>...</td>\n",
       "      <td>...</td>\n",
       "      <td>...</td>\n",
       "      <td>...</td>\n",
       "      <td>...</td>\n",
       "      <td>...</td>\n",
       "      <td>...</td>\n",
       "      <td>...</td>\n",
       "      <td>...</td>\n",
       "    </tr>\n",
       "    <tr>\n",
       "      <th>SE-994503-02</th>\n",
       "      <td>77.0</td>\n",
       "      <td>24.056935</td>\n",
       "      <td>0.0</td>\n",
       "      <td>2.0</td>\n",
       "      <td>0.0</td>\n",
       "      <td>0.0</td>\n",
       "      <td>0.0</td>\n",
       "      <td>43.0</td>\n",
       "      <td>NaN</td>\n",
       "      <td>2.105</td>\n",
       "      <td>0</td>\n",
       "    </tr>\n",
       "    <tr>\n",
       "      <th>SE-996850-01</th>\n",
       "      <td>61.0</td>\n",
       "      <td>26.827421</td>\n",
       "      <td>0.0</td>\n",
       "      <td>1.0</td>\n",
       "      <td>0.0</td>\n",
       "      <td>0.0</td>\n",
       "      <td>0.0</td>\n",
       "      <td>61.0</td>\n",
       "      <td>7.03</td>\n",
       "      <td>NaN</td>\n",
       "      <td>0</td>\n",
       "    </tr>\n",
       "    <tr>\n",
       "      <th>SE-996850-02</th>\n",
       "      <td>61.0</td>\n",
       "      <td>23.323418</td>\n",
       "      <td>1.0</td>\n",
       "      <td>1.0</td>\n",
       "      <td>0.0</td>\n",
       "      <td>1.0</td>\n",
       "      <td>0.0</td>\n",
       "      <td>32.0</td>\n",
       "      <td>13.94</td>\n",
       "      <td>NaN</td>\n",
       "      <td>1</td>\n",
       "    </tr>\n",
       "    <tr>\n",
       "      <th>SE-996868-01</th>\n",
       "      <td>58.0</td>\n",
       "      <td>35.492158</td>\n",
       "      <td>0.0</td>\n",
       "      <td>1.0</td>\n",
       "      <td>0.0</td>\n",
       "      <td>1.0</td>\n",
       "      <td>0.0</td>\n",
       "      <td>58.0</td>\n",
       "      <td>10.38</td>\n",
       "      <td>NaN</td>\n",
       "      <td>1</td>\n",
       "    </tr>\n",
       "    <tr>\n",
       "      <th>SE-996868-02</th>\n",
       "      <td>54.0</td>\n",
       "      <td>24.910767</td>\n",
       "      <td>1.0</td>\n",
       "      <td>1.0</td>\n",
       "      <td>0.0</td>\n",
       "      <td>0.0</td>\n",
       "      <td>0.0</td>\n",
       "      <td>NaN</td>\n",
       "      <td>NaN</td>\n",
       "      <td>NaN</td>\n",
       "      <td>0</td>\n",
       "    </tr>\n",
       "  </tbody>\n",
       "</table>\n",
       "<p>15821 rows × 11 columns</p>\n",
       "</div>"
      ],
      "text/plain": [
       "               age        bmi  female  educational_level  OA_conserv  \\\n",
       "mergeid                                                                \n",
       "AT-004234-02  53.0  30.717400     1.0                1.0         0.0   \n",
       "AT-016392-01  61.0  23.588329     1.0                1.0         0.0   \n",
       "AT-017298-01  64.0  25.381469     0.0                2.0         0.0   \n",
       "AT-026212-02  59.0  24.337480     0.0                1.0         0.0   \n",
       "AT-057442-01  66.0  31.221304     1.0                1.0         0.0   \n",
       "...            ...        ...     ...                ...         ...   \n",
       "SE-994503-02  77.0  24.056935     0.0                2.0         0.0   \n",
       "SE-996850-01  61.0  26.827421     0.0                1.0         0.0   \n",
       "SE-996850-02  61.0  23.323418     1.0                1.0         0.0   \n",
       "SE-996868-01  58.0  35.492158     0.0                1.0         0.0   \n",
       "SE-996868-02  54.0  24.910767     1.0                1.0         0.0   \n",
       "\n",
       "              Hypertension  Diabetes  maxgrip  chair  walking  disease_group  \n",
       "mergeid                                                                       \n",
       "AT-004234-02           0.0       1.0     37.0   6.00      NaN              1  \n",
       "AT-016392-01           0.0       0.0     34.0  13.20      NaN              0  \n",
       "AT-017298-01           1.0       0.0     55.0   9.40      NaN              1  \n",
       "AT-026212-02           0.0       0.0     52.0  22.00      NaN              0  \n",
       "AT-057442-01           1.0       0.0      NaN  10.84      NaN              1  \n",
       "...                    ...       ...      ...    ...      ...            ...  \n",
       "SE-994503-02           0.0       0.0     43.0    NaN    2.105              0  \n",
       "SE-996850-01           0.0       0.0     61.0   7.03      NaN              0  \n",
       "SE-996850-02           1.0       0.0     32.0  13.94      NaN              1  \n",
       "SE-996868-01           1.0       0.0     58.0  10.38      NaN              1  \n",
       "SE-996868-02           0.0       0.0      NaN    NaN      NaN              0  \n",
       "\n",
       "[15821 rows x 11 columns]"
      ]
     },
     "execution_count": 44,
     "metadata": {},
     "output_type": "execute_result"
    }
   ],
   "source": [
    "data"
   ]
  },
  {
   "cell_type": "code",
   "execution_count": 45,
   "metadata": {},
   "outputs": [
    {
     "data": {
      "text/plain": [
       "age                      0\n",
       "bmi                      0\n",
       "female                   0\n",
       "educational_level        0\n",
       "OA_conserv               0\n",
       "Hypertension             0\n",
       "Diabetes                 0\n",
       "maxgrip               1407\n",
       "chair                 5308\n",
       "walking              14396\n",
       "disease_group            0\n",
       "dtype: int64"
      ]
     },
     "execution_count": 45,
     "metadata": {},
     "output_type": "execute_result"
    }
   ],
   "source": [
    "data.isna().sum()"
   ]
  },
  {
   "cell_type": "code",
   "execution_count": 46,
   "metadata": {},
   "outputs": [
    {
     "name": "stdout",
     "output_type": "stream",
     "text": [
      "age\n",
      "51.0     924\n",
      "52.0     915\n",
      "57.0     611\n",
      "59.0     599\n",
      "61.0     597\n",
      "        ... \n",
      "15.0       1\n",
      "100.0      1\n",
      "30.0       1\n",
      "98.0       1\n",
      "31.0       1\n",
      "Name: count, Length: 72, dtype: int64\n",
      "------------------------------------------------------------\n",
      "bmi\n",
      "24.221453    110\n",
      "25.711662    104\n",
      "27.681661    101\n",
      "25.951557     90\n",
      "27.343750     85\n",
      "            ... \n",
      "28.577961      1\n",
      "17.715421      1\n",
      "24.382717      1\n",
      "27.776912      1\n",
      "22.591438      1\n",
      "Name: count, Length: 2821, dtype: int64\n",
      "------------------------------------------------------------\n",
      "female\n",
      "1.0    8716\n",
      "0.0    7105\n",
      "Name: count, dtype: int64\n",
      "------------------------------------------------------------\n",
      "educational_level\n",
      "0.0    6569\n",
      "1.0    5654\n",
      "2.0    3022\n",
      "3.0     576\n",
      "Name: count, dtype: int64\n",
      "------------------------------------------------------------\n",
      "OA_conserv\n",
      "0.0    12970\n",
      "1.0     2851\n",
      "Name: count, dtype: int64\n",
      "------------------------------------------------------------\n",
      "Hypertension\n",
      "0.0    10335\n",
      "1.0     5486\n",
      "Name: count, dtype: int64\n",
      "------------------------------------------------------------\n",
      "Diabetes\n",
      "0.0    14158\n",
      "1.0     1663\n",
      "Name: count, dtype: int64\n",
      "------------------------------------------------------------\n"
     ]
    }
   ],
   "source": [
    "# value count of ech columns in data\n",
    "features = ['age', 'bmi', 'female', 'educational_level', 'OA_conserv', 'Hypertension', 'Diabetes']\n",
    "for i in features: \n",
    "    print(data[i].value_counts())\n",
    "    print(\"------------------------------------------------------------\")\n"
   ]
  },
  {
   "cell_type": "code",
   "execution_count": 47,
   "metadata": {},
   "outputs": [
    {
     "name": "stdout",
     "output_type": "stream",
     "text": [
      "count    15821.00000\n",
      "mean        63.48739\n",
      "std         10.38545\n",
      "min         15.00000\n",
      "25%         55.00000\n",
      "50%         62.00000\n",
      "75%         71.00000\n",
      "max        100.00000\n",
      "Name: age, dtype: float64\n",
      "------------------------------------------------------------\n",
      "count    15821.000000\n",
      "mean        26.769211\n",
      "std          4.703205\n",
      "min         10.816658\n",
      "25%         23.808690\n",
      "50%         26.218821\n",
      "75%         29.097746\n",
      "max        157.394159\n",
      "Name: bmi, dtype: float64\n",
      "------------------------------------------------------------\n",
      "count    15821.000000\n",
      "mean         0.550913\n",
      "std          0.497417\n",
      "min          0.000000\n",
      "25%          0.000000\n",
      "50%          1.000000\n",
      "75%          1.000000\n",
      "max          1.000000\n",
      "Name: female, dtype: float64\n",
      "------------------------------------------------------------\n",
      "count    15821.000000\n",
      "mean         0.848619\n",
      "std          0.853802\n",
      "min          0.000000\n",
      "25%          0.000000\n",
      "50%          1.000000\n",
      "75%          1.000000\n",
      "max          3.000000\n",
      "Name: educational_level, dtype: float64\n",
      "------------------------------------------------------------\n",
      "count    15821.000000\n",
      "mean         0.180204\n",
      "std          0.384369\n",
      "min          0.000000\n",
      "25%          0.000000\n",
      "50%          0.000000\n",
      "75%          0.000000\n",
      "max          1.000000\n",
      "Name: OA_conserv, dtype: float64\n",
      "------------------------------------------------------------\n",
      "count    15821.000000\n",
      "mean         0.346754\n",
      "std          0.475952\n",
      "min          0.000000\n",
      "25%          0.000000\n",
      "50%          0.000000\n",
      "75%          1.000000\n",
      "max          1.000000\n",
      "Name: Hypertension, dtype: float64\n",
      "------------------------------------------------------------\n",
      "count    15821.000000\n",
      "mean         0.105113\n",
      "std          0.306709\n",
      "min          0.000000\n",
      "25%          0.000000\n",
      "50%          0.000000\n",
      "75%          0.000000\n",
      "max          1.000000\n",
      "Name: Diabetes, dtype: float64\n",
      "------------------------------------------------------------\n"
     ]
    }
   ],
   "source": [
    "# value count of ech columns in data\n",
    "features = ['age', 'bmi', 'female', 'educational_level', 'OA_conserv', 'Hypertension', 'Diabetes']\n",
    "for i in features:     \n",
    "    print(data[i].describe())\n",
    "    print(\"------------------------------------------------------------\")"
   ]
  },
  {
   "cell_type": "markdown",
   "metadata": {},
   "source": [
    "##### Create maxchair and maxwalk"
   ]
  },
  {
   "cell_type": "code",
   "execution_count": 48,
   "metadata": {},
   "outputs": [
    {
     "data": {
      "text/plain": [
       "age                      0\n",
       "bmi                      0\n",
       "female                   0\n",
       "educational_level        0\n",
       "OA_conserv               0\n",
       "Hypertension             0\n",
       "Diabetes                 0\n",
       "maxgrip               1407\n",
       "chair                 5308\n",
       "walking              14396\n",
       "disease_group            0\n",
       "dtype: int64"
      ]
     },
     "execution_count": 48,
     "metadata": {},
     "output_type": "execute_result"
    }
   ],
   "source": [
    "data.isna().sum()"
   ]
  },
  {
   "cell_type": "code",
   "execution_count": 49,
   "metadata": {},
   "outputs": [
    {
     "name": "stdout",
     "output_type": "stream",
     "text": [
      "Dataset maxchair (Maxgrip + Chair): (10359, 9)\n",
      "Dataset maxwalk (Maxgrip + Walking): (1361, 9)\n"
     ]
    }
   ],
   "source": [
    "features = ['age', 'bmi', 'female', 'educational_level', 'OA_conserv', 'Hypertension', 'Diabetes']\n",
    "outcomes = ['maxgrip', 'chair', 'walking']\n",
    "\n",
    "maxchair = data[features + ['maxgrip', 'chair']].dropna()\n",
    "\n",
    "maxwalk = data[features + ['maxgrip', 'walking']].dropna()\n",
    "\n",
    "print(\"Dataset maxchair (Maxgrip + Chair):\", maxchair.shape)\n",
    "print(\"Dataset maxwalk (Maxgrip + Walking):\", maxwalk.shape)\n"
   ]
  },
  {
   "cell_type": "markdown",
   "metadata": {},
   "source": [
    "##### Overlap between maxchair and maxwalk:"
   ]
  },
  {
   "cell_type": "code",
   "execution_count": 50,
   "metadata": {},
   "outputs": [
    {
     "name": "stdout",
     "output_type": "stream",
     "text": [
      "Number of overlapping cases between maxchair and maxwalk: 0\n"
     ]
    }
   ],
   "source": [
    "overlap_cases_max = maxchair.index.intersection(maxwalk.index)\n",
    "print(f\"Number of overlapping cases between maxchair and maxwalk: {len(overlap_cases_max)}\")"
   ]
  },
  {
   "cell_type": "markdown",
   "metadata": {},
   "source": [
    "##### Overlap between Chair and Walk:"
   ]
  },
  {
   "cell_type": "code",
   "execution_count": 51,
   "metadata": {},
   "outputs": [
    {
     "name": "stdout",
     "output_type": "stream",
     "text": [
      "Number of overlapping cases: 0\n"
     ]
    }
   ],
   "source": [
    "overlap_cases = df_chair.index.intersection(df_walking.index)\n",
    "print(f\"Number of overlapping cases: {len(overlap_cases)}\")"
   ]
  },
  {
   "cell_type": "markdown",
   "metadata": {},
   "source": [
    "##### Describe of Age:"
   ]
  },
  {
   "cell_type": "code",
   "execution_count": 52,
   "metadata": {},
   "outputs": [
    {
     "name": "stdout",
     "output_type": "stream",
     "text": [
      "\n",
      "Age Statistics for Maxgrip:\n",
      "count    14414.000000\n",
      "mean        62.993270\n",
      "std         10.068992\n",
      "min         15.000000\n",
      "25%         55.000000\n",
      "50%         61.000000\n",
      "75%         70.000000\n",
      "max         99.000000\n",
      "Name: age, dtype: float64\n",
      "--------------------------------------------------\n",
      "\n",
      "Age Statistics for Chair:\n",
      "count    10513.000000\n",
      "mean        59.708266\n",
      "std          7.457453\n",
      "min         15.000000\n",
      "25%         54.000000\n",
      "50%         59.000000\n",
      "75%         65.000000\n",
      "max         96.000000\n",
      "Name: age, dtype: float64\n",
      "--------------------------------------------------\n",
      "\n",
      "Age Statistics for Walking:\n",
      "count    1425.000000\n",
      "mean       80.066667\n",
      "std         3.985813\n",
      "min        60.000000\n",
      "25%        77.000000\n",
      "50%        79.000000\n",
      "75%        82.000000\n",
      "max        98.000000\n",
      "Name: age, dtype: float64\n",
      "--------------------------------------------------\n",
      "\n",
      "Age Statistics for Maxchair:\n",
      "count    10359.000000\n",
      "mean        59.711072\n",
      "std          7.458557\n",
      "min         15.000000\n",
      "25%         54.000000\n",
      "50%         59.000000\n",
      "75%         65.000000\n",
      "max         96.000000\n",
      "Name: age, dtype: float64\n",
      "--------------------------------------------------\n",
      "\n",
      "Age Statistics for Maxwalk:\n",
      "count    1361.000000\n",
      "mean       80.044085\n",
      "std         3.957992\n",
      "min        60.000000\n",
      "25%        77.000000\n",
      "50%        79.000000\n",
      "75%        82.000000\n",
      "max        98.000000\n",
      "Name: age, dtype: float64\n",
      "--------------------------------------------------\n"
     ]
    }
   ],
   "source": [
    "datasets = {\n",
    "    \"Maxgrip\": df_maxgrip,\n",
    "    \"Chair\": df_chair,\n",
    "    \"Walking\": df_walking,\n",
    "    \"Maxchair\": maxchair,\n",
    "    \"Maxwalk\": maxwalk\n",
    "}\n",
    "\n",
    "for name, df in datasets.items():\n",
    "    print(f\"\\nAge Statistics for {name}:\\n{df.age.describe()}\")\n",
    "    print(\"-\" * 50)\n"
   ]
  },
  {
   "cell_type": "markdown",
   "metadata": {},
   "source": [
    "#### Summery for paper:"
   ]
  },
  {
   "cell_type": "markdown",
   "metadata": {},
   "source": [
    "##### maxchair:"
   ]
  },
  {
   "cell_type": "code",
   "execution_count": 53,
   "metadata": {},
   "outputs": [
    {
     "data": {
      "text/plain": [
       "(10359, 9)"
      ]
     },
     "execution_count": 53,
     "metadata": {},
     "output_type": "execute_result"
    }
   ],
   "source": [
    "maxchair.shape"
   ]
  },
  {
   "cell_type": "code",
   "execution_count": 54,
   "metadata": {},
   "outputs": [
    {
     "data": {
      "text/html": [
       "<div>\n",
       "<style scoped>\n",
       "    .dataframe tbody tr th:only-of-type {\n",
       "        vertical-align: middle;\n",
       "    }\n",
       "\n",
       "    .dataframe tbody tr th {\n",
       "        vertical-align: top;\n",
       "    }\n",
       "\n",
       "    .dataframe thead th {\n",
       "        text-align: right;\n",
       "    }\n",
       "</style>\n",
       "<table border=\"1\" class=\"dataframe\">\n",
       "  <thead>\n",
       "    <tr style=\"text-align: right;\">\n",
       "      <th></th>\n",
       "      <th>Variable</th>\n",
       "      <th>Only Diabetes</th>\n",
       "      <th>No disease</th>\n",
       "      <th>Only HT</th>\n",
       "      <th>HT and Diab</th>\n",
       "      <th>All three diseases</th>\n",
       "      <th>Only OA</th>\n",
       "      <th>OA and Diab</th>\n",
       "      <th>OA and HT</th>\n",
       "    </tr>\n",
       "  </thead>\n",
       "  <tbody>\n",
       "    <tr>\n",
       "      <th>0</th>\n",
       "      <td>Number of cases</td>\n",
       "      <td>309</td>\n",
       "      <td>6039</td>\n",
       "      <td>2211</td>\n",
       "      <td>393</td>\n",
       "      <td>90</td>\n",
       "      <td>738</td>\n",
       "      <td>56</td>\n",
       "      <td>523</td>\n",
       "    </tr>\n",
       "    <tr>\n",
       "      <th>1</th>\n",
       "      <td>Age; mean (SD)</td>\n",
       "      <td>62.9 ± 7.3</td>\n",
       "      <td>58.3 ± 7.3</td>\n",
       "      <td>61.4 ± 7.1</td>\n",
       "      <td>63.5 ± 6.6</td>\n",
       "      <td>63.7 ± 7.0</td>\n",
       "      <td>60.1 ± 7.0</td>\n",
       "      <td>61.7 ± 6.9</td>\n",
       "      <td>63.0 ± 7.2</td>\n",
       "    </tr>\n",
       "    <tr>\n",
       "      <th>2</th>\n",
       "      <td>Age; n (%)</td>\n",
       "      <td>309 (100.0%)</td>\n",
       "      <td>6039 (100.0%)</td>\n",
       "      <td>2211 (100.0%)</td>\n",
       "      <td>393 (100.0%)</td>\n",
       "      <td>90 (100.0%)</td>\n",
       "      <td>738 (100.0%)</td>\n",
       "      <td>56 (100.0%)</td>\n",
       "      <td>523 (100.0%)</td>\n",
       "    </tr>\n",
       "    <tr>\n",
       "      <th>3</th>\n",
       "      <td>Sex; n, (%)</td>\n",
       "      <td>118.0 (38.2%)</td>\n",
       "      <td>3242.0 (53.7%)</td>\n",
       "      <td>1144.0 (51.7%)</td>\n",
       "      <td>191.0 (48.6%)</td>\n",
       "      <td>59.0 (65.6%)</td>\n",
       "      <td>494.0 (66.9%)</td>\n",
       "      <td>34.0 (60.7%)</td>\n",
       "      <td>341.0 (65.2%)</td>\n",
       "    </tr>\n",
       "    <tr>\n",
       "      <th>4</th>\n",
       "      <td>BMI; mean (SD)</td>\n",
       "      <td>27.8 ± 4.4</td>\n",
       "      <td>25.8 ± 4.0</td>\n",
       "      <td>27.9 ± 5.2</td>\n",
       "      <td>29.8 ± 4.7</td>\n",
       "      <td>32.3 ± 5.1</td>\n",
       "      <td>26.1 ± 4.0</td>\n",
       "      <td>28.9 ± 4.9</td>\n",
       "      <td>28.4 ± 4.5</td>\n",
       "    </tr>\n",
       "    <tr>\n",
       "      <th>5</th>\n",
       "      <td>Educational Level - Low (%)</td>\n",
       "      <td>135 (43.7%)</td>\n",
       "      <td>2036 (33.7%)</td>\n",
       "      <td>832 (37.6%)</td>\n",
       "      <td>164 (41.7%)</td>\n",
       "      <td>42 (46.7%)</td>\n",
       "      <td>307 (41.6%)</td>\n",
       "      <td>31 (55.4%)</td>\n",
       "      <td>241 (46.1%)</td>\n",
       "    </tr>\n",
       "    <tr>\n",
       "      <th>6</th>\n",
       "      <td>Educational Level - Medium (%)</td>\n",
       "      <td>113 (36.6%)</td>\n",
       "      <td>2416 (40.0%)</td>\n",
       "      <td>857 (38.8%)</td>\n",
       "      <td>154 (39.2%)</td>\n",
       "      <td>29 (32.2%)</td>\n",
       "      <td>273 (37.0%)</td>\n",
       "      <td>14 (25.0%)</td>\n",
       "      <td>189 (36.1%)</td>\n",
       "    </tr>\n",
       "    <tr>\n",
       "      <th>7</th>\n",
       "      <td>Educational Level - High (%)</td>\n",
       "      <td>48 (15.5%)</td>\n",
       "      <td>1472 (24.4%)</td>\n",
       "      <td>469 (21.2%)</td>\n",
       "      <td>65 (16.5%)</td>\n",
       "      <td>12 (13.3%)</td>\n",
       "      <td>129 (17.5%)</td>\n",
       "      <td>10 (17.9%)</td>\n",
       "      <td>75 (14.3%)</td>\n",
       "    </tr>\n",
       "    <tr>\n",
       "      <th>8</th>\n",
       "      <td>Educational Level - Other (%)</td>\n",
       "      <td>13 (4.2%)</td>\n",
       "      <td>115 (1.9%)</td>\n",
       "      <td>53 (2.4%)</td>\n",
       "      <td>10 (2.5%)</td>\n",
       "      <td>7 (7.8%)</td>\n",
       "      <td>29 (3.9%)</td>\n",
       "      <td>1 (1.8%)</td>\n",
       "      <td>18 (3.4%)</td>\n",
       "    </tr>\n",
       "    <tr>\n",
       "      <th>9</th>\n",
       "      <td>Grip strength (kg); mean (SD)</td>\n",
       "      <td>37.7 ± 11.0</td>\n",
       "      <td>37.9 ± 11.3</td>\n",
       "      <td>37.5 ± 11.6</td>\n",
       "      <td>36.2 ± 11.3</td>\n",
       "      <td>31.5 ± 11.6</td>\n",
       "      <td>33.4 ± 11.4</td>\n",
       "      <td>33.1 ± 11.7</td>\n",
       "      <td>32.4 ± 11.2</td>\n",
       "    </tr>\n",
       "    <tr>\n",
       "      <th>10</th>\n",
       "      <td>Maxgrip; n (%)</td>\n",
       "      <td>309 (100.0%)</td>\n",
       "      <td>6039 (100.0%)</td>\n",
       "      <td>2211 (100.0%)</td>\n",
       "      <td>393 (100.0%)</td>\n",
       "      <td>90 (100.0%)</td>\n",
       "      <td>738 (100.0%)</td>\n",
       "      <td>56 (100.0%)</td>\n",
       "      <td>523 (100.0%)</td>\n",
       "    </tr>\n",
       "    <tr>\n",
       "      <th>11</th>\n",
       "      <td>Missing grip strength (n)</td>\n",
       "      <td>0</td>\n",
       "      <td>0</td>\n",
       "      <td>0</td>\n",
       "      <td>0</td>\n",
       "      <td>0</td>\n",
       "      <td>0</td>\n",
       "      <td>0</td>\n",
       "      <td>0</td>\n",
       "    </tr>\n",
       "    <tr>\n",
       "      <th>12</th>\n",
       "      <td>5 Chairs stands (sec); mean (SD)</td>\n",
       "      <td>11.1 ± 5.5</td>\n",
       "      <td>10.9 ± 7.3</td>\n",
       "      <td>11.2 ± 6.1</td>\n",
       "      <td>12.7 ± 9.3</td>\n",
       "      <td>12.8 ± 5.5</td>\n",
       "      <td>12.1 ± 6.5</td>\n",
       "      <td>13.3 ± 6.8</td>\n",
       "      <td>12.1 ± 5.9</td>\n",
       "    </tr>\n",
       "    <tr>\n",
       "      <th>13</th>\n",
       "      <td>Chair stand; n (%)</td>\n",
       "      <td>309 (100.0%)</td>\n",
       "      <td>6039 (100.0%)</td>\n",
       "      <td>2211 (100.0%)</td>\n",
       "      <td>393 (100.0%)</td>\n",
       "      <td>90 (100.0%)</td>\n",
       "      <td>738 (100.0%)</td>\n",
       "      <td>56 (100.0%)</td>\n",
       "      <td>523 (100.0%)</td>\n",
       "    </tr>\n",
       "    <tr>\n",
       "      <th>14</th>\n",
       "      <td>Missing 5 Chairs stands (n)</td>\n",
       "      <td>0</td>\n",
       "      <td>0</td>\n",
       "      <td>0</td>\n",
       "      <td>0</td>\n",
       "      <td>0</td>\n",
       "      <td>0</td>\n",
       "      <td>0</td>\n",
       "      <td>0</td>\n",
       "    </tr>\n",
       "    <tr>\n",
       "      <th>15</th>\n",
       "      <td>Total missing values (n)</td>\n",
       "      <td>0</td>\n",
       "      <td>0</td>\n",
       "      <td>0</td>\n",
       "      <td>0</td>\n",
       "      <td>0</td>\n",
       "      <td>0</td>\n",
       "      <td>0</td>\n",
       "      <td>0</td>\n",
       "    </tr>\n",
       "  </tbody>\n",
       "</table>\n",
       "</div>"
      ],
      "text/plain": [
       "                            Variable  Only Diabetes      No disease  \\\n",
       "0                    Number of cases            309            6039   \n",
       "1                     Age; mean (SD)     62.9 ± 7.3      58.3 ± 7.3   \n",
       "2                         Age; n (%)   309 (100.0%)   6039 (100.0%)   \n",
       "3                        Sex; n, (%)  118.0 (38.2%)  3242.0 (53.7%)   \n",
       "4                     BMI; mean (SD)     27.8 ± 4.4      25.8 ± 4.0   \n",
       "5        Educational Level - Low (%)    135 (43.7%)    2036 (33.7%)   \n",
       "6     Educational Level - Medium (%)    113 (36.6%)    2416 (40.0%)   \n",
       "7       Educational Level - High (%)     48 (15.5%)    1472 (24.4%)   \n",
       "8      Educational Level - Other (%)      13 (4.2%)      115 (1.9%)   \n",
       "9      Grip strength (kg); mean (SD)    37.7 ± 11.0     37.9 ± 11.3   \n",
       "10                    Maxgrip; n (%)   309 (100.0%)   6039 (100.0%)   \n",
       "11         Missing grip strength (n)              0               0   \n",
       "12  5 Chairs stands (sec); mean (SD)     11.1 ± 5.5      10.9 ± 7.3   \n",
       "13                Chair stand; n (%)   309 (100.0%)   6039 (100.0%)   \n",
       "14       Missing 5 Chairs stands (n)              0               0   \n",
       "15          Total missing values (n)              0               0   \n",
       "\n",
       "           Only HT    HT and Diab All three diseases        Only OA  \\\n",
       "0             2211            393                 90            738   \n",
       "1       61.4 ± 7.1     63.5 ± 6.6         63.7 ± 7.0     60.1 ± 7.0   \n",
       "2    2211 (100.0%)   393 (100.0%)        90 (100.0%)   738 (100.0%)   \n",
       "3   1144.0 (51.7%)  191.0 (48.6%)       59.0 (65.6%)  494.0 (66.9%)   \n",
       "4       27.9 ± 5.2     29.8 ± 4.7         32.3 ± 5.1     26.1 ± 4.0   \n",
       "5      832 (37.6%)    164 (41.7%)         42 (46.7%)    307 (41.6%)   \n",
       "6      857 (38.8%)    154 (39.2%)         29 (32.2%)    273 (37.0%)   \n",
       "7      469 (21.2%)     65 (16.5%)         12 (13.3%)    129 (17.5%)   \n",
       "8        53 (2.4%)      10 (2.5%)           7 (7.8%)      29 (3.9%)   \n",
       "9      37.5 ± 11.6    36.2 ± 11.3        31.5 ± 11.6    33.4 ± 11.4   \n",
       "10   2211 (100.0%)   393 (100.0%)        90 (100.0%)   738 (100.0%)   \n",
       "11               0              0                  0              0   \n",
       "12      11.2 ± 6.1     12.7 ± 9.3         12.8 ± 5.5     12.1 ± 6.5   \n",
       "13   2211 (100.0%)   393 (100.0%)        90 (100.0%)   738 (100.0%)   \n",
       "14               0              0                  0              0   \n",
       "15               0              0                  0              0   \n",
       "\n",
       "     OA and Diab      OA and HT  \n",
       "0             56            523  \n",
       "1     61.7 ± 6.9     63.0 ± 7.2  \n",
       "2    56 (100.0%)   523 (100.0%)  \n",
       "3   34.0 (60.7%)  341.0 (65.2%)  \n",
       "4     28.9 ± 4.9     28.4 ± 4.5  \n",
       "5     31 (55.4%)    241 (46.1%)  \n",
       "6     14 (25.0%)    189 (36.1%)  \n",
       "7     10 (17.9%)     75 (14.3%)  \n",
       "8       1 (1.8%)      18 (3.4%)  \n",
       "9    33.1 ± 11.7    32.4 ± 11.2  \n",
       "10   56 (100.0%)   523 (100.0%)  \n",
       "11             0              0  \n",
       "12    13.3 ± 6.8     12.1 ± 5.9  \n",
       "13   56 (100.0%)   523 (100.0%)  \n",
       "14             0              0  \n",
       "15             0              0  "
      ]
     },
     "execution_count": 54,
     "metadata": {},
     "output_type": "execute_result"
    }
   ],
   "source": [
    "maxchair['disease_category'] = 'No disease'\n",
    "maxchair.loc[(maxchair['OA_conserv'] == 1) & (maxchair['Hypertension'] == 0) & (maxchair['Diabetes'] == 0), 'disease_category'] = 'Only OA'\n",
    "maxchair.loc[(maxchair['OA_conserv'] == 0) & (maxchair['Hypertension'] == 1) & (maxchair['Diabetes'] == 0), 'disease_category'] = 'Only HT'\n",
    "maxchair.loc[(maxchair['OA_conserv'] == 0) & (maxchair['Hypertension'] == 0) & (maxchair['Diabetes'] == 1), 'disease_category'] = 'Only Diabetes'\n",
    "maxchair.loc[(maxchair['OA_conserv'] == 1) & (maxchair['Hypertension'] == 1) & (maxchair['Diabetes'] == 0), 'disease_category'] = 'OA and HT'\n",
    "maxchair.loc[(maxchair['OA_conserv'] == 1) & (maxchair['Hypertension'] == 0) & (maxchair['Diabetes'] == 1), 'disease_category'] = 'OA and Diab'\n",
    "maxchair.loc[(maxchair['OA_conserv'] == 0) & (maxchair['Hypertension'] == 1) & (maxchair['Diabetes'] == 1), 'disease_category'] = 'HT and Diab'\n",
    "maxchair.loc[(maxchair['OA_conserv'] == 1) & (maxchair['Hypertension'] == 1) & (maxchair['Diabetes'] == 1), 'disease_category'] = 'All three diseases'\n",
    "\n",
    "\n",
    "summary_dict = {\n",
    "    'Variable': ['Number of cases', 'Age; mean (SD)', 'Age; n (%)', 'Sex; n, (%)', 'BMI; mean (SD)',\n",
    "                 'Educational Level - Low (%)', 'Educational Level - Medium (%)',\n",
    "                 'Educational Level - High (%)', 'Educational Level - Other (%)',\n",
    "                 'Grip strength (kg); mean (SD)', 'Maxgrip; n (%)', 'Missing grip strength (n)',\n",
    "                 '5 Chairs stands (sec); mean (SD)', 'Chair stand; n (%)', 'Missing 5 Chairs stands (n)',\n",
    "                 'Total missing values (n)']\n",
    "}\n",
    "\n",
    "\n",
    "disease_groups = maxchair['disease_category'].unique()\n",
    "\n",
    "\n",
    "for group in disease_groups:\n",
    "    subset = maxchair[maxchair['disease_category'] == group]\n",
    "    num_cases = len(subset)\n",
    "\n",
    "    # Age \n",
    "    age_mean_sd = f\"{subset['age'].mean():.1f} ± {subset['age'].std():.1f}\" if num_cases > 0 else \"NaN\"\n",
    "    age_n = f\"{num_cases - subset['age'].isna().sum()} ({((num_cases - subset['age'].isna().sum()) / num_cases) * 100:.1f}%)\" if num_cases > 0 else \"NaN\"\n",
    "\n",
    "    # Female\n",
    "    female_n = f\"{subset['female'].sum()} ({(subset['female'].sum() / num_cases) * 100:.1f}%)\" if num_cases > 0 else \"NaN\"\n",
    "\n",
    "    # BMI\n",
    "    bmi_mean_sd = f\"{subset['bmi'].mean():.1f} ± {subset['bmi'].std():.1f}\" if num_cases > 0 else \"NaN\"\n",
    "\n",
    "    # Educational level counts (%)\n",
    "    def edu_percent(level):\n",
    "        count = (subset['educational_level'] == level).sum()\n",
    "        return f\"{count} ({(count / num_cases) * 100:.1f}%)\" if num_cases > 0 else \"NaN\"\n",
    "\n",
    "    edu_low = edu_percent(0)\n",
    "    edu_medium = edu_percent(1)\n",
    "    edu_high = edu_percent(2)\n",
    "    edu_other = edu_percent(3)\n",
    "\n",
    "    # Grip strength\n",
    "    maxgrip_mean_sd = f\"{subset['maxgrip'].mean():.1f} ± {subset['maxgrip'].std():.1f}\" if num_cases > 0 else \"NaN\"\n",
    "    missing_maxgrip = subset['maxgrip'].isna().sum()\n",
    "    maxgrip_n = f\"{num_cases - missing_maxgrip} ({((num_cases - missing_maxgrip) / num_cases) * 100:.1f}%)\" if num_cases > 0 else \"NaN\"\n",
    "\n",
    "    # Chair stand\n",
    "    chair_mean_sd = f\"{subset['chair'].mean():.1f} ± {subset['chair'].std():.1f}\" if num_cases > 0 else \"NaN\"\n",
    "    missing_chair = subset['chair'].isna().sum()\n",
    "    chair_n = f\"{num_cases - missing_chair} ({((num_cases - missing_chair) / num_cases) * 100:.1f}%)\" if num_cases > 0 else \"NaN\"\n",
    "\n",
    "    total_missing = missing_maxgrip + missing_chair\n",
    "\n",
    "    summary_dict[group] = [\n",
    "        num_cases, age_mean_sd, age_n, female_n, bmi_mean_sd,\n",
    "        edu_low, edu_medium, edu_high, edu_other,\n",
    "        maxgrip_mean_sd, maxgrip_n, missing_maxgrip,\n",
    "        chair_mean_sd, chair_n, missing_chair,\n",
    "        total_missing\n",
    "    ]\n",
    "\n",
    "\n",
    "max_len = max(len(v) for v in summary_dict.values())\n",
    "for k in summary_dict:\n",
    "    summary_dict[k] += [\"\"] * (max_len - len(summary_dict[k]))\n",
    "\n",
    "summary_table_maxchair = pd.DataFrame(summary_dict)\n",
    "summary_table_maxchair\n"
   ]
  },
  {
   "cell_type": "markdown",
   "metadata": {},
   "source": [
    "##### maxwalk"
   ]
  },
  {
   "cell_type": "code",
   "execution_count": 55,
   "metadata": {},
   "outputs": [
    {
     "data": {
      "text/plain": [
       "(1361, 9)"
      ]
     },
     "execution_count": 55,
     "metadata": {},
     "output_type": "execute_result"
    }
   ],
   "source": [
    "maxwalk.shape"
   ]
  },
  {
   "cell_type": "code",
   "execution_count": 56,
   "metadata": {},
   "outputs": [
    {
     "name": "stdout",
     "output_type": "stream",
     "text": [
      "Cases with Maxgrip but missing Walking speed: 0\n",
      "Cases with Walking speed but missing Maxgrip: 0\n"
     ]
    }
   ],
   "source": [
    "only_maxgrip = maxwalk[(maxwalk['maxgrip'].notna()) & (maxwalk['walking'].isna())]\n",
    "only_walking = maxwalk[(maxwalk['walking'].notna()) & (maxwalk['maxgrip'].isna())]\n",
    "\n",
    "print(f\"Cases with Maxgrip but missing Walking speed: {len(only_maxgrip)}\")\n",
    "print(f\"Cases with Walking speed but missing Maxgrip: {len(only_walking)}\")\n"
   ]
  },
  {
   "cell_type": "code",
   "execution_count": 57,
   "metadata": {},
   "outputs": [
    {
     "data": {
      "text/html": [
       "<div>\n",
       "<style scoped>\n",
       "    .dataframe tbody tr th:only-of-type {\n",
       "        vertical-align: middle;\n",
       "    }\n",
       "\n",
       "    .dataframe tbody tr th {\n",
       "        vertical-align: top;\n",
       "    }\n",
       "\n",
       "    .dataframe thead th {\n",
       "        text-align: right;\n",
       "    }\n",
       "</style>\n",
       "<table border=\"1\" class=\"dataframe\">\n",
       "  <thead>\n",
       "    <tr style=\"text-align: right;\">\n",
       "      <th></th>\n",
       "      <th>Variable</th>\n",
       "      <th>No disease</th>\n",
       "      <th>Only HT</th>\n",
       "      <th>Only OA</th>\n",
       "      <th>OA and HT</th>\n",
       "      <th>Only Diabetes</th>\n",
       "      <th>HT and Diab</th>\n",
       "      <th>All three diseases</th>\n",
       "      <th>OA and Diab</th>\n",
       "    </tr>\n",
       "  </thead>\n",
       "  <tbody>\n",
       "    <tr>\n",
       "      <th>0</th>\n",
       "      <td>Number of cases</td>\n",
       "      <td>510</td>\n",
       "      <td>390</td>\n",
       "      <td>124</td>\n",
       "      <td>117</td>\n",
       "      <td>79</td>\n",
       "      <td>79</td>\n",
       "      <td>38</td>\n",
       "      <td>24</td>\n",
       "    </tr>\n",
       "    <tr>\n",
       "      <th>1</th>\n",
       "      <td>Age; mean (SD)</td>\n",
       "      <td>80.1 ± 4.1</td>\n",
       "      <td>80.0 ± 4.1</td>\n",
       "      <td>80.6 ± 3.8</td>\n",
       "      <td>80.1 ± 4.2</td>\n",
       "      <td>79.6 ± 3.4</td>\n",
       "      <td>79.9 ± 3.6</td>\n",
       "      <td>79.1 ± 3.7</td>\n",
       "      <td>78.8 ± 3.2</td>\n",
       "    </tr>\n",
       "    <tr>\n",
       "      <th>2</th>\n",
       "      <td>Age; n (%)</td>\n",
       "      <td>510 (100.0%)</td>\n",
       "      <td>390 (100.0%)</td>\n",
       "      <td>124 (100.0%)</td>\n",
       "      <td>117 (100.0%)</td>\n",
       "      <td>79 (100.0%)</td>\n",
       "      <td>79 (100.0%)</td>\n",
       "      <td>38 (100.0%)</td>\n",
       "      <td>24 (100.0%)</td>\n",
       "    </tr>\n",
       "    <tr>\n",
       "      <th>3</th>\n",
       "      <td>Sex; n, (%)</td>\n",
       "      <td>228.0 (44.7%)</td>\n",
       "      <td>217.0 (55.6%)</td>\n",
       "      <td>74.0 (59.7%)</td>\n",
       "      <td>68.0 (58.1%)</td>\n",
       "      <td>39.0 (49.4%)</td>\n",
       "      <td>48.0 (60.8%)</td>\n",
       "      <td>25.0 (65.8%)</td>\n",
       "      <td>10.0 (41.7%)</td>\n",
       "    </tr>\n",
       "    <tr>\n",
       "      <th>4</th>\n",
       "      <td>BMI; mean (SD)</td>\n",
       "      <td>25.2 ± 4.4</td>\n",
       "      <td>26.2 ± 3.8</td>\n",
       "      <td>26.4 ± 6.5</td>\n",
       "      <td>27.6 ± 4.1</td>\n",
       "      <td>27.1 ± 3.9</td>\n",
       "      <td>27.4 ± 4.0</td>\n",
       "      <td>29.2 ± 4.5</td>\n",
       "      <td>27.6 ± 5.5</td>\n",
       "    </tr>\n",
       "    <tr>\n",
       "      <th>5</th>\n",
       "      <td>Educational Level - Low (%)</td>\n",
       "      <td>256 (50.2%)</td>\n",
       "      <td>203 (52.1%)</td>\n",
       "      <td>76 (61.3%)</td>\n",
       "      <td>61 (52.1%)</td>\n",
       "      <td>48 (60.8%)</td>\n",
       "      <td>38 (48.1%)</td>\n",
       "      <td>13 (34.2%)</td>\n",
       "      <td>14 (58.3%)</td>\n",
       "    </tr>\n",
       "    <tr>\n",
       "      <th>6</th>\n",
       "      <td>Educational Level - Medium (%)</td>\n",
       "      <td>144 (28.2%)</td>\n",
       "      <td>106 (27.2%)</td>\n",
       "      <td>17 (13.7%)</td>\n",
       "      <td>29 (24.8%)</td>\n",
       "      <td>13 (16.5%)</td>\n",
       "      <td>19 (24.1%)</td>\n",
       "      <td>12 (31.6%)</td>\n",
       "      <td>7 (29.2%)</td>\n",
       "    </tr>\n",
       "    <tr>\n",
       "      <th>7</th>\n",
       "      <td>Educational Level - High (%)</td>\n",
       "      <td>80 (15.7%)</td>\n",
       "      <td>59 (15.1%)</td>\n",
       "      <td>22 (17.7%)</td>\n",
       "      <td>18 (15.4%)</td>\n",
       "      <td>10 (12.7%)</td>\n",
       "      <td>17 (21.5%)</td>\n",
       "      <td>7 (18.4%)</td>\n",
       "      <td>0 (0.0%)</td>\n",
       "    </tr>\n",
       "    <tr>\n",
       "      <th>8</th>\n",
       "      <td>Educational Level - Other (%)</td>\n",
       "      <td>30 (5.9%)</td>\n",
       "      <td>22 (5.6%)</td>\n",
       "      <td>9 (7.3%)</td>\n",
       "      <td>9 (7.7%)</td>\n",
       "      <td>8 (10.1%)</td>\n",
       "      <td>5 (6.3%)</td>\n",
       "      <td>6 (15.8%)</td>\n",
       "      <td>3 (12.5%)</td>\n",
       "    </tr>\n",
       "    <tr>\n",
       "      <th>9</th>\n",
       "      <td>Grip strength (kg); mean (SD)</td>\n",
       "      <td>29.2 ± 9.3</td>\n",
       "      <td>27.5 ± 9.4</td>\n",
       "      <td>24.2 ± 9.1</td>\n",
       "      <td>26.5 ± 10.8</td>\n",
       "      <td>26.8 ± 8.6</td>\n",
       "      <td>26.0 ± 8.1</td>\n",
       "      <td>24.3 ± 8.7</td>\n",
       "      <td>26.3 ± 7.1</td>\n",
       "    </tr>\n",
       "    <tr>\n",
       "      <th>10</th>\n",
       "      <td>Maxgrip; n (%)</td>\n",
       "      <td>510 (100.0%)</td>\n",
       "      <td>390 (100.0%)</td>\n",
       "      <td>124 (100.0%)</td>\n",
       "      <td>117 (100.0%)</td>\n",
       "      <td>79 (100.0%)</td>\n",
       "      <td>79 (100.0%)</td>\n",
       "      <td>38 (100.0%)</td>\n",
       "      <td>24 (100.0%)</td>\n",
       "    </tr>\n",
       "    <tr>\n",
       "      <th>11</th>\n",
       "      <td>Missing grip strength (n)</td>\n",
       "      <td>0</td>\n",
       "      <td>0</td>\n",
       "      <td>0</td>\n",
       "      <td>0</td>\n",
       "      <td>0</td>\n",
       "      <td>0</td>\n",
       "      <td>0</td>\n",
       "      <td>0</td>\n",
       "    </tr>\n",
       "    <tr>\n",
       "      <th>12</th>\n",
       "      <td>Walking speed (sec); mean (SD)</td>\n",
       "      <td>4.8 ± 3.8</td>\n",
       "      <td>4.8 ± 3.5</td>\n",
       "      <td>5.3 ± 3.8</td>\n",
       "      <td>5.2 ± 3.9</td>\n",
       "      <td>5.8 ± 5.4</td>\n",
       "      <td>5.6 ± 4.6</td>\n",
       "      <td>5.6 ± 3.2</td>\n",
       "      <td>5.8 ± 3.5</td>\n",
       "    </tr>\n",
       "    <tr>\n",
       "      <th>13</th>\n",
       "      <td>Walking speed; n (%)</td>\n",
       "      <td>510 (100.0%)</td>\n",
       "      <td>390 (100.0%)</td>\n",
       "      <td>124 (100.0%)</td>\n",
       "      <td>117 (100.0%)</td>\n",
       "      <td>79 (100.0%)</td>\n",
       "      <td>79 (100.0%)</td>\n",
       "      <td>38 (100.0%)</td>\n",
       "      <td>24 (100.0%)</td>\n",
       "    </tr>\n",
       "    <tr>\n",
       "      <th>14</th>\n",
       "      <td>Missing walking speed (n)</td>\n",
       "      <td>0</td>\n",
       "      <td>0</td>\n",
       "      <td>0</td>\n",
       "      <td>0</td>\n",
       "      <td>0</td>\n",
       "      <td>0</td>\n",
       "      <td>0</td>\n",
       "      <td>0</td>\n",
       "    </tr>\n",
       "    <tr>\n",
       "      <th>15</th>\n",
       "      <td>Total missing values (n)</td>\n",
       "      <td>0</td>\n",
       "      <td>0</td>\n",
       "      <td>0</td>\n",
       "      <td>0</td>\n",
       "      <td>0</td>\n",
       "      <td>0</td>\n",
       "      <td>0</td>\n",
       "      <td>0</td>\n",
       "    </tr>\n",
       "  </tbody>\n",
       "</table>\n",
       "</div>"
      ],
      "text/plain": [
       "                          Variable     No disease        Only HT  \\\n",
       "0                  Number of cases            510            390   \n",
       "1                   Age; mean (SD)     80.1 ± 4.1     80.0 ± 4.1   \n",
       "2                       Age; n (%)   510 (100.0%)   390 (100.0%)   \n",
       "3                      Sex; n, (%)  228.0 (44.7%)  217.0 (55.6%)   \n",
       "4                   BMI; mean (SD)     25.2 ± 4.4     26.2 ± 3.8   \n",
       "5      Educational Level - Low (%)    256 (50.2%)    203 (52.1%)   \n",
       "6   Educational Level - Medium (%)    144 (28.2%)    106 (27.2%)   \n",
       "7     Educational Level - High (%)     80 (15.7%)     59 (15.1%)   \n",
       "8    Educational Level - Other (%)      30 (5.9%)      22 (5.6%)   \n",
       "9    Grip strength (kg); mean (SD)     29.2 ± 9.3     27.5 ± 9.4   \n",
       "10                  Maxgrip; n (%)   510 (100.0%)   390 (100.0%)   \n",
       "11       Missing grip strength (n)              0              0   \n",
       "12  Walking speed (sec); mean (SD)      4.8 ± 3.8      4.8 ± 3.5   \n",
       "13            Walking speed; n (%)   510 (100.0%)   390 (100.0%)   \n",
       "14       Missing walking speed (n)              0              0   \n",
       "15        Total missing values (n)              0              0   \n",
       "\n",
       "         Only OA     OA and HT Only Diabetes   HT and Diab All three diseases  \\\n",
       "0            124           117            79            79                 38   \n",
       "1     80.6 ± 3.8    80.1 ± 4.2    79.6 ± 3.4    79.9 ± 3.6         79.1 ± 3.7   \n",
       "2   124 (100.0%)  117 (100.0%)   79 (100.0%)   79 (100.0%)        38 (100.0%)   \n",
       "3   74.0 (59.7%)  68.0 (58.1%)  39.0 (49.4%)  48.0 (60.8%)       25.0 (65.8%)   \n",
       "4     26.4 ± 6.5    27.6 ± 4.1    27.1 ± 3.9    27.4 ± 4.0         29.2 ± 4.5   \n",
       "5     76 (61.3%)    61 (52.1%)    48 (60.8%)    38 (48.1%)         13 (34.2%)   \n",
       "6     17 (13.7%)    29 (24.8%)    13 (16.5%)    19 (24.1%)         12 (31.6%)   \n",
       "7     22 (17.7%)    18 (15.4%)    10 (12.7%)    17 (21.5%)          7 (18.4%)   \n",
       "8       9 (7.3%)      9 (7.7%)     8 (10.1%)      5 (6.3%)          6 (15.8%)   \n",
       "9     24.2 ± 9.1   26.5 ± 10.8    26.8 ± 8.6    26.0 ± 8.1         24.3 ± 8.7   \n",
       "10  124 (100.0%)  117 (100.0%)   79 (100.0%)   79 (100.0%)        38 (100.0%)   \n",
       "11             0             0             0             0                  0   \n",
       "12     5.3 ± 3.8     5.2 ± 3.9     5.8 ± 5.4     5.6 ± 4.6          5.6 ± 3.2   \n",
       "13  124 (100.0%)  117 (100.0%)   79 (100.0%)   79 (100.0%)        38 (100.0%)   \n",
       "14             0             0             0             0                  0   \n",
       "15             0             0             0             0                  0   \n",
       "\n",
       "     OA and Diab  \n",
       "0             24  \n",
       "1     78.8 ± 3.2  \n",
       "2    24 (100.0%)  \n",
       "3   10.0 (41.7%)  \n",
       "4     27.6 ± 5.5  \n",
       "5     14 (58.3%)  \n",
       "6      7 (29.2%)  \n",
       "7       0 (0.0%)  \n",
       "8      3 (12.5%)  \n",
       "9     26.3 ± 7.1  \n",
       "10   24 (100.0%)  \n",
       "11             0  \n",
       "12     5.8 ± 3.5  \n",
       "13   24 (100.0%)  \n",
       "14             0  \n",
       "15             0  "
      ]
     },
     "execution_count": 57,
     "metadata": {},
     "output_type": "execute_result"
    }
   ],
   "source": [
    "maxwalk['disease_category'] = 'No disease'\n",
    "maxwalk.loc[(maxwalk['OA_conserv'] == 1) & (maxwalk['Hypertension'] == 0) & (maxwalk['Diabetes'] == 0), 'disease_category'] = 'Only OA'\n",
    "maxwalk.loc[(maxwalk['OA_conserv'] == 0) & (maxwalk['Hypertension'] == 1) & (maxwalk['Diabetes'] == 0), 'disease_category'] = 'Only HT'\n",
    "maxwalk.loc[(maxwalk['OA_conserv'] == 0) & (maxwalk['Hypertension'] == 0) & (maxwalk['Diabetes'] == 1), 'disease_category'] = 'Only Diabetes'\n",
    "maxwalk.loc[(maxwalk['OA_conserv'] == 1) & (maxwalk['Hypertension'] == 1) & (maxwalk['Diabetes'] == 0), 'disease_category'] = 'OA and HT'\n",
    "maxwalk.loc[(maxwalk['OA_conserv'] == 1) & (maxwalk['Hypertension'] == 0) & (maxwalk['Diabetes'] == 1), 'disease_category'] = 'OA and Diab'\n",
    "maxwalk.loc[(maxwalk['OA_conserv'] == 0) & (maxwalk['Hypertension'] == 1) & (maxwalk['Diabetes'] == 1), 'disease_category'] = 'HT and Diab'\n",
    "maxwalk.loc[(maxwalk['OA_conserv'] == 1) & (maxwalk['Hypertension'] == 1) & (maxwalk['Diabetes'] == 1), 'disease_category'] = 'All three diseases'\n",
    "\n",
    "\n",
    "summary_dict = {\n",
    "    'Variable': ['Number of cases', 'Age; mean (SD)', 'Age; n (%)', 'Sex; n, (%)', 'BMI; mean (SD)',\n",
    "                 'Educational Level - Low (%)', 'Educational Level - Medium (%)',\n",
    "                 'Educational Level - High (%)', 'Educational Level - Other (%)',\n",
    "                 'Grip strength (kg); mean (SD)', 'Maxgrip; n (%)', 'Missing grip strength (n)',\n",
    "                 'Walking speed (sec); mean (SD)', 'Walking speed; n (%)', 'Missing walking speed (n)',\n",
    "                 'Total missing values (n)']\n",
    "}\n",
    "\n",
    "\n",
    "disease_groups = maxwalk['disease_category'].unique()\n",
    "\n",
    "\n",
    "for group in disease_groups:\n",
    "    subset = maxwalk[maxwalk['disease_category'] == group]\n",
    "    num_cases = len(subset)\n",
    "\n",
    "    # Age \n",
    "    age_mean_sd = f\"{subset['age'].mean():.1f} ± {subset['age'].std():.1f}\" if num_cases > 0 else \"NaN\"\n",
    "    age_n = f\"{num_cases - subset['age'].isna().sum()} ({((num_cases - subset['age'].isna().sum()) / num_cases) * 100:.1f}%)\" if num_cases > 0 else \"NaN\"\n",
    "\n",
    "    # Female\n",
    "    female_n = f\"{subset['female'].sum()} ({(subset['female'].sum() / num_cases) * 100:.1f}%)\" if num_cases > 0 else \"NaN\"\n",
    "\n",
    "    # BMI\n",
    "    bmi_mean_sd = f\"{subset['bmi'].mean():.1f} ± {subset['bmi'].std():.1f}\" if num_cases > 0 else \"NaN\"\n",
    "\n",
    "    # Educational level counts (%)\n",
    "    def edu_percent(level):\n",
    "        count = (subset['educational_level'] == level).sum()\n",
    "        return f\"{count} ({(count / num_cases) * 100:.1f}%)\" if num_cases > 0 else \"NaN\"\n",
    "\n",
    "    edu_low = edu_percent(0)\n",
    "    edu_medium = edu_percent(1)\n",
    "    edu_high = edu_percent(2)\n",
    "    edu_other = edu_percent(3)\n",
    "\n",
    "    # Grip strength\n",
    "    maxgrip_mean_sd = f\"{subset['maxgrip'].mean():.1f} ± {subset['maxgrip'].std():.1f}\" if num_cases > 0 else \"NaN\"\n",
    "    missing_maxgrip = subset['maxgrip'].isna().sum()\n",
    "    maxgrip_n = f\"{num_cases - missing_maxgrip} ({((num_cases - missing_maxgrip) / num_cases) * 100:.1f}%)\" if num_cases > 0 else \"NaN\"\n",
    "\n",
    "    # Walking speed\n",
    "    walking_mean_sd = f\"{subset['walking'].mean():.1f} ± {subset['walking'].std():.1f}\" if num_cases > 0 else \"NaN\"\n",
    "    missing_walking = subset['walking'].isna().sum()\n",
    "    valid_walking = num_cases - missing_walking\n",
    "    walking_n = f\"{valid_walking} ({(valid_walking / num_cases) * 100:.1f}%)\" if num_cases > 0 else \"NaN\"\n",
    "\n",
    "    total_missing = missing_maxgrip + missing_walking\n",
    "\n",
    "\n",
    "    summary_dict[group] = [\n",
    "        num_cases, age_mean_sd, age_n, female_n, bmi_mean_sd,\n",
    "        edu_low, edu_medium, edu_high, edu_other,\n",
    "        maxgrip_mean_sd, maxgrip_n, missing_maxgrip,\n",
    "        walking_mean_sd, walking_n, missing_walking,\n",
    "        total_missing\n",
    "    ]\n",
    "\n",
    "\n",
    "max_len = max(len(v) for v in summary_dict.values())\n",
    "for k in summary_dict:\n",
    "    summary_dict[k] += [\"\"] * (max_len - len(summary_dict[k]))\n",
    "\n",
    "summary_table_maxwalk = pd.DataFrame(summary_dict)\n",
    "summary_table_maxwalk\n"
   ]
  },
  {
   "cell_type": "markdown",
   "metadata": {},
   "source": [
    "##### Create csv from maxchair and maxwalk"
   ]
  },
  {
   "cell_type": "code",
   "execution_count": 58,
   "metadata": {},
   "outputs": [],
   "source": [
    "maxchair.to_csv(\"data/maxchair.csv\")\n",
    "maxwalk.to_csv(\"data/maxwalk.csv\")"
   ]
  },
  {
   "cell_type": "code",
   "execution_count": 59,
   "metadata": {},
   "outputs": [
    {
     "data": {
      "text/html": [
       "<div>\n",
       "<style scoped>\n",
       "    .dataframe tbody tr th:only-of-type {\n",
       "        vertical-align: middle;\n",
       "    }\n",
       "\n",
       "    .dataframe tbody tr th {\n",
       "        vertical-align: top;\n",
       "    }\n",
       "\n",
       "    .dataframe thead th {\n",
       "        text-align: right;\n",
       "    }\n",
       "</style>\n",
       "<table border=\"1\" class=\"dataframe\">\n",
       "  <thead>\n",
       "    <tr style=\"text-align: right;\">\n",
       "      <th></th>\n",
       "      <th>age</th>\n",
       "      <th>bmi</th>\n",
       "      <th>female</th>\n",
       "      <th>educational_level</th>\n",
       "      <th>OA_conserv</th>\n",
       "      <th>Hypertension</th>\n",
       "      <th>Diabetes</th>\n",
       "      <th>maxgrip</th>\n",
       "      <th>chair</th>\n",
       "    </tr>\n",
       "  </thead>\n",
       "  <tbody>\n",
       "    <tr>\n",
       "      <th>count</th>\n",
       "      <td>10359.000000</td>\n",
       "      <td>10359.000000</td>\n",
       "      <td>10359.000000</td>\n",
       "      <td>10359.000000</td>\n",
       "      <td>10359.000000</td>\n",
       "      <td>10359.000000</td>\n",
       "      <td>10359.000000</td>\n",
       "      <td>10359.000000</td>\n",
       "      <td>10359.000000</td>\n",
       "    </tr>\n",
       "    <tr>\n",
       "      <th>mean</th>\n",
       "      <td>59.711072</td>\n",
       "      <td>26.706177</td>\n",
       "      <td>0.542813</td>\n",
       "      <td>0.901921</td>\n",
       "      <td>0.135824</td>\n",
       "      <td>0.310551</td>\n",
       "      <td>0.081861</td>\n",
       "      <td>37.056473</td>\n",
       "      <td>11.173458</td>\n",
       "    </tr>\n",
       "    <tr>\n",
       "      <th>std</th>\n",
       "      <td>7.458557</td>\n",
       "      <td>4.554358</td>\n",
       "      <td>0.498188</td>\n",
       "      <td>0.819272</td>\n",
       "      <td>0.342618</td>\n",
       "      <td>0.462742</td>\n",
       "      <td>0.274166</td>\n",
       "      <td>11.519487</td>\n",
       "      <td>6.958415</td>\n",
       "    </tr>\n",
       "    <tr>\n",
       "      <th>min</th>\n",
       "      <td>15.000000</td>\n",
       "      <td>13.061224</td>\n",
       "      <td>0.000000</td>\n",
       "      <td>0.000000</td>\n",
       "      <td>0.000000</td>\n",
       "      <td>0.000000</td>\n",
       "      <td>0.000000</td>\n",
       "      <td>1.000000</td>\n",
       "      <td>0.050000</td>\n",
       "    </tr>\n",
       "    <tr>\n",
       "      <th>25%</th>\n",
       "      <td>54.000000</td>\n",
       "      <td>23.833005</td>\n",
       "      <td>0.000000</td>\n",
       "      <td>0.000000</td>\n",
       "      <td>0.000000</td>\n",
       "      <td>0.000000</td>\n",
       "      <td>0.000000</td>\n",
       "      <td>28.000000</td>\n",
       "      <td>7.900000</td>\n",
       "    </tr>\n",
       "    <tr>\n",
       "      <th>50%</th>\n",
       "      <td>59.000000</td>\n",
       "      <td>26.196187</td>\n",
       "      <td>1.000000</td>\n",
       "      <td>1.000000</td>\n",
       "      <td>0.000000</td>\n",
       "      <td>0.000000</td>\n",
       "      <td>0.000000</td>\n",
       "      <td>35.000000</td>\n",
       "      <td>10.000000</td>\n",
       "    </tr>\n",
       "    <tr>\n",
       "      <th>75%</th>\n",
       "      <td>65.000000</td>\n",
       "      <td>29.031790</td>\n",
       "      <td>1.000000</td>\n",
       "      <td>1.000000</td>\n",
       "      <td>0.000000</td>\n",
       "      <td>1.000000</td>\n",
       "      <td>0.000000</td>\n",
       "      <td>46.000000</td>\n",
       "      <td>12.680000</td>\n",
       "    </tr>\n",
       "    <tr>\n",
       "      <th>max</th>\n",
       "      <td>96.000000</td>\n",
       "      <td>157.394159</td>\n",
       "      <td>1.000000</td>\n",
       "      <td>3.000000</td>\n",
       "      <td>1.000000</td>\n",
       "      <td>1.000000</td>\n",
       "      <td>1.000000</td>\n",
       "      <td>84.000000</td>\n",
       "      <td>98.000000</td>\n",
       "    </tr>\n",
       "  </tbody>\n",
       "</table>\n",
       "</div>"
      ],
      "text/plain": [
       "                age           bmi        female  educational_level  \\\n",
       "count  10359.000000  10359.000000  10359.000000       10359.000000   \n",
       "mean      59.711072     26.706177      0.542813           0.901921   \n",
       "std        7.458557      4.554358      0.498188           0.819272   \n",
       "min       15.000000     13.061224      0.000000           0.000000   \n",
       "25%       54.000000     23.833005      0.000000           0.000000   \n",
       "50%       59.000000     26.196187      1.000000           1.000000   \n",
       "75%       65.000000     29.031790      1.000000           1.000000   \n",
       "max       96.000000    157.394159      1.000000           3.000000   \n",
       "\n",
       "         OA_conserv  Hypertension      Diabetes       maxgrip         chair  \n",
       "count  10359.000000  10359.000000  10359.000000  10359.000000  10359.000000  \n",
       "mean       0.135824      0.310551      0.081861     37.056473     11.173458  \n",
       "std        0.342618      0.462742      0.274166     11.519487      6.958415  \n",
       "min        0.000000      0.000000      0.000000      1.000000      0.050000  \n",
       "25%        0.000000      0.000000      0.000000     28.000000      7.900000  \n",
       "50%        0.000000      0.000000      0.000000     35.000000     10.000000  \n",
       "75%        0.000000      1.000000      0.000000     46.000000     12.680000  \n",
       "max        1.000000      1.000000      1.000000     84.000000     98.000000  "
      ]
     },
     "execution_count": 59,
     "metadata": {},
     "output_type": "execute_result"
    }
   ],
   "source": [
    "maxchair.describe()"
   ]
  },
  {
   "cell_type": "code",
   "execution_count": 60,
   "metadata": {},
   "outputs": [
    {
     "data": {
      "text/html": [
       "<div>\n",
       "<style scoped>\n",
       "    .dataframe tbody tr th:only-of-type {\n",
       "        vertical-align: middle;\n",
       "    }\n",
       "\n",
       "    .dataframe tbody tr th {\n",
       "        vertical-align: top;\n",
       "    }\n",
       "\n",
       "    .dataframe thead th {\n",
       "        text-align: right;\n",
       "    }\n",
       "</style>\n",
       "<table border=\"1\" class=\"dataframe\">\n",
       "  <thead>\n",
       "    <tr style=\"text-align: right;\">\n",
       "      <th></th>\n",
       "      <th>age</th>\n",
       "      <th>bmi</th>\n",
       "      <th>female</th>\n",
       "      <th>educational_level</th>\n",
       "      <th>OA_conserv</th>\n",
       "      <th>Hypertension</th>\n",
       "      <th>Diabetes</th>\n",
       "      <th>maxgrip</th>\n",
       "      <th>walking</th>\n",
       "    </tr>\n",
       "  </thead>\n",
       "  <tbody>\n",
       "    <tr>\n",
       "      <th>count</th>\n",
       "      <td>1361.000000</td>\n",
       "      <td>1361.000000</td>\n",
       "      <td>1361.000000</td>\n",
       "      <td>1361.000000</td>\n",
       "      <td>1361.000000</td>\n",
       "      <td>1361.000000</td>\n",
       "      <td>1361.000000</td>\n",
       "      <td>1361.000000</td>\n",
       "      <td>1361.000000</td>\n",
       "    </tr>\n",
       "    <tr>\n",
       "      <th>mean</th>\n",
       "      <td>80.044085</td>\n",
       "      <td>26.180041</td>\n",
       "      <td>0.520940</td>\n",
       "      <td>0.770757</td>\n",
       "      <td>0.222630</td>\n",
       "      <td>0.458486</td>\n",
       "      <td>0.161646</td>\n",
       "      <td>27.529023</td>\n",
       "      <td>5.013295</td>\n",
       "    </tr>\n",
       "    <tr>\n",
       "      <th>std</th>\n",
       "      <td>3.957992</td>\n",
       "      <td>4.523825</td>\n",
       "      <td>0.499745</td>\n",
       "      <td>0.946540</td>\n",
       "      <td>0.416165</td>\n",
       "      <td>0.498457</td>\n",
       "      <td>0.368261</td>\n",
       "      <td>9.424198</td>\n",
       "      <td>3.859860</td>\n",
       "    </tr>\n",
       "    <tr>\n",
       "      <th>min</th>\n",
       "      <td>60.000000</td>\n",
       "      <td>12.802768</td>\n",
       "      <td>0.000000</td>\n",
       "      <td>0.000000</td>\n",
       "      <td>0.000000</td>\n",
       "      <td>0.000000</td>\n",
       "      <td>0.000000</td>\n",
       "      <td>0.000000</td>\n",
       "      <td>0.500000</td>\n",
       "    </tr>\n",
       "    <tr>\n",
       "      <th>25%</th>\n",
       "      <td>77.000000</td>\n",
       "      <td>23.463385</td>\n",
       "      <td>0.000000</td>\n",
       "      <td>0.000000</td>\n",
       "      <td>0.000000</td>\n",
       "      <td>0.000000</td>\n",
       "      <td>0.000000</td>\n",
       "      <td>20.000000</td>\n",
       "      <td>2.815000</td>\n",
       "    </tr>\n",
       "    <tr>\n",
       "      <th>50%</th>\n",
       "      <td>79.000000</td>\n",
       "      <td>25.765713</td>\n",
       "      <td>1.000000</td>\n",
       "      <td>0.000000</td>\n",
       "      <td>0.000000</td>\n",
       "      <td>0.000000</td>\n",
       "      <td>0.000000</td>\n",
       "      <td>26.000000</td>\n",
       "      <td>3.800000</td>\n",
       "    </tr>\n",
       "    <tr>\n",
       "      <th>75%</th>\n",
       "      <td>82.000000</td>\n",
       "      <td>28.393726</td>\n",
       "      <td>1.000000</td>\n",
       "      <td>1.000000</td>\n",
       "      <td>0.000000</td>\n",
       "      <td>1.000000</td>\n",
       "      <td>0.000000</td>\n",
       "      <td>34.000000</td>\n",
       "      <td>5.690000</td>\n",
       "    </tr>\n",
       "    <tr>\n",
       "      <th>max</th>\n",
       "      <td>98.000000</td>\n",
       "      <td>80.329225</td>\n",
       "      <td>1.000000</td>\n",
       "      <td>3.000000</td>\n",
       "      <td>1.000000</td>\n",
       "      <td>1.000000</td>\n",
       "      <td>1.000000</td>\n",
       "      <td>80.000000</td>\n",
       "      <td>30.000000</td>\n",
       "    </tr>\n",
       "  </tbody>\n",
       "</table>\n",
       "</div>"
      ],
      "text/plain": [
       "               age          bmi       female  educational_level   OA_conserv  \\\n",
       "count  1361.000000  1361.000000  1361.000000        1361.000000  1361.000000   \n",
       "mean     80.044085    26.180041     0.520940           0.770757     0.222630   \n",
       "std       3.957992     4.523825     0.499745           0.946540     0.416165   \n",
       "min      60.000000    12.802768     0.000000           0.000000     0.000000   \n",
       "25%      77.000000    23.463385     0.000000           0.000000     0.000000   \n",
       "50%      79.000000    25.765713     1.000000           0.000000     0.000000   \n",
       "75%      82.000000    28.393726     1.000000           1.000000     0.000000   \n",
       "max      98.000000    80.329225     1.000000           3.000000     1.000000   \n",
       "\n",
       "       Hypertension     Diabetes      maxgrip      walking  \n",
       "count   1361.000000  1361.000000  1361.000000  1361.000000  \n",
       "mean       0.458486     0.161646    27.529023     5.013295  \n",
       "std        0.498457     0.368261     9.424198     3.859860  \n",
       "min        0.000000     0.000000     0.000000     0.500000  \n",
       "25%        0.000000     0.000000    20.000000     2.815000  \n",
       "50%        0.000000     0.000000    26.000000     3.800000  \n",
       "75%        1.000000     0.000000    34.000000     5.690000  \n",
       "max        1.000000     1.000000    80.000000    30.000000  "
      ]
     },
     "execution_count": 60,
     "metadata": {},
     "output_type": "execute_result"
    }
   ],
   "source": [
    "maxwalk.describe()"
   ]
  },
  {
   "cell_type": "code",
   "execution_count": 61,
   "metadata": {},
   "outputs": [
    {
     "data": {
      "text/html": [
       "<div>\n",
       "<style scoped>\n",
       "    .dataframe tbody tr th:only-of-type {\n",
       "        vertical-align: middle;\n",
       "    }\n",
       "\n",
       "    .dataframe tbody tr th {\n",
       "        vertical-align: top;\n",
       "    }\n",
       "\n",
       "    .dataframe thead th {\n",
       "        text-align: right;\n",
       "    }\n",
       "</style>\n",
       "<table border=\"1\" class=\"dataframe\">\n",
       "  <thead>\n",
       "    <tr style=\"text-align: right;\">\n",
       "      <th></th>\n",
       "      <th>age</th>\n",
       "      <th>bmi</th>\n",
       "      <th>female</th>\n",
       "      <th>educational_level</th>\n",
       "      <th>OA_conserv</th>\n",
       "      <th>Hypertension</th>\n",
       "      <th>Diabetes</th>\n",
       "      <th>maxgrip</th>\n",
       "      <th>chair</th>\n",
       "      <th>walking</th>\n",
       "      <th>disease_group</th>\n",
       "    </tr>\n",
       "  </thead>\n",
       "  <tbody>\n",
       "    <tr>\n",
       "      <th>count</th>\n",
       "      <td>15821.00000</td>\n",
       "      <td>15821.000000</td>\n",
       "      <td>15821.000000</td>\n",
       "      <td>15821.000000</td>\n",
       "      <td>15821.000000</td>\n",
       "      <td>15821.000000</td>\n",
       "      <td>15821.000000</td>\n",
       "      <td>14414.000000</td>\n",
       "      <td>10513.000000</td>\n",
       "      <td>1425.000000</td>\n",
       "      <td>15821.000000</td>\n",
       "    </tr>\n",
       "    <tr>\n",
       "      <th>mean</th>\n",
       "      <td>63.48739</td>\n",
       "      <td>26.769211</td>\n",
       "      <td>0.550913</td>\n",
       "      <td>0.848619</td>\n",
       "      <td>0.180204</td>\n",
       "      <td>0.346754</td>\n",
       "      <td>0.105113</td>\n",
       "      <td>34.973845</td>\n",
       "      <td>11.194354</td>\n",
       "      <td>5.124547</td>\n",
       "      <td>0.632071</td>\n",
       "    </tr>\n",
       "    <tr>\n",
       "      <th>std</th>\n",
       "      <td>10.38545</td>\n",
       "      <td>4.703205</td>\n",
       "      <td>0.497417</td>\n",
       "      <td>0.853802</td>\n",
       "      <td>0.384369</td>\n",
       "      <td>0.475952</td>\n",
       "      <td>0.306709</td>\n",
       "      <td>12.022814</td>\n",
       "      <td>7.009656</td>\n",
       "      <td>4.043442</td>\n",
       "      <td>0.762062</td>\n",
       "    </tr>\n",
       "    <tr>\n",
       "      <th>min</th>\n",
       "      <td>15.00000</td>\n",
       "      <td>10.816658</td>\n",
       "      <td>0.000000</td>\n",
       "      <td>0.000000</td>\n",
       "      <td>0.000000</td>\n",
       "      <td>0.000000</td>\n",
       "      <td>0.000000</td>\n",
       "      <td>0.000000</td>\n",
       "      <td>0.000000</td>\n",
       "      <td>0.500000</td>\n",
       "      <td>0.000000</td>\n",
       "    </tr>\n",
       "    <tr>\n",
       "      <th>25%</th>\n",
       "      <td>55.00000</td>\n",
       "      <td>23.808690</td>\n",
       "      <td>0.000000</td>\n",
       "      <td>0.000000</td>\n",
       "      <td>0.000000</td>\n",
       "      <td>0.000000</td>\n",
       "      <td>0.000000</td>\n",
       "      <td>26.000000</td>\n",
       "      <td>7.900000</td>\n",
       "      <td>2.825000</td>\n",
       "      <td>0.000000</td>\n",
       "    </tr>\n",
       "    <tr>\n",
       "      <th>50%</th>\n",
       "      <td>62.00000</td>\n",
       "      <td>26.218821</td>\n",
       "      <td>1.000000</td>\n",
       "      <td>1.000000</td>\n",
       "      <td>0.000000</td>\n",
       "      <td>0.000000</td>\n",
       "      <td>0.000000</td>\n",
       "      <td>33.000000</td>\n",
       "      <td>10.000000</td>\n",
       "      <td>3.840000</td>\n",
       "      <td>0.000000</td>\n",
       "    </tr>\n",
       "    <tr>\n",
       "      <th>75%</th>\n",
       "      <td>71.00000</td>\n",
       "      <td>29.097746</td>\n",
       "      <td>1.000000</td>\n",
       "      <td>1.000000</td>\n",
       "      <td>0.000000</td>\n",
       "      <td>1.000000</td>\n",
       "      <td>0.000000</td>\n",
       "      <td>44.000000</td>\n",
       "      <td>12.720000</td>\n",
       "      <td>5.770000</td>\n",
       "      <td>1.000000</td>\n",
       "    </tr>\n",
       "    <tr>\n",
       "      <th>max</th>\n",
       "      <td>100.00000</td>\n",
       "      <td>157.394159</td>\n",
       "      <td>1.000000</td>\n",
       "      <td>3.000000</td>\n",
       "      <td>1.000000</td>\n",
       "      <td>1.000000</td>\n",
       "      <td>1.000000</td>\n",
       "      <td>84.000000</td>\n",
       "      <td>98.000000</td>\n",
       "      <td>30.000000</td>\n",
       "      <td>3.000000</td>\n",
       "    </tr>\n",
       "  </tbody>\n",
       "</table>\n",
       "</div>"
      ],
      "text/plain": [
       "               age           bmi        female  educational_level  \\\n",
       "count  15821.00000  15821.000000  15821.000000       15821.000000   \n",
       "mean      63.48739     26.769211      0.550913           0.848619   \n",
       "std       10.38545      4.703205      0.497417           0.853802   \n",
       "min       15.00000     10.816658      0.000000           0.000000   \n",
       "25%       55.00000     23.808690      0.000000           0.000000   \n",
       "50%       62.00000     26.218821      1.000000           1.000000   \n",
       "75%       71.00000     29.097746      1.000000           1.000000   \n",
       "max      100.00000    157.394159      1.000000           3.000000   \n",
       "\n",
       "         OA_conserv  Hypertension      Diabetes       maxgrip         chair  \\\n",
       "count  15821.000000  15821.000000  15821.000000  14414.000000  10513.000000   \n",
       "mean       0.180204      0.346754      0.105113     34.973845     11.194354   \n",
       "std        0.384369      0.475952      0.306709     12.022814      7.009656   \n",
       "min        0.000000      0.000000      0.000000      0.000000      0.000000   \n",
       "25%        0.000000      0.000000      0.000000     26.000000      7.900000   \n",
       "50%        0.000000      0.000000      0.000000     33.000000     10.000000   \n",
       "75%        0.000000      1.000000      0.000000     44.000000     12.720000   \n",
       "max        1.000000      1.000000      1.000000     84.000000     98.000000   \n",
       "\n",
       "           walking  disease_group  \n",
       "count  1425.000000   15821.000000  \n",
       "mean      5.124547       0.632071  \n",
       "std       4.043442       0.762062  \n",
       "min       0.500000       0.000000  \n",
       "25%       2.825000       0.000000  \n",
       "50%       3.840000       0.000000  \n",
       "75%       5.770000       1.000000  \n",
       "max      30.000000       3.000000  "
      ]
     },
     "execution_count": 61,
     "metadata": {},
     "output_type": "execute_result"
    }
   ],
   "source": [
    "data.describe()"
   ]
  },
  {
   "cell_type": "markdown",
   "metadata": {},
   "source": [
    "##### Comparison between disease:"
   ]
  },
  {
   "cell_type": "code",
   "execution_count": 62,
   "metadata": {},
   "outputs": [
    {
     "data": {
      "text/html": [
       "<div>\n",
       "<style scoped>\n",
       "    .dataframe tbody tr th:only-of-type {\n",
       "        vertical-align: middle;\n",
       "    }\n",
       "\n",
       "    .dataframe tbody tr th {\n",
       "        vertical-align: top;\n",
       "    }\n",
       "\n",
       "    .dataframe thead th {\n",
       "        text-align: right;\n",
       "    }\n",
       "</style>\n",
       "<table border=\"1\" class=\"dataframe\">\n",
       "  <thead>\n",
       "    <tr style=\"text-align: right;\">\n",
       "      <th></th>\n",
       "      <th>n</th>\n",
       "      <th>grip_strength_mean</th>\n",
       "      <th>chair_stand_mean</th>\n",
       "    </tr>\n",
       "    <tr>\n",
       "      <th>disease_count</th>\n",
       "      <th></th>\n",
       "      <th></th>\n",
       "      <th></th>\n",
       "    </tr>\n",
       "  </thead>\n",
       "  <tbody>\n",
       "    <tr>\n",
       "      <th>0.0</th>\n",
       "      <td>6039</td>\n",
       "      <td>37.9</td>\n",
       "      <td>10.9</td>\n",
       "    </tr>\n",
       "    <tr>\n",
       "      <th>1.0</th>\n",
       "      <td>3258</td>\n",
       "      <td>36.6</td>\n",
       "      <td>11.3</td>\n",
       "    </tr>\n",
       "    <tr>\n",
       "      <th>2.0</th>\n",
       "      <td>972</td>\n",
       "      <td>34.0</td>\n",
       "      <td>12.4</td>\n",
       "    </tr>\n",
       "    <tr>\n",
       "      <th>3.0</th>\n",
       "      <td>90</td>\n",
       "      <td>31.5</td>\n",
       "      <td>12.8</td>\n",
       "    </tr>\n",
       "  </tbody>\n",
       "</table>\n",
       "</div>"
      ],
      "text/plain": [
       "                  n  grip_strength_mean  chair_stand_mean\n",
       "disease_count                                            \n",
       "0.0            6039                37.9              10.9\n",
       "1.0            3258                36.6              11.3\n",
       "2.0             972                34.0              12.4\n",
       "3.0              90                31.5              12.8"
      ]
     },
     "execution_count": 62,
     "metadata": {},
     "output_type": "execute_result"
    }
   ],
   "source": [
    "maxchair['disease_count'] = maxchair[['OA_conserv', 'Diabetes', 'Hypertension']].sum(axis=1)\n",
    "\n",
    "summary_chair = maxchair.groupby('disease_count').agg(\n",
    "    n=('disease_count', 'count'),\n",
    "    grip_strength_mean=('maxgrip', 'mean'),\n",
    "    chair_stand_mean=('chair', 'mean')\n",
    ").round(1)\n",
    "\n",
    "summary_chair\n"
   ]
  },
  {
   "cell_type": "code",
   "execution_count": 63,
   "metadata": {},
   "outputs": [
    {
     "data": {
      "text/html": [
       "<div>\n",
       "<style scoped>\n",
       "    .dataframe tbody tr th:only-of-type {\n",
       "        vertical-align: middle;\n",
       "    }\n",
       "\n",
       "    .dataframe tbody tr th {\n",
       "        vertical-align: top;\n",
       "    }\n",
       "\n",
       "    .dataframe thead th {\n",
       "        text-align: right;\n",
       "    }\n",
       "</style>\n",
       "<table border=\"1\" class=\"dataframe\">\n",
       "  <thead>\n",
       "    <tr style=\"text-align: right;\">\n",
       "      <th></th>\n",
       "      <th>n</th>\n",
       "      <th>grip_strength_mean</th>\n",
       "      <th>walking_mean</th>\n",
       "    </tr>\n",
       "    <tr>\n",
       "      <th>disease_count</th>\n",
       "      <th></th>\n",
       "      <th></th>\n",
       "      <th></th>\n",
       "    </tr>\n",
       "  </thead>\n",
       "  <tbody>\n",
       "    <tr>\n",
       "      <th>0.0</th>\n",
       "      <td>510</td>\n",
       "      <td>29.2</td>\n",
       "      <td>4.8</td>\n",
       "    </tr>\n",
       "    <tr>\n",
       "      <th>1.0</th>\n",
       "      <td>593</td>\n",
       "      <td>26.7</td>\n",
       "      <td>5.0</td>\n",
       "    </tr>\n",
       "    <tr>\n",
       "      <th>2.0</th>\n",
       "      <td>220</td>\n",
       "      <td>26.3</td>\n",
       "      <td>5.4</td>\n",
       "    </tr>\n",
       "    <tr>\n",
       "      <th>3.0</th>\n",
       "      <td>38</td>\n",
       "      <td>24.3</td>\n",
       "      <td>5.6</td>\n",
       "    </tr>\n",
       "  </tbody>\n",
       "</table>\n",
       "</div>"
      ],
      "text/plain": [
       "                 n  grip_strength_mean  walking_mean\n",
       "disease_count                                       \n",
       "0.0            510                29.2           4.8\n",
       "1.0            593                26.7           5.0\n",
       "2.0            220                26.3           5.4\n",
       "3.0             38                24.3           5.6"
      ]
     },
     "execution_count": 63,
     "metadata": {},
     "output_type": "execute_result"
    }
   ],
   "source": [
    "maxwalk['disease_count'] = maxwalk[['OA_conserv', 'Diabetes', 'Hypertension']].sum(axis=1)\n",
    "\n",
    "summary_walk = maxwalk.groupby('disease_count').agg(\n",
    "    n=('disease_count', 'count'),\n",
    "    grip_strength_mean=('maxgrip', 'mean'),\n",
    "    walking_mean=('walking', 'mean')\n",
    ").round(1)\n",
    "\n",
    "summary_walk "
   ]
  },
  {
   "cell_type": "code",
   "execution_count": null,
   "metadata": {},
   "outputs": [],
   "source": []
  }
 ],
 "metadata": {
  "kernelspec": {
   "display_name": "physioai",
   "language": "python",
   "name": "python3"
  },
  "language_info": {
   "codemirror_mode": {
    "name": "ipython",
    "version": 3
   },
   "file_extension": ".py",
   "mimetype": "text/x-python",
   "name": "python",
   "nbconvert_exporter": "python",
   "pygments_lexer": "ipython3",
   "version": "3.10.13"
  }
 },
 "nbformat": 4,
 "nbformat_minor": 2
}
