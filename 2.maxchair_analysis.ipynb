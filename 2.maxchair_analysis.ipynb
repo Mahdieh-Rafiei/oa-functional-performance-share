{
 "cells": [
  {
   "cell_type": "code",
   "execution_count": 1,
   "metadata": {},
   "outputs": [
    {
     "name": "stderr",
     "output_type": "stream",
     "text": [
      "/Users/mahdie/opt/anaconda3/envs/physioai/lib/python3.10/site-packages/pandas/core/arrays/masked.py:60: UserWarning: Pandas requires version '1.3.6' or newer of 'bottleneck' (version '1.3.5' currently installed).\n",
      "  from pandas.core import (\n"
     ]
    }
   ],
   "source": [
    "import pandas as pd\n",
    "import numpy as np\n",
    "from matplotlib import pyplot as plt\n",
    "import statsmodels.api as sm\n",
    "from statsmodels.formula.api import ols # linear ANOVA\n",
    "from statsmodels.stats.multicomp import pairwise_tukeyhsd\n",
    "from scipy.stats import f_oneway\n",
    "import statsmodels.formula.api as smf"
   ]
  },
  {
   "cell_type": "markdown",
   "metadata": {},
   "source": [
    "##### Data loading"
   ]
  },
  {
   "cell_type": "markdown",
   "metadata": {},
   "source": [
    "The educational level is 'isced1997_r' in wave 2"
   ]
  },
  {
   "cell_type": "code",
   "execution_count": 2,
   "metadata": {},
   "outputs": [
    {
     "data": {
      "text/plain": [
       "(10359, 11)"
      ]
     },
     "execution_count": 2,
     "metadata": {},
     "output_type": "execute_result"
    }
   ],
   "source": [
    "maxchair = pd.read_csv(\"data/maxchair.csv\")\n",
    "maxchair.shape"
   ]
  },
  {
   "cell_type": "code",
   "execution_count": 3,
   "metadata": {},
   "outputs": [
    {
     "data": {
      "text/html": [
       "<div>\n",
       "<style scoped>\n",
       "    .dataframe tbody tr th:only-of-type {\n",
       "        vertical-align: middle;\n",
       "    }\n",
       "\n",
       "    .dataframe tbody tr th {\n",
       "        vertical-align: top;\n",
       "    }\n",
       "\n",
       "    .dataframe thead th {\n",
       "        text-align: right;\n",
       "    }\n",
       "</style>\n",
       "<table border=\"1\" class=\"dataframe\">\n",
       "  <thead>\n",
       "    <tr style=\"text-align: right;\">\n",
       "      <th></th>\n",
       "      <th>mergeid</th>\n",
       "      <th>age</th>\n",
       "      <th>bmi</th>\n",
       "      <th>female</th>\n",
       "      <th>educational_level</th>\n",
       "      <th>OA_conserv</th>\n",
       "      <th>Hypertension</th>\n",
       "      <th>Diabetes</th>\n",
       "      <th>maxgrip</th>\n",
       "      <th>chair</th>\n",
       "      <th>disease_category</th>\n",
       "    </tr>\n",
       "  </thead>\n",
       "  <tbody>\n",
       "    <tr>\n",
       "      <th>0</th>\n",
       "      <td>AT-004234-02</td>\n",
       "      <td>53.0</td>\n",
       "      <td>30.717400</td>\n",
       "      <td>1.0</td>\n",
       "      <td>1.0</td>\n",
       "      <td>0.0</td>\n",
       "      <td>0.0</td>\n",
       "      <td>1.0</td>\n",
       "      <td>37.0</td>\n",
       "      <td>6.00</td>\n",
       "      <td>Only Diabetes</td>\n",
       "    </tr>\n",
       "    <tr>\n",
       "      <th>1</th>\n",
       "      <td>AT-016392-01</td>\n",
       "      <td>61.0</td>\n",
       "      <td>23.588329</td>\n",
       "      <td>1.0</td>\n",
       "      <td>1.0</td>\n",
       "      <td>0.0</td>\n",
       "      <td>0.0</td>\n",
       "      <td>0.0</td>\n",
       "      <td>34.0</td>\n",
       "      <td>13.20</td>\n",
       "      <td>No disease</td>\n",
       "    </tr>\n",
       "    <tr>\n",
       "      <th>2</th>\n",
       "      <td>AT-017298-01</td>\n",
       "      <td>64.0</td>\n",
       "      <td>25.381469</td>\n",
       "      <td>0.0</td>\n",
       "      <td>2.0</td>\n",
       "      <td>0.0</td>\n",
       "      <td>1.0</td>\n",
       "      <td>0.0</td>\n",
       "      <td>55.0</td>\n",
       "      <td>9.40</td>\n",
       "      <td>Only HT</td>\n",
       "    </tr>\n",
       "    <tr>\n",
       "      <th>3</th>\n",
       "      <td>AT-026212-02</td>\n",
       "      <td>59.0</td>\n",
       "      <td>24.337480</td>\n",
       "      <td>0.0</td>\n",
       "      <td>1.0</td>\n",
       "      <td>0.0</td>\n",
       "      <td>0.0</td>\n",
       "      <td>0.0</td>\n",
       "      <td>52.0</td>\n",
       "      <td>22.00</td>\n",
       "      <td>No disease</td>\n",
       "    </tr>\n",
       "    <tr>\n",
       "      <th>4</th>\n",
       "      <td>AT-117118-02</td>\n",
       "      <td>75.0</td>\n",
       "      <td>28.393726</td>\n",
       "      <td>0.0</td>\n",
       "      <td>1.0</td>\n",
       "      <td>0.0</td>\n",
       "      <td>0.0</td>\n",
       "      <td>0.0</td>\n",
       "      <td>36.0</td>\n",
       "      <td>14.44</td>\n",
       "      <td>No disease</td>\n",
       "    </tr>\n",
       "    <tr>\n",
       "      <th>...</th>\n",
       "      <td>...</td>\n",
       "      <td>...</td>\n",
       "      <td>...</td>\n",
       "      <td>...</td>\n",
       "      <td>...</td>\n",
       "      <td>...</td>\n",
       "      <td>...</td>\n",
       "      <td>...</td>\n",
       "      <td>...</td>\n",
       "      <td>...</td>\n",
       "      <td>...</td>\n",
       "    </tr>\n",
       "    <tr>\n",
       "      <th>10354</th>\n",
       "      <td>SE-985630-02</td>\n",
       "      <td>63.0</td>\n",
       "      <td>21.107266</td>\n",
       "      <td>1.0</td>\n",
       "      <td>1.0</td>\n",
       "      <td>0.0</td>\n",
       "      <td>0.0</td>\n",
       "      <td>0.0</td>\n",
       "      <td>25.0</td>\n",
       "      <td>7.94</td>\n",
       "      <td>No disease</td>\n",
       "    </tr>\n",
       "    <tr>\n",
       "      <th>10355</th>\n",
       "      <td>SE-994435-01</td>\n",
       "      <td>54.0</td>\n",
       "      <td>25.484765</td>\n",
       "      <td>0.0</td>\n",
       "      <td>1.0</td>\n",
       "      <td>0.0</td>\n",
       "      <td>0.0</td>\n",
       "      <td>0.0</td>\n",
       "      <td>61.0</td>\n",
       "      <td>7.41</td>\n",
       "      <td>No disease</td>\n",
       "    </tr>\n",
       "    <tr>\n",
       "      <th>10356</th>\n",
       "      <td>SE-996850-01</td>\n",
       "      <td>61.0</td>\n",
       "      <td>26.827421</td>\n",
       "      <td>0.0</td>\n",
       "      <td>1.0</td>\n",
       "      <td>0.0</td>\n",
       "      <td>0.0</td>\n",
       "      <td>0.0</td>\n",
       "      <td>61.0</td>\n",
       "      <td>7.03</td>\n",
       "      <td>No disease</td>\n",
       "    </tr>\n",
       "    <tr>\n",
       "      <th>10357</th>\n",
       "      <td>SE-996850-02</td>\n",
       "      <td>61.0</td>\n",
       "      <td>23.323418</td>\n",
       "      <td>1.0</td>\n",
       "      <td>1.0</td>\n",
       "      <td>0.0</td>\n",
       "      <td>1.0</td>\n",
       "      <td>0.0</td>\n",
       "      <td>32.0</td>\n",
       "      <td>13.94</td>\n",
       "      <td>Only HT</td>\n",
       "    </tr>\n",
       "    <tr>\n",
       "      <th>10358</th>\n",
       "      <td>SE-996868-01</td>\n",
       "      <td>58.0</td>\n",
       "      <td>35.492158</td>\n",
       "      <td>0.0</td>\n",
       "      <td>1.0</td>\n",
       "      <td>0.0</td>\n",
       "      <td>1.0</td>\n",
       "      <td>0.0</td>\n",
       "      <td>58.0</td>\n",
       "      <td>10.38</td>\n",
       "      <td>Only HT</td>\n",
       "    </tr>\n",
       "  </tbody>\n",
       "</table>\n",
       "<p>10359 rows × 11 columns</p>\n",
       "</div>"
      ],
      "text/plain": [
       "            mergeid   age        bmi  female  educational_level  OA_conserv  \\\n",
       "0      AT-004234-02  53.0  30.717400     1.0                1.0         0.0   \n",
       "1      AT-016392-01  61.0  23.588329     1.0                1.0         0.0   \n",
       "2      AT-017298-01  64.0  25.381469     0.0                2.0         0.0   \n",
       "3      AT-026212-02  59.0  24.337480     0.0                1.0         0.0   \n",
       "4      AT-117118-02  75.0  28.393726     0.0                1.0         0.0   \n",
       "...             ...   ...        ...     ...                ...         ...   \n",
       "10354  SE-985630-02  63.0  21.107266     1.0                1.0         0.0   \n",
       "10355  SE-994435-01  54.0  25.484765     0.0                1.0         0.0   \n",
       "10356  SE-996850-01  61.0  26.827421     0.0                1.0         0.0   \n",
       "10357  SE-996850-02  61.0  23.323418     1.0                1.0         0.0   \n",
       "10358  SE-996868-01  58.0  35.492158     0.0                1.0         0.0   \n",
       "\n",
       "       Hypertension  Diabetes  maxgrip  chair disease_category  \n",
       "0               0.0       1.0     37.0   6.00    Only Diabetes  \n",
       "1               0.0       0.0     34.0  13.20       No disease  \n",
       "2               1.0       0.0     55.0   9.40          Only HT  \n",
       "3               0.0       0.0     52.0  22.00       No disease  \n",
       "4               0.0       0.0     36.0  14.44       No disease  \n",
       "...             ...       ...      ...    ...              ...  \n",
       "10354           0.0       0.0     25.0   7.94       No disease  \n",
       "10355           0.0       0.0     61.0   7.41       No disease  \n",
       "10356           0.0       0.0     61.0   7.03       No disease  \n",
       "10357           1.0       0.0     32.0  13.94          Only HT  \n",
       "10358           1.0       0.0     58.0  10.38          Only HT  \n",
       "\n",
       "[10359 rows x 11 columns]"
      ]
     },
     "execution_count": 3,
     "metadata": {},
     "output_type": "execute_result"
    }
   ],
   "source": [
    "maxchair"
   ]
  },
  {
   "cell_type": "markdown",
   "metadata": {},
   "source": [
    "## statistical"
   ]
  },
  {
   "cell_type": "markdown",
   "metadata": {},
   "source": [
    "##### Statistics on df_features"
   ]
  },
  {
   "cell_type": "markdown",
   "metadata": {},
   "source": [
    "- **0**: No disease  \n",
    "- **1**:  \n",
    "  - Diabetes only  \n",
    "  - Hypertension only  \n",
    "  - OA only  \n",
    "- **2**:  \n",
    "  - Diabetes + Hypertension  \n",
    "  - Diabetes + OA  \n",
    "  - Hypertension + OA  \n",
    "- **3**: Diabetes + Hypertension + OA \n"
   ]
  },
  {
   "cell_type": "code",
   "execution_count": 4,
   "metadata": {},
   "outputs": [],
   "source": [
    "maxchair['disease_category'] = 'No disease'  # Default group\n",
    "maxchair.loc[(maxchair['OA_conserv'] == 1) & (maxchair['Hypertension'] == 0) & (maxchair['Diabetes'] == 0), 'disease_category'] = 'Only OA'\n",
    "maxchair.loc[(maxchair['OA_conserv'] == 0) & (maxchair['Hypertension'] == 1) & (maxchair['Diabetes'] == 0), 'disease_category'] = 'Only HT'\n",
    "maxchair.loc[(maxchair['OA_conserv'] == 0) & (maxchair['Hypertension'] == 0) & (maxchair['Diabetes'] == 1), 'disease_category'] = 'Only Diabetes'\n",
    "maxchair.loc[(maxchair['OA_conserv'] == 1) & (maxchair['Hypertension'] == 1) & (maxchair['Diabetes'] == 0), 'disease_category'] = 'OA and HT'\n",
    "maxchair.loc[(maxchair['OA_conserv'] == 1) & (maxchair['Hypertension'] == 0) & (maxchair['Diabetes'] == 1), 'disease_category'] = 'OA and Diab'\n",
    "maxchair.loc[(maxchair['OA_conserv'] == 0) & (maxchair['Hypertension'] == 1) & (maxchair['Diabetes'] == 1), 'disease_category'] = 'HT and Diab'\n",
    "maxchair.loc[(maxchair['OA_conserv'] == 1) & (maxchair['Hypertension'] == 1) & (maxchair['Diabetes'] == 1), 'disease_category'] = 'All three diseases'\n"
   ]
  },
  {
   "cell_type": "markdown",
   "metadata": {},
   "source": [
    "### Maxgrip"
   ]
  },
  {
   "cell_type": "markdown",
   "metadata": {},
   "source": [
    "#### No confounding"
   ]
  },
  {
   "cell_type": "markdown",
   "metadata": {},
   "source": [
    "##### Step1: One-Way ANOVA"
   ]
  },
  {
   "cell_type": "markdown",
   "metadata": {},
   "source": [
    "Checks if any group differs"
   ]
  },
  {
   "cell_type": "code",
   "execution_count": 5,
   "metadata": {},
   "outputs": [
    {
     "name": "stdout",
     "output_type": "stream",
     "text": [
      "ANOVA for Grip Strength\n",
      "F-statistic: 32.537, p-value: 0.00000\n"
     ]
    }
   ],
   "source": [
    "groups = maxchair['disease_category'].unique()\n",
    "grip_samples = [maxchair[maxchair['disease_category'] == group]['maxgrip'].dropna() for group in groups]\n",
    "\n",
    "# Run ANOVA\n",
    "anova_grip = f_oneway(*grip_samples)\n",
    "print(\"ANOVA for Grip Strength\")\n",
    "print(f\"F-statistic: {anova_grip.statistic:.3f}, p-value: {anova_grip.pvalue:.5f}\")\n"
   ]
  },
  {
   "cell_type": "markdown",
   "metadata": {},
   "source": [
    "##### Step2: Tukey HSD Post-hoc Comparison"
   ]
  },
  {
   "cell_type": "markdown",
   "metadata": {},
   "source": [
    "Identifies which groups differ"
   ]
  },
  {
   "cell_type": "code",
   "execution_count": 6,
   "metadata": {},
   "outputs": [
    {
     "name": "stdout",
     "output_type": "stream",
     "text": [
      "Turkey Maxgrip in age under 75\n",
      "          Multiple Comparison of Means - Tukey HSD, FWER=0.05          \n",
      "=======================================================================\n",
      "      group1           group2    meandiff p-adj   lower   upper  reject\n",
      "-----------------------------------------------------------------------\n",
      "All three diseases   HT and Diab   4.7938 0.0077  0.7558  8.8318   True\n",
      "All three diseases    No disease   6.4219    0.0  2.7524 10.0914   True\n",
      "All three diseases   OA and Diab   1.6516   0.99 -4.2297  7.5329  False\n",
      "All three diseases     OA and HT   0.9421 0.9963 -3.0012  4.8855  False\n",
      "All three diseases Only Diabetes   6.2111 0.0001  2.0721 10.3501   True\n",
      "All three diseases       Only HT   6.0537    0.0  2.3379  9.7695   True\n",
      "All three diseases       Only OA   1.9848 0.7745 -1.8733   5.843  False\n",
      "       HT and Diab    No disease   1.6281 0.1098 -0.1708   3.427  False\n",
      "       HT and Diab   OA and Diab  -3.1422 0.5301 -8.0779  1.7934  False\n",
      "       HT and Diab     OA and HT  -3.8517    0.0 -6.1585 -1.5448   True\n",
      "       HT and Diab Only Diabetes   1.4173 0.7288   -1.21  4.0446  False\n",
      "       HT and Diab       Only HT   1.2599 0.4688 -0.6317  3.1516  False\n",
      "       HT and Diab       Only OA   -2.809  0.002 -4.9668 -0.6511   True\n",
      "        No disease   OA and Diab  -4.7703 0.0387 -9.4093 -0.1313   True\n",
      "        No disease     OA and HT  -5.4798    0.0 -7.0548 -3.9047   True\n",
      "        No disease Only Diabetes  -0.2108    1.0 -2.2262  1.8046  False\n",
      "        No disease       Only HT  -0.3682 0.8994 -1.2271  0.4907  False\n",
      "        No disease       Only OA  -4.4371    0.0 -5.7846 -3.0896   True\n",
      "       OA and Diab     OA and HT  -0.7094 0.9999  -5.568  4.1491  False\n",
      "       OA and Diab Only Diabetes   4.5595  0.107 -0.4591  9.5781  False\n",
      "       OA and Diab       Only HT   4.4021 0.0823 -0.2736  9.0779  False\n",
      "       OA and Diab       Only OA   0.3332    1.0 -4.4564  5.1228  False\n",
      "         OA and HT Only Diabetes    5.269    0.0  2.7896  7.7483   True\n",
      "         OA and HT       Only HT   5.1116    0.0  3.4313  6.7918   True\n",
      "         OA and HT       Only OA   1.0427 0.7503 -0.9324  3.0178  False\n",
      "     Only Diabetes       Only HT  -0.1574    1.0  -2.256  1.9412  False\n",
      "     Only Diabetes       Only OA  -4.2263    0.0 -6.5677 -1.8849   True\n",
      "           Only HT       Only OA  -4.0689    0.0 -5.5379 -2.5999   True\n",
      "-----------------------------------------------------------------------\n"
     ]
    }
   ],
   "source": [
    "df_grip = maxchair[['maxgrip', 'disease_category']].dropna()\n",
    "\n",
    "# Run Tukey HSD\n",
    "tukey_grip = pairwise_tukeyhsd(endog=df_grip['maxgrip'],\n",
    "                               groups=df_grip['disease_category'],\n",
    "                               alpha=0.05)\n",
    "\n",
    "print(\"Turkey Maxgrip in age under 75\")\n",
    "print(tukey_grip.summary())\n"
   ]
  },
  {
   "cell_type": "markdown",
   "metadata": {},
   "source": [
    "##### Number of samples in each group"
   ]
  },
  {
   "cell_type": "code",
   "execution_count": 7,
   "metadata": {},
   "outputs": [
    {
     "name": "stdout",
     "output_type": "stream",
     "text": [
      "disease_category\n",
      "All three diseases      90\n",
      "HT and Diab            393\n",
      "No disease            6039\n",
      "OA and Diab             56\n",
      "OA and HT              523\n",
      "Only Diabetes          309\n",
      "Only HT               2211\n",
      "Only OA                738\n",
      "dtype: int64\n"
     ]
    }
   ],
   "source": [
    "group_counts = maxchair[maxchair['maxgrip'].notna()].groupby('disease_category').size()\n",
    "print(group_counts)"
   ]
  },
  {
   "cell_type": "markdown",
   "metadata": {},
   "source": [
    "##### Step3: Code to Compute Cohen's d and 95% CI"
   ]
  },
  {
   "cell_type": "code",
   "execution_count": 8,
   "metadata": {},
   "outputs": [
    {
     "data": {
      "text/html": [
       "<div>\n",
       "<style scoped>\n",
       "    .dataframe tbody tr th:only-of-type {\n",
       "        vertical-align: middle;\n",
       "    }\n",
       "\n",
       "    .dataframe tbody tr th {\n",
       "        vertical-align: top;\n",
       "    }\n",
       "\n",
       "    .dataframe thead th {\n",
       "        text-align: right;\n",
       "    }\n",
       "</style>\n",
       "<table border=\"1\" class=\"dataframe\">\n",
       "  <thead>\n",
       "    <tr style=\"text-align: right;\">\n",
       "      <th></th>\n",
       "      <th>Comparison</th>\n",
       "      <th>Mean1</th>\n",
       "      <th>Mean2</th>\n",
       "      <th>Cohen_d</th>\n",
       "      <th>95% CI Lower</th>\n",
       "      <th>95% CI Upper</th>\n",
       "      <th>n1</th>\n",
       "      <th>n2</th>\n",
       "    </tr>\n",
       "  </thead>\n",
       "  <tbody>\n",
       "    <tr>\n",
       "      <th>0</th>\n",
       "      <td>No disease vs Only OA</td>\n",
       "      <td>37.88</td>\n",
       "      <td>33.44</td>\n",
       "      <td>0.391</td>\n",
       "      <td>3.564</td>\n",
       "      <td>5.310</td>\n",
       "      <td>6039</td>\n",
       "      <td>738</td>\n",
       "    </tr>\n",
       "    <tr>\n",
       "      <th>1</th>\n",
       "      <td>No disease vs Only HT</td>\n",
       "      <td>37.88</td>\n",
       "      <td>37.51</td>\n",
       "      <td>0.032</td>\n",
       "      <td>-0.195</td>\n",
       "      <td>0.931</td>\n",
       "      <td>6039</td>\n",
       "      <td>2211</td>\n",
       "    </tr>\n",
       "    <tr>\n",
       "      <th>2</th>\n",
       "      <td>No disease vs Only Diabetes</td>\n",
       "      <td>37.88</td>\n",
       "      <td>37.67</td>\n",
       "      <td>0.019</td>\n",
       "      <td>-1.046</td>\n",
       "      <td>1.468</td>\n",
       "      <td>6039</td>\n",
       "      <td>309</td>\n",
       "    </tr>\n",
       "    <tr>\n",
       "      <th>3</th>\n",
       "      <td>No disease vs HT and Diab</td>\n",
       "      <td>37.88</td>\n",
       "      <td>36.25</td>\n",
       "      <td>0.143</td>\n",
       "      <td>0.472</td>\n",
       "      <td>2.784</td>\n",
       "      <td>6039</td>\n",
       "      <td>393</td>\n",
       "    </tr>\n",
       "    <tr>\n",
       "      <th>4</th>\n",
       "      <td>No disease vs OA and Diab</td>\n",
       "      <td>37.88</td>\n",
       "      <td>33.11</td>\n",
       "      <td>0.420</td>\n",
       "      <td>1.695</td>\n",
       "      <td>7.845</td>\n",
       "      <td>6039</td>\n",
       "      <td>56</td>\n",
       "    </tr>\n",
       "    <tr>\n",
       "      <th>5</th>\n",
       "      <td>No disease vs OA and HT</td>\n",
       "      <td>37.88</td>\n",
       "      <td>32.40</td>\n",
       "      <td>0.483</td>\n",
       "      <td>4.478</td>\n",
       "      <td>6.482</td>\n",
       "      <td>6039</td>\n",
       "      <td>523</td>\n",
       "    </tr>\n",
       "    <tr>\n",
       "      <th>6</th>\n",
       "      <td>No disease vs All three diseases</td>\n",
       "      <td>37.88</td>\n",
       "      <td>31.46</td>\n",
       "      <td>0.566</td>\n",
       "      <td>4.012</td>\n",
       "      <td>8.831</td>\n",
       "      <td>6039</td>\n",
       "      <td>90</td>\n",
       "    </tr>\n",
       "  </tbody>\n",
       "</table>\n",
       "</div>"
      ],
      "text/plain": [
       "                         Comparison  Mean1  Mean2  Cohen_d  95% CI Lower  \\\n",
       "0             No disease vs Only OA  37.88  33.44    0.391         3.564   \n",
       "1             No disease vs Only HT  37.88  37.51    0.032        -0.195   \n",
       "2       No disease vs Only Diabetes  37.88  37.67    0.019        -1.046   \n",
       "3         No disease vs HT and Diab  37.88  36.25    0.143         0.472   \n",
       "4         No disease vs OA and Diab  37.88  33.11    0.420         1.695   \n",
       "5           No disease vs OA and HT  37.88  32.40    0.483         4.478   \n",
       "6  No disease vs All three diseases  37.88  31.46    0.566         4.012   \n",
       "\n",
       "   95% CI Upper    n1    n2  \n",
       "0         5.310  6039   738  \n",
       "1         0.931  6039  2211  \n",
       "2         1.468  6039   309  \n",
       "3         2.784  6039   393  \n",
       "4         7.845  6039    56  \n",
       "5         6.482  6039   523  \n",
       "6         8.831  6039    90  "
      ]
     },
     "execution_count": 8,
     "metadata": {},
     "output_type": "execute_result"
    }
   ],
   "source": [
    "comparisons = [\n",
    "    (\"No disease\", \"Only OA\"),\n",
    "    (\"No disease\", \"Only HT\"),\n",
    "    (\"No disease\", \"Only Diabetes\"),\n",
    "    (\"No disease\", \"HT and Diab\"),\n",
    "    (\"No disease\", \"OA and Diab\"),\n",
    "    (\"No disease\", \"OA and HT\"),\n",
    "    (\"No disease\", \"All three diseases\")\n",
    "]\n",
    "\n",
    "results = []\n",
    "\n",
    "for g1, g2 in comparisons:\n",
    "\n",
    "    group1 = maxchair[(maxchair['disease_category'] == g1)]['maxgrip'].dropna()\n",
    "    group2 = maxchair[(maxchair['disease_category'] == g2)]['maxgrip'].dropna()\n",
    "\n",
    "    mean1, mean2 = group1.mean(), group2.mean()\n",
    "    std1, std2 = group1.std(), group2.std()\n",
    "    n1, n2 = len(group1), len(group2)\n",
    "\n",
    "    pooled_sd = np.sqrt(((n1 - 1)*std1**2 + (n2 - 1)*std2**2) / (n1 + n2 - 2))\n",
    "\n",
    "    cohen_d = (mean1 - mean2) / pooled_sd\n",
    "\n",
    "    diff = mean1 - mean2\n",
    "    se_diff = np.sqrt(std1**2 / n1 + std2**2 / n2)\n",
    "    ci_low, ci_high = diff - 1.96 * se_diff, diff + 1.96 * se_diff\n",
    "\n",
    "    results.append({\n",
    "        'Comparison': f\"{g1} vs {g2}\",\n",
    "        'Mean1': round(mean1, 2),\n",
    "        'Mean2': round(mean2, 2),\n",
    "        'Cohen_d': round(cohen_d, 3),\n",
    "        '95% CI Lower': round(ci_low, 3),\n",
    "        '95% CI Upper': round(ci_high, 3),\n",
    "        'n1': n1,\n",
    "        'n2': n2\n",
    "    })\n",
    "\n",
    "\n",
    "effect_df = pd.DataFrame(results)\n",
    "effect_df\n"
   ]
  },
  {
   "cell_type": "markdown",
   "metadata": {},
   "source": [
    "#### With confounding: age, BMI, female, educational_level:"
   ]
  },
  {
   "cell_type": "markdown",
   "metadata": {},
   "source": [
    "Run OLS model (adjusted for age, bmi, female)"
   ]
  },
  {
   "cell_type": "code",
   "execution_count": 9,
   "metadata": {},
   "outputs": [
    {
     "name": "stdout",
     "output_type": "stream",
     "text": [
      "OLS results for maxgrip in age under 75 (No disease as reference):\n"
     ]
    },
    {
     "data": {
      "text/html": [
       "<div>\n",
       "<style scoped>\n",
       "    .dataframe tbody tr th:only-of-type {\n",
       "        vertical-align: middle;\n",
       "    }\n",
       "\n",
       "    .dataframe tbody tr th {\n",
       "        vertical-align: top;\n",
       "    }\n",
       "\n",
       "    .dataframe thead th {\n",
       "        text-align: right;\n",
       "    }\n",
       "</style>\n",
       "<table border=\"1\" class=\"dataframe\">\n",
       "  <thead>\n",
       "    <tr style=\"text-align: right;\">\n",
       "      <th></th>\n",
       "      <th>Disease group</th>\n",
       "      <th>Coefficient (Adj. Mean Diff)</th>\n",
       "      <th>95% CI Lower</th>\n",
       "      <th>95% CI Upper</th>\n",
       "      <th>p-value</th>\n",
       "      <th>Significant</th>\n",
       "    </tr>\n",
       "  </thead>\n",
       "  <tbody>\n",
       "    <tr>\n",
       "      <th>0</th>\n",
       "      <td>Only OA</td>\n",
       "      <td>-1.508</td>\n",
       "      <td>-2.062</td>\n",
       "      <td>-0.954</td>\n",
       "      <td>0.0000</td>\n",
       "      <td>Yes</td>\n",
       "    </tr>\n",
       "    <tr>\n",
       "      <th>1</th>\n",
       "      <td>Only HT</td>\n",
       "      <td>0.091</td>\n",
       "      <td>-0.271</td>\n",
       "      <td>0.453</td>\n",
       "      <td>0.6231</td>\n",
       "      <td>No</td>\n",
       "    </tr>\n",
       "    <tr>\n",
       "      <th>2</th>\n",
       "      <td>Only Diabetes</td>\n",
       "      <td>-1.598</td>\n",
       "      <td>-2.429</td>\n",
       "      <td>-0.766</td>\n",
       "      <td>0.0002</td>\n",
       "      <td>Yes</td>\n",
       "    </tr>\n",
       "    <tr>\n",
       "      <th>3</th>\n",
       "      <td>HT and Diab</td>\n",
       "      <td>-1.267</td>\n",
       "      <td>-2.020</td>\n",
       "      <td>-0.514</td>\n",
       "      <td>0.0010</td>\n",
       "      <td>Yes</td>\n",
       "    </tr>\n",
       "    <tr>\n",
       "      <th>4</th>\n",
       "      <td>OA and Diab</td>\n",
       "      <td>-2.727</td>\n",
       "      <td>-4.628</td>\n",
       "      <td>-0.826</td>\n",
       "      <td>0.0049</td>\n",
       "      <td>Yes</td>\n",
       "    </tr>\n",
       "    <tr>\n",
       "      <th>5</th>\n",
       "      <td>OA and HT</td>\n",
       "      <td>-2.161</td>\n",
       "      <td>-2.819</td>\n",
       "      <td>-1.504</td>\n",
       "      <td>0.0000</td>\n",
       "      <td>Yes</td>\n",
       "    </tr>\n",
       "    <tr>\n",
       "      <th>6</th>\n",
       "      <td>All three diseases</td>\n",
       "      <td>-3.367</td>\n",
       "      <td>-4.886</td>\n",
       "      <td>-1.848</td>\n",
       "      <td>0.0000</td>\n",
       "      <td>Yes</td>\n",
       "    </tr>\n",
       "  </tbody>\n",
       "</table>\n",
       "</div>"
      ],
      "text/plain": [
       "        Disease group  Coefficient (Adj. Mean Diff)  95% CI Lower  \\\n",
       "0             Only OA                        -1.508        -2.062   \n",
       "1             Only HT                         0.091        -0.271   \n",
       "2       Only Diabetes                        -1.598        -2.429   \n",
       "3         HT and Diab                        -1.267        -2.020   \n",
       "4         OA and Diab                        -2.727        -4.628   \n",
       "5           OA and HT                        -2.161        -2.819   \n",
       "6  All three diseases                        -3.367        -4.886   \n",
       "\n",
       "   95% CI Upper  p-value Significant  \n",
       "0        -0.954   0.0000         Yes  \n",
       "1         0.453   0.6231          No  \n",
       "2        -0.766   0.0002         Yes  \n",
       "3        -0.514   0.0010         Yes  \n",
       "4        -0.826   0.0049         Yes  \n",
       "5        -1.504   0.0000         Yes  \n",
       "6        -1.848   0.0000         Yes  "
      ]
     },
     "execution_count": 9,
     "metadata": {},
     "output_type": "execute_result"
    }
   ],
   "source": [
    "# Set 'No disease' as reference group \n",
    "maxchair['disease_category'] = pd.Categorical(\n",
    "    maxchair['disease_category'],\n",
    "    categories=[\n",
    "        'No disease', 'Only OA', 'Only HT', 'Only Diabetes',\n",
    "        'HT and Diab', 'OA and Diab', 'OA and HT', 'All three diseases'\n",
    "    ],\n",
    "    ordered=False\n",
    ")\n",
    "\n",
    "model = smf.ols('maxgrip ~ C(disease_category) + age + bmi + female + educational_level', data=maxchair).fit()\n",
    "\n",
    "results_df = pd.DataFrame({\n",
    "    'Disease group': model.params.index,\n",
    "    'Coefficient (Adj. Mean Diff)': model.params.values,\n",
    "    '95% CI Lower': model.conf_int().iloc[:, 0],\n",
    "    '95% CI Upper': model.conf_int().iloc[:, 1],\n",
    "    'p-value': model.pvalues.values\n",
    "})\n",
    "\n",
    "results_df = results_df[results_df['Disease group'].str.contains('C\\(disease_category\\)')].copy()\n",
    "\n",
    "results_df['Disease group'] = results_df['Disease group'].str.replace(r'C\\(disease_category\\)\\[T\\.', '', regex=True).str.rstrip(']')\n",
    "\n",
    "results_df['Coefficient (Adj. Mean Diff)'] = results_df['Coefficient (Adj. Mean Diff)'].round(3)\n",
    "results_df['95% CI Lower'] = results_df['95% CI Lower'].round(3)\n",
    "results_df['95% CI Upper'] = results_df['95% CI Upper'].round(3)\n",
    "results_df['p-value'] = results_df['p-value'].round(4)\n",
    "results_df['Significant'] = results_df['p-value'].apply(lambda p: 'Yes' if p < 0.05 else 'No')\n",
    "\n",
    "print(\"OLS results for maxgrip in age under 75 (No disease as reference):\")\n",
    "results_df.reset_index(drop=True)\n"
   ]
  },
  {
   "cell_type": "markdown",
   "metadata": {},
   "source": [
    "##### Interaction Effects: Does OA Get Worse With Comorbidities?"
   ]
  },
  {
   "cell_type": "code",
   "execution_count": 10,
   "metadata": {},
   "outputs": [],
   "source": [
    "maxchair['disease_category'] = pd.Categorical(\n",
    "    maxchair['disease_category'],\n",
    "    categories=[\n",
    "        'No disease',            \n",
    "        'Only OA',\n",
    "        'Only HT',\n",
    "        'Only Diabetes',\n",
    "        'OA and HT',\n",
    "        'OA and Diab',\n",
    "        'HT and Diab',\n",
    "        'All three diseases'\n",
    "    ],\n",
    "    ordered=False\n",
    ")\n"
   ]
  },
  {
   "cell_type": "code",
   "execution_count": 11,
   "metadata": {},
   "outputs": [
    {
     "name": "stdout",
     "output_type": "stream",
     "text": [
      "                            OLS Regression Results                            \n",
      "==============================================================================\n",
      "Dep. Variable:                maxgrip   R-squared:                       0.609\n",
      "Model:                            OLS   Adj. R-squared:                  0.609\n",
      "Method:                 Least Squares   F-statistic:                     1465.\n",
      "Date:                Fri, 27 Jun 2025   Prob (F-statistic):               0.00\n",
      "Time:                        11:06:59   Log-Likelihood:                -35152.\n",
      "No. Observations:               10359   AIC:                         7.033e+04\n",
      "Df Residuals:                   10347   BIC:                         7.041e+04\n",
      "Df Model:                          11                                         \n",
      "Covariance Type:            nonrobust                                         \n",
      "===============================================================================================================\n",
      "                                                  coef    std err          t      P>|t|      [0.025      0.975]\n",
      "---------------------------------------------------------------------------------------------------------------\n",
      "Intercept                                      63.0437      0.749     84.170      0.000      61.576      64.512\n",
      "C(disease_category)[T.Only OA]                 -0.3952      0.247     -1.600      0.110      -0.879       0.089\n",
      "C(disease_category)[T.Only HT]                  0.3106      0.179      1.734      0.083      -0.040       0.662\n",
      "C(disease_category)[T.Only Diabetes]           -0.5893      0.322     -1.833      0.067      -1.220       0.041\n",
      "C(disease_category)[T.OA and HT]               -0.3372      0.270     -1.249      0.212      -0.866       0.192\n",
      "C(disease_category)[T.OA and Diab]             -0.2259      0.516     -0.438      0.661      -1.237       0.785\n",
      "C(disease_category)[T.HT and Diab]             -0.0388      0.243     -0.160      0.873      -0.514       0.437\n",
      "C(disease_category)[T.All three diseases]      -0.1544      0.446     -0.347      0.729      -1.028       0.719\n",
      "C(OA_conserv)[T.1.0]                           -1.1127      0.199     -5.585      0.000      -1.503      -0.722\n",
      "C(Diabetes)[T.1.0]                             -1.0084      0.199     -5.073      0.000      -1.398      -0.619\n",
      "C(Hypertension)[T.1.0]                         -0.2198      0.154     -1.428      0.153      -0.521       0.082\n",
      "C(OA_conserv)[T.1.0]:C(Diabetes)[T.1.0]        -0.3803      0.301     -1.264      0.206      -0.970       0.209\n",
      "C(OA_conserv)[T.1.0]:C(Hypertension)[T.1.0]    -0.4916      0.250     -1.965      0.049      -0.982      -0.001\n",
      "age                                            -0.3354      0.010    -33.888      0.000      -0.355      -0.316\n",
      "bmi                                             0.1372      0.016      8.411      0.000       0.105       0.169\n",
      "female                                        -17.5287      0.145   -120.920      0.000     -17.813     -17.245\n",
      "educational_level                               0.2533      0.087      2.901      0.004       0.082       0.424\n",
      "==============================================================================\n",
      "Omnibus:                      328.276   Durbin-Watson:                   1.815\n",
      "Prob(Omnibus):                  0.000   Jarque-Bera (JB):              883.276\n",
      "Skew:                          -0.058   Prob(JB):                    1.58e-192\n",
      "Kurtosis:                       4.426   Cond. No.                     4.23e+16\n",
      "==============================================================================\n",
      "\n",
      "Notes:\n",
      "[1] Standard Errors assume that the covariance matrix of the errors is correctly specified.\n",
      "[2] The smallest eigenvalue is 2.51e-26. This might indicate that there are\n",
      "strong multicollinearity problems or that the design matrix is singular.\n"
     ]
    }
   ],
   "source": [
    "model = smf.ols('maxgrip ~ C(disease_category) + age + bmi + female + educational_level + C(OA_conserv)*C(Diabetes) + C(OA_conserv)*C(Hypertension)', \n",
    "                data=maxchair).fit()\n",
    "print(model.summary())"
   ]
  },
  {
   "cell_type": "markdown",
   "metadata": {},
   "source": [
    "##### Logistic Regression: Predicting \"High Risk\" Patients"
   ]
  },
  {
   "cell_type": "code",
   "execution_count": 12,
   "metadata": {},
   "outputs": [
    {
     "name": "stdout",
     "output_type": "stream",
     "text": [
      "Optimization terminated successfully.\n",
      "         Current function value: 0.383795\n",
      "         Iterations 8\n",
      "                           Logit Regression Results                           \n",
      "==============================================================================\n",
      "Dep. Variable:               low_grip   No. Observations:                10359\n",
      "Model:                          Logit   Df Residuals:                    10351\n",
      "Method:                           MLE   Df Model:                            7\n",
      "Date:                Fri, 27 Jun 2025   Pseudo R-squ.:                  0.2696\n",
      "Time:                        11:06:59   Log-Likelihood:                -3975.7\n",
      "converged:                       True   LL-Null:                       -5443.0\n",
      "Covariance Type:            nonrobust   LLR p-value:                     0.000\n",
      "=====================================================================================\n",
      "                        coef    std err          z      P>|z|      [0.025      0.975]\n",
      "-------------------------------------------------------------------------------------\n",
      "const                -7.7764      0.316    -24.646      0.000      -8.395      -7.158\n",
      "age                   0.0734      0.004     18.721      0.000       0.066       0.081\n",
      "bmi                  -0.0266      0.006     -4.099      0.000      -0.039      -0.014\n",
      "female                3.5490      0.106     33.417      0.000       3.341       3.757\n",
      "educational_level    -0.0504      0.034     -1.480      0.139      -0.117       0.016\n",
      "OA_conserv            0.5068      0.073      6.931      0.000       0.363       0.650\n",
      "Diabetes              0.2890      0.105      2.764      0.006       0.084       0.494\n",
      "Hypertension          0.0974      0.063      1.546      0.122      -0.026       0.221\n",
      "=====================================================================================\n"
     ]
    }
   ],
   "source": [
    "maxchair['low_grip'] = (maxchair['maxgrip'] < maxchair['maxgrip'].quantile(0.25)).astype(int)\n",
    "\n",
    "X = maxchair[['age', 'bmi', 'female', 'educational_level','OA_conserv', 'Diabetes', 'Hypertension']]\n",
    "y = maxchair['low_grip']\n",
    "\n",
    "logit_model = sm.Logit(y, sm.add_constant(X)).fit()\n",
    "print(logit_model.summary())\n"
   ]
  },
  {
   "cell_type": "markdown",
   "metadata": {},
   "source": [
    "### Chair"
   ]
  },
  {
   "cell_type": "markdown",
   "metadata": {},
   "source": [
    "#### No confounding"
   ]
  },
  {
   "cell_type": "markdown",
   "metadata": {},
   "source": [
    "##### Step1: One-Way ANOVA"
   ]
  },
  {
   "cell_type": "markdown",
   "metadata": {},
   "source": [
    "Checks if any group differs"
   ]
  },
  {
   "cell_type": "code",
   "execution_count": 13,
   "metadata": {},
   "outputs": [
    {
     "name": "stdout",
     "output_type": "stream",
     "text": [
      "\n",
      "ANOVA for Chair Stand\n",
      "F-statistic: 9.105, p-value: 0.00000\n"
     ]
    }
   ],
   "source": [
    "# ANOVA for Chair Stand\n",
    "chair_samples = [maxchair[maxchair['disease_category'] == group]['chair'].dropna() for group in groups]\n",
    "\n",
    "anova_chair = f_oneway(*chair_samples)\n",
    "print(\"\\nANOVA for Chair Stand\")\n",
    "print(f\"F-statistic: {anova_chair.statistic:.3f}, p-value: {anova_chair.pvalue:.5f}\")\n"
   ]
  },
  {
   "cell_type": "markdown",
   "metadata": {},
   "source": [
    "##### Step2: Tukey HSD Post-hoc Comparison"
   ]
  },
  {
   "cell_type": "markdown",
   "metadata": {},
   "source": [
    "Identifies which groups differ"
   ]
  },
  {
   "cell_type": "code",
   "execution_count": 14,
   "metadata": {},
   "outputs": [
    {
     "name": "stdout",
     "output_type": "stream",
     "text": [
      "Turkey Chair Stand in age under 75\n",
      "          Multiple Comparison of Means - Tukey HSD, FWER=0.05          \n",
      "=======================================================================\n",
      "      group1           group2    meandiff p-adj   lower   upper  reject\n",
      "-----------------------------------------------------------------------\n",
      "All three diseases   HT and Diab  -0.0612    1.0 -2.5195  2.3971  False\n",
      "All three diseases    No disease  -1.9054 0.1611 -4.1393  0.3286  False\n",
      "All three diseases   OA and Diab   0.4922 0.9999 -3.0883  4.0727  False\n",
      "All three diseases     OA and HT  -0.6216 0.9939 -3.0223  1.7791  False\n",
      "All three diseases Only Diabetes  -1.6915 0.4581 -4.2113  0.8283  False\n",
      "All three diseases       Only HT   -1.607 0.3804 -3.8692  0.6551  False\n",
      "All three diseases       Only OA  -0.6991 0.9859 -3.0479  1.6497  False\n",
      "       HT and Diab    No disease  -1.8442    0.0 -2.9393  -0.749   True\n",
      "       HT and Diab   OA and Diab   0.5534 0.9993 -2.4514  3.5582  False\n",
      "       HT and Diab     OA and HT  -0.5604 0.9294 -1.9647   0.844  False\n",
      "       HT and Diab Only Diabetes  -1.6302 0.0421 -3.2297 -0.0308   True\n",
      "       HT and Diab       Only HT  -1.5458 0.0012 -2.6974 -0.3942   True\n",
      "       HT and Diab       Only OA  -0.6379 0.8225 -1.9516  0.6758  False\n",
      "        No disease   OA and Diab   2.3975 0.1657 -0.4266  5.2217  False\n",
      "        No disease     OA and HT   1.2838 0.0013  0.3249  2.2427   True\n",
      "        No disease Only Diabetes   0.2139 0.9995 -1.0131  1.4409  False\n",
      "        No disease       Only HT   0.2983 0.6678 -0.2246  0.8213  False\n",
      "        No disease       Only OA   1.2062 0.0002  0.3859  2.0266   True\n",
      "       OA and Diab     OA and HT  -1.1138 0.9477 -4.0716  1.8441  False\n",
      "       OA and Diab Only Diabetes  -2.1836 0.3723 -5.2389  0.8717  False\n",
      "       OA and Diab       Only HT  -2.0992 0.3303 -4.9458  0.7474  False\n",
      "       OA and Diab       Only OA  -1.1913 0.9205 -4.1072  1.7246  False\n",
      "         OA and HT Only Diabetes  -1.0699 0.3835 -2.5793  0.4396  False\n",
      "         OA and HT       Only HT  -0.9854 0.0686 -2.0084  0.0375  False\n",
      "         OA and HT       Only OA  -0.0775    1.0   -1.28  1.1249  False\n",
      "     Only Diabetes       Only HT   0.0844    1.0 -1.1932  1.3621  False\n",
      "     Only Diabetes       Only OA   0.9923 0.4081 -0.4331  2.4178  False\n",
      "           Only HT       Only OA   0.9079 0.0436  0.0136  1.8022   True\n",
      "-----------------------------------------------------------------------\n"
     ]
    }
   ],
   "source": [
    "# Tukey HSD for Chair Stand\n",
    "df_chair = maxchair[['chair', 'disease_category']].dropna()\n",
    "\n",
    "tukey_chair = pairwise_tukeyhsd(endog=df_chair['chair'],\n",
    "                                groups=df_chair['disease_category'],\n",
    "                                alpha=0.05)\n",
    "\n",
    "print(\"Turkey Chair Stand in age under 75\")\n",
    "print(tukey_chair.summary())\n"
   ]
  },
  {
   "cell_type": "markdown",
   "metadata": {},
   "source": [
    "##### Number of samples in each group"
   ]
  },
  {
   "cell_type": "code",
   "execution_count": 15,
   "metadata": {},
   "outputs": [
    {
     "name": "stdout",
     "output_type": "stream",
     "text": [
      "disease_category\n",
      "No disease            6039\n",
      "Only OA                738\n",
      "Only HT               2211\n",
      "Only Diabetes          309\n",
      "OA and HT              523\n",
      "OA and Diab             56\n",
      "HT and Diab            393\n",
      "All three diseases      90\n",
      "dtype: int64\n"
     ]
    },
    {
     "name": "stderr",
     "output_type": "stream",
     "text": [
      "/var/folders/rn/9h9wnd_x13930h39r4t9tt_w0000gr/T/ipykernel_89483/3200676261.py:1: FutureWarning: The default of observed=False is deprecated and will be changed to True in a future version of pandas. Pass observed=False to retain current behavior or observed=True to adopt the future default and silence this warning.\n",
      "  group_counts = maxchair[maxchair['chair'].notna()].groupby('disease_category').size()\n"
     ]
    }
   ],
   "source": [
    "group_counts = maxchair[maxchair['chair'].notna()].groupby('disease_category').size()\n",
    "print(group_counts)"
   ]
  },
  {
   "cell_type": "markdown",
   "metadata": {},
   "source": [
    "##### Step3: Compute Cohen's d and 95% CI"
   ]
  },
  {
   "cell_type": "code",
   "execution_count": 16,
   "metadata": {},
   "outputs": [
    {
     "data": {
      "text/html": [
       "<div>\n",
       "<style scoped>\n",
       "    .dataframe tbody tr th:only-of-type {\n",
       "        vertical-align: middle;\n",
       "    }\n",
       "\n",
       "    .dataframe tbody tr th {\n",
       "        vertical-align: top;\n",
       "    }\n",
       "\n",
       "    .dataframe thead th {\n",
       "        text-align: right;\n",
       "    }\n",
       "</style>\n",
       "<table border=\"1\" class=\"dataframe\">\n",
       "  <thead>\n",
       "    <tr style=\"text-align: right;\">\n",
       "      <th></th>\n",
       "      <th>Comparison</th>\n",
       "      <th>Mean1</th>\n",
       "      <th>Mean2</th>\n",
       "      <th>Cohen_d</th>\n",
       "      <th>95% CI Lower</th>\n",
       "      <th>95% CI Upper</th>\n",
       "      <th>n1</th>\n",
       "      <th>n2</th>\n",
       "    </tr>\n",
       "  </thead>\n",
       "  <tbody>\n",
       "    <tr>\n",
       "      <th>0</th>\n",
       "      <td>No disease vs Only OA</td>\n",
       "      <td>10.85</td>\n",
       "      <td>12.06</td>\n",
       "      <td>-0.168</td>\n",
       "      <td>-1.711</td>\n",
       "      <td>-0.701</td>\n",
       "      <td>6039</td>\n",
       "      <td>738</td>\n",
       "    </tr>\n",
       "    <tr>\n",
       "      <th>1</th>\n",
       "      <td>No disease vs Only HT</td>\n",
       "      <td>10.85</td>\n",
       "      <td>11.15</td>\n",
       "      <td>-0.043</td>\n",
       "      <td>-0.611</td>\n",
       "      <td>0.014</td>\n",
       "      <td>6039</td>\n",
       "      <td>2211</td>\n",
       "    </tr>\n",
       "    <tr>\n",
       "      <th>2</th>\n",
       "      <td>No disease vs Only Diabetes</td>\n",
       "      <td>10.85</td>\n",
       "      <td>11.07</td>\n",
       "      <td>-0.030</td>\n",
       "      <td>-0.851</td>\n",
       "      <td>0.423</td>\n",
       "      <td>6039</td>\n",
       "      <td>309</td>\n",
       "    </tr>\n",
       "    <tr>\n",
       "      <th>3</th>\n",
       "      <td>No disease vs HT and Diab</td>\n",
       "      <td>10.85</td>\n",
       "      <td>12.70</td>\n",
       "      <td>-0.249</td>\n",
       "      <td>-2.783</td>\n",
       "      <td>-0.906</td>\n",
       "      <td>6039</td>\n",
       "      <td>393</td>\n",
       "    </tr>\n",
       "    <tr>\n",
       "      <th>4</th>\n",
       "      <td>No disease vs OA and Diab</td>\n",
       "      <td>10.85</td>\n",
       "      <td>13.25</td>\n",
       "      <td>-0.330</td>\n",
       "      <td>-4.184</td>\n",
       "      <td>-0.611</td>\n",
       "      <td>6039</td>\n",
       "      <td>56</td>\n",
       "    </tr>\n",
       "    <tr>\n",
       "      <th>5</th>\n",
       "      <td>No disease vs OA and HT</td>\n",
       "      <td>10.85</td>\n",
       "      <td>12.14</td>\n",
       "      <td>-0.179</td>\n",
       "      <td>-1.820</td>\n",
       "      <td>-0.748</td>\n",
       "      <td>6039</td>\n",
       "      <td>523</td>\n",
       "    </tr>\n",
       "    <tr>\n",
       "      <th>6</th>\n",
       "      <td>No disease vs All three diseases</td>\n",
       "      <td>10.85</td>\n",
       "      <td>12.76</td>\n",
       "      <td>-0.263</td>\n",
       "      <td>-3.054</td>\n",
       "      <td>-0.757</td>\n",
       "      <td>6039</td>\n",
       "      <td>90</td>\n",
       "    </tr>\n",
       "  </tbody>\n",
       "</table>\n",
       "</div>"
      ],
      "text/plain": [
       "                         Comparison  Mean1  Mean2  Cohen_d  95% CI Lower  \\\n",
       "0             No disease vs Only OA  10.85  12.06   -0.168        -1.711   \n",
       "1             No disease vs Only HT  10.85  11.15   -0.043        -0.611   \n",
       "2       No disease vs Only Diabetes  10.85  11.07   -0.030        -0.851   \n",
       "3         No disease vs HT and Diab  10.85  12.70   -0.249        -2.783   \n",
       "4         No disease vs OA and Diab  10.85  13.25   -0.330        -4.184   \n",
       "5           No disease vs OA and HT  10.85  12.14   -0.179        -1.820   \n",
       "6  No disease vs All three diseases  10.85  12.76   -0.263        -3.054   \n",
       "\n",
       "   95% CI Upper    n1    n2  \n",
       "0        -0.701  6039   738  \n",
       "1         0.014  6039  2211  \n",
       "2         0.423  6039   309  \n",
       "3        -0.906  6039   393  \n",
       "4        -0.611  6039    56  \n",
       "5        -0.748  6039   523  \n",
       "6        -0.757  6039    90  "
      ]
     },
     "execution_count": 16,
     "metadata": {},
     "output_type": "execute_result"
    }
   ],
   "source": [
    "comparisons = [\n",
    "    (\"No disease\", \"Only OA\"),\n",
    "    (\"No disease\", \"Only HT\"),\n",
    "    (\"No disease\", \"Only Diabetes\"),\n",
    "    (\"No disease\", \"HT and Diab\"),\n",
    "    (\"No disease\", \"OA and Diab\"),\n",
    "    (\"No disease\", \"OA and HT\"),\n",
    "    (\"No disease\", \"All three diseases\")\n",
    "]\n",
    "\n",
    "results = []\n",
    "\n",
    "for g1, g2 in comparisons:\n",
    "   \n",
    "    group1 = maxchair[(maxchair['disease_category'] == g1)]['chair'].dropna()\n",
    "    group2 = maxchair[(maxchair['disease_category'] == g2)]['chair'].dropna()\n",
    "\n",
    "    mean1, mean2 = group1.mean(), group2.mean()\n",
    "    std1, std2 = group1.std(), group2.std()\n",
    "    n1, n2 = len(group1), len(group2)\n",
    "\n",
    "    pooled_sd = np.sqrt(((n1 - 1)*std1**2 + (n2 - 1)*std2**2) / (n1 + n2 - 2))\n",
    "\n",
    "    cohen_d = (mean1 - mean2) / pooled_sd\n",
    "\n",
    "    diff = mean1 - mean2\n",
    "    se_diff = np.sqrt(std1**2 / n1 + std2**2 / n2)\n",
    "    ci_low, ci_high = diff - 1.96 * se_diff, diff + 1.96 * se_diff\n",
    "\n",
    "    results.append({\n",
    "        'Comparison': f\"{g1} vs {g2}\",\n",
    "        'Mean1': round(mean1, 2),\n",
    "        'Mean2': round(mean2, 2),\n",
    "        'Cohen_d': round(cohen_d, 3),\n",
    "        '95% CI Lower': round(ci_low, 3),\n",
    "        '95% CI Upper': round(ci_high, 3),\n",
    "        'n1': n1,\n",
    "        'n2': n2\n",
    "    })\n",
    "\n",
    "effect_df = pd.DataFrame(results)\n",
    "effect_df"
   ]
  },
  {
   "cell_type": "markdown",
   "metadata": {},
   "source": [
    "#### With confounding: age, BMI, female, educational_level:"
   ]
  },
  {
   "cell_type": "markdown",
   "metadata": {},
   "source": [
    "Run OLS model (adjusted for age, bmi, female)"
   ]
  },
  {
   "cell_type": "code",
   "execution_count": 17,
   "metadata": {},
   "outputs": [
    {
     "name": "stdout",
     "output_type": "stream",
     "text": [
      "OLS results for chair in age under 75 (No disease as reference):\n"
     ]
    },
    {
     "data": {
      "text/html": [
       "<div>\n",
       "<style scoped>\n",
       "    .dataframe tbody tr th:only-of-type {\n",
       "        vertical-align: middle;\n",
       "    }\n",
       "\n",
       "    .dataframe tbody tr th {\n",
       "        vertical-align: top;\n",
       "    }\n",
       "\n",
       "    .dataframe thead th {\n",
       "        text-align: right;\n",
       "    }\n",
       "</style>\n",
       "<table border=\"1\" class=\"dataframe\">\n",
       "  <thead>\n",
       "    <tr style=\"text-align: right;\">\n",
       "      <th></th>\n",
       "      <th>Disease group</th>\n",
       "      <th>Coefficient (Adj. Mean Diff)</th>\n",
       "      <th>95% CI Lower</th>\n",
       "      <th>95% CI Upper</th>\n",
       "      <th>p-value</th>\n",
       "      <th>Significant</th>\n",
       "    </tr>\n",
       "  </thead>\n",
       "  <tbody>\n",
       "    <tr>\n",
       "      <th>0</th>\n",
       "      <td>Only OA</td>\n",
       "      <td>0.802</td>\n",
       "      <td>0.274</td>\n",
       "      <td>1.329</td>\n",
       "      <td>0.0029</td>\n",
       "      <td>Yes</td>\n",
       "    </tr>\n",
       "    <tr>\n",
       "      <th>1</th>\n",
       "      <td>Only HT</td>\n",
       "      <td>-0.146</td>\n",
       "      <td>-0.492</td>\n",
       "      <td>0.199</td>\n",
       "      <td>0.4057</td>\n",
       "      <td>No</td>\n",
       "    </tr>\n",
       "    <tr>\n",
       "      <th>2</th>\n",
       "      <td>Only Diabetes</td>\n",
       "      <td>-0.251</td>\n",
       "      <td>-1.043</td>\n",
       "      <td>0.542</td>\n",
       "      <td>0.5353</td>\n",
       "      <td>No</td>\n",
       "    </tr>\n",
       "    <tr>\n",
       "      <th>3</th>\n",
       "      <td>HT and Diab</td>\n",
       "      <td>1.086</td>\n",
       "      <td>0.369</td>\n",
       "      <td>1.803</td>\n",
       "      <td>0.0030</td>\n",
       "      <td>Yes</td>\n",
       "    </tr>\n",
       "    <tr>\n",
       "      <th>4</th>\n",
       "      <td>OA and Diab</td>\n",
       "      <td>1.671</td>\n",
       "      <td>-0.140</td>\n",
       "      <td>3.483</td>\n",
       "      <td>0.0705</td>\n",
       "      <td>No</td>\n",
       "    </tr>\n",
       "    <tr>\n",
       "      <th>5</th>\n",
       "      <td>OA and HT</td>\n",
       "      <td>0.433</td>\n",
       "      <td>-0.193</td>\n",
       "      <td>1.060</td>\n",
       "      <td>0.1752</td>\n",
       "      <td>No</td>\n",
       "    </tr>\n",
       "    <tr>\n",
       "      <th>6</th>\n",
       "      <td>All three diseases</td>\n",
       "      <td>0.796</td>\n",
       "      <td>-0.651</td>\n",
       "      <td>2.243</td>\n",
       "      <td>0.2810</td>\n",
       "      <td>No</td>\n",
       "    </tr>\n",
       "  </tbody>\n",
       "</table>\n",
       "</div>"
      ],
      "text/plain": [
       "        Disease group  Coefficient (Adj. Mean Diff)  95% CI Lower  \\\n",
       "0             Only OA                         0.802         0.274   \n",
       "1             Only HT                        -0.146        -0.492   \n",
       "2       Only Diabetes                        -0.251        -1.043   \n",
       "3         HT and Diab                         1.086         0.369   \n",
       "4         OA and Diab                         1.671        -0.140   \n",
       "5           OA and HT                         0.433        -0.193   \n",
       "6  All three diseases                         0.796        -0.651   \n",
       "\n",
       "   95% CI Upper  p-value Significant  \n",
       "0         1.329   0.0029         Yes  \n",
       "1         0.199   0.4057          No  \n",
       "2         0.542   0.5353          No  \n",
       "3         1.803   0.0030         Yes  \n",
       "4         3.483   0.0705          No  \n",
       "5         1.060   0.1752          No  \n",
       "6         2.243   0.2810          No  "
      ]
     },
     "execution_count": 17,
     "metadata": {},
     "output_type": "execute_result"
    }
   ],
   "source": [
    "maxchair['disease_category'] = pd.Categorical(\n",
    "    maxchair['disease_category'],\n",
    "    categories=[\n",
    "        'No disease', 'Only OA', 'Only HT', 'Only Diabetes',\n",
    "        'HT and Diab', 'OA and Diab', 'OA and HT', 'All three diseases'\n",
    "    ],\n",
    "    ordered=False\n",
    ")\n",
    "\n",
    "model = smf.ols('chair ~ C(disease_category) + age + bmi + female + educational_level', data=maxchair).fit()\n",
    "\n",
    "\n",
    "results_df = pd.DataFrame({\n",
    "    'Disease group': model.params.index,\n",
    "    'Coefficient (Adj. Mean Diff)': model.params.values,\n",
    "    '95% CI Lower': model.conf_int().iloc[:, 0],\n",
    "    '95% CI Upper': model.conf_int().iloc[:, 1],\n",
    "    'p-value': model.pvalues.values\n",
    "})\n",
    "\n",
    "results_df = results_df[results_df['Disease group'].str.contains('C\\(disease_category\\)')].copy()\n",
    "\n",
    "results_df['Disease group'] = results_df['Disease group'].str.replace(r'C\\(disease_category\\)\\[T\\.', '', regex=True).str.rstrip(']')\n",
    "\n",
    "\n",
    "results_df['Coefficient (Adj. Mean Diff)'] = results_df['Coefficient (Adj. Mean Diff)'].round(3)\n",
    "results_df['95% CI Lower'] = results_df['95% CI Lower'].round(3)\n",
    "results_df['95% CI Upper'] = results_df['95% CI Upper'].round(3)\n",
    "results_df['p-value'] = results_df['p-value'].round(4)\n",
    "results_df['Significant'] = results_df['p-value'].apply(lambda p: 'Yes' if p < 0.05 else 'No')\n",
    "\n",
    "print(\"OLS results for chair in age under 75 (No disease as reference):\")\n",
    "results_df.reset_index(drop=True)\n"
   ]
  },
  {
   "cell_type": "code",
   "execution_count": 18,
   "metadata": {},
   "outputs": [
    {
     "name": "stdout",
     "output_type": "stream",
     "text": [
      "disease_category\n",
      "No disease            6039\n",
      "Only OA                738\n",
      "Only HT               2211\n",
      "Only Diabetes          309\n",
      "HT and Diab            393\n",
      "OA and Diab             56\n",
      "OA and HT              523\n",
      "All three diseases      90\n",
      "dtype: int64\n"
     ]
    },
    {
     "name": "stderr",
     "output_type": "stream",
     "text": [
      "/var/folders/rn/9h9wnd_x13930h39r4t9tt_w0000gr/T/ipykernel_89483/3200676261.py:1: FutureWarning: The default of observed=False is deprecated and will be changed to True in a future version of pandas. Pass observed=False to retain current behavior or observed=True to adopt the future default and silence this warning.\n",
      "  group_counts = maxchair[maxchair['chair'].notna()].groupby('disease_category').size()\n"
     ]
    }
   ],
   "source": [
    "group_counts = maxchair[maxchair['chair'].notna()].groupby('disease_category').size()\n",
    "print(group_counts)"
   ]
  },
  {
   "cell_type": "markdown",
   "metadata": {},
   "source": [
    "##### Interaction Effects: Does OA Get Worse With Comorbidities?"
   ]
  },
  {
   "cell_type": "code",
   "execution_count": 19,
   "metadata": {},
   "outputs": [],
   "source": [
    "maxchair['disease_category'] = pd.Categorical(\n",
    "    maxchair['disease_category'],\n",
    "    categories=[\n",
    "        'No disease',         \n",
    "        'Only OA',\n",
    "        'Only HT',\n",
    "        'Only Diabetes',\n",
    "        'OA and HT',\n",
    "        'OA and Diab',\n",
    "        'HT and Diab',\n",
    "        'All three diseases'\n",
    "    ],\n",
    "    ordered=False\n",
    ")"
   ]
  },
  {
   "cell_type": "code",
   "execution_count": 20,
   "metadata": {},
   "outputs": [
    {
     "name": "stdout",
     "output_type": "stream",
     "text": [
      "                            OLS Regression Results                            \n",
      "==============================================================================\n",
      "Dep. Variable:                  chair   R-squared:                       0.027\n",
      "Model:                            OLS   Adj. R-squared:                  0.026\n",
      "Method:                 Least Squares   F-statistic:                     26.17\n",
      "Date:                Fri, 27 Jun 2025   Prob (F-statistic):           1.95e-54\n",
      "Time:                        11:07:00   Log-Likelihood:                -34652.\n",
      "No. Observations:               10359   AIC:                         6.933e+04\n",
      "Df Residuals:                   10347   BIC:                         6.942e+04\n",
      "Df Model:                          11                                         \n",
      "Covariance Type:            nonrobust                                         \n",
      "===============================================================================================================\n",
      "                                                  coef    std err          t      P>|t|      [0.025      0.975]\n",
      "---------------------------------------------------------------------------------------------------------------\n",
      "Intercept                                       3.1283      0.714      4.383      0.000       1.729       4.527\n",
      "C(disease_category)[T.Only OA]                  0.2593      0.235      1.102      0.270      -0.202       0.721\n",
      "C(disease_category)[T.Only HT]                 -0.2705      0.171     -1.585      0.113      -0.605       0.064\n",
      "C(disease_category)[T.Only Diabetes]           -0.5806      0.306     -1.895      0.058      -1.181       0.020\n",
      "C(disease_category)[T.OA and HT]                0.0043      0.257      0.017      0.987      -0.500       0.509\n",
      "C(disease_category)[T.OA and Diab]              0.5203      0.492      1.059      0.290      -0.443       1.484\n",
      "C(disease_category)[T.HT and Diab]              0.6318      0.231      2.734      0.006       0.179       1.085\n",
      "C(disease_category)[T.All three diseases]      -0.2417      0.425     -0.569      0.569      -1.074       0.591\n",
      "C(OA_conserv)[T.1.0]                            0.5423      0.190      2.857      0.004       0.170       0.915\n",
      "C(Diabetes)[T.1.0]                              0.3300      0.189      1.742      0.082      -0.041       0.701\n",
      "C(Hypertension)[T.1.0]                          0.1240      0.147      0.846      0.398      -0.163       0.411\n",
      "C(OA_conserv)[T.1.0]:C(Diabetes)[T.1.0]         0.2787      0.287      0.972      0.331      -0.283       0.841\n",
      "C(OA_conserv)[T.1.0]:C(Hypertension)[T.1.0]    -0.2373      0.238     -0.995      0.320      -0.705       0.230\n",
      "age                                             0.1042      0.009     11.043      0.000       0.086       0.123\n",
      "bmi                                             0.0540      0.016      3.475      0.001       0.024       0.084\n",
      "female                                          1.1842      0.138      8.573      0.000       0.913       1.455\n",
      "educational_level                              -0.3961      0.083     -4.761      0.000      -0.559      -0.233\n",
      "==============================================================================\n",
      "Omnibus:                    10003.479   Durbin-Watson:                   1.737\n",
      "Prob(Omnibus):                  0.000   Jarque-Bera (JB):           580700.266\n",
      "Skew:                           4.663   Prob(JB):                         0.00\n",
      "Kurtosis:                      38.474   Cond. No.                     4.23e+16\n",
      "==============================================================================\n",
      "\n",
      "Notes:\n",
      "[1] Standard Errors assume that the covariance matrix of the errors is correctly specified.\n",
      "[2] The smallest eigenvalue is 2.51e-26. This might indicate that there are\n",
      "strong multicollinearity problems or that the design matrix is singular.\n"
     ]
    }
   ],
   "source": [
    "model = smf.ols('chair ~ C(disease_category) + age + bmi + female + educational_level + C(OA_conserv)*C(Diabetes) + C(OA_conserv)*C(Hypertension)', \n",
    "                data=maxchair).fit()\n",
    "print(model.summary())"
   ]
  },
  {
   "cell_type": "markdown",
   "metadata": {},
   "source": [
    "##### Logistic Regression: Predicting \"High Risk\" Patients"
   ]
  },
  {
   "cell_type": "code",
   "execution_count": 21,
   "metadata": {},
   "outputs": [
    {
     "name": "stdout",
     "output_type": "stream",
     "text": [
      "Optimization terminated successfully.\n",
      "         Current function value: 0.542243\n",
      "         Iterations 6\n",
      "                           Logit Regression Results                           \n",
      "==============================================================================\n",
      "Dep. Variable:               low_grip   No. Observations:                10359\n",
      "Model:                          Logit   Df Residuals:                    10351\n",
      "Method:                           MLE   Df Model:                            7\n",
      "Date:                Fri, 27 Jun 2025   Pseudo R-squ.:                 0.03413\n",
      "Time:                        11:07:00   Log-Likelihood:                -5617.1\n",
      "converged:                       True   LL-Null:                       -5815.6\n",
      "Covariance Type:            nonrobust   LLR p-value:                 1.047e-81\n",
      "=====================================================================================\n",
      "                        coef    std err          z      P>|z|      [0.025      0.975]\n",
      "-------------------------------------------------------------------------------------\n",
      "const                 2.3407      0.255      9.178      0.000       1.841       2.841\n",
      "age                  -0.0403      0.003    -12.102      0.000      -0.047      -0.034\n",
      "bmi                  -0.0338      0.006     -5.716      0.000      -0.045      -0.022\n",
      "female               -0.4543      0.048     -9.557      0.000      -0.548      -0.361\n",
      "educational_level     0.1506      0.028      5.288      0.000       0.095       0.206\n",
      "OA_conserv           -0.4413      0.078     -5.647      0.000      -0.594      -0.288\n",
      "Diabetes             -0.0404      0.093     -0.435      0.664      -0.222       0.142\n",
      "Hypertension         -0.0631      0.055     -1.155      0.248      -0.170       0.044\n",
      "=====================================================================================\n"
     ]
    }
   ],
   "source": [
    "maxchair['low_grip'] = (maxchair['chair'] < maxchair['chair'].quantile(0.25)).astype(int)\n",
    "\n",
    "X = maxchair[['age', 'bmi', 'female', 'educational_level','OA_conserv', 'Diabetes', 'Hypertension']]\n",
    "y = maxchair['low_grip']\n",
    "\n",
    "logit_model = sm.Logit(y, sm.add_constant(X)).fit()\n",
    "print(logit_model.summary())"
   ]
  },
  {
   "cell_type": "code",
   "execution_count": null,
   "metadata": {},
   "outputs": [],
   "source": []
  },
  {
   "cell_type": "code",
   "execution_count": null,
   "metadata": {},
   "outputs": [],
   "source": []
  }
 ],
 "metadata": {
  "kernelspec": {
   "display_name": "physioai",
   "language": "python",
   "name": "python3"
  },
  "language_info": {
   "codemirror_mode": {
    "name": "ipython",
    "version": 3
   },
   "file_extension": ".py",
   "mimetype": "text/x-python",
   "name": "python",
   "nbconvert_exporter": "python",
   "pygments_lexer": "ipython3",
   "version": "3.10.13"
  }
 },
 "nbformat": 4,
 "nbformat_minor": 2
}
