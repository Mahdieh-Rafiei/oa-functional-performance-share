{
 "cells": [
  {
   "cell_type": "code",
   "execution_count": null,
   "metadata": {},
   "outputs": [],
   "source": [
    "import pandas as pd\n",
    "import numpy as np\n",
    "from matplotlib import pyplot as plt\n",
    "import statsmodels.api as sm\n",
    "from statsmodels.formula.api import ols # linear ANOVA\n",
    "from statsmodels.stats.multicomp import pairwise_tukeyhsd\n",
    "from scipy.stats import f_oneway\n",
    "import statsmodels.formula.api as smf"
   ]
  },
  {
   "cell_type": "markdown",
   "metadata": {},
   "source": [
    "##### Data loading"
   ]
  },
  {
   "cell_type": "markdown",
   "metadata": {},
   "source": [
    "The educational level is 'isced1997_r' in wave 2"
   ]
  },
  {
   "cell_type": "code",
   "execution_count": null,
   "metadata": {},
   "outputs": [],
   "source": [
    "maxchair = pd.read_csv(\"data/maxchair.csv\")\n",
    "maxchair.shape"
   ]
  },
  {
   "cell_type": "code",
   "execution_count": null,
   "metadata": {},
   "outputs": [],
   "source": [
    "maxchair"
   ]
  },
  {
   "cell_type": "markdown",
   "metadata": {},
   "source": [
    "## statistical"
   ]
  },
  {
   "cell_type": "markdown",
   "metadata": {},
   "source": [
    "##### Statistics on df_features"
   ]
  },
  {
   "cell_type": "markdown",
   "metadata": {},
   "source": [
    "- **0**: No disease  \n",
    "- **1**:  \n",
    "  - Diabetes only  \n",
    "  - Hypertension only  \n",
    "  - OA only  \n",
    "- **2**:  \n",
    "  - Diabetes + Hypertension  \n",
    "  - Diabetes + OA  \n",
    "  - Hypertension + OA  \n",
    "- **3**: Diabetes + Hypertension + OA \n"
   ]
  },
  {
   "cell_type": "code",
   "execution_count": null,
   "metadata": {},
   "outputs": [],
   "source": [
    "maxchair['disease_category'] = 'No disease'  # Default group\n",
    "maxchair.loc[(maxchair['OA_conserv'] == 1) & (maxchair['Hypertension'] == 0) & (maxchair['Diabetes'] == 0), 'disease_category'] = 'Only OA'\n",
    "maxchair.loc[(maxchair['OA_conserv'] == 0) & (maxchair['Hypertension'] == 1) & (maxchair['Diabetes'] == 0), 'disease_category'] = 'Only HT'\n",
    "maxchair.loc[(maxchair['OA_conserv'] == 0) & (maxchair['Hypertension'] == 0) & (maxchair['Diabetes'] == 1), 'disease_category'] = 'Only Diabetes'\n",
    "maxchair.loc[(maxchair['OA_conserv'] == 1) & (maxchair['Hypertension'] == 1) & (maxchair['Diabetes'] == 0), 'disease_category'] = 'OA and HT'\n",
    "maxchair.loc[(maxchair['OA_conserv'] == 1) & (maxchair['Hypertension'] == 0) & (maxchair['Diabetes'] == 1), 'disease_category'] = 'OA and Diab'\n",
    "maxchair.loc[(maxchair['OA_conserv'] == 0) & (maxchair['Hypertension'] == 1) & (maxchair['Diabetes'] == 1), 'disease_category'] = 'HT and Diab'\n",
    "maxchair.loc[(maxchair['OA_conserv'] == 1) & (maxchair['Hypertension'] == 1) & (maxchair['Diabetes'] == 1), 'disease_category'] = 'All three diseases'\n"
   ]
  },
  {
   "cell_type": "markdown",
   "metadata": {},
   "source": [
    "### Maxgrip"
   ]
  },
  {
   "cell_type": "markdown",
   "metadata": {},
   "source": [
    "#### No confounding"
   ]
  },
  {
   "cell_type": "markdown",
   "metadata": {},
   "source": [
    "##### Step1: One-Way ANOVA"
   ]
  },
  {
   "cell_type": "markdown",
   "metadata": {},
   "source": [
    "Checks if any group differs"
   ]
  },
  {
   "cell_type": "code",
   "execution_count": null,
   "metadata": {},
   "outputs": [],
   "source": [
    "groups = maxchair['disease_category'].unique()\n",
    "grip_samples = [maxchair[maxchair['disease_category'] == group]['maxgrip'].dropna() for group in groups]\n",
    "\n",
    "# Run ANOVA\n",
    "anova_grip = f_oneway(*grip_samples)\n",
    "print(\"ANOVA for Grip Strength\")\n",
    "print(f\"F-statistic: {anova_grip.statistic:.3f}, p-value: {anova_grip.pvalue:.5f}\")\n"
   ]
  },
  {
   "cell_type": "markdown",
   "metadata": {},
   "source": [
    "##### Step2: Tukey HSD Post-hoc Comparison"
   ]
  },
  {
   "cell_type": "markdown",
   "metadata": {},
   "source": [
    "Identifies which groups differ"
   ]
  },
  {
   "cell_type": "code",
   "execution_count": null,
   "metadata": {},
   "outputs": [],
   "source": [
    "df_grip = maxchair[['maxgrip', 'disease_category']].dropna()\n",
    "\n",
    "# Run Tukey HSD\n",
    "tukey_grip = pairwise_tukeyhsd(endog=df_grip['maxgrip'],\n",
    "                               groups=df_grip['disease_category'],\n",
    "                               alpha=0.05)\n",
    "\n",
    "print(\"Turkey Maxgrip in age under 75\")\n",
    "print(tukey_grip.summary())\n"
   ]
  },
  {
   "cell_type": "markdown",
   "metadata": {},
   "source": [
    "##### Number of samples in each group"
   ]
  },
  {
   "cell_type": "code",
   "execution_count": null,
   "metadata": {},
   "outputs": [],
   "source": [
    "group_counts = maxchair[maxchair['maxgrip'].notna()].groupby('disease_category').size()\n",
    "print(group_counts)"
   ]
  },
  {
   "cell_type": "markdown",
   "metadata": {},
   "source": [
    "##### Step3: Code to Compute Cohen's d and 95% CI"
   ]
  },
  {
   "cell_type": "code",
   "execution_count": null,
   "metadata": {},
   "outputs": [],
   "source": [
    "comparisons = [\n",
    "    (\"No disease\", \"Only OA\"),\n",
    "    (\"No disease\", \"Only HT\"),\n",
    "    (\"No disease\", \"Only Diabetes\"),\n",
    "    (\"No disease\", \"HT and Diab\"),\n",
    "    (\"No disease\", \"OA and Diab\"),\n",
    "    (\"No disease\", \"OA and HT\"),\n",
    "    (\"No disease\", \"All three diseases\")\n",
    "]\n",
    "\n",
    "results = []\n",
    "\n",
    "for g1, g2 in comparisons:\n",
    "\n",
    "    group1 = maxchair[(maxchair['disease_category'] == g1)]['maxgrip'].dropna()\n",
    "    group2 = maxchair[(maxchair['disease_category'] == g2)]['maxgrip'].dropna()\n",
    "\n",
    "    mean1, mean2 = group1.mean(), group2.mean()\n",
    "    std1, std2 = group1.std(), group2.std()\n",
    "    n1, n2 = len(group1), len(group2)\n",
    "\n",
    "    pooled_sd = np.sqrt(((n1 - 1)*std1**2 + (n2 - 1)*std2**2) / (n1 + n2 - 2))\n",
    "\n",
    "    cohen_d = (mean1 - mean2) / pooled_sd\n",
    "\n",
    "    diff = mean1 - mean2\n",
    "    se_diff = np.sqrt(std1**2 / n1 + std2**2 / n2)\n",
    "    ci_low, ci_high = diff - 1.96 * se_diff, diff + 1.96 * se_diff\n",
    "\n",
    "    results.append({\n",
    "        'Comparison': f\"{g1} vs {g2}\",\n",
    "        'Mean1': round(mean1, 2),\n",
    "        'Mean2': round(mean2, 2),\n",
    "        'Cohen_d': round(cohen_d, 3),\n",
    "        '95% CI Lower': round(ci_low, 3),\n",
    "        '95% CI Upper': round(ci_high, 3),\n",
    "        'n1': n1,\n",
    "        'n2': n2\n",
    "    })\n",
    "\n",
    "\n",
    "effect_df = pd.DataFrame(results)\n",
    "effect_df\n"
   ]
  },
  {
   "cell_type": "markdown",
   "metadata": {},
   "source": [
    "#### With confounding: age, BMI, female, educational_level:"
   ]
  },
  {
   "cell_type": "markdown",
   "metadata": {},
   "source": [
    "Run OLS model (adjusted for age, bmi, female)"
   ]
  },
  {
   "cell_type": "code",
   "execution_count": null,
   "metadata": {},
   "outputs": [],
   "source": [
    "# Set 'No disease' as reference group \n",
    "maxchair['disease_category'] = pd.Categorical(\n",
    "    maxchair['disease_category'],\n",
    "    categories=[\n",
    "        'No disease', 'Only OA', 'Only HT', 'Only Diabetes',\n",
    "        'HT and Diab', 'OA and Diab', 'OA and HT', 'All three diseases'\n",
    "    ],\n",
    "    ordered=False\n",
    ")\n",
    "\n",
    "model = smf.ols('maxgrip ~ C(disease_category) + age + bmi + female + educational_level', data=maxchair).fit()\n",
    "\n",
    "results_df = pd.DataFrame({\n",
    "    'Disease group': model.params.index,\n",
    "    'Coefficient (Adj. Mean Diff)': model.params.values,\n",
    "    '95% CI Lower': model.conf_int().iloc[:, 0],\n",
    "    '95% CI Upper': model.conf_int().iloc[:, 1],\n",
    "    'p-value': model.pvalues.values\n",
    "})\n",
    "\n",
    "results_df = results_df[results_df['Disease group'].str.contains('C\\(disease_category\\)')].copy()\n",
    "\n",
    "results_df['Disease group'] = results_df['Disease group'].str.replace(r'C\\(disease_category\\)\\[T\\.', '', regex=True).str.rstrip(']')\n",
    "\n",
    "results_df['Coefficient (Adj. Mean Diff)'] = results_df['Coefficient (Adj. Mean Diff)'].round(3)\n",
    "results_df['95% CI Lower'] = results_df['95% CI Lower'].round(3)\n",
    "results_df['95% CI Upper'] = results_df['95% CI Upper'].round(3)\n",
    "results_df['p-value'] = results_df['p-value'].round(4)\n",
    "results_df['Significant'] = results_df['p-value'].apply(lambda p: 'Yes' if p < 0.05 else 'No')\n",
    "\n",
    "print(\"OLS results for maxgrip in age under 75 (No disease as reference):\")\n",
    "results_df.reset_index(drop=True)\n"
   ]
  },
  {
   "cell_type": "markdown",
   "metadata": {},
   "source": [
    "##### Interaction Effects: Does OA Get Worse With Comorbidities?"
   ]
  },
  {
   "cell_type": "code",
   "execution_count": null,
   "metadata": {},
   "outputs": [],
   "source": [
    "maxchair['disease_category'] = pd.Categorical(\n",
    "    maxchair['disease_category'],\n",
    "    categories=[\n",
    "        'No disease',            \n",
    "        'Only OA',\n",
    "        'Only HT',\n",
    "        'Only Diabetes',\n",
    "        'OA and HT',\n",
    "        'OA and Diab',\n",
    "        'HT and Diab',\n",
    "        'All three diseases'\n",
    "    ],\n",
    "    ordered=False\n",
    ")\n"
   ]
  },
  {
   "cell_type": "code",
   "execution_count": null,
   "metadata": {},
   "outputs": [],
   "source": [
    "model = smf.ols('maxgrip ~ C(disease_category) + age + bmi + female + educational_level + C(OA_conserv)*C(Diabetes) + C(OA_conserv)*C(Hypertension)', \n",
    "                data=maxchair).fit()\n",
    "print(model.summary())"
   ]
  },
  {
   "cell_type": "markdown",
   "metadata": {},
   "source": [
    "##### Logistic Regression: Predicting \"High Risk\" Patients"
   ]
  },
  {
   "cell_type": "code",
   "execution_count": null,
   "metadata": {},
   "outputs": [],
   "source": [
    "maxchair['low_grip'] = (maxchair['maxgrip'] < maxchair['maxgrip'].quantile(0.25)).astype(int)\n",
    "\n",
    "X = maxchair[['age', 'bmi', 'female', 'educational_level','OA_conserv', 'Diabetes', 'Hypertension']]\n",
    "y = maxchair['low_grip']\n",
    "\n",
    "logit_model = sm.Logit(y, sm.add_constant(X)).fit()\n",
    "print(logit_model.summary())\n"
   ]
  },
  {
   "cell_type": "markdown",
   "metadata": {},
   "source": [
    "### Chair"
   ]
  },
  {
   "cell_type": "markdown",
   "metadata": {},
   "source": [
    "#### No confounding"
   ]
  },
  {
   "cell_type": "markdown",
   "metadata": {},
   "source": [
    "##### Step1: One-Way ANOVA"
   ]
  },
  {
   "cell_type": "markdown",
   "metadata": {},
   "source": [
    "Checks if any group differs"
   ]
  },
  {
   "cell_type": "code",
   "execution_count": null,
   "metadata": {},
   "outputs": [],
   "source": [
    "# ANOVA for Chair Stand\n",
    "chair_samples = [maxchair[maxchair['disease_category'] == group]['chair'].dropna() for group in groups]\n",
    "\n",
    "anova_chair = f_oneway(*chair_samples)\n",
    "print(\"\\nANOVA for Chair Stand\")\n",
    "print(f\"F-statistic: {anova_chair.statistic:.3f}, p-value: {anova_chair.pvalue:.5f}\")\n"
   ]
  },
  {
   "cell_type": "markdown",
   "metadata": {},
   "source": [
    "##### Step2: Tukey HSD Post-hoc Comparison"
   ]
  },
  {
   "cell_type": "markdown",
   "metadata": {},
   "source": [
    "Identifies which groups differ"
   ]
  },
  {
   "cell_type": "code",
   "execution_count": null,
   "metadata": {},
   "outputs": [],
   "source": [
    "# Tukey HSD for Chair Stand\n",
    "df_chair = maxchair[['chair', 'disease_category']].dropna()\n",
    "\n",
    "tukey_chair = pairwise_tukeyhsd(endog=df_chair['chair'],\n",
    "                                groups=df_chair['disease_category'],\n",
    "                                alpha=0.05)\n",
    "\n",
    "print(\"Turkey Chair Stand in age under 75\")\n",
    "print(tukey_chair.summary())\n"
   ]
  },
  {
   "cell_type": "markdown",
   "metadata": {},
   "source": [
    "##### Number of samples in each group"
   ]
  },
  {
   "cell_type": "code",
   "execution_count": null,
   "metadata": {},
   "outputs": [],
   "source": [
    "group_counts = maxchair[maxchair['chair'].notna()].groupby('disease_category').size()\n",
    "print(group_counts)"
   ]
  },
  {
   "cell_type": "markdown",
   "metadata": {},
   "source": [
    "##### Step3: Compute Cohen's d and 95% CI"
   ]
  },
  {
   "cell_type": "code",
   "execution_count": null,
   "metadata": {},
   "outputs": [],
   "source": [
    "comparisons = [\n",
    "    (\"No disease\", \"Only OA\"),\n",
    "    (\"No disease\", \"Only HT\"),\n",
    "    (\"No disease\", \"Only Diabetes\"),\n",
    "    (\"No disease\", \"HT and Diab\"),\n",
    "    (\"No disease\", \"OA and Diab\"),\n",
    "    (\"No disease\", \"OA and HT\"),\n",
    "    (\"No disease\", \"All three diseases\")\n",
    "]\n",
    "\n",
    "results = []\n",
    "\n",
    "for g1, g2 in comparisons:\n",
    "   \n",
    "    group1 = maxchair[(maxchair['disease_category'] == g1)]['chair'].dropna()\n",
    "    group2 = maxchair[(maxchair['disease_category'] == g2)]['chair'].dropna()\n",
    "\n",
    "    mean1, mean2 = group1.mean(), group2.mean()\n",
    "    std1, std2 = group1.std(), group2.std()\n",
    "    n1, n2 = len(group1), len(group2)\n",
    "\n",
    "    pooled_sd = np.sqrt(((n1 - 1)*std1**2 + (n2 - 1)*std2**2) / (n1 + n2 - 2))\n",
    "\n",
    "    cohen_d = (mean1 - mean2) / pooled_sd\n",
    "\n",
    "    diff = mean1 - mean2\n",
    "    se_diff = np.sqrt(std1**2 / n1 + std2**2 / n2)\n",
    "    ci_low, ci_high = diff - 1.96 * se_diff, diff + 1.96 * se_diff\n",
    "\n",
    "    results.append({\n",
    "        'Comparison': f\"{g1} vs {g2}\",\n",
    "        'Mean1': round(mean1, 2),\n",
    "        'Mean2': round(mean2, 2),\n",
    "        'Cohen_d': round(cohen_d, 3),\n",
    "        '95% CI Lower': round(ci_low, 3),\n",
    "        '95% CI Upper': round(ci_high, 3),\n",
    "        'n1': n1,\n",
    "        'n2': n2\n",
    "    })\n",
    "\n",
    "effect_df = pd.DataFrame(results)\n",
    "effect_df"
   ]
  },
  {
   "cell_type": "markdown",
   "metadata": {},
   "source": [
    "#### With confounding: age, BMI, female, educational_level:"
   ]
  },
  {
   "cell_type": "markdown",
   "metadata": {},
   "source": [
    "Run OLS model (adjusted for age, bmi, female)"
   ]
  },
  {
   "cell_type": "code",
   "execution_count": null,
   "metadata": {},
   "outputs": [],
   "source": [
    "maxchair['disease_category'] = pd.Categorical(\n",
    "    maxchair['disease_category'],\n",
    "    categories=[\n",
    "        'No disease', 'Only OA', 'Only HT', 'Only Diabetes',\n",
    "        'HT and Diab', 'OA and Diab', 'OA and HT', 'All three diseases'\n",
    "    ],\n",
    "    ordered=False\n",
    ")\n",
    "\n",
    "model = smf.ols('chair ~ C(disease_category) + age + bmi + female + educational_level', data=maxchair).fit()\n",
    "\n",
    "\n",
    "results_df = pd.DataFrame({\n",
    "    'Disease group': model.params.index,\n",
    "    'Coefficient (Adj. Mean Diff)': model.params.values,\n",
    "    '95% CI Lower': model.conf_int().iloc[:, 0],\n",
    "    '95% CI Upper': model.conf_int().iloc[:, 1],\n",
    "    'p-value': model.pvalues.values\n",
    "})\n",
    "\n",
    "results_df = results_df[results_df['Disease group'].str.contains('C\\(disease_category\\)')].copy()\n",
    "\n",
    "results_df['Disease group'] = results_df['Disease group'].str.replace(r'C\\(disease_category\\)\\[T\\.', '', regex=True).str.rstrip(']')\n",
    "\n",
    "\n",
    "results_df['Coefficient (Adj. Mean Diff)'] = results_df['Coefficient (Adj. Mean Diff)'].round(3)\n",
    "results_df['95% CI Lower'] = results_df['95% CI Lower'].round(3)\n",
    "results_df['95% CI Upper'] = results_df['95% CI Upper'].round(3)\n",
    "results_df['p-value'] = results_df['p-value'].round(4)\n",
    "results_df['Significant'] = results_df['p-value'].apply(lambda p: 'Yes' if p < 0.05 else 'No')\n",
    "\n",
    "print(\"OLS results for chair in age under 75 (No disease as reference):\")\n",
    "results_df.reset_index(drop=True)\n"
   ]
  },
  {
   "cell_type": "code",
   "execution_count": null,
   "metadata": {},
   "outputs": [],
   "source": [
    "group_counts = maxchair[maxchair['chair'].notna()].groupby('disease_category').size()\n",
    "print(group_counts)"
   ]
  },
  {
   "cell_type": "markdown",
   "metadata": {},
   "source": [
    "##### Interaction Effects: Does OA Get Worse With Comorbidities?"
   ]
  },
  {
   "cell_type": "code",
   "execution_count": null,
   "metadata": {},
   "outputs": [],
   "source": [
    "maxchair['disease_category'] = pd.Categorical(\n",
    "    maxchair['disease_category'],\n",
    "    categories=[\n",
    "        'No disease',         \n",
    "        'Only OA',\n",
    "        'Only HT',\n",
    "        'Only Diabetes',\n",
    "        'OA and HT',\n",
    "        'OA and Diab',\n",
    "        'HT and Diab',\n",
    "        'All three diseases'\n",
    "    ],\n",
    "    ordered=False\n",
    ")"
   ]
  },
  {
   "cell_type": "code",
   "execution_count": null,
   "metadata": {},
   "outputs": [],
   "source": [
    "model = smf.ols('chair ~ C(disease_category) + age + bmi + female + educational_level + C(OA_conserv)*C(Diabetes) + C(OA_conserv)*C(Hypertension)', \n",
    "                data=maxchair).fit()\n",
    "print(model.summary())"
   ]
  },
  {
   "cell_type": "markdown",
   "metadata": {},
   "source": [
    "##### Logistic Regression: Predicting \"High Risk\" Patients"
   ]
  },
  {
   "cell_type": "code",
   "execution_count": null,
   "metadata": {},
   "outputs": [],
   "source": [
    "maxchair['low_grip'] = (maxchair['chair'] < maxchair['chair'].quantile(0.25)).astype(int)\n",
    "\n",
    "X = maxchair[['age', 'bmi', 'female', 'educational_level','OA_conserv', 'Diabetes', 'Hypertension']]\n",
    "y = maxchair['low_grip']\n",
    "\n",
    "logit_model = sm.Logit(y, sm.add_constant(X)).fit()\n",
    "print(logit_model.summary())"
   ]
  },
  {
   "cell_type": "code",
   "execution_count": null,
   "metadata": {},
   "outputs": [],
   "source": []
  },
  {
   "cell_type": "code",
   "execution_count": null,
   "metadata": {},
   "outputs": [],
   "source": []
  }
 ],
 "metadata": {
  "kernelspec": {
   "display_name": "physioai",
   "language": "python",
   "name": "python3"
  },
  "language_info": {
   "codemirror_mode": {
    "name": "ipython",
    "version": 3
   },
   "file_extension": ".py",
   "mimetype": "text/x-python",
   "name": "python",
   "nbconvert_exporter": "python",
   "pygments_lexer": "ipython3",
   "version": "3.10.13"
  }
 },
 "nbformat": 4,
 "nbformat_minor": 2
}
