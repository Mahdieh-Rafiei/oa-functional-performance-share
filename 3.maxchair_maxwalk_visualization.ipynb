{
 "cells": [
  {
   "cell_type": "code",
   "execution_count": null,
   "metadata": {},
   "outputs": [],
   "source": [
    "import pandas as pd\n",
    "import matplotlib.pyplot as plt\n",
    "import seaborn as sns\n",
    "import statsmodels.formula.api as smf"
   ]
  },
  {
   "cell_type": "code",
   "execution_count": null,
   "metadata": {},
   "outputs": [],
   "source": [
    "maxwalk = pd.read_csv(\"data/maxwalk.csv\")\n",
    "maxchair = pd.read_csv(\"data/maxchair.csv\")\n",
    "maxchair.shape, maxwalk.shape"
   ]
  },
  {
   "cell_type": "code",
   "execution_count": null,
   "metadata": {},
   "outputs": [],
   "source": [
    "maxchair.columns, maxwalk.columns"
   ]
  },
  {
   "cell_type": "markdown",
   "metadata": {},
   "source": [
    "#### Tukey HSD Post-hoc Test (Table or Heatmap)"
   ]
  },
  {
   "cell_type": "code",
   "execution_count": null,
   "metadata": {},
   "outputs": [],
   "source": [
    "from statsmodels.stats.multicomp import pairwise_tukeyhsd\n",
    "\n",
    "def run_tukey_test(df, outcome):\n",
    "    tukey = pairwise_tukeyhsd(endog=df[outcome], groups=df['disease_category'], alpha=0.05)\n",
    "    print(tukey.summary())\n"
   ]
  },
  {
   "cell_type": "code",
   "execution_count": null,
   "metadata": {},
   "outputs": [],
   "source": [
    "# MaxChair\n",
    "run_tukey_test(maxchair, 'maxgrip')\n",
    "run_tukey_test(maxchair, 'chair')"
   ]
  },
  {
   "cell_type": "code",
   "execution_count": null,
   "metadata": {},
   "outputs": [],
   "source": [
    "# MaxWalk\n",
    "run_tukey_test(maxwalk, 'maxgrip')\n",
    "run_tukey_test(maxwalk, 'walking')"
   ]
  },
  {
   "cell_type": "markdown",
   "metadata": {},
   "source": [
    "##### Sample distribution by disease group"
   ]
  },
  {
   "cell_type": "code",
   "execution_count": null,
   "metadata": {},
   "outputs": [],
   "source": [
    "def plot_combined_sample_distribution_percent(maxchair, maxwalk):\n",
    "\n",
    "    chair_pct = maxchair['disease_category'].value_counts(normalize=True) * 100\n",
    "    walk_pct = maxwalk['disease_category'].value_counts(normalize=True) * 100\n",
    "\n",
    "    combined_df = pd.DataFrame({\n",
    "        'Disease Group': chair_pct.index.tolist() + walk_pct.index.tolist(),\n",
    "        'Percentage': list(chair_pct.values) + list(walk_pct.values),\n",
    "        'Age Group': ['Age < 75'] * len(chair_pct) + ['Age ≥ 75'] * len(walk_pct)  # renamed here\n",
    "    })\n",
    "\n",
    "    custom_order = [\n",
    "        'No disease', 'Only OA', 'Only HT', 'Only Diabetes',\n",
    "        'OA and HT', 'OA and Diab', 'HT and Diab', 'All three diseases'\n",
    "    ]\n",
    "\n",
    "    combined_df['Disease Group'] = pd.Categorical(\n",
    "        combined_df['Disease Group'],\n",
    "        categories=custom_order,\n",
    "        ordered=True\n",
    "    )\n",
    "\n",
    "    plt.figure(figsize=(12, 6))\n",
    "    ax = sns.barplot(\n",
    "        data=combined_df,\n",
    "        x='Disease Group',\n",
    "        y='Percentage',\n",
    "        hue='Age Group',\n",
    "        palette={'Age < 75': 'lightblue', 'Age ≥ 75': 'lightpink'}\n",
    "    )\n",
    "\n",
    "    for container in ax.containers:\n",
    "        ax.bar_label(container, fmt='%.1f%%', label_type='edge', padding=3, fontsize=9)\n",
    "\n",
    "    plt.title('Percentage of participants by disease group in adults aged <75 and ≥75 years')\n",
    "    plt.ylabel('Percentage (%)')\n",
    "    plt.xlabel('Disease Group')\n",
    "    plt.xticks(rotation=45)\n",
    "    plt.legend(title='Age Group')\n",
    "    plt.tight_layout()\n",
    "    plt.show()\n"
   ]
  },
  {
   "cell_type": "code",
   "execution_count": null,
   "metadata": {},
   "outputs": [],
   "source": [
    "plot_combined_sample_distribution_percent(maxchair, maxwalk)"
   ]
  },
  {
   "cell_type": "markdown",
   "metadata": {},
   "source": [
    "##### Grip Strength (kg) "
   ]
  },
  {
   "cell_type": "code",
   "execution_count": null,
   "metadata": {},
   "outputs": [],
   "source": [
    "shared_palette = {\n",
    "    'Grip Strength (<75)': 'dodgerblue',\n",
    "    'Grip Strength (≥75)': 'orangered',\n",
    "    'Chair Stand (sec) for adults <75': 'dodgerblue',\n",
    "    'Walking Speed (sec) for adults ≥75': 'orangered'\n",
    "}"
   ]
  },
  {
   "cell_type": "code",
   "execution_count": null,
   "metadata": {},
   "outputs": [],
   "source": [
    "def plot_combined_grip_strength(maxchair, maxwalk):\n",
    "    grip_df_chair = maxchair[['disease_category', 'maxgrip']].copy()\n",
    "    grip_df_chair['Outcome'] = 'Grip Strength (<75)'\n",
    "\n",
    "    grip_df_walk = maxwalk[['disease_category', 'maxgrip']].copy()\n",
    "    grip_df_walk['Outcome'] = 'Grip Strength (≥75)'\n",
    "\n",
    "    combined_grip = pd.concat([grip_df_chair, grip_df_walk], ignore_index=True)\n",
    "    combined_grip = combined_grip.rename(columns={'maxgrip': 'Grip Strength (kg)'})\n",
    "\n",
    "    plt.figure(figsize=(13, 6))\n",
    "    sns.boxplot(data=combined_grip, x='disease_category', y='Grip Strength (kg)', hue='Outcome', palette=shared_palette)\n",
    "    plt.title('Grip Strength (kg) by Disease Group')\n",
    "    plt.xticks(rotation=45)\n",
    "    plt.xlabel('Disease Group')\n",
    "    plt.ylabel('Grip Strength (kg)')\n",
    "    plt.legend(title='Outcome')\n",
    "    plt.grid(False)\n",
    "    plt.tight_layout()\n",
    "    plt.show()"
   ]
  },
  {
   "cell_type": "code",
   "execution_count": null,
   "metadata": {},
   "outputs": [],
   "source": [
    "plot_combined_grip_strength(maxchair, maxwalk)"
   ]
  },
  {
   "cell_type": "markdown",
   "metadata": {},
   "source": [
    "##### Chair Stand & Walking Speed (sec) "
   ]
  },
  {
   "cell_type": "code",
   "execution_count": null,
   "metadata": {},
   "outputs": [],
   "source": [
    "\n",
    "def plot_combined_mobility(maxchair, maxwalk):\n",
    "    chair_df = maxchair[['disease_category', 'chair']].copy()\n",
    "    chair_df['Outcome'] = 'Chair Stand (sec) for adults <75'\n",
    "    chair_df = chair_df.rename(columns={'chair': 'Value'})\n",
    "\n",
    "    walk_df = maxwalk[['disease_category', 'walking']].copy()\n",
    "    walk_df['Outcome'] = 'Walking Speed (sec) for adults ≥75'\n",
    "    walk_df = walk_df.rename(columns={'walking': 'Value'})\n",
    "\n",
    "    combined_mobility = pd.concat([chair_df, walk_df], ignore_index=True)\n",
    "\n",
    "    plt.figure(figsize=(13, 6))\n",
    "    sns.boxplot(data=combined_mobility, x='disease_category', y='Value', hue='Outcome')\n",
    "    plt.title('Chair Stand and Walking Speed by Disease Group')\n",
    "    plt.xticks(rotation=45)\n",
    "    plt.xlabel('Disease Group')\n",
    "    plt.ylabel('Time (seconds)')\n",
    "    plt.legend(title='Outcome')    \n",
    "    plt.grid(False) \n",
    "    plt.tight_layout()\n",
    "    plt.show()"
   ]
  },
  {
   "cell_type": "code",
   "execution_count": null,
   "metadata": {},
   "outputs": [],
   "source": [
    "plot_combined_mobility(maxchair, maxwalk)"
   ]
  },
  {
   "cell_type": "markdown",
   "metadata": {},
   "source": [
    "##### Regression maxgrip min under 75 and uper 75"
   ]
  },
  {
   "cell_type": "code",
   "execution_count": null,
   "metadata": {},
   "outputs": [],
   "source": [
    "\n",
    "\n",
    "def plot_grip_strength_regression(maxchair, maxwalk):\n",
    "    # for adults <75\n",
    "    model1 = smf.ols('maxgrip ~ C(disease_category) + age + bmi + female + educational_level', data=maxchair).fit()\n",
    "    df1 = pd.DataFrame({\n",
    "        'predictor': model1.params.index,\n",
    "        'coef': model1.params.values,\n",
    "        'ci_lower': model1.conf_int().iloc[:, 0],\n",
    "        'ci_upper': model1.conf_int().iloc[:, 1],\n",
    "        'Outcome': 'Grip Strength (<75)'\n",
    "    })\n",
    "\n",
    "    # for adults ≥75\n",
    "    model2 = smf.ols('maxgrip ~ C(disease_category) + age + bmi + female + educational_level', data=maxwalk).fit()\n",
    "    df2 = pd.DataFrame({\n",
    "        'predictor': model2.params.index,\n",
    "        'coef': model2.params.values,\n",
    "        'ci_lower': model2.conf_int().iloc[:, 0],\n",
    "        'ci_upper': model2.conf_int().iloc[:, 1],\n",
    "        'Outcome': 'Grip Strength (≥75)'\n",
    "    })\n",
    "\n",
    "\n",
    "    all_df = pd.concat([df1, df2])\n",
    "    all_df = all_df[~all_df['predictor'].isin(['Intercept', 'age', 'bmi', 'female', 'educational_level'])]\n",
    "    all_df['predictor'] = all_df['predictor'].str.replace(r'C\\(disease_category\\)\\[T\\.', '', regex=True).str.rstrip(']')\n",
    "    all_df['predictor'] = all_df['predictor'].astype(str)\n",
    "\n",
    "\n",
    "    palette = {\n",
    "        'Grip Strength (<75)': '#1f77b4',  \n",
    "        'Grip Strength (≥75)': '#d62728'  \n",
    "    }\n",
    "\n",
    "\n",
    "    plt.figure(figsize=(10, 6))\n",
    "    sns.pointplot(\n",
    "        data=all_df, x='coef', y='predictor', hue='Outcome',\n",
    "        palette=palette, dodge=0.5, join=False, markers='o'\n",
    "    )\n",
    "\n",
    "    \n",
    "    for _, row in all_df.iterrows():\n",
    "        color = palette[row['Outcome']]\n",
    "        plt.plot([row['ci_lower'], row['ci_upper']], [row['predictor'], row['predictor']],\n",
    "                 color=color, linewidth=2, alpha=0.7)\n",
    "\n",
    "    plt.axvline(0, color='red', linestyle='--')\n",
    "    plt.title(\"Adjusted Regression Coefficients for Grip Strength by Disease Group\")\n",
    "    plt.xlabel(\"Coefficient Estimate\")\n",
    "    plt.ylabel(\"Disease Groups\")\n",
    "    plt.legend(title=\"Outcome\")\n",
    "    plt.tight_layout()\n",
    "    plt.show()\n",
    "    \n",
    "    return all_df\n",
    "\n"
   ]
  },
  {
   "cell_type": "code",
   "execution_count": null,
   "metadata": {},
   "outputs": [],
   "source": [
    "df = plot_grip_strength_regression(maxchair, maxwalk)\n",
    "print(df)\n"
   ]
  },
  {
   "cell_type": "markdown",
   "metadata": {},
   "source": [
    "##### Regression maxchair maxwalk (in the paper Fig6)"
   ]
  },
  {
   "cell_type": "code",
   "execution_count": null,
   "metadata": {},
   "outputs": [],
   "source": [
    "def plot_mobility_regression_coeffs_fixed(maxchair, maxwalk):\n",
    "\n",
    "\n",
    "    model_chair = smf.ols('chair ~ C(disease_category) + age + bmi + female + educational_level', data=maxchair).fit()\n",
    "    model_walk = smf.ols('walking ~ C(disease_category) + age + bmi + female + educational_level', data=maxwalk).fit()\n",
    "\n",
    "    # Chair Stand (<75)\n",
    "    df_chair = pd.DataFrame({\n",
    "        'predictor': model_chair.params.index,\n",
    "        'coef': model_chair.params.values,\n",
    "        'ci_lower': model_chair.conf_int().iloc[:, 0],\n",
    "        'ci_upper': model_chair.conf_int().iloc[:, 1],\n",
    "        'Outcome': 'Chair Stand (<75)'  \n",
    "    })\n",
    "\n",
    "    # Walking Speed (≥75)\n",
    "    df_walk = pd.DataFrame({\n",
    "        'predictor': model_walk.params.index,\n",
    "        'coef': model_walk.params.values,\n",
    "        'ci_lower': model_walk.conf_int().iloc[:, 0],\n",
    "        'ci_upper': model_walk.conf_int().iloc[:, 1],\n",
    "        'Outcome': 'Walking Speed (≥75)'  \n",
    "    })\n",
    "\n",
    "    results = pd.concat([df_chair, df_walk])\n",
    "    results = results[~results['predictor'].isin(['Intercept', 'age', 'bmi', 'female', 'educational_level'])]\n",
    "    results['predictor'] = results['predictor'].str.replace(r'C\\(disease_category\\)\\[T\\.', '', regex=True).str.rstrip(']')\n",
    "\n",
    "    palette = {\n",
    "        'Chair Stand (<75)': '#1f77b4',      \n",
    "        'Walking Speed (≥75)': '#d62728',    \n",
    "    }\n",
    "\n",
    "\n",
    "    plt.figure(figsize=(10, 6))\n",
    "    sns.pointplot(\n",
    "        data=results,\n",
    "        x='coef',\n",
    "        y='predictor',\n",
    "        hue='Outcome',\n",
    "        palette=palette,\n",
    "        dodge=0.5,\n",
    "        join=False\n",
    "    )\n",
    "\n",
    "\n",
    "    for i, row in results.iterrows():\n",
    "        plt.plot(\n",
    "            [row['ci_lower'], row['ci_upper']],\n",
    "            [row['predictor'], row['predictor']],\n",
    "            color=palette[row['Outcome']],\n",
    "            linewidth=1.5,\n",
    "            alpha=0.8\n",
    "        )\n",
    "\n",
    "    plt.axvline(0, color='black', linestyle='--')\n",
    "    plt.title(\"Adjusted Regression Coefficients for Mobility Outcomes by Disease Group\")\n",
    "    plt.xlabel(\"Coefficient Estimate\")\n",
    "    plt.ylabel(\"Disease Groups\")\n",
    "    plt.legend(title=\"Outcome\")\n",
    "    plt.tight_layout()\n",
    "    plt.show()\n",
    "    \n",
    "    return results\n"
   ]
  },
  {
   "cell_type": "code",
   "execution_count": null,
   "metadata": {},
   "outputs": [],
   "source": [
    "df_1 = plot_mobility_regression_coeffs_fixed(maxchair, maxwalk)\n",
    "print(df_1)"
   ]
  },
  {
   "cell_type": "code",
   "execution_count": null,
   "metadata": {},
   "outputs": [],
   "source": []
  }
 ],
 "metadata": {
  "kernelspec": {
   "display_name": "physioai",
   "language": "python",
   "name": "python3"
  },
  "language_info": {
   "codemirror_mode": {
    "name": "ipython",
    "version": 3
   },
   "file_extension": ".py",
   "mimetype": "text/x-python",
   "name": "python",
   "nbconvert_exporter": "python",
   "pygments_lexer": "ipython3",
   "version": "3.10.13"
  }
 },
 "nbformat": 4,
 "nbformat_minor": 2
}
