{
 "cells": [
  {
   "cell_type": "code",
   "execution_count": null,
   "metadata": {},
   "outputs": [],
   "source": [
    "import pandas as pd\n",
    "import numpy as np\n",
    "import os\n",
    "from typing import List"
   ]
  },
  {
   "cell_type": "markdown",
   "metadata": {},
   "source": [
    "##### Load and merge datasets we need:"
   ]
  },
  {
   "cell_type": "code",
   "execution_count": null,
   "metadata": {},
   "outputs": [],
   "source": [
    "def load_stata_files(data_directory):\n",
    "    file_names = [\n",
    "        'sharew2_rel8-0-0_ph.dta',\n",
    "        'sharew2_rel8-0-0_br.dta',\n",
    "        'sharew2_rel8-0-0_ws.dta',\n",
    "        'sharew2_rel8-0-0_cs.dta',\n",
    "        'sharew2_rel8-0-0_gs.dta',\n",
    "        'sharew2_rel8-0-0_dn.dta',\n",
    "        'sharew2_rel8-0-0_gv_isced.dta'\n",
    "    ]\n",
    "\n",
    "    datasets = {}\n",
    "    for file_name in file_names:\n",
    "        file_path = os.path.join(data_directory, file_name)\n",
    "        dataset_name = os.path.splitext(file_name)[0]\n",
    "        datasets[dataset_name] = pd.read_stata(file_path)\n",
    "    \n",
    "    return datasets\n",
    "\n",
    "def get_common_columns(df_primary, df_secondary, merge_keys=['mergeid']):\n",
    "    unique_cols = df_secondary.columns.difference(df_primary.columns).tolist()\n",
    "    return unique_cols + merge_keys\n",
    "\n",
    "def merge_datasets(datasets, merge_key='mergeid'):\n",
    "    main_key = 'sharew2_rel8-0-0_ph'\n",
    "    df_merged = datasets[main_key].copy()\n",
    "    \n",
    "    for key in datasets:\n",
    "        if key == main_key:\n",
    "            continue\n",
    "        cols_to_use = get_common_columns(df_merged, datasets[key], merge_keys=[merge_key])\n",
    "        df_merged = df_merged.merge(\n",
    "            datasets[key][cols_to_use],\n",
    "            on=merge_key,\n",
    "            how='left'\n",
    "        )\n",
    "    return df_merged"
   ]
  },
  {
   "cell_type": "code",
   "execution_count": null,
   "metadata": {},
   "outputs": [],
   "source": [
    "data_dir = './data/wave2/'\n",
    "datasets = load_stata_files(data_dir)\n",
    "df = merge_datasets(datasets)"
   ]
  },
  {
   "cell_type": "code",
   "execution_count": null,
   "metadata": {},
   "outputs": [],
   "source": [
    "df"
   ]
  },
  {
   "cell_type": "markdown",
   "metadata": {},
   "source": [
    "##### Rename variables"
   ]
  },
  {
   "cell_type": "code",
   "execution_count": null,
   "metadata": {},
   "outputs": [],
   "source": [
    "vars = {\n",
    "'ws010_' :  'first_walking_speed_result',\n",
    "'ws011_' :  'first_walking_speed_time',\n",
    "'ws012_' :  'second_walking_speed_result',\n",
    "'ws013_' :  'second_walking_speed_time',\n",
    "'cs004_' :  'chair_rise_result',\n",
    "'cs008_' :  'time_5_chair_rise',\n",
    "'gs006_' :  'maxgrip_left_one',\n",
    "'gs007_' :  'maxgrip_left_two',\n",
    "'gs008_' :  'maxgrip_right_one',\n",
    "'gs009_' :  'maxgrip_right_two',\n",
    "'dn002_' :  'MOB', #In which month and year were you born? MONTH: YEAR:\n",
    "'dn003_' :  'YOB', #In which month and year were you born? MONTH: [DN002_MoBirth] YEAR:\n",
    "'dn042_' :  'female',\n",
    "'ph006d8' :  'OA',\n",
    "'ph010d1' :  'pain_joint',\n",
    "'ph012_' :  'weight',\n",
    "'ph013_' :  'height',\n",
    "'ph044_' :  'eyesight_close',\n",
    "'ph046_' :  'hearing',\n",
    "}\n",
    "\n",
    "df.rename(columns=vars, inplace=True)"
   ]
  },
  {
   "cell_type": "markdown",
   "metadata": {},
   "source": [
    "##### Mapping educational level"
   ]
  },
  {
   "cell_type": "code",
   "execution_count": null,
   "metadata": {},
   "outputs": [],
   "source": [
    "def map_education_levels(df, column='isced1997_r'):\n",
    "    \"\"\"\n",
    "    Maps ISCED-97 education codes to labeled categories and then to integer levels.\n",
    "\n",
    "    Parameters:\n",
    "    - df (pd.DataFrame): The input DataFrame\n",
    "    - column (str): The name of the column with ISCED-97 codes\n",
    "\n",
    "    Returns:\n",
    "    - df (pd.DataFrame): The same DataFrame with 'educational' and 'educational_level' columns added\n",
    "    \"\"\"\n",
    "    education_map = {\n",
    "        'ISCED-97 code 1': 'Low',\n",
    "        'ISCED-97 code 2': 'Low',\n",
    "        'ISCED-97 code 3': 'Medium',\n",
    "        'ISCED-97 code 4': 'Medium',\n",
    "        'ISCED-97 code 5': 'High',\n",
    "        'ISCED-97 code 6': 'High',\n",
    "        'None': 'Other',\n",
    "        'Other': 'Other',\n",
    "        'Refusal': 'Other',\n",
    "        'Still in school': 'Other',\n",
    "        \"Don't know\": 'Other'\n",
    "    }\n",
    "\n",
    "    level_to_int = {\n",
    "        'Low': 0,\n",
    "        'Medium': 1,\n",
    "        'High': 2,\n",
    "        'Other': 3\n",
    "    }\n",
    "\n",
    "    df['educational'] = df[column].map(education_map)\n",
    "    df['educational_level'] = df['educational'].map(level_to_int)\n",
    "\n",
    "    return df\n",
    "\n",
    "df = map_education_levels(df)"
   ]
  },
  {
   "cell_type": "markdown",
   "metadata": {},
   "source": [
    "##### Mapping Categorical Responses to Numeric Values"
   ]
  },
  {
   "cell_type": "code",
   "execution_count": null,
   "metadata": {},
   "outputs": [],
   "source": [
    "df.loc[:, 'female'] = df['female'].replace({\n",
    "    'Male': 0,\n",
    "    'Female': 1,\n",
    "})"
   ]
  },
  {
   "cell_type": "code",
   "execution_count": null,
   "metadata": {},
   "outputs": [],
   "source": [
    "def convert_selected_to_numeric(df: pd.DataFrame, columns: List[str]) -> pd.DataFrame:\n",
    "    \"\"\"\n",
    "    Convert categorical 'Selected'/'Not selected' responses in specified columns to numeric format.\n",
    "    \"\"\"\n",
    "    df = df.copy()\n",
    "    replacement_map = {\n",
    "        'Selected': 1,\n",
    "        'Not selected': 0,\n",
    "        \"Don't know\": np.nan,\n",
    "        'Refusal': np.nan,\n",
    "        'Unable to complete task': np.nan,\n",
    "    }\n",
    "\n",
    "    for col in columns:\n",
    "        if col not in df.columns:\n",
    "            continue\n",
    "        df[col] = df[col].replace(replacement_map)\n",
    "        df[col] = pd.to_numeric(df[col], errors='coerce')\n",
    "\n",
    "    return df\n",
    "\n",
    "columns_to_convert = [\n",
    "    'ph048dno', 'ph049dno', 'ph006d19', 'ph006d20', 'ph087d2', 'ph087d3', 'ph006d1', 'ph006d4',\n",
    "    'ph006d16', 'ph006d11', 'ph006d5', 'ph006d21', 'ph006d10', 'ph008d22', 'ph008d21', 'ph006d2',\n",
    "    'ph006d5', 'second_walking_speed_time', 'first_walking_speed_time', 'time_5_chair_rise',\n",
    "    'maxgrip_left_one', 'maxgrip_left_two', 'maxgrip_right_one', 'maxgrip_right_two', 'YOB', 'MOB',\n",
    "    'OA', 'pain_joint', 'weight', 'height'\n",
    "]\n",
    "\n",
    "df = convert_selected_to_numeric(df, columns_to_convert)\n"
   ]
  },
  {
   "cell_type": "code",
   "execution_count": null,
   "metadata": {},
   "outputs": [],
   "source": [
    "def map_chair_rise_results(df: pd.DataFrame, columns: List[str]) -> pd.DataFrame:\n",
    "    \"\"\"\n",
    "    Maps chair rise results to numeric format.\n",
    "    \"\"\"\n",
    "    df = df.copy()\n",
    "    mapping = {\n",
    "        'Respondent stood up without using arms': 2,\n",
    "        'Respondent used arms to stand up': 1,\n",
    "        'Test not completed ': 0,\n",
    "        \"Don't know\": np.nan,\n",
    "        'Refusal': np.nan,\n",
    "    }\n",
    "\n",
    "    for col in columns:\n",
    "        if col not in df.columns:\n",
    "            continue\n",
    "        df[col] = df[col].replace(mapping)\n",
    "        df[col] = pd.to_numeric(df[col], errors='coerce')\n",
    "\n",
    "    return df\n",
    "\n",
    "\n",
    "df = map_chair_rise_results(df, ['chair_rise_result'])\n"
   ]
  },
  {
   "cell_type": "code",
   "execution_count": null,
   "metadata": {},
   "outputs": [],
   "source": [
    "def map_walking_speed_results(df: pd.DataFrame, columns: List[str]) -> pd.DataFrame:\n",
    "    \"\"\"\n",
    "    Maps walking speed results to numeric format.\n",
    "    \"\"\"\n",
    "    df = df.copy()\n",
    "    mapping = {\n",
    "        \"Completed successfully\": 1,\n",
    "        \"Attempted but unable to complete\": 0,\n",
    "        \"Stopped by the interviewer because of safety reasons\": 0,\n",
    "        \"Not attempted, respondent felt it would\": 0,\n",
    "        \"Respondent refused\": np.nan,\n",
    "        \"Participant unable to understand instruction\": np.nan,\n",
    "        \"Refusal\": np.nan,\n",
    "    }\n",
    "\n",
    "    for col in columns:\n",
    "        if col not in df.columns:\n",
    "            continue\n",
    "        df[col] = df[col].replace(mapping)\n",
    "        df[col] = pd.to_numeric(df[col], errors='coerce')\n",
    "\n",
    "    return df\n",
    "\n",
    "df = map_walking_speed_results(df, ['first_walking_speed_result', 'second_walking_speed_result'])"
   ]
  },
  {
   "cell_type": "code",
   "execution_count": null,
   "metadata": {},
   "outputs": [],
   "source": [
    "def map_functional_numeric_codes(df: pd.DataFrame, columns: List[str]) -> pd.DataFrame:\n",
    "    \"\"\"\n",
    "    Maps functional numeric codes to NaN or numeric values for specified columns.\n",
    "    \"\"\"\n",
    "    df = df.copy()\n",
    "    mapping = {\n",
    "        '-15. no information': np.nan,\n",
    "        '-13. not asked in this wave': np.nan,\n",
    "        \"-12. don't know / refusal\": np.nan,\n",
    "    }\n",
    "\n",
    "    for col in columns:\n",
    "        if col not in df.columns:\n",
    "            continue\n",
    "        df[col] = df[col].replace(mapping)\n",
    "        df[col] = pd.to_numeric(df[col], errors='coerce')\n",
    "\n",
    "    return df\n",
    "\n",
    "df = map_functional_numeric_codes(df, ['adla', 'iadla', 'iadlza', 'lgmuscle', 'grossmotor', 'finemotor'])\n"
   ]
  },
  {
   "cell_type": "code",
   "execution_count": null,
   "metadata": {},
   "outputs": [],
   "source": [
    "def map_self_reported_health(df: pd.DataFrame, columns: List[str] = ['sphus']) -> pd.DataFrame:\n",
    "    df = df.copy()\n",
    "    mapping = {\n",
    "        '-15. no information': np.nan,\n",
    "        '-13. not asked in this wave': np.nan,\n",
    "        \"-12. don't know / refusal\": np.nan,\n",
    "        \"Refusal\": np.nan,\n",
    "        \"Don't know\": np.nan,\n",
    "        '1. Excellent': 5,\n",
    "        '2. Very good': 4,\n",
    "        '3. Good': 3,\n",
    "        '4. Fair': 2,\n",
    "        '5. Poor': 1,\n",
    "        'Excellent': 5,\n",
    "        'Very good': 4,\n",
    "        'Good': 3,\n",
    "        'Fair': 2,\n",
    "        'Poor': 1,\n",
    "        'SPONTANEOUS registered or legally blind': 1,\n",
    "    }\n",
    "\n",
    "    for col in columns:\n",
    "        if col not in df.columns:\n",
    "            continue\n",
    "        df[col] = df[col].replace(mapping)\n",
    "        df[col] = pd.to_numeric(df[col], errors='coerce')\n",
    "\n",
    "    return df\n",
    "\n",
    "\n",
    "df = map_self_reported_health(df, ['sphus', 'ph044_', 'ph046_', 'hearing', 'eyesight_close'])\n"
   ]
  },
  {
   "cell_type": "code",
   "execution_count": null,
   "metadata": {},
   "outputs": [],
   "source": [
    "def map_boolean_to_numeric(df: pd.DataFrame, columns: List[str]) -> pd.DataFrame:\n",
    "    df = df.copy()\n",
    "    mapping = {\n",
    "        '-15. no information': np.nan,\n",
    "        '-13. not asked in this wave': np.nan,\n",
    "        \"-12. don't know / refusal\": np.nan,\n",
    "        '-10. SHARELIFE interview': np.nan,\n",
    "        \"Refusal\": np.nan,\n",
    "        \"Don't know\": np.nan,\n",
    "        '1. Yes': 1,\n",
    "        'Yes': 1,\n",
    "        '5. No': 0,\n",
    "        'No': 0,\n",
    "    }\n",
    "\n",
    "    for col in columns:\n",
    "        if col not in df.columns:\n",
    "            continue\n",
    "        df[col] = df[col].replace(mapping)\n",
    "        df[col] = pd.to_numeric(df[col], errors='coerce')\n",
    "\n",
    "    return df\n",
    "\n",
    "df = map_boolean_to_numeric(df, ['ever_smoked', 'ph745_'])"
   ]
  },
  {
   "cell_type": "code",
   "execution_count": null,
   "metadata": {},
   "outputs": [],
   "source": [
    "def map_bmi_numeric(df: pd.DataFrame, columns: List[str] = ['bmi']) -> pd.DataFrame:\n",
    "    df = df.copy()\n",
    "    invalid_values = {\n",
    "        '-15. no information': np.nan,\n",
    "        '-13. not asked in this wave': np.nan,\n",
    "        \"-12. don't know / refusal\": np.nan,\n",
    "        '-3. implausible value/suspected wrong': np.nan,\n",
    "    }\n",
    "\n",
    "    for col in columns:\n",
    "        if col not in df.columns:\n",
    "            continue\n",
    "        df[col] = df[col].replace(invalid_values)\n",
    "        df[col] = pd.to_numeric(df[col], errors='coerce').astype(np.float32)\n",
    "\n",
    "    return df\n",
    "\n",
    "df = map_bmi_numeric(df)"
   ]
  },
  {
   "cell_type": "code",
   "execution_count": null,
   "metadata": {},
   "outputs": [],
   "source": [
    "def map_frequency_to_numeric(df: pd.DataFrame, columns: List[str]) -> pd.DataFrame:\n",
    "\n",
    "    mapping = {\n",
    "        'More than once a week': 1,\n",
    "        'Once a week': 2,\n",
    "        'One to three times a month': 3,\n",
    "        'Hardly ever, or never': 4,\n",
    "        \"Don't know\": np.nan,\n",
    "        'Refusal': np.nan,\n",
    "    }\n",
    "\n",
    "    df = df.copy()\n",
    "    for col in columns:\n",
    "        if col in df.columns:\n",
    "            df[col] = df[col].replace(mapping)\n",
    "            df[col] = pd.to_numeric(df[col], errors='coerce')\n",
    "\n",
    "    return df\n",
    "\n",
    "df = map_frequency_to_numeric(df, ['br015_', 'br016_'])"
   ]
  },
  {
   "cell_type": "code",
   "execution_count": null,
   "metadata": {},
   "outputs": [],
   "source": [
    "df"
   ]
  },
  {
   "cell_type": "code",
   "execution_count": null,
   "metadata": {},
   "outputs": [],
   "source": [
    "df.to_csv(\"data/main_df_after_merging.csv\", index=False)"
   ]
  },
  {
   "cell_type": "code",
   "execution_count": null,
   "metadata": {},
   "outputs": [],
   "source": [
    "df = pd.read_csv(\"data/main_df_after_merging.csv\")"
   ]
  },
  {
   "cell_type": "code",
   "execution_count": null,
   "metadata": {},
   "outputs": [],
   "source": [
    "df"
   ]
  }
 ],
 "metadata": {
  "kernelspec": {
   "display_name": "physioai",
   "language": "python",
   "name": "python3"
  },
  "language_info": {
   "codemirror_mode": {
    "name": "ipython",
    "version": 3
   },
   "file_extension": ".py",
   "mimetype": "text/x-python",
   "name": "python",
   "nbconvert_exporter": "python",
   "pygments_lexer": "ipython3",
   "version": "3.10.13"
  }
 },
 "nbformat": 4,
 "nbformat_minor": 2
}
