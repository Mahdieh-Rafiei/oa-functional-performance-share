{
 "cells": [
  {
   "cell_type": "code",
   "execution_count": 1,
   "metadata": {},
   "outputs": [
    {
     "name": "stderr",
     "output_type": "stream",
     "text": [
      "/Users/mahdie/opt/anaconda3/envs/physioai/lib/python3.10/site-packages/pandas/core/arrays/masked.py:60: UserWarning: Pandas requires version '1.3.6' or newer of 'bottleneck' (version '1.3.5' currently installed).\n",
      "  from pandas.core import (\n"
     ]
    }
   ],
   "source": [
    "import pandas as pd\n",
    "import numpy as np\n",
    "from matplotlib import pyplot as plt\n",
    "import seaborn as sns\n",
    "import statsmodels.api as sm\n",
    "from statsmodels.formula.api import ols # linear ANOVA\n",
    "from statsmodels.stats.multicomp import pairwise_tukeyhsd\n",
    "from scipy.stats import f_oneway\n",
    "import statsmodels.formula.api as smf"
   ]
  },
  {
   "cell_type": "markdown",
   "metadata": {},
   "source": [
    "##### Data loading"
   ]
  },
  {
   "cell_type": "code",
   "execution_count": 2,
   "metadata": {},
   "outputs": [
    {
     "data": {
      "text/plain": [
       "(1361, 11)"
      ]
     },
     "execution_count": 2,
     "metadata": {},
     "output_type": "execute_result"
    }
   ],
   "source": [
    "maxwalk = pd.read_csv(\"data/maxwalk.csv\")\n",
    "maxwalk.shape"
   ]
  },
  {
   "cell_type": "code",
   "execution_count": 3,
   "metadata": {},
   "outputs": [
    {
     "data": {
      "text/html": [
       "<div>\n",
       "<style scoped>\n",
       "    .dataframe tbody tr th:only-of-type {\n",
       "        vertical-align: middle;\n",
       "    }\n",
       "\n",
       "    .dataframe tbody tr th {\n",
       "        vertical-align: top;\n",
       "    }\n",
       "\n",
       "    .dataframe thead th {\n",
       "        text-align: right;\n",
       "    }\n",
       "</style>\n",
       "<table border=\"1\" class=\"dataframe\">\n",
       "  <thead>\n",
       "    <tr style=\"text-align: right;\">\n",
       "      <th></th>\n",
       "      <th>mergeid</th>\n",
       "      <th>age</th>\n",
       "      <th>bmi</th>\n",
       "      <th>female</th>\n",
       "      <th>educational_level</th>\n",
       "      <th>OA_conserv</th>\n",
       "      <th>Hypertension</th>\n",
       "      <th>Diabetes</th>\n",
       "      <th>maxgrip</th>\n",
       "      <th>walking</th>\n",
       "      <th>disease_category</th>\n",
       "    </tr>\n",
       "  </thead>\n",
       "  <tbody>\n",
       "    <tr>\n",
       "      <th>0</th>\n",
       "      <td>AT-078466-02</td>\n",
       "      <td>77.0</td>\n",
       "      <td>26.562500</td>\n",
       "      <td>1.0</td>\n",
       "      <td>1.0</td>\n",
       "      <td>0.0</td>\n",
       "      <td>0.0</td>\n",
       "      <td>0.0</td>\n",
       "      <td>23.0</td>\n",
       "      <td>2.495</td>\n",
       "      <td>No disease</td>\n",
       "    </tr>\n",
       "    <tr>\n",
       "      <th>1</th>\n",
       "      <td>AT-111399-02</td>\n",
       "      <td>80.0</td>\n",
       "      <td>20.395421</td>\n",
       "      <td>1.0</td>\n",
       "      <td>1.0</td>\n",
       "      <td>0.0</td>\n",
       "      <td>0.0</td>\n",
       "      <td>0.0</td>\n",
       "      <td>22.0</td>\n",
       "      <td>2.265</td>\n",
       "      <td>No disease</td>\n",
       "    </tr>\n",
       "    <tr>\n",
       "      <th>2</th>\n",
       "      <td>AT-567061-01</td>\n",
       "      <td>77.0</td>\n",
       "      <td>29.757585</td>\n",
       "      <td>0.0</td>\n",
       "      <td>1.0</td>\n",
       "      <td>0.0</td>\n",
       "      <td>0.0</td>\n",
       "      <td>0.0</td>\n",
       "      <td>39.0</td>\n",
       "      <td>2.390</td>\n",
       "      <td>No disease</td>\n",
       "    </tr>\n",
       "    <tr>\n",
       "      <th>3</th>\n",
       "      <td>AT-934728-02</td>\n",
       "      <td>76.0</td>\n",
       "      <td>20.438166</td>\n",
       "      <td>1.0</td>\n",
       "      <td>1.0</td>\n",
       "      <td>0.0</td>\n",
       "      <td>1.0</td>\n",
       "      <td>0.0</td>\n",
       "      <td>23.0</td>\n",
       "      <td>4.985</td>\n",
       "      <td>Only HT</td>\n",
       "    </tr>\n",
       "    <tr>\n",
       "      <th>4</th>\n",
       "      <td>AT-971813-02</td>\n",
       "      <td>77.0</td>\n",
       "      <td>29.060607</td>\n",
       "      <td>0.0</td>\n",
       "      <td>1.0</td>\n",
       "      <td>0.0</td>\n",
       "      <td>0.0</td>\n",
       "      <td>0.0</td>\n",
       "      <td>41.0</td>\n",
       "      <td>4.095</td>\n",
       "      <td>No disease</td>\n",
       "    </tr>\n",
       "    <tr>\n",
       "      <th>...</th>\n",
       "      <td>...</td>\n",
       "      <td>...</td>\n",
       "      <td>...</td>\n",
       "      <td>...</td>\n",
       "      <td>...</td>\n",
       "      <td>...</td>\n",
       "      <td>...</td>\n",
       "      <td>...</td>\n",
       "      <td>...</td>\n",
       "      <td>...</td>\n",
       "      <td>...</td>\n",
       "    </tr>\n",
       "    <tr>\n",
       "      <th>1356</th>\n",
       "      <td>SE-939741-02</td>\n",
       "      <td>77.0</td>\n",
       "      <td>28.066424</td>\n",
       "      <td>0.0</td>\n",
       "      <td>0.0</td>\n",
       "      <td>0.0</td>\n",
       "      <td>1.0</td>\n",
       "      <td>0.0</td>\n",
       "      <td>39.0</td>\n",
       "      <td>4.360</td>\n",
       "      <td>Only HT</td>\n",
       "    </tr>\n",
       "    <tr>\n",
       "      <th>1357</th>\n",
       "      <td>SE-965987-02</td>\n",
       "      <td>76.0</td>\n",
       "      <td>31.644286</td>\n",
       "      <td>1.0</td>\n",
       "      <td>0.0</td>\n",
       "      <td>0.0</td>\n",
       "      <td>1.0</td>\n",
       "      <td>0.0</td>\n",
       "      <td>33.0</td>\n",
       "      <td>2.905</td>\n",
       "      <td>Only HT</td>\n",
       "    </tr>\n",
       "    <tr>\n",
       "      <th>1358</th>\n",
       "      <td>SE-975106-01</td>\n",
       "      <td>80.0</td>\n",
       "      <td>32.596372</td>\n",
       "      <td>1.0</td>\n",
       "      <td>0.0</td>\n",
       "      <td>0.0</td>\n",
       "      <td>1.0</td>\n",
       "      <td>1.0</td>\n",
       "      <td>26.0</td>\n",
       "      <td>3.140</td>\n",
       "      <td>HT and Diab</td>\n",
       "    </tr>\n",
       "    <tr>\n",
       "      <th>1359</th>\n",
       "      <td>SE-988222-01</td>\n",
       "      <td>80.0</td>\n",
       "      <td>24.464602</td>\n",
       "      <td>1.0</td>\n",
       "      <td>0.0</td>\n",
       "      <td>0.0</td>\n",
       "      <td>0.0</td>\n",
       "      <td>0.0</td>\n",
       "      <td>27.0</td>\n",
       "      <td>2.330</td>\n",
       "      <td>No disease</td>\n",
       "    </tr>\n",
       "    <tr>\n",
       "      <th>1360</th>\n",
       "      <td>SE-994503-02</td>\n",
       "      <td>77.0</td>\n",
       "      <td>24.056935</td>\n",
       "      <td>0.0</td>\n",
       "      <td>2.0</td>\n",
       "      <td>0.0</td>\n",
       "      <td>0.0</td>\n",
       "      <td>0.0</td>\n",
       "      <td>43.0</td>\n",
       "      <td>2.105</td>\n",
       "      <td>No disease</td>\n",
       "    </tr>\n",
       "  </tbody>\n",
       "</table>\n",
       "<p>1361 rows × 11 columns</p>\n",
       "</div>"
      ],
      "text/plain": [
       "           mergeid   age        bmi  female  educational_level  OA_conserv  \\\n",
       "0     AT-078466-02  77.0  26.562500     1.0                1.0         0.0   \n",
       "1     AT-111399-02  80.0  20.395421     1.0                1.0         0.0   \n",
       "2     AT-567061-01  77.0  29.757585     0.0                1.0         0.0   \n",
       "3     AT-934728-02  76.0  20.438166     1.0                1.0         0.0   \n",
       "4     AT-971813-02  77.0  29.060607     0.0                1.0         0.0   \n",
       "...            ...   ...        ...     ...                ...         ...   \n",
       "1356  SE-939741-02  77.0  28.066424     0.0                0.0         0.0   \n",
       "1357  SE-965987-02  76.0  31.644286     1.0                0.0         0.0   \n",
       "1358  SE-975106-01  80.0  32.596372     1.0                0.0         0.0   \n",
       "1359  SE-988222-01  80.0  24.464602     1.0                0.0         0.0   \n",
       "1360  SE-994503-02  77.0  24.056935     0.0                2.0         0.0   \n",
       "\n",
       "      Hypertension  Diabetes  maxgrip  walking disease_category  \n",
       "0              0.0       0.0     23.0    2.495       No disease  \n",
       "1              0.0       0.0     22.0    2.265       No disease  \n",
       "2              0.0       0.0     39.0    2.390       No disease  \n",
       "3              1.0       0.0     23.0    4.985          Only HT  \n",
       "4              0.0       0.0     41.0    4.095       No disease  \n",
       "...            ...       ...      ...      ...              ...  \n",
       "1356           1.0       0.0     39.0    4.360          Only HT  \n",
       "1357           1.0       0.0     33.0    2.905          Only HT  \n",
       "1358           1.0       1.0     26.0    3.140      HT and Diab  \n",
       "1359           0.0       0.0     27.0    2.330       No disease  \n",
       "1360           0.0       0.0     43.0    2.105       No disease  \n",
       "\n",
       "[1361 rows x 11 columns]"
      ]
     },
     "execution_count": 3,
     "metadata": {},
     "output_type": "execute_result"
    }
   ],
   "source": [
    "maxwalk"
   ]
  },
  {
   "cell_type": "markdown",
   "metadata": {},
   "source": [
    "## statistical"
   ]
  },
  {
   "cell_type": "markdown",
   "metadata": {},
   "source": [
    "##### Statistics on df_features"
   ]
  },
  {
   "cell_type": "markdown",
   "metadata": {},
   "source": [
    "- **0**: No disease  \n",
    "- **1**:  \n",
    "  - Diabetes only  \n",
    "  - Hypertension only  \n",
    "  - OA only  \n",
    "- **2**:  \n",
    "  - Diabetes + Hypertension  \n",
    "  - Diabetes + OA  \n",
    "  - Hypertension + OA  \n",
    "- **3**: Diabetes + Hypertension + OA \n"
   ]
  },
  {
   "cell_type": "code",
   "execution_count": 4,
   "metadata": {},
   "outputs": [],
   "source": [
    "maxwalk['disease_category'] = 'No disease'  # Default group\n",
    "maxwalk.loc[(maxwalk['OA_conserv'] == 1) & (maxwalk['Hypertension'] == 0) & (maxwalk['Diabetes'] == 0), 'disease_category'] = 'Only OA'\n",
    "maxwalk.loc[(maxwalk['OA_conserv'] == 0) & (maxwalk['Hypertension'] == 1) & (maxwalk['Diabetes'] == 0), 'disease_category'] = 'Only HT'\n",
    "maxwalk.loc[(maxwalk['OA_conserv'] == 0) & (maxwalk['Hypertension'] == 0) & (maxwalk['Diabetes'] == 1), 'disease_category'] = 'Only Diabetes'\n",
    "maxwalk.loc[(maxwalk['OA_conserv'] == 1) & (maxwalk['Hypertension'] == 1) & (maxwalk['Diabetes'] == 0), 'disease_category'] = 'OA and HT'\n",
    "maxwalk.loc[(maxwalk['OA_conserv'] == 1) & (maxwalk['Hypertension'] == 0) & (maxwalk['Diabetes'] == 1), 'disease_category'] = 'OA and Diab'\n",
    "maxwalk.loc[(maxwalk['OA_conserv'] == 0) & (maxwalk['Hypertension'] == 1) & (maxwalk['Diabetes'] == 1), 'disease_category'] = 'HT and Diab'\n",
    "maxwalk.loc[(maxwalk['OA_conserv'] == 1) & (maxwalk['Hypertension'] == 1) & (maxwalk['Diabetes'] == 1), 'disease_category'] = 'All three diseases'\n"
   ]
  },
  {
   "cell_type": "markdown",
   "metadata": {},
   "source": [
    "### Maxgrip"
   ]
  },
  {
   "cell_type": "markdown",
   "metadata": {},
   "source": [
    "#### No confounding"
   ]
  },
  {
   "cell_type": "markdown",
   "metadata": {},
   "source": [
    "##### Step1: One-Way ANOVA"
   ]
  },
  {
   "cell_type": "markdown",
   "metadata": {},
   "source": [
    "Checks if any group differs"
   ]
  },
  {
   "cell_type": "code",
   "execution_count": 5,
   "metadata": {},
   "outputs": [
    {
     "name": "stdout",
     "output_type": "stream",
     "text": [
      "ANOVA for Grip Strength\n",
      "F-statistic: 5.940, p-value: 0.00000\n"
     ]
    }
   ],
   "source": [
    "groups = maxwalk['disease_category'].unique()\n",
    "grip_samples = [maxwalk[maxwalk['disease_category'] == group]['maxgrip'].dropna() for group in groups]\n",
    "\n",
    "# Run ANOVA\n",
    "anova_grip = f_oneway(*grip_samples)\n",
    "print(\"ANOVA for Grip Strength\")\n",
    "print(f\"F-statistic: {anova_grip.statistic:.3f}, p-value: {anova_grip.pvalue:.5f}\")\n"
   ]
  },
  {
   "cell_type": "markdown",
   "metadata": {},
   "source": [
    "##### Step2: Tukey HSD Post-hoc Comparison"
   ]
  },
  {
   "cell_type": "markdown",
   "metadata": {},
   "source": [
    "Identifies which groups differ"
   ]
  },
  {
   "cell_type": "code",
   "execution_count": 6,
   "metadata": {},
   "outputs": [
    {
     "name": "stdout",
     "output_type": "stream",
     "text": [
      "Turkey Maxgrip in age 75 or above 75\n",
      "          Multiple Comparison of Means - Tukey HSD, FWER=0.05          \n",
      "=======================================================================\n",
      "      group1           group2    meandiff p-adj   lower   upper  reject\n",
      "-----------------------------------------------------------------------\n",
      "All three diseases   HT and Diab   1.6842 0.9845 -3.8932  7.2616  False\n",
      "All three diseases    No disease   4.9136 0.0367  0.1629  9.6643   True\n",
      "All three diseases   OA and Diab   1.9759 0.9924 -5.3903  9.3421  False\n",
      "All three diseases     OA and HT   2.2056 0.9101 -3.0695  7.4806  False\n",
      "All three diseases Only Diabetes   2.4943 0.8761 -3.0831  8.0717  False\n",
      "All three diseases       Only HT   3.1868  0.472 -1.6143  7.9879  False\n",
      "All three diseases       Only OA    -0.09    1.0 -5.3284  5.1484  False\n",
      "       HT and Diab    No disease   3.2294 0.0796 -0.1865  6.6453  False\n",
      "       HT and Diab   OA and Diab   0.2917    1.0 -6.2931  6.8765  False\n",
      "       HT and Diab     OA and HT   0.5214 0.9999 -3.5926  4.6354  False\n",
      "       HT and Diab Only Diabetes   0.8101 0.9994  -3.685  5.3053  False\n",
      "       HT and Diab       Only HT   1.5026 0.8958 -1.9831  4.9882  False\n",
      "       HT and Diab       Only OA  -1.7742 0.8897 -5.8411  2.2927  False\n",
      "        No disease   OA and Diab  -2.9377 0.8015 -8.8387  2.9632  False\n",
      "        No disease     OA and HT   -2.708 0.0865 -5.6041   0.188  False\n",
      "        No disease Only Diabetes  -2.4193 0.3833 -5.8352  0.9966  False\n",
      "        No disease       Only HT  -1.7268 0.1066 -3.6273  0.1736  False\n",
      "        No disease       Only OA  -5.0036    0.0 -7.8323 -2.1749   True\n",
      "       OA and Diab     OA and HT   0.2297    1.0  -6.101  6.5605  False\n",
      "       OA and Diab Only Diabetes   0.5185    1.0 -6.0664  7.1033  False\n",
      "       OA and Diab       Only HT   1.2109 0.9986 -4.7307  7.1525  False\n",
      "       OA and Diab       Only OA  -2.0659 0.9751 -8.3661  4.2344  False\n",
      "         OA and HT Only Diabetes   0.2888    1.0 -3.8253  4.4028  False\n",
      "         OA and HT       Only HT   0.9812 0.9745 -1.9968  3.9592  False\n",
      "         OA and HT       Only OA  -2.2956 0.5416 -5.9368  1.3457  False\n",
      "     Only Diabetes       Only HT   0.6924 0.9988 -2.7932  4.1781  False\n",
      "     Only Diabetes       Only OA  -2.5843  0.531 -6.6513  1.4826  False\n",
      "           Only HT       Only OA  -3.2768 0.0151 -6.1894 -0.3641   True\n",
      "-----------------------------------------------------------------------\n"
     ]
    }
   ],
   "source": [
    "df_grip = maxwalk[['maxgrip', 'disease_category']].dropna()\n",
    "\n",
    "# Run Tukey HSD\n",
    "tukey_grip = pairwise_tukeyhsd(endog=df_grip['maxgrip'],\n",
    "                               groups=df_grip['disease_category'],\n",
    "                               alpha=0.05)\n",
    "print(\"Turkey Maxgrip in age 75 or above 75\")\n",
    "print(tukey_grip.summary())\n"
   ]
  },
  {
   "cell_type": "markdown",
   "metadata": {},
   "source": [
    "##### Number of samples in each group"
   ]
  },
  {
   "cell_type": "code",
   "execution_count": 7,
   "metadata": {},
   "outputs": [
    {
     "name": "stdout",
     "output_type": "stream",
     "text": [
      "disease_category\n",
      "All three diseases     38\n",
      "HT and Diab            79\n",
      "No disease            510\n",
      "OA and Diab            24\n",
      "OA and HT             117\n",
      "Only Diabetes          79\n",
      "Only HT               390\n",
      "Only OA               124\n",
      "dtype: int64\n"
     ]
    }
   ],
   "source": [
    "group_counts = maxwalk[maxwalk['maxgrip'].notna()].groupby('disease_category').size()\n",
    "print(group_counts)"
   ]
  },
  {
   "cell_type": "markdown",
   "metadata": {},
   "source": [
    "##### Step3: Code to Compute Cohen's d and 95% CI"
   ]
  },
  {
   "cell_type": "code",
   "execution_count": 8,
   "metadata": {},
   "outputs": [
    {
     "data": {
      "text/html": [
       "<div>\n",
       "<style scoped>\n",
       "    .dataframe tbody tr th:only-of-type {\n",
       "        vertical-align: middle;\n",
       "    }\n",
       "\n",
       "    .dataframe tbody tr th {\n",
       "        vertical-align: top;\n",
       "    }\n",
       "\n",
       "    .dataframe thead th {\n",
       "        text-align: right;\n",
       "    }\n",
       "</style>\n",
       "<table border=\"1\" class=\"dataframe\">\n",
       "  <thead>\n",
       "    <tr style=\"text-align: right;\">\n",
       "      <th></th>\n",
       "      <th>Comparison</th>\n",
       "      <th>Mean1</th>\n",
       "      <th>Mean2</th>\n",
       "      <th>Cohen_d</th>\n",
       "      <th>95% CI Lower</th>\n",
       "      <th>95% CI Upper</th>\n",
       "      <th>n1</th>\n",
       "      <th>n2</th>\n",
       "    </tr>\n",
       "  </thead>\n",
       "  <tbody>\n",
       "    <tr>\n",
       "      <th>0</th>\n",
       "      <td>No disease vs Only OA</td>\n",
       "      <td>29.23</td>\n",
       "      <td>24.23</td>\n",
       "      <td>0.538</td>\n",
       "      <td>3.201</td>\n",
       "      <td>6.806</td>\n",
       "      <td>510</td>\n",
       "      <td>124</td>\n",
       "    </tr>\n",
       "    <tr>\n",
       "      <th>1</th>\n",
       "      <td>No disease vs Only HT</td>\n",
       "      <td>29.23</td>\n",
       "      <td>27.50</td>\n",
       "      <td>0.185</td>\n",
       "      <td>0.492</td>\n",
       "      <td>2.961</td>\n",
       "      <td>510</td>\n",
       "      <td>390</td>\n",
       "    </tr>\n",
       "    <tr>\n",
       "      <th>2</th>\n",
       "      <td>No disease vs Only Diabetes</td>\n",
       "      <td>29.23</td>\n",
       "      <td>26.81</td>\n",
       "      <td>0.262</td>\n",
       "      <td>0.360</td>\n",
       "      <td>4.478</td>\n",
       "      <td>510</td>\n",
       "      <td>79</td>\n",
       "    </tr>\n",
       "    <tr>\n",
       "      <th>3</th>\n",
       "      <td>No disease vs HT and Diab</td>\n",
       "      <td>29.23</td>\n",
       "      <td>26.00</td>\n",
       "      <td>0.352</td>\n",
       "      <td>1.269</td>\n",
       "      <td>5.190</td>\n",
       "      <td>510</td>\n",
       "      <td>79</td>\n",
       "    </tr>\n",
       "    <tr>\n",
       "      <th>4</th>\n",
       "      <td>No disease vs OA and Diab</td>\n",
       "      <td>29.23</td>\n",
       "      <td>26.29</td>\n",
       "      <td>0.317</td>\n",
       "      <td>0.001</td>\n",
       "      <td>5.875</td>\n",
       "      <td>510</td>\n",
       "      <td>24</td>\n",
       "    </tr>\n",
       "    <tr>\n",
       "      <th>5</th>\n",
       "      <td>No disease vs OA and HT</td>\n",
       "      <td>29.23</td>\n",
       "      <td>26.52</td>\n",
       "      <td>0.281</td>\n",
       "      <td>0.595</td>\n",
       "      <td>4.822</td>\n",
       "      <td>510</td>\n",
       "      <td>117</td>\n",
       "    </tr>\n",
       "    <tr>\n",
       "      <th>6</th>\n",
       "      <td>No disease vs All three diseases</td>\n",
       "      <td>29.23</td>\n",
       "      <td>24.32</td>\n",
       "      <td>0.528</td>\n",
       "      <td>2.028</td>\n",
       "      <td>7.799</td>\n",
       "      <td>510</td>\n",
       "      <td>38</td>\n",
       "    </tr>\n",
       "  </tbody>\n",
       "</table>\n",
       "</div>"
      ],
      "text/plain": [
       "                         Comparison  Mean1  Mean2  Cohen_d  95% CI Lower  \\\n",
       "0             No disease vs Only OA  29.23  24.23    0.538         3.201   \n",
       "1             No disease vs Only HT  29.23  27.50    0.185         0.492   \n",
       "2       No disease vs Only Diabetes  29.23  26.81    0.262         0.360   \n",
       "3         No disease vs HT and Diab  29.23  26.00    0.352         1.269   \n",
       "4         No disease vs OA and Diab  29.23  26.29    0.317         0.001   \n",
       "5           No disease vs OA and HT  29.23  26.52    0.281         0.595   \n",
       "6  No disease vs All three diseases  29.23  24.32    0.528         2.028   \n",
       "\n",
       "   95% CI Upper   n1   n2  \n",
       "0         6.806  510  124  \n",
       "1         2.961  510  390  \n",
       "2         4.478  510   79  \n",
       "3         5.190  510   79  \n",
       "4         5.875  510   24  \n",
       "5         4.822  510  117  \n",
       "6         7.799  510   38  "
      ]
     },
     "execution_count": 8,
     "metadata": {},
     "output_type": "execute_result"
    }
   ],
   "source": [
    "comparisons = [\n",
    "    (\"No disease\", \"Only OA\"),\n",
    "    (\"No disease\", \"Only HT\"),\n",
    "    (\"No disease\", \"Only Diabetes\"),\n",
    "    (\"No disease\", \"HT and Diab\"),\n",
    "    (\"No disease\", \"OA and Diab\"),\n",
    "    (\"No disease\", \"OA and HT\"),\n",
    "    (\"No disease\", \"All three diseases\")\n",
    "]\n",
    "\n",
    "results = []\n",
    "\n",
    "for g1, g2 in comparisons:\n",
    "   \n",
    "    group1 = maxwalk[(maxwalk['disease_category'] == g1)]['maxgrip'].dropna()\n",
    "    group2 = maxwalk[(maxwalk['disease_category'] == g2)]['maxgrip'].dropna()\n",
    "\n",
    "    mean1, mean2 = group1.mean(), group2.mean()\n",
    "    std1, std2 = group1.std(), group2.std()\n",
    "    n1, n2 = len(group1), len(group2)\n",
    "\n",
    "\n",
    "    pooled_sd = np.sqrt(((n1 - 1)*std1**2 + (n2 - 1)*std2**2) / (n1 + n2 - 2))\n",
    "\n",
    "    cohen_d = (mean1 - mean2) / pooled_sd\n",
    "\n",
    "    diff = mean1 - mean2\n",
    "    se_diff = np.sqrt(std1**2 / n1 + std2**2 / n2)\n",
    "    ci_low, ci_high = diff - 1.96 * se_diff, diff + 1.96 * se_diff\n",
    "\n",
    "    results.append({\n",
    "        'Comparison': f\"{g1} vs {g2}\",\n",
    "        'Mean1': round(mean1, 2),\n",
    "        'Mean2': round(mean2, 2),\n",
    "        'Cohen_d': round(cohen_d, 3),\n",
    "        '95% CI Lower': round(ci_low, 3),\n",
    "        '95% CI Upper': round(ci_high, 3),\n",
    "        'n1': n1,\n",
    "        'n2': n2\n",
    "    })\n",
    "\n",
    "effect_df = pd.DataFrame(results)\n",
    "effect_df\n"
   ]
  },
  {
   "cell_type": "markdown",
   "metadata": {},
   "source": [
    "#### With confounding: age, BMI, female, educational_level:"
   ]
  },
  {
   "cell_type": "markdown",
   "metadata": {},
   "source": [
    "Run OLS model (adjusted for age, bmi, female)"
   ]
  },
  {
   "cell_type": "code",
   "execution_count": 9,
   "metadata": {},
   "outputs": [
    {
     "name": "stdout",
     "output_type": "stream",
     "text": [
      "OLS results for maxgrip in age 75 or above 75 (No disease as reference):\n"
     ]
    },
    {
     "data": {
      "text/html": [
       "<div>\n",
       "<style scoped>\n",
       "    .dataframe tbody tr th:only-of-type {\n",
       "        vertical-align: middle;\n",
       "    }\n",
       "\n",
       "    .dataframe tbody tr th {\n",
       "        vertical-align: top;\n",
       "    }\n",
       "\n",
       "    .dataframe thead th {\n",
       "        text-align: right;\n",
       "    }\n",
       "</style>\n",
       "<table border=\"1\" class=\"dataframe\">\n",
       "  <thead>\n",
       "    <tr style=\"text-align: right;\">\n",
       "      <th></th>\n",
       "      <th>Disease group</th>\n",
       "      <th>Coefficient (Adj. Mean Diff)</th>\n",
       "      <th>95% CI Lower</th>\n",
       "      <th>95% CI Upper</th>\n",
       "      <th>p-value</th>\n",
       "      <th>Significant</th>\n",
       "    </tr>\n",
       "  </thead>\n",
       "  <tbody>\n",
       "    <tr>\n",
       "      <th>0</th>\n",
       "      <td>Only OA</td>\n",
       "      <td>-3.076</td>\n",
       "      <td>-4.419</td>\n",
       "      <td>-1.734</td>\n",
       "      <td>0.0000</td>\n",
       "      <td>Yes</td>\n",
       "    </tr>\n",
       "    <tr>\n",
       "      <th>1</th>\n",
       "      <td>Only HT</td>\n",
       "      <td>-0.507</td>\n",
       "      <td>-1.410</td>\n",
       "      <td>0.396</td>\n",
       "      <td>0.2711</td>\n",
       "      <td>No</td>\n",
       "    </tr>\n",
       "    <tr>\n",
       "      <th>2</th>\n",
       "      <td>Only Diabetes</td>\n",
       "      <td>-2.222</td>\n",
       "      <td>-3.840</td>\n",
       "      <td>-0.603</td>\n",
       "      <td>0.0072</td>\n",
       "      <td>Yes</td>\n",
       "    </tr>\n",
       "    <tr>\n",
       "      <th>3</th>\n",
       "      <td>HT and Diab</td>\n",
       "      <td>-1.461</td>\n",
       "      <td>-3.087</td>\n",
       "      <td>0.164</td>\n",
       "      <td>0.0779</td>\n",
       "      <td>No</td>\n",
       "    </tr>\n",
       "    <tr>\n",
       "      <th>4</th>\n",
       "      <td>OA and Diab</td>\n",
       "      <td>-4.047</td>\n",
       "      <td>-6.837</td>\n",
       "      <td>-1.257</td>\n",
       "      <td>0.0045</td>\n",
       "      <td>Yes</td>\n",
       "    </tr>\n",
       "    <tr>\n",
       "      <th>5</th>\n",
       "      <td>OA and HT</td>\n",
       "      <td>-1.217</td>\n",
       "      <td>-2.600</td>\n",
       "      <td>0.166</td>\n",
       "      <td>0.0845</td>\n",
       "      <td>No</td>\n",
       "    </tr>\n",
       "    <tr>\n",
       "      <th>6</th>\n",
       "      <td>All three diseases</td>\n",
       "      <td>-2.902</td>\n",
       "      <td>-5.176</td>\n",
       "      <td>-0.627</td>\n",
       "      <td>0.0124</td>\n",
       "      <td>Yes</td>\n",
       "    </tr>\n",
       "  </tbody>\n",
       "</table>\n",
       "</div>"
      ],
      "text/plain": [
       "        Disease group  Coefficient (Adj. Mean Diff)  95% CI Lower  \\\n",
       "0             Only OA                        -3.076        -4.419   \n",
       "1             Only HT                        -0.507        -1.410   \n",
       "2       Only Diabetes                        -2.222        -3.840   \n",
       "3         HT and Diab                        -1.461        -3.087   \n",
       "4         OA and Diab                        -4.047        -6.837   \n",
       "5           OA and HT                        -1.217        -2.600   \n",
       "6  All three diseases                        -2.902        -5.176   \n",
       "\n",
       "   95% CI Upper  p-value Significant  \n",
       "0        -1.734   0.0000         Yes  \n",
       "1         0.396   0.2711          No  \n",
       "2        -0.603   0.0072         Yes  \n",
       "3         0.164   0.0779          No  \n",
       "4        -1.257   0.0045         Yes  \n",
       "5         0.166   0.0845          No  \n",
       "6        -0.627   0.0124         Yes  "
      ]
     },
     "execution_count": 9,
     "metadata": {},
     "output_type": "execute_result"
    }
   ],
   "source": [
    "maxwalk['disease_category'] = pd.Categorical(\n",
    "    maxwalk['disease_category'],\n",
    "    categories=[\n",
    "        'No disease', 'Only OA', 'Only HT', 'Only Diabetes',\n",
    "        'HT and Diab', 'OA and Diab', 'OA and HT', 'All three diseases'\n",
    "    ],\n",
    "    ordered=False\n",
    ")\n",
    "\n",
    "\n",
    "model = smf.ols('maxgrip ~ C(disease_category) + age + bmi + female + educational_level', data=maxwalk).fit()\n",
    "\n",
    "\n",
    "results_df = pd.DataFrame({\n",
    "    'Disease group': model.params.index,\n",
    "    'Coefficient (Adj. Mean Diff)': model.params.values,\n",
    "    '95% CI Lower': model.conf_int().iloc[:, 0],\n",
    "    '95% CI Upper': model.conf_int().iloc[:, 1],\n",
    "    'p-value': model.pvalues.values\n",
    "})\n",
    "\n",
    "\n",
    "results_df = results_df[results_df['Disease group'].str.contains('C\\(disease_category\\)')].copy()\n",
    "\n",
    "\n",
    "results_df['Disease group'] = results_df['Disease group'].str.replace(r'C\\(disease_category\\)\\[T\\.', '', regex=True).str.rstrip(']')\n",
    "\n",
    "\n",
    "results_df['Coefficient (Adj. Mean Diff)'] = results_df['Coefficient (Adj. Mean Diff)'].round(3)\n",
    "results_df['95% CI Lower'] = results_df['95% CI Lower'].round(3)\n",
    "results_df['95% CI Upper'] = results_df['95% CI Upper'].round(3)\n",
    "results_df['p-value'] = results_df['p-value'].round(4)\n",
    "\n",
    "results_df['Significant'] = results_df['p-value'].apply(lambda p: 'Yes' if p < 0.05 else 'No')\n",
    "\n",
    "print(\"OLS results for maxgrip in age 75 or above 75 (No disease as reference):\")\n",
    "results_df.reset_index(drop=True)\n",
    "\n"
   ]
  },
  {
   "cell_type": "markdown",
   "metadata": {},
   "source": [
    "##### Interaction Effects: Does OA Get Worse With Comorbidities?"
   ]
  },
  {
   "cell_type": "code",
   "execution_count": 10,
   "metadata": {},
   "outputs": [
    {
     "name": "stdout",
     "output_type": "stream",
     "text": [
      "                            OLS Regression Results                            \n",
      "==============================================================================\n",
      "Dep. Variable:                maxgrip   R-squared:                       0.486\n",
      "Model:                            OLS   Adj. R-squared:                  0.481\n",
      "Method:                 Least Squares   F-statistic:                     115.7\n",
      "Date:                Fri, 27 Jun 2025   Prob (F-statistic):          8.10e-186\n",
      "Time:                        11:07:09   Log-Likelihood:                -4531.5\n",
      "No. Observations:                1361   AIC:                             9087.\n",
      "Df Residuals:                    1349   BIC:                             9150.\n",
      "Df Model:                          11                                         \n",
      "Covariance Type:            nonrobust                                         \n",
      "===============================================================================================================\n",
      "                                                  coef    std err          t      P>|t|      [0.025      0.975]\n",
      "---------------------------------------------------------------------------------------------------------------\n",
      "Intercept                                      66.8440      4.048     16.512      0.000      58.903      74.785\n",
      "C(disease_category)[T.Only OA]                 -1.4104      0.499     -2.824      0.005      -2.390      -0.431\n",
      "C(disease_category)[T.Only HT]                 -0.4220      0.373     -1.131      0.258      -1.154       0.310\n",
      "C(disease_category)[T.Only Diabetes]           -0.8848      0.603     -1.467      0.142      -2.068       0.298\n",
      "C(disease_category)[T.HT and Diab]             -0.0399      0.486     -0.082      0.935      -0.994       0.914\n",
      "C(disease_category)[T.OA and Diab]             -0.6324      0.752     -0.841      0.401      -2.108       0.843\n",
      "C(disease_category)[T.OA and HT]                0.1565      0.456      0.343      0.731      -0.737       1.050\n",
      "C(disease_category)[T.All three diseases]       0.2205      0.661      0.334      0.739      -1.076       1.517\n",
      "C(OA_conserv)[T.1.0]                           -1.6658      0.369     -4.520      0.000      -2.389      -0.943\n",
      "C(Diabetes)[T.1.0]                             -1.3367      0.371     -3.601      0.000      -2.065      -0.609\n",
      "C(Hypertension)[T.1.0]                         -0.0849      0.302     -0.281      0.779      -0.677       0.508\n",
      "C(OA_conserv)[T.1.0]:C(Diabetes)[T.1.0]        -0.4119      0.459     -0.898      0.369      -1.312       0.488\n",
      "C(OA_conserv)[T.1.0]:C(Hypertension)[T.1.0]     0.3770      0.393      0.960      0.337      -0.394       1.148\n",
      "age                                            -0.4185      0.047     -8.896      0.000      -0.511      -0.326\n",
      "bmi                                             0.0658      0.042      1.567      0.117      -0.017       0.148\n",
      "female                                        -12.3316      0.374    -33.014      0.000     -13.064     -11.599\n",
      "educational_level                              -0.2823      0.197     -1.437      0.151      -0.668       0.103\n",
      "==============================================================================\n",
      "Omnibus:                      152.046   Durbin-Watson:                   1.786\n",
      "Prob(Omnibus):                  0.000   Jarque-Bera (JB):             1119.078\n",
      "Skew:                           0.207   Prob(JB):                    9.89e-244\n",
      "Kurtosis:                       7.423   Cond. No.                     2.35e+17\n",
      "==============================================================================\n",
      "\n",
      "Notes:\n",
      "[1] Standard Errors assume that the covariance matrix of the errors is correctly specified.\n",
      "[2] The smallest eigenvalue is 1.75e-28. This might indicate that there are\n",
      "strong multicollinearity problems or that the design matrix is singular.\n"
     ]
    }
   ],
   "source": [
    "model = smf.ols('maxgrip ~ C(disease_category) + age + bmi + female + educational_level + C(OA_conserv)*C(Diabetes) + C(OA_conserv)*C(Hypertension)', \n",
    "                data=maxwalk).fit()\n",
    "print(model.summary())"
   ]
  },
  {
   "cell_type": "markdown",
   "metadata": {},
   "source": [
    "##### Logistic Regression: Predicting \"High Risk\" Patients"
   ]
  },
  {
   "cell_type": "code",
   "execution_count": 11,
   "metadata": {},
   "outputs": [
    {
     "name": "stdout",
     "output_type": "stream",
     "text": [
      "Optimization terminated successfully.\n",
      "         Current function value: 0.393748\n",
      "         Iterations 7\n",
      "                           Logit Regression Results                           \n",
      "==============================================================================\n",
      "Dep. Variable:               low_grip   No. Observations:                 1361\n",
      "Model:                          Logit   Df Residuals:                     1353\n",
      "Method:                           MLE   Df Model:                            7\n",
      "Date:                Fri, 27 Jun 2025   Pseudo R-squ.:                  0.2046\n",
      "Time:                        11:07:09   Log-Likelihood:                -535.89\n",
      "converged:                       True   LL-Null:                       -673.78\n",
      "Covariance Type:            nonrobust   LLR p-value:                 8.959e-56\n",
      "=====================================================================================\n",
      "                        coef    std err          z      P>|z|      [0.025      0.975]\n",
      "-------------------------------------------------------------------------------------\n",
      "const               -12.4704      1.644     -7.587      0.000     -15.692      -9.249\n",
      "age                   0.1158      0.019      6.112      0.000       0.079       0.153\n",
      "bmi                  -0.0108      0.015     -0.700      0.484      -0.041       0.019\n",
      "female                2.6249      0.224     11.744      0.000       2.187       3.063\n",
      "educational_level     0.0511      0.080      0.638      0.524      -0.106       0.208\n",
      "OA_conserv            0.5955      0.172      3.463      0.001       0.258       0.933\n",
      "Diabetes              0.1454      0.203      0.715      0.474      -0.253       0.544\n",
      "Hypertension         -0.1010      0.154     -0.656      0.512      -0.403       0.201\n",
      "=====================================================================================\n"
     ]
    }
   ],
   "source": [
    "maxwalk['low_grip'] = (maxwalk['maxgrip'] < maxwalk['maxgrip'].quantile(0.25)).astype(int)\n",
    "\n",
    "X = maxwalk[['age', 'bmi', 'female', 'educational_level','OA_conserv', 'Diabetes', 'Hypertension']]\n",
    "y = maxwalk['low_grip']\n",
    "\n",
    "logit_model = sm.Logit(y, sm.add_constant(X)).fit()\n",
    "print(logit_model.summary())\n"
   ]
  },
  {
   "cell_type": "markdown",
   "metadata": {},
   "source": [
    "### Walking"
   ]
  },
  {
   "cell_type": "markdown",
   "metadata": {},
   "source": [
    "#### No confounding"
   ]
  },
  {
   "cell_type": "markdown",
   "metadata": {},
   "source": [
    "##### Step1: One-Way ANOVA"
   ]
  },
  {
   "cell_type": "markdown",
   "metadata": {},
   "source": [
    "Checks if any group differs"
   ]
  },
  {
   "cell_type": "code",
   "execution_count": 12,
   "metadata": {},
   "outputs": [
    {
     "name": "stdout",
     "output_type": "stream",
     "text": [
      "\n",
      "ANOVA for walking speed\n",
      "F-statistic: 1.565, p-value: 0.14174\n"
     ]
    }
   ],
   "source": [
    "# ANOVA for walking speed\n",
    "walking_samples = [maxwalk[maxwalk['disease_category'] == group]['walking'].dropna() for group in groups]\n",
    "\n",
    "anova_walking = f_oneway(*walking_samples)\n",
    "print(\"\\nANOVA for walking speed\")\n",
    "print(f\"F-statistic: {anova_walking.statistic:.3f}, p-value: {anova_walking.pvalue:.5f}\")\n"
   ]
  },
  {
   "cell_type": "markdown",
   "metadata": {},
   "source": [
    "##### Step2: Tukey HSD Post-hoc Comparison"
   ]
  },
  {
   "cell_type": "markdown",
   "metadata": {},
   "source": [
    "Identifies which groups differ"
   ]
  },
  {
   "cell_type": "code",
   "execution_count": 13,
   "metadata": {},
   "outputs": [
    {
     "name": "stdout",
     "output_type": "stream",
     "text": [
      "Turkey Walking Speed in age 75 or above 75\n",
      "         Multiple Comparison of Means - Tukey HSD, FWER=0.05          \n",
      "======================================================================\n",
      "      group1           group2    meandiff p-adj   lower  upper  reject\n",
      "----------------------------------------------------------------------\n",
      "All three diseases   HT and Diab   0.0286    1.0 -2.2812 2.3385  False\n",
      "All three diseases    No disease   -0.791  0.926 -2.7585 1.1765  False\n",
      "All three diseases   OA and Diab   0.1821    1.0 -2.8685 3.2328  False\n",
      "All three diseases     OA and HT  -0.4238  0.999 -2.6084 1.7608  False\n",
      "All three diseases Only Diabetes    0.202    1.0 -2.1079 2.5118  False\n",
      "All three diseases       Only HT  -0.7978 0.9267 -2.7862 1.1905  False\n",
      "All three diseases       Only OA  -0.2368    1.0 -2.4063 1.9326  False\n",
      "       HT and Diab    No disease  -0.8196 0.6482 -2.2343  0.595  False\n",
      "       HT and Diab   OA and Diab   0.1535    1.0 -2.5735 2.8806  False\n",
      "       HT and Diab     OA and HT  -0.4524 0.9928 -2.1562 1.2514  False\n",
      "       HT and Diab Only Diabetes   0.1734    1.0 -1.6883  2.035  False\n",
      "       HT and Diab       Only HT  -0.8264 0.6623   -2.27 0.6171  False\n",
      "       HT and Diab       Only OA  -0.2655 0.9997 -1.9497 1.4188  False\n",
      "        No disease   OA and Diab   0.9731 0.9295 -1.4707  3.417  False\n",
      "        No disease     OA and HT   0.3672 0.9832 -0.8321 1.5666  False\n",
      "        No disease Only Diabetes    0.993 0.3955 -0.4217 2.4076  False\n",
      "        No disease       Only HT  -0.0068    1.0 -0.7938 0.7802  False\n",
      "        No disease       Only OA   0.5542 0.8404 -0.6173 1.7257  False\n",
      "       OA and Diab     OA and HT  -0.6059  0.997 -3.2278 2.0159  False\n",
      "       OA and Diab Only Diabetes   0.0198    1.0 -2.7072 2.7469  False\n",
      "       OA and Diab       Only HT    -0.98 0.9294 -3.4406 1.4807  False\n",
      "       OA and Diab       Only OA   -0.419 0.9997 -3.0282 2.1902  False\n",
      "         OA and HT Only Diabetes   0.6258 0.9537  -1.078 2.3296  False\n",
      "         OA and HT       Only HT   -0.374 0.9841 -1.6073 0.8593  False\n",
      "         OA and HT       Only OA    0.187    1.0  -1.321  1.695  False\n",
      "     Only Diabetes       Only HT  -0.9998 0.4137 -2.4433 0.4438  False\n",
      "     Only Diabetes       Only OA  -0.4388 0.9936 -2.1231 1.2455  False\n",
      "           Only HT       Only OA    0.561  0.852 -0.6453 1.7672  False\n",
      "----------------------------------------------------------------------\n"
     ]
    }
   ],
   "source": [
    "# Tukey HSD for Walking speed\n",
    "df_walking = maxwalk[['walking', 'disease_category']].dropna()\n",
    "\n",
    "tukey_walking = pairwise_tukeyhsd(endog=df_walking['walking'],\n",
    "                                groups=df_walking['disease_category'],\n",
    "                                alpha=0.05)\n",
    "print(\"Turkey Walking Speed in age 75 or above 75\")\n",
    "print(tukey_walking.summary())\n"
   ]
  },
  {
   "cell_type": "markdown",
   "metadata": {},
   "source": [
    "##### Number of samples in each group"
   ]
  },
  {
   "cell_type": "code",
   "execution_count": 14,
   "metadata": {},
   "outputs": [
    {
     "name": "stdout",
     "output_type": "stream",
     "text": [
      "disease_category\n",
      "No disease            510\n",
      "Only OA               124\n",
      "Only HT               390\n",
      "Only Diabetes          79\n",
      "HT and Diab            79\n",
      "OA and Diab            24\n",
      "OA and HT             117\n",
      "All three diseases     38\n",
      "dtype: int64\n"
     ]
    },
    {
     "name": "stderr",
     "output_type": "stream",
     "text": [
      "/var/folders/rn/9h9wnd_x13930h39r4t9tt_w0000gr/T/ipykernel_89500/3308135134.py:1: FutureWarning: The default of observed=False is deprecated and will be changed to True in a future version of pandas. Pass observed=False to retain current behavior or observed=True to adopt the future default and silence this warning.\n",
      "  group_counts = maxwalk[maxwalk['walking'].notna()].groupby('disease_category').size()\n"
     ]
    }
   ],
   "source": [
    "group_counts = maxwalk[maxwalk['walking'].notna()].groupby('disease_category').size()\n",
    "print(group_counts)"
   ]
  },
  {
   "cell_type": "markdown",
   "metadata": {},
   "source": [
    "##### Step3: Compute Cohen's d and 95% CI"
   ]
  },
  {
   "cell_type": "code",
   "execution_count": 15,
   "metadata": {},
   "outputs": [
    {
     "data": {
      "text/html": [
       "<div>\n",
       "<style scoped>\n",
       "    .dataframe tbody tr th:only-of-type {\n",
       "        vertical-align: middle;\n",
       "    }\n",
       "\n",
       "    .dataframe tbody tr th {\n",
       "        vertical-align: top;\n",
       "    }\n",
       "\n",
       "    .dataframe thead th {\n",
       "        text-align: right;\n",
       "    }\n",
       "</style>\n",
       "<table border=\"1\" class=\"dataframe\">\n",
       "  <thead>\n",
       "    <tr style=\"text-align: right;\">\n",
       "      <th></th>\n",
       "      <th>Comparison</th>\n",
       "      <th>Mean1</th>\n",
       "      <th>Mean2</th>\n",
       "      <th>Cohen_d</th>\n",
       "      <th>95% CI Lower</th>\n",
       "      <th>95% CI Upper</th>\n",
       "      <th>n1</th>\n",
       "      <th>n2</th>\n",
       "    </tr>\n",
       "  </thead>\n",
       "  <tbody>\n",
       "    <tr>\n",
       "      <th>0</th>\n",
       "      <td>No disease vs Only OA</td>\n",
       "      <td>4.79</td>\n",
       "      <td>5.34</td>\n",
       "      <td>-0.147</td>\n",
       "      <td>-1.300</td>\n",
       "      <td>0.191</td>\n",
       "      <td>510</td>\n",
       "      <td>124</td>\n",
       "    </tr>\n",
       "    <tr>\n",
       "      <th>1</th>\n",
       "      <td>No disease vs Only HT</td>\n",
       "      <td>4.79</td>\n",
       "      <td>4.78</td>\n",
       "      <td>0.002</td>\n",
       "      <td>-0.473</td>\n",
       "      <td>0.486</td>\n",
       "      <td>510</td>\n",
       "      <td>390</td>\n",
       "    </tr>\n",
       "    <tr>\n",
       "      <th>2</th>\n",
       "      <td>No disease vs Only Diabetes</td>\n",
       "      <td>4.79</td>\n",
       "      <td>5.78</td>\n",
       "      <td>-0.248</td>\n",
       "      <td>-2.218</td>\n",
       "      <td>0.232</td>\n",
       "      <td>510</td>\n",
       "      <td>79</td>\n",
       "    </tr>\n",
       "    <tr>\n",
       "      <th>3</th>\n",
       "      <td>No disease vs HT and Diab</td>\n",
       "      <td>4.79</td>\n",
       "      <td>5.61</td>\n",
       "      <td>-0.212</td>\n",
       "      <td>-1.878</td>\n",
       "      <td>0.239</td>\n",
       "      <td>510</td>\n",
       "      <td>79</td>\n",
       "    </tr>\n",
       "    <tr>\n",
       "      <th>4</th>\n",
       "      <td>No disease vs OA and Diab</td>\n",
       "      <td>4.79</td>\n",
       "      <td>5.76</td>\n",
       "      <td>-0.260</td>\n",
       "      <td>-2.397</td>\n",
       "      <td>0.451</td>\n",
       "      <td>510</td>\n",
       "      <td>24</td>\n",
       "    </tr>\n",
       "    <tr>\n",
       "      <th>5</th>\n",
       "      <td>No disease vs OA and HT</td>\n",
       "      <td>4.79</td>\n",
       "      <td>5.16</td>\n",
       "      <td>-0.097</td>\n",
       "      <td>-1.139</td>\n",
       "      <td>0.405</td>\n",
       "      <td>510</td>\n",
       "      <td>117</td>\n",
       "    </tr>\n",
       "    <tr>\n",
       "      <th>6</th>\n",
       "      <td>No disease vs All three diseases</td>\n",
       "      <td>4.79</td>\n",
       "      <td>5.58</td>\n",
       "      <td>-0.213</td>\n",
       "      <td>-1.859</td>\n",
       "      <td>0.277</td>\n",
       "      <td>510</td>\n",
       "      <td>38</td>\n",
       "    </tr>\n",
       "  </tbody>\n",
       "</table>\n",
       "</div>"
      ],
      "text/plain": [
       "                         Comparison  Mean1  Mean2  Cohen_d  95% CI Lower  \\\n",
       "0             No disease vs Only OA   4.79   5.34   -0.147        -1.300   \n",
       "1             No disease vs Only HT   4.79   4.78    0.002        -0.473   \n",
       "2       No disease vs Only Diabetes   4.79   5.78   -0.248        -2.218   \n",
       "3         No disease vs HT and Diab   4.79   5.61   -0.212        -1.878   \n",
       "4         No disease vs OA and Diab   4.79   5.76   -0.260        -2.397   \n",
       "5           No disease vs OA and HT   4.79   5.16   -0.097        -1.139   \n",
       "6  No disease vs All three diseases   4.79   5.58   -0.213        -1.859   \n",
       "\n",
       "   95% CI Upper   n1   n2  \n",
       "0         0.191  510  124  \n",
       "1         0.486  510  390  \n",
       "2         0.232  510   79  \n",
       "3         0.239  510   79  \n",
       "4         0.451  510   24  \n",
       "5         0.405  510  117  \n",
       "6         0.277  510   38  "
      ]
     },
     "execution_count": 15,
     "metadata": {},
     "output_type": "execute_result"
    }
   ],
   "source": [
    "comparisons = [\n",
    "    (\"No disease\", \"Only OA\"),\n",
    "    (\"No disease\", \"Only HT\"),\n",
    "    (\"No disease\", \"Only Diabetes\"),\n",
    "    (\"No disease\", \"HT and Diab\"),\n",
    "    (\"No disease\", \"OA and Diab\"),\n",
    "    (\"No disease\", \"OA and HT\"),\n",
    "    (\"No disease\", \"All three diseases\")\n",
    "]\n",
    "\n",
    "results = []\n",
    "\n",
    "for g1, g2 in comparisons:\n",
    "    \n",
    "    group1 = maxwalk[(maxwalk['disease_category'] == g1)]['walking'].dropna()\n",
    "    group2 = maxwalk[(maxwalk['disease_category'] == g2)]['walking'].dropna()\n",
    "\n",
    "\n",
    "    mean1, mean2 = group1.mean(), group2.mean()\n",
    "    std1, std2 = group1.std(), group2.std()\n",
    "    n1, n2 = len(group1), len(group2)\n",
    "\n",
    "    pooled_sd = np.sqrt(((n1 - 1)*std1**2 + (n2 - 1)*std2**2) / (n1 + n2 - 2))\n",
    "\n",
    "\n",
    "    cohen_d = (mean1 - mean2) / pooled_sd\n",
    "\n",
    "   \n",
    "    diff = mean1 - mean2\n",
    "    se_diff = np.sqrt(std1**2 / n1 + std2**2 / n2)\n",
    "    ci_low, ci_high = diff - 1.96 * se_diff, diff + 1.96 * se_diff\n",
    "\n",
    "    results.append({\n",
    "        'Comparison': f\"{g1} vs {g2}\",\n",
    "        'Mean1': round(mean1, 2),\n",
    "        'Mean2': round(mean2, 2),\n",
    "        'Cohen_d': round(cohen_d, 3),\n",
    "        '95% CI Lower': round(ci_low, 3),\n",
    "        '95% CI Upper': round(ci_high, 3),\n",
    "        'n1': n1,\n",
    "        'n2': n2\n",
    "    })\n",
    "\n",
    "effect_df = pd.DataFrame(results)\n",
    "effect_df\n"
   ]
  },
  {
   "cell_type": "markdown",
   "metadata": {},
   "source": [
    "#### With confounding: age, BMI, female, educational_level:"
   ]
  },
  {
   "cell_type": "markdown",
   "metadata": {},
   "source": [
    "Run OLS model (adjusted for age, bmi, female)"
   ]
  },
  {
   "cell_type": "code",
   "execution_count": 16,
   "metadata": {},
   "outputs": [
    {
     "name": "stdout",
     "output_type": "stream",
     "text": [
      "OLS results for walking speed in age 75 or above (No disease as reference):\n"
     ]
    },
    {
     "data": {
      "text/html": [
       "<div>\n",
       "<style scoped>\n",
       "    .dataframe tbody tr th:only-of-type {\n",
       "        vertical-align: middle;\n",
       "    }\n",
       "\n",
       "    .dataframe tbody tr th {\n",
       "        vertical-align: top;\n",
       "    }\n",
       "\n",
       "    .dataframe thead th {\n",
       "        text-align: right;\n",
       "    }\n",
       "</style>\n",
       "<table border=\"1\" class=\"dataframe\">\n",
       "  <thead>\n",
       "    <tr style=\"text-align: right;\">\n",
       "      <th></th>\n",
       "      <th>Disease group</th>\n",
       "      <th>Coefficient (Adj. Mean Diff)</th>\n",
       "      <th>95% CI Lower</th>\n",
       "      <th>95% CI Upper</th>\n",
       "      <th>p-value</th>\n",
       "      <th>Significant</th>\n",
       "    </tr>\n",
       "  </thead>\n",
       "  <tbody>\n",
       "    <tr>\n",
       "      <th>0</th>\n",
       "      <td>Only OA</td>\n",
       "      <td>0.305</td>\n",
       "      <td>-0.446</td>\n",
       "      <td>1.056</td>\n",
       "      <td>0.4261</td>\n",
       "      <td>No</td>\n",
       "    </tr>\n",
       "    <tr>\n",
       "      <th>1</th>\n",
       "      <td>Only HT</td>\n",
       "      <td>-0.141</td>\n",
       "      <td>-0.646</td>\n",
       "      <td>0.365</td>\n",
       "      <td>0.5848</td>\n",
       "      <td>No</td>\n",
       "    </tr>\n",
       "    <tr>\n",
       "      <th>2</th>\n",
       "      <td>Only Diabetes</td>\n",
       "      <td>0.842</td>\n",
       "      <td>-0.063</td>\n",
       "      <td>1.748</td>\n",
       "      <td>0.0683</td>\n",
       "      <td>No</td>\n",
       "    </tr>\n",
       "    <tr>\n",
       "      <th>3</th>\n",
       "      <td>HT and Diab</td>\n",
       "      <td>0.561</td>\n",
       "      <td>-0.349</td>\n",
       "      <td>1.470</td>\n",
       "      <td>0.2267</td>\n",
       "      <td>No</td>\n",
       "    </tr>\n",
       "    <tr>\n",
       "      <th>4</th>\n",
       "      <td>OA and Diab</td>\n",
       "      <td>0.905</td>\n",
       "      <td>-0.656</td>\n",
       "      <td>2.467</td>\n",
       "      <td>0.2555</td>\n",
       "      <td>No</td>\n",
       "    </tr>\n",
       "    <tr>\n",
       "      <th>5</th>\n",
       "      <td>OA and HT</td>\n",
       "      <td>0.069</td>\n",
       "      <td>-0.705</td>\n",
       "      <td>0.843</td>\n",
       "      <td>0.8618</td>\n",
       "      <td>No</td>\n",
       "    </tr>\n",
       "    <tr>\n",
       "      <th>6</th>\n",
       "      <td>All three diseases</td>\n",
       "      <td>0.466</td>\n",
       "      <td>-0.807</td>\n",
       "      <td>1.739</td>\n",
       "      <td>0.4726</td>\n",
       "      <td>No</td>\n",
       "    </tr>\n",
       "  </tbody>\n",
       "</table>\n",
       "</div>"
      ],
      "text/plain": [
       "        Disease group  Coefficient (Adj. Mean Diff)  95% CI Lower  \\\n",
       "0             Only OA                         0.305        -0.446   \n",
       "1             Only HT                        -0.141        -0.646   \n",
       "2       Only Diabetes                         0.842        -0.063   \n",
       "3         HT and Diab                         0.561        -0.349   \n",
       "4         OA and Diab                         0.905        -0.656   \n",
       "5           OA and HT                         0.069        -0.705   \n",
       "6  All three diseases                         0.466        -0.807   \n",
       "\n",
       "   95% CI Upper  p-value Significant  \n",
       "0         1.056   0.4261          No  \n",
       "1         0.365   0.5848          No  \n",
       "2         1.748   0.0683          No  \n",
       "3         1.470   0.2267          No  \n",
       "4         2.467   0.2555          No  \n",
       "5         0.843   0.8618          No  \n",
       "6         1.739   0.4726          No  "
      ]
     },
     "execution_count": 16,
     "metadata": {},
     "output_type": "execute_result"
    }
   ],
   "source": [
    "maxwalk['disease_category'] = pd.Categorical(\n",
    "    maxwalk['disease_category'],\n",
    "    categories=[\n",
    "        'No disease', 'Only OA', 'Only HT', 'Only Diabetes',\n",
    "        'HT and Diab', 'OA and Diab', 'OA and HT', 'All three diseases'\n",
    "    ],\n",
    "    ordered=False\n",
    ")\n",
    "\n",
    "\n",
    "model = smf.ols('walking ~ C(disease_category) + age + bmi + female + educational_level', data=maxwalk).fit()\n",
    "\n",
    "\n",
    "results_df = pd.DataFrame({\n",
    "    'Disease group': model.params.index,\n",
    "    'Coefficient (Adj. Mean Diff)': model.params.values,\n",
    "    '95% CI Lower': model.conf_int().iloc[:, 0],\n",
    "    '95% CI Upper': model.conf_int().iloc[:, 1],\n",
    "    'p-value': model.pvalues.values\n",
    "})\n",
    "\n",
    "\n",
    "results_df = results_df[results_df['Disease group'].str.contains('C\\(disease_category\\)')].copy()\n",
    "\n",
    "\n",
    "results_df['Disease group'] = results_df['Disease group'].str.replace(r'C\\(disease_category\\)\\[T\\.', '', regex=True).str.rstrip(']')\n",
    "\n",
    "\n",
    "results_df['Coefficient (Adj. Mean Diff)'] = results_df['Coefficient (Adj. Mean Diff)'].round(3)\n",
    "results_df['95% CI Lower'] = results_df['95% CI Lower'].round(3)\n",
    "results_df['95% CI Upper'] = results_df['95% CI Upper'].round(3)\n",
    "results_df['p-value'] = results_df['p-value'].round(4)\n",
    "results_df['Significant'] = results_df['p-value'].apply(lambda p: 'Yes' if p < 0.05 else 'No')\n",
    "\n",
    "print(\"OLS results for walking speed in age 75 or above (No disease as reference):\")\n",
    "results_df.reset_index(drop=True)\n"
   ]
  },
  {
   "cell_type": "code",
   "execution_count": 17,
   "metadata": {},
   "outputs": [
    {
     "name": "stdout",
     "output_type": "stream",
     "text": [
      "disease_category\n",
      "No disease            510\n",
      "Only OA               124\n",
      "Only HT               390\n",
      "Only Diabetes          79\n",
      "HT and Diab            79\n",
      "OA and Diab            24\n",
      "OA and HT             117\n",
      "All three diseases     38\n",
      "dtype: int64\n"
     ]
    },
    {
     "name": "stderr",
     "output_type": "stream",
     "text": [
      "/var/folders/rn/9h9wnd_x13930h39r4t9tt_w0000gr/T/ipykernel_89500/3308135134.py:1: FutureWarning: The default of observed=False is deprecated and will be changed to True in a future version of pandas. Pass observed=False to retain current behavior or observed=True to adopt the future default and silence this warning.\n",
      "  group_counts = maxwalk[maxwalk['walking'].notna()].groupby('disease_category').size()\n"
     ]
    }
   ],
   "source": [
    "group_counts = maxwalk[maxwalk['walking'].notna()].groupby('disease_category').size()\n",
    "print(group_counts)"
   ]
  },
  {
   "cell_type": "markdown",
   "metadata": {},
   "source": [
    "##### Interaction Effects: Does OA Get Worse With Comorbidities?"
   ]
  },
  {
   "cell_type": "code",
   "execution_count": 18,
   "metadata": {},
   "outputs": [
    {
     "name": "stdout",
     "output_type": "stream",
     "text": [
      "                            OLS Regression Results                            \n",
      "==============================================================================\n",
      "Dep. Variable:                walking   R-squared:                       0.040\n",
      "Model:                            OLS   Adj. R-squared:                  0.032\n",
      "Method:                 Least Squares   F-statistic:                     5.058\n",
      "Date:                Fri, 27 Jun 2025   Prob (F-statistic):           8.77e-08\n",
      "Time:                        11:07:09   Log-Likelihood:                -3741.4\n",
      "No. Observations:                1361   AIC:                             7507.\n",
      "Df Residuals:                    1349   BIC:                             7569.\n",
      "Df Model:                          11                                         \n",
      "Covariance Type:            nonrobust                                         \n",
      "===============================================================================================================\n",
      "                                                  coef    std err          t      P>|t|      [0.025      0.975]\n",
      "---------------------------------------------------------------------------------------------------------------\n",
      "Intercept                                      -8.0915      2.265     -3.572      0.000     -12.535      -3.648\n",
      "C(disease_category)[T.Only OA]                  0.1149      0.279      0.411      0.681      -0.433       0.663\n",
      "C(disease_category)[T.Only HT]                 -0.0825      0.209     -0.395      0.693      -0.492       0.327\n",
      "C(disease_category)[T.Only Diabetes]            0.3401      0.337      1.008      0.314      -0.322       1.002\n",
      "C(disease_category)[T.HT and Diab]              0.1165      0.272      0.428      0.669      -0.417       0.650\n",
      "C(disease_category)[T.OA and Diab]              0.1673      0.421      0.397      0.691      -0.659       0.993\n",
      "C(disease_category)[T.OA and HT]                0.0292      0.255      0.115      0.909      -0.471       0.529\n",
      "C(disease_category)[T.All three diseases]      -0.1215      0.370     -0.328      0.743      -0.847       0.604\n",
      "C(OA_conserv)[T.1.0]                            0.1900      0.206      0.921      0.357      -0.215       0.595\n",
      "C(Diabetes)[T.1.0]                              0.5024      0.208      2.419      0.016       0.095       0.910\n",
      "C(Hypertension)[T.1.0]                         -0.0582      0.169     -0.345      0.730      -0.390       0.273\n",
      "C(OA_conserv)[T.1.0]:C(Diabetes)[T.1.0]         0.0458      0.257      0.178      0.858      -0.458       0.549\n",
      "C(OA_conserv)[T.1.0]:C(Hypertension)[T.1.0]    -0.0923      0.220     -0.420      0.675      -0.524       0.339\n",
      "age                                             0.1275      0.026      4.843      0.000       0.076       0.179\n",
      "bmi                                             0.1005      0.024      4.279      0.000       0.054       0.147\n",
      "female                                          0.4778      0.209      2.286      0.022       0.068       0.888\n",
      "educational_level                              -0.1123      0.110     -1.021      0.307      -0.328       0.103\n",
      "==============================================================================\n",
      "Omnibus:                      852.168   Durbin-Watson:                   1.734\n",
      "Prob(Omnibus):                  0.000   Jarque-Bera (JB):             8355.382\n",
      "Skew:                           2.847   Prob(JB):                         0.00\n",
      "Kurtosis:                      13.720   Cond. No.                     2.35e+17\n",
      "==============================================================================\n",
      "\n",
      "Notes:\n",
      "[1] Standard Errors assume that the covariance matrix of the errors is correctly specified.\n",
      "[2] The smallest eigenvalue is 1.75e-28. This might indicate that there are\n",
      "strong multicollinearity problems or that the design matrix is singular.\n"
     ]
    }
   ],
   "source": [
    "model = smf.ols('walking ~ C(disease_category) + age + bmi + female + educational_level + C(OA_conserv)*C(Diabetes) + C(OA_conserv)*C(Hypertension)', \n",
    "                data=maxwalk).fit()\n",
    "print(model.summary())"
   ]
  },
  {
   "cell_type": "markdown",
   "metadata": {},
   "source": [
    "##### Logistic Regression: Predicting \"High Risk\" Patients"
   ]
  },
  {
   "cell_type": "code",
   "execution_count": 19,
   "metadata": {},
   "outputs": [
    {
     "name": "stdout",
     "output_type": "stream",
     "text": [
      "Optimization terminated successfully.\n",
      "         Current function value: 0.547028\n",
      "         Iterations 6\n",
      "                           Logit Regression Results                           \n",
      "==============================================================================\n",
      "Dep. Variable:               low_grip   No. Observations:                 1361\n",
      "Model:                          Logit   Df Residuals:                     1353\n",
      "Method:                           MLE   Df Model:                            7\n",
      "Date:                Fri, 27 Jun 2025   Pseudo R-squ.:                 0.02687\n",
      "Time:                        11:07:09   Log-Likelihood:                -744.51\n",
      "converged:                       True   LL-Null:                       -765.06\n",
      "Covariance Type:            nonrobust   LLR p-value:                 7.691e-07\n",
      "=====================================================================================\n",
      "                        coef    std err          z      P>|z|      [0.025      0.975]\n",
      "-------------------------------------------------------------------------------------\n",
      "const                 4.6984      1.490      3.153      0.002       1.778       7.619\n",
      "age                  -0.0528      0.017     -3.106      0.002      -0.086      -0.019\n",
      "bmi                  -0.0528      0.017     -3.128      0.002      -0.086      -0.020\n",
      "female               -0.5058      0.130     -3.903      0.000      -0.760      -0.252\n",
      "educational_level     0.0857      0.067      1.275      0.202      -0.046       0.217\n",
      "OA_conserv           -0.0820      0.159     -0.515      0.606      -0.394       0.230\n",
      "Diabetes             -0.3429      0.189     -1.816      0.069      -0.713       0.027\n",
      "Hypertension          0.0848      0.130      0.652      0.515      -0.170       0.340\n",
      "=====================================================================================\n"
     ]
    }
   ],
   "source": [
    "maxwalk['low_grip'] = (maxwalk['walking'] < maxwalk['walking'].quantile(0.25)).astype(int)\n",
    "\n",
    "X = maxwalk[['age', 'bmi', 'female', 'educational_level','OA_conserv', 'Diabetes', 'Hypertension']]\n",
    "y = maxwalk['low_grip']\n",
    "\n",
    "logit_model = sm.Logit(y, sm.add_constant(X)).fit()\n",
    "print(logit_model.summary())\n"
   ]
  },
  {
   "cell_type": "code",
   "execution_count": null,
   "metadata": {},
   "outputs": [],
   "source": []
  },
  {
   "cell_type": "code",
   "execution_count": null,
   "metadata": {},
   "outputs": [],
   "source": []
  }
 ],
 "metadata": {
  "kernelspec": {
   "display_name": "physioai",
   "language": "python",
   "name": "python3"
  },
  "language_info": {
   "codemirror_mode": {
    "name": "ipython",
    "version": 3
   },
   "file_extension": ".py",
   "mimetype": "text/x-python",
   "name": "python",
   "nbconvert_exporter": "python",
   "pygments_lexer": "ipython3",
   "version": "3.10.13"
  }
 },
 "nbformat": 4,
 "nbformat_minor": 2
}
