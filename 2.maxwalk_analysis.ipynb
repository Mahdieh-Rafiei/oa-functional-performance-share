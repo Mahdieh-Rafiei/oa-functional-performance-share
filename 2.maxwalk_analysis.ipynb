{
 "cells": [
  {
   "cell_type": "code",
   "execution_count": null,
   "metadata": {},
   "outputs": [],
   "source": [
    "import pandas as pd\n",
    "import numpy as np\n",
    "from matplotlib import pyplot as plt\n",
    "import seaborn as sns\n",
    "import statsmodels.api as sm\n",
    "from statsmodels.formula.api import ols # linear ANOVA\n",
    "from statsmodels.stats.multicomp import pairwise_tukeyhsd\n",
    "from scipy.stats import f_oneway\n",
    "import statsmodels.formula.api as smf"
   ]
  },
  {
   "cell_type": "markdown",
   "metadata": {},
   "source": [
    "##### Data loading"
   ]
  },
  {
   "cell_type": "code",
   "execution_count": null,
   "metadata": {},
   "outputs": [],
   "source": [
    "maxwalk = pd.read_csv(\"data/maxwalk.csv\")\n",
    "maxwalk.shape"
   ]
  },
  {
   "cell_type": "code",
   "execution_count": null,
   "metadata": {},
   "outputs": [],
   "source": [
    "maxwalk"
   ]
  },
  {
   "cell_type": "markdown",
   "metadata": {},
   "source": [
    "## statistical"
   ]
  },
  {
   "cell_type": "markdown",
   "metadata": {},
   "source": [
    "##### Statistics on df_features"
   ]
  },
  {
   "cell_type": "markdown",
   "metadata": {},
   "source": [
    "- **0**: No disease  \n",
    "- **1**:  \n",
    "  - Diabetes only  \n",
    "  - Hypertension only  \n",
    "  - OA only  \n",
    "- **2**:  \n",
    "  - Diabetes + Hypertension  \n",
    "  - Diabetes + OA  \n",
    "  - Hypertension + OA  \n",
    "- **3**: Diabetes + Hypertension + OA \n"
   ]
  },
  {
   "cell_type": "code",
   "execution_count": null,
   "metadata": {},
   "outputs": [],
   "source": [
    "maxwalk['disease_category'] = 'No disease'  # Default group\n",
    "maxwalk.loc[(maxwalk['OA_conserv'] == 1) & (maxwalk['Hypertension'] == 0) & (maxwalk['Diabetes'] == 0), 'disease_category'] = 'Only OA'\n",
    "maxwalk.loc[(maxwalk['OA_conserv'] == 0) & (maxwalk['Hypertension'] == 1) & (maxwalk['Diabetes'] == 0), 'disease_category'] = 'Only HT'\n",
    "maxwalk.loc[(maxwalk['OA_conserv'] == 0) & (maxwalk['Hypertension'] == 0) & (maxwalk['Diabetes'] == 1), 'disease_category'] = 'Only Diabetes'\n",
    "maxwalk.loc[(maxwalk['OA_conserv'] == 1) & (maxwalk['Hypertension'] == 1) & (maxwalk['Diabetes'] == 0), 'disease_category'] = 'OA and HT'\n",
    "maxwalk.loc[(maxwalk['OA_conserv'] == 1) & (maxwalk['Hypertension'] == 0) & (maxwalk['Diabetes'] == 1), 'disease_category'] = 'OA and Diab'\n",
    "maxwalk.loc[(maxwalk['OA_conserv'] == 0) & (maxwalk['Hypertension'] == 1) & (maxwalk['Diabetes'] == 1), 'disease_category'] = 'HT and Diab'\n",
    "maxwalk.loc[(maxwalk['OA_conserv'] == 1) & (maxwalk['Hypertension'] == 1) & (maxwalk['Diabetes'] == 1), 'disease_category'] = 'All three diseases'\n"
   ]
  },
  {
   "cell_type": "markdown",
   "metadata": {},
   "source": [
    "### Maxgrip"
   ]
  },
  {
   "cell_type": "markdown",
   "metadata": {},
   "source": [
    "#### No confounding"
   ]
  },
  {
   "cell_type": "markdown",
   "metadata": {},
   "source": [
    "##### Step1: One-Way ANOVA"
   ]
  },
  {
   "cell_type": "markdown",
   "metadata": {},
   "source": [
    "Checks if any group differs"
   ]
  },
  {
   "cell_type": "code",
   "execution_count": null,
   "metadata": {},
   "outputs": [],
   "source": [
    "groups = maxwalk['disease_category'].unique()\n",
    "grip_samples = [maxwalk[maxwalk['disease_category'] == group]['maxgrip'].dropna() for group in groups]\n",
    "\n",
    "# Run ANOVA\n",
    "anova_grip = f_oneway(*grip_samples)\n",
    "print(\"ANOVA for Grip Strength\")\n",
    "print(f\"F-statistic: {anova_grip.statistic:.3f}, p-value: {anova_grip.pvalue:.5f}\")\n"
   ]
  },
  {
   "cell_type": "markdown",
   "metadata": {},
   "source": [
    "##### Step2: Tukey HSD Post-hoc Comparison"
   ]
  },
  {
   "cell_type": "markdown",
   "metadata": {},
   "source": [
    "Identifies which groups differ"
   ]
  },
  {
   "cell_type": "code",
   "execution_count": null,
   "metadata": {},
   "outputs": [],
   "source": [
    "df_grip = maxwalk[['maxgrip', 'disease_category']].dropna()\n",
    "\n",
    "# Run Tukey HSD\n",
    "tukey_grip = pairwise_tukeyhsd(endog=df_grip['maxgrip'],\n",
    "                               groups=df_grip['disease_category'],\n",
    "                               alpha=0.05)\n",
    "print(\"Turkey Maxgrip in age 75 or above 75\")\n",
    "print(tukey_grip.summary())\n"
   ]
  },
  {
   "cell_type": "markdown",
   "metadata": {},
   "source": [
    "##### Number of samples in each group"
   ]
  },
  {
   "cell_type": "code",
   "execution_count": null,
   "metadata": {},
   "outputs": [],
   "source": [
    "group_counts = maxwalk[maxwalk['maxgrip'].notna()].groupby('disease_category').size()\n",
    "print(group_counts)"
   ]
  },
  {
   "cell_type": "markdown",
   "metadata": {},
   "source": [
    "##### Step3: Code to Compute Cohen's d and 95% CI"
   ]
  },
  {
   "cell_type": "code",
   "execution_count": null,
   "metadata": {},
   "outputs": [],
   "source": [
    "comparisons = [\n",
    "    (\"No disease\", \"Only OA\"),\n",
    "    (\"No disease\", \"Only HT\"),\n",
    "    (\"No disease\", \"Only Diabetes\"),\n",
    "    (\"No disease\", \"HT and Diab\"),\n",
    "    (\"No disease\", \"OA and Diab\"),\n",
    "    (\"No disease\", \"OA and HT\"),\n",
    "    (\"No disease\", \"All three diseases\")\n",
    "]\n",
    "\n",
    "results = []\n",
    "\n",
    "for g1, g2 in comparisons:\n",
    "   \n",
    "    group1 = maxwalk[(maxwalk['disease_category'] == g1)]['maxgrip'].dropna()\n",
    "    group2 = maxwalk[(maxwalk['disease_category'] == g2)]['maxgrip'].dropna()\n",
    "\n",
    "    mean1, mean2 = group1.mean(), group2.mean()\n",
    "    std1, std2 = group1.std(), group2.std()\n",
    "    n1, n2 = len(group1), len(group2)\n",
    "\n",
    "\n",
    "    pooled_sd = np.sqrt(((n1 - 1)*std1**2 + (n2 - 1)*std2**2) / (n1 + n2 - 2))\n",
    "\n",
    "    cohen_d = (mean1 - mean2) / pooled_sd\n",
    "\n",
    "    diff = mean1 - mean2\n",
    "    se_diff = np.sqrt(std1**2 / n1 + std2**2 / n2)\n",
    "    ci_low, ci_high = diff - 1.96 * se_diff, diff + 1.96 * se_diff\n",
    "\n",
    "    results.append({\n",
    "        'Comparison': f\"{g1} vs {g2}\",\n",
    "        'Mean1': round(mean1, 2),\n",
    "        'Mean2': round(mean2, 2),\n",
    "        'Cohen_d': round(cohen_d, 3),\n",
    "        '95% CI Lower': round(ci_low, 3),\n",
    "        '95% CI Upper': round(ci_high, 3),\n",
    "        'n1': n1,\n",
    "        'n2': n2\n",
    "    })\n",
    "\n",
    "effect_df = pd.DataFrame(results)\n",
    "effect_df\n"
   ]
  },
  {
   "cell_type": "markdown",
   "metadata": {},
   "source": [
    "#### With confounding: age, BMI, female, educational_level:"
   ]
  },
  {
   "cell_type": "markdown",
   "metadata": {},
   "source": [
    "Run OLS model (adjusted for age, bmi, female)"
   ]
  },
  {
   "cell_type": "code",
   "execution_count": null,
   "metadata": {},
   "outputs": [],
   "source": [
    "maxwalk['disease_category'] = pd.Categorical(\n",
    "    maxwalk['disease_category'],\n",
    "    categories=[\n",
    "        'No disease', 'Only OA', 'Only HT', 'Only Diabetes',\n",
    "        'HT and Diab', 'OA and Diab', 'OA and HT', 'All three diseases'\n",
    "    ],\n",
    "    ordered=False\n",
    ")\n",
    "\n",
    "\n",
    "model = smf.ols('maxgrip ~ C(disease_category) + age + bmi + female + educational_level', data=maxwalk).fit()\n",
    "\n",
    "\n",
    "results_df = pd.DataFrame({\n",
    "    'Disease group': model.params.index,\n",
    "    'Coefficient (Adj. Mean Diff)': model.params.values,\n",
    "    '95% CI Lower': model.conf_int().iloc[:, 0],\n",
    "    '95% CI Upper': model.conf_int().iloc[:, 1],\n",
    "    'p-value': model.pvalues.values\n",
    "})\n",
    "\n",
    "\n",
    "results_df = results_df[results_df['Disease group'].str.contains('C\\(disease_category\\)')].copy()\n",
    "\n",
    "\n",
    "results_df['Disease group'] = results_df['Disease group'].str.replace(r'C\\(disease_category\\)\\[T\\.', '', regex=True).str.rstrip(']')\n",
    "\n",
    "\n",
    "results_df['Coefficient (Adj. Mean Diff)'] = results_df['Coefficient (Adj. Mean Diff)'].round(3)\n",
    "results_df['95% CI Lower'] = results_df['95% CI Lower'].round(3)\n",
    "results_df['95% CI Upper'] = results_df['95% CI Upper'].round(3)\n",
    "results_df['p-value'] = results_df['p-value'].round(4)\n",
    "\n",
    "results_df['Significant'] = results_df['p-value'].apply(lambda p: 'Yes' if p < 0.05 else 'No')\n",
    "\n",
    "print(\"OLS results for maxgrip in age 75 or above 75 (No disease as reference):\")\n",
    "results_df.reset_index(drop=True)\n",
    "\n"
   ]
  },
  {
   "cell_type": "markdown",
   "metadata": {},
   "source": [
    "##### Interaction Effects: Does OA Get Worse With Comorbidities?"
   ]
  },
  {
   "cell_type": "code",
   "execution_count": null,
   "metadata": {},
   "outputs": [],
   "source": [
    "model = smf.ols('maxgrip ~ C(disease_category) + age + bmi + female + educational_level + C(OA_conserv)*C(Diabetes) + C(OA_conserv)*C(Hypertension)', \n",
    "                data=maxwalk).fit()\n",
    "print(model.summary())"
   ]
  },
  {
   "cell_type": "markdown",
   "metadata": {},
   "source": [
    "##### Logistic Regression: Predicting \"High Risk\" Patients"
   ]
  },
  {
   "cell_type": "code",
   "execution_count": null,
   "metadata": {},
   "outputs": [],
   "source": [
    "maxwalk['low_grip'] = (maxwalk['maxgrip'] < maxwalk['maxgrip'].quantile(0.25)).astype(int)\n",
    "\n",
    "X = maxwalk[['age', 'bmi', 'female', 'educational_level','OA_conserv', 'Diabetes', 'Hypertension']]\n",
    "y = maxwalk['low_grip']\n",
    "\n",
    "logit_model = sm.Logit(y, sm.add_constant(X)).fit()\n",
    "print(logit_model.summary())\n"
   ]
  },
  {
   "cell_type": "markdown",
   "metadata": {},
   "source": [
    "### Walking"
   ]
  },
  {
   "cell_type": "markdown",
   "metadata": {},
   "source": [
    "#### No confounding"
   ]
  },
  {
   "cell_type": "markdown",
   "metadata": {},
   "source": [
    "##### Step1: One-Way ANOVA"
   ]
  },
  {
   "cell_type": "markdown",
   "metadata": {},
   "source": [
    "Checks if any group differs"
   ]
  },
  {
   "cell_type": "code",
   "execution_count": null,
   "metadata": {},
   "outputs": [],
   "source": [
    "# ANOVA for walking speed\n",
    "walking_samples = [maxwalk[maxwalk['disease_category'] == group]['walking'].dropna() for group in groups]\n",
    "\n",
    "anova_walking = f_oneway(*walking_samples)\n",
    "print(\"\\nANOVA for walking speed\")\n",
    "print(f\"F-statistic: {anova_walking.statistic:.3f}, p-value: {anova_walking.pvalue:.5f}\")\n"
   ]
  },
  {
   "cell_type": "markdown",
   "metadata": {},
   "source": [
    "##### Step2: Tukey HSD Post-hoc Comparison"
   ]
  },
  {
   "cell_type": "markdown",
   "metadata": {},
   "source": [
    "Identifies which groups differ"
   ]
  },
  {
   "cell_type": "code",
   "execution_count": null,
   "metadata": {},
   "outputs": [],
   "source": [
    "# Tukey HSD for Walking speed\n",
    "df_walking = maxwalk[['walking', 'disease_category']].dropna()\n",
    "\n",
    "tukey_walking = pairwise_tukeyhsd(endog=df_walking['walking'],\n",
    "                                groups=df_walking['disease_category'],\n",
    "                                alpha=0.05)\n",
    "print(\"Turkey Walking Speed in age 75 or above 75\")\n",
    "print(tukey_walking.summary())\n"
   ]
  },
  {
   "cell_type": "markdown",
   "metadata": {},
   "source": [
    "##### Number of samples in each group"
   ]
  },
  {
   "cell_type": "code",
   "execution_count": null,
   "metadata": {},
   "outputs": [],
   "source": [
    "group_counts = maxwalk[maxwalk['walking'].notna()].groupby('disease_category').size()\n",
    "print(group_counts)"
   ]
  },
  {
   "cell_type": "markdown",
   "metadata": {},
   "source": [
    "##### Step3: Compute Cohen's d and 95% CI"
   ]
  },
  {
   "cell_type": "code",
   "execution_count": null,
   "metadata": {},
   "outputs": [],
   "source": [
    "comparisons = [\n",
    "    (\"No disease\", \"Only OA\"),\n",
    "    (\"No disease\", \"Only HT\"),\n",
    "    (\"No disease\", \"Only Diabetes\"),\n",
    "    (\"No disease\", \"HT and Diab\"),\n",
    "    (\"No disease\", \"OA and Diab\"),\n",
    "    (\"No disease\", \"OA and HT\"),\n",
    "    (\"No disease\", \"All three diseases\")\n",
    "]\n",
    "\n",
    "results = []\n",
    "\n",
    "for g1, g2 in comparisons:\n",
    "    \n",
    "    group1 = maxwalk[(maxwalk['disease_category'] == g1)]['walking'].dropna()\n",
    "    group2 = maxwalk[(maxwalk['disease_category'] == g2)]['walking'].dropna()\n",
    "\n",
    "\n",
    "    mean1, mean2 = group1.mean(), group2.mean()\n",
    "    std1, std2 = group1.std(), group2.std()\n",
    "    n1, n2 = len(group1), len(group2)\n",
    "\n",
    "    pooled_sd = np.sqrt(((n1 - 1)*std1**2 + (n2 - 1)*std2**2) / (n1 + n2 - 2))\n",
    "\n",
    "\n",
    "    cohen_d = (mean1 - mean2) / pooled_sd\n",
    "\n",
    "   \n",
    "    diff = mean1 - mean2\n",
    "    se_diff = np.sqrt(std1**2 / n1 + std2**2 / n2)\n",
    "    ci_low, ci_high = diff - 1.96 * se_diff, diff + 1.96 * se_diff\n",
    "\n",
    "    results.append({\n",
    "        'Comparison': f\"{g1} vs {g2}\",\n",
    "        'Mean1': round(mean1, 2),\n",
    "        'Mean2': round(mean2, 2),\n",
    "        'Cohen_d': round(cohen_d, 3),\n",
    "        '95% CI Lower': round(ci_low, 3),\n",
    "        '95% CI Upper': round(ci_high, 3),\n",
    "        'n1': n1,\n",
    "        'n2': n2\n",
    "    })\n",
    "\n",
    "effect_df = pd.DataFrame(results)\n",
    "effect_df\n"
   ]
  },
  {
   "cell_type": "markdown",
   "metadata": {},
   "source": [
    "#### With confounding: age, BMI, female, educational_level:"
   ]
  },
  {
   "cell_type": "markdown",
   "metadata": {},
   "source": [
    "Run OLS model (adjusted for age, bmi, female)"
   ]
  },
  {
   "cell_type": "code",
   "execution_count": null,
   "metadata": {},
   "outputs": [],
   "source": [
    "maxwalk['disease_category'] = pd.Categorical(\n",
    "    maxwalk['disease_category'],\n",
    "    categories=[\n",
    "        'No disease', 'Only OA', 'Only HT', 'Only Diabetes',\n",
    "        'HT and Diab', 'OA and Diab', 'OA and HT', 'All three diseases'\n",
    "    ],\n",
    "    ordered=False\n",
    ")\n",
    "\n",
    "\n",
    "model = smf.ols('walking ~ C(disease_category) + age + bmi + female + educational_level', data=maxwalk).fit()\n",
    "\n",
    "\n",
    "results_df = pd.DataFrame({\n",
    "    'Disease group': model.params.index,\n",
    "    'Coefficient (Adj. Mean Diff)': model.params.values,\n",
    "    '95% CI Lower': model.conf_int().iloc[:, 0],\n",
    "    '95% CI Upper': model.conf_int().iloc[:, 1],\n",
    "    'p-value': model.pvalues.values\n",
    "})\n",
    "\n",
    "\n",
    "results_df = results_df[results_df['Disease group'].str.contains('C\\(disease_category\\)')].copy()\n",
    "\n",
    "\n",
    "results_df['Disease group'] = results_df['Disease group'].str.replace(r'C\\(disease_category\\)\\[T\\.', '', regex=True).str.rstrip(']')\n",
    "\n",
    "\n",
    "results_df['Coefficient (Adj. Mean Diff)'] = results_df['Coefficient (Adj. Mean Diff)'].round(3)\n",
    "results_df['95% CI Lower'] = results_df['95% CI Lower'].round(3)\n",
    "results_df['95% CI Upper'] = results_df['95% CI Upper'].round(3)\n",
    "results_df['p-value'] = results_df['p-value'].round(4)\n",
    "results_df['Significant'] = results_df['p-value'].apply(lambda p: 'Yes' if p < 0.05 else 'No')\n",
    "\n",
    "print(\"OLS results for walking speed in age 75 or above (No disease as reference):\")\n",
    "results_df.reset_index(drop=True)\n"
   ]
  },
  {
   "cell_type": "code",
   "execution_count": null,
   "metadata": {},
   "outputs": [],
   "source": [
    "group_counts = maxwalk[maxwalk['walking'].notna()].groupby('disease_category').size()\n",
    "print(group_counts)"
   ]
  },
  {
   "cell_type": "markdown",
   "metadata": {},
   "source": [
    "##### Interaction Effects: Does OA Get Worse With Comorbidities?"
   ]
  },
  {
   "cell_type": "code",
   "execution_count": null,
   "metadata": {},
   "outputs": [],
   "source": [
    "model = smf.ols('walking ~ C(disease_category) + age + bmi + female + educational_level + C(OA_conserv)*C(Diabetes) + C(OA_conserv)*C(Hypertension)', \n",
    "                data=maxwalk).fit()\n",
    "print(model.summary())"
   ]
  },
  {
   "cell_type": "markdown",
   "metadata": {},
   "source": [
    "##### Logistic Regression: Predicting \"High Risk\" Patients"
   ]
  },
  {
   "cell_type": "code",
   "execution_count": null,
   "metadata": {},
   "outputs": [],
   "source": [
    "maxwalk['low_grip'] = (maxwalk['walking'] < maxwalk['walking'].quantile(0.25)).astype(int)\n",
    "\n",
    "X = maxwalk[['age', 'bmi', 'female', 'educational_level','OA_conserv', 'Diabetes', 'Hypertension']]\n",
    "y = maxwalk['low_grip']\n",
    "\n",
    "logit_model = sm.Logit(y, sm.add_constant(X)).fit()\n",
    "print(logit_model.summary())\n"
   ]
  },
  {
   "cell_type": "code",
   "execution_count": null,
   "metadata": {},
   "outputs": [],
   "source": []
  },
  {
   "cell_type": "code",
   "execution_count": null,
   "metadata": {},
   "outputs": [],
   "source": []
  }
 ],
 "metadata": {
  "kernelspec": {
   "display_name": "physioai",
   "language": "python",
   "name": "python3"
  },
  "language_info": {
   "codemirror_mode": {
    "name": "ipython",
    "version": 3
   },
   "file_extension": ".py",
   "mimetype": "text/x-python",
   "name": "python",
   "nbconvert_exporter": "python",
   "pygments_lexer": "ipython3",
   "version": "3.10.13"
  }
 },
 "nbformat": 4,
 "nbformat_minor": 2
}
